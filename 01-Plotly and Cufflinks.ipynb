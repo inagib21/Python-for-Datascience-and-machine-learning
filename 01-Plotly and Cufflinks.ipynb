{
 "cells": [
  {
   "cell_type": "markdown",
   "metadata": {},
   "source": [
    "___\n",
    "\n",
    "<a href='http://www.pieriandata.com'> <img src='../Pierian_Data_Logo.png' /></a>\n",
    "___\n",
    "# Plotly and Cufflinks"
   ]
  },
  {
   "cell_type": "markdown",
   "metadata": {},
   "source": [
    "Plotly is a library that allows you to create interactive plots that you can use in dashboards or websites (you can save them as html files or static images).\n",
    "\n",
    "## Installation\n",
    "\n",
    "In order for this all to work, you'll need to install plotly and cufflinks to call plots directly off of a pandas dataframe. These libraries are not currently available through **conda** but are available through **pip**. Install the libraries at your command line/terminal using:\n",
    "\n",
    "    pip install plotly\n",
    "    pip install cufflinks\n",
    "\n",
    "** NOTE: Make sure you only have one installation of Python on your computer when you do this, otherwise the installation may not work. **\n",
    "\n",
    "## Imports and Set-up"
   ]
  },
  {
   "cell_type": "code",
   "execution_count": 1,
   "metadata": {},
   "outputs": [],
   "source": [
    "import pandas as pd\n",
    "import numpy as np\n",
    "%matplotlib inline"
   ]
  },
  {
   "cell_type": "code",
   "execution_count": 2,
   "metadata": {},
   "outputs": [
    {
     "name": "stdout",
     "output_type": "stream",
     "text": [
      "4.14.3\n"
     ]
    }
   ],
   "source": [
    "from plotly import __version__\n",
    "from plotly.offline import download_plotlyjs, init_notebook_mode, plot, iplot\n",
    "\n",
    "print(__version__) # requires version >= 1.9.0"
   ]
  },
  {
   "cell_type": "code",
   "execution_count": 3,
   "metadata": {},
   "outputs": [],
   "source": [
    "import cufflinks as cf"
   ]
  },
  {
   "cell_type": "code",
   "execution_count": 4,
   "metadata": {},
   "outputs": [
    {
     "data": {
      "text/html": [
       "        <script type=\"text/javascript\">\n",
       "        window.PlotlyConfig = {MathJaxConfig: 'local'};\n",
       "        if (window.MathJax) {MathJax.Hub.Config({SVG: {font: \"STIX-Web\"}});}\n",
       "        if (typeof require !== 'undefined') {\n",
       "        require.undef(\"plotly\");\n",
       "        requirejs.config({\n",
       "            paths: {\n",
       "                'plotly': ['https://cdn.plot.ly/plotly-latest.min']\n",
       "            }\n",
       "        });\n",
       "        require(['plotly'], function(Plotly) {\n",
       "            window._Plotly = Plotly;\n",
       "        });\n",
       "        }\n",
       "        </script>\n",
       "        "
      ]
     },
     "metadata": {},
     "output_type": "display_data"
    }
   ],
   "source": [
    "# For Notebooks\n",
    "init_notebook_mode(connected=True)"
   ]
  },
  {
   "cell_type": "code",
   "execution_count": 5,
   "metadata": {},
   "outputs": [
    {
     "data": {
      "text/html": [
       "        <script type=\"text/javascript\">\n",
       "        window.PlotlyConfig = {MathJaxConfig: 'local'};\n",
       "        if (window.MathJax) {MathJax.Hub.Config({SVG: {font: \"STIX-Web\"}});}\n",
       "        if (typeof require !== 'undefined') {\n",
       "        require.undef(\"plotly\");\n",
       "        requirejs.config({\n",
       "            paths: {\n",
       "                'plotly': ['https://cdn.plot.ly/plotly-latest.min']\n",
       "            }\n",
       "        });\n",
       "        require(['plotly'], function(Plotly) {\n",
       "            window._Plotly = Plotly;\n",
       "        });\n",
       "        }\n",
       "        </script>\n",
       "        "
      ]
     },
     "metadata": {},
     "output_type": "display_data"
    }
   ],
   "source": [
    "# For offline use\n",
    "cf.go_offline()"
   ]
  },
  {
   "cell_type": "markdown",
   "metadata": {},
   "source": [
    "### Fake Data"
   ]
  },
  {
   "cell_type": "code",
   "execution_count": 6,
   "metadata": {},
   "outputs": [],
   "source": [
    "df = pd.DataFrame(np.random.randn(100,4),columns='A B C D'.split())"
   ]
  },
  {
   "cell_type": "code",
   "execution_count": 7,
   "metadata": {},
   "outputs": [
    {
     "data": {
      "text/html": [
       "<div>\n",
       "<style scoped>\n",
       "    .dataframe tbody tr th:only-of-type {\n",
       "        vertical-align: middle;\n",
       "    }\n",
       "\n",
       "    .dataframe tbody tr th {\n",
       "        vertical-align: top;\n",
       "    }\n",
       "\n",
       "    .dataframe thead th {\n",
       "        text-align: right;\n",
       "    }\n",
       "</style>\n",
       "<table border=\"1\" class=\"dataframe\">\n",
       "  <thead>\n",
       "    <tr style=\"text-align: right;\">\n",
       "      <th></th>\n",
       "      <th>A</th>\n",
       "      <th>B</th>\n",
       "      <th>C</th>\n",
       "      <th>D</th>\n",
       "    </tr>\n",
       "  </thead>\n",
       "  <tbody>\n",
       "    <tr>\n",
       "      <th>0</th>\n",
       "      <td>0.421356</td>\n",
       "      <td>-0.650120</td>\n",
       "      <td>1.305537</td>\n",
       "      <td>-0.003033</td>\n",
       "    </tr>\n",
       "    <tr>\n",
       "      <th>1</th>\n",
       "      <td>0.051788</td>\n",
       "      <td>-0.639670</td>\n",
       "      <td>0.711416</td>\n",
       "      <td>0.078663</td>\n",
       "    </tr>\n",
       "    <tr>\n",
       "      <th>2</th>\n",
       "      <td>-0.885920</td>\n",
       "      <td>-0.149106</td>\n",
       "      <td>0.531918</td>\n",
       "      <td>-0.158237</td>\n",
       "    </tr>\n",
       "    <tr>\n",
       "      <th>3</th>\n",
       "      <td>1.127156</td>\n",
       "      <td>0.919147</td>\n",
       "      <td>-1.912310</td>\n",
       "      <td>-1.989778</td>\n",
       "    </tr>\n",
       "    <tr>\n",
       "      <th>4</th>\n",
       "      <td>0.051105</td>\n",
       "      <td>-0.204086</td>\n",
       "      <td>0.399765</td>\n",
       "      <td>-0.414695</td>\n",
       "    </tr>\n",
       "  </tbody>\n",
       "</table>\n",
       "</div>"
      ],
      "text/plain": [
       "          A         B         C         D\n",
       "0  0.421356 -0.650120  1.305537 -0.003033\n",
       "1  0.051788 -0.639670  0.711416  0.078663\n",
       "2 -0.885920 -0.149106  0.531918 -0.158237\n",
       "3  1.127156  0.919147 -1.912310 -1.989778\n",
       "4  0.051105 -0.204086  0.399765 -0.414695"
      ]
     },
     "execution_count": 7,
     "metadata": {},
     "output_type": "execute_result"
    }
   ],
   "source": [
    "df.head()"
   ]
  },
  {
   "cell_type": "code",
   "execution_count": 8,
   "metadata": {},
   "outputs": [],
   "source": [
    "df2 = pd.DataFrame({'Category':['A','B','C'],'Values':[32,43,50]})"
   ]
  },
  {
   "cell_type": "code",
   "execution_count": 9,
   "metadata": {},
   "outputs": [
    {
     "data": {
      "text/html": [
       "<div>\n",
       "<style scoped>\n",
       "    .dataframe tbody tr th:only-of-type {\n",
       "        vertical-align: middle;\n",
       "    }\n",
       "\n",
       "    .dataframe tbody tr th {\n",
       "        vertical-align: top;\n",
       "    }\n",
       "\n",
       "    .dataframe thead th {\n",
       "        text-align: right;\n",
       "    }\n",
       "</style>\n",
       "<table border=\"1\" class=\"dataframe\">\n",
       "  <thead>\n",
       "    <tr style=\"text-align: right;\">\n",
       "      <th></th>\n",
       "      <th>Category</th>\n",
       "      <th>Values</th>\n",
       "    </tr>\n",
       "  </thead>\n",
       "  <tbody>\n",
       "    <tr>\n",
       "      <th>0</th>\n",
       "      <td>A</td>\n",
       "      <td>32</td>\n",
       "    </tr>\n",
       "    <tr>\n",
       "      <th>1</th>\n",
       "      <td>B</td>\n",
       "      <td>43</td>\n",
       "    </tr>\n",
       "    <tr>\n",
       "      <th>2</th>\n",
       "      <td>C</td>\n",
       "      <td>50</td>\n",
       "    </tr>\n",
       "  </tbody>\n",
       "</table>\n",
       "</div>"
      ],
      "text/plain": [
       "  Category  Values\n",
       "0        A      32\n",
       "1        B      43\n",
       "2        C      50"
      ]
     },
     "execution_count": 9,
     "metadata": {},
     "output_type": "execute_result"
    }
   ],
   "source": [
    "df2.head()"
   ]
  },
  {
   "cell_type": "markdown",
   "metadata": {},
   "source": [
    "## Using Cufflinks and iplot()\n",
    "\n",
    "* scatter\n",
    "* bar\n",
    "* box\n",
    "* spread\n",
    "* ratio\n",
    "* heatmap\n",
    "* surface\n",
    "* histogram\n",
    "* bubble"
   ]
  },
  {
   "cell_type": "markdown",
   "metadata": {},
   "source": [
    "## Scatter"
   ]
  },
  {
   "cell_type": "code",
   "execution_count": 10,
   "metadata": {},
   "outputs": [
    {
     "data": {
      "application/vnd.plotly.v1+json": {
       "config": {
        "linkText": "Export to plot.ly",
        "plotlyServerURL": "https://plot.ly",
        "showLink": true
       },
       "data": [
        {
         "line": {
          "color": "rgba(255, 153, 51, 1.0)",
          "dash": "solid",
          "shape": "linear",
          "width": 1.3
         },
         "marker": {
          "size": 10,
          "symbol": "circle"
         },
         "mode": "markers",
         "name": "B",
         "text": "",
         "type": "scatter",
         "x": [
          0.42135637469066833,
          0.051787610039485656,
          -0.8859201272757309,
          1.127155918130127,
          0.05110503169809027,
          -1.3625779998716074,
          1.413463839091547,
          -1.0518298420858014,
          -1.4273371067642697,
          0.2167236110214108,
          0.1543785204974001,
          1.0307652297071481,
          -1.556770626777491,
          -0.846285335148641,
          -1.4475567856473346,
          0.28136297298603,
          0.16206068112953487,
          0.3415324132284915,
          -1.1033635133636706,
          0.8894648772645205,
          -1.8017630378505909,
          -0.14245031927646856,
          -0.8266858154440575,
          -0.7530689966357229,
          -2.0574608097003035,
          -1.8778506514905104,
          -0.08148361870194606,
          -0.9357959490775972,
          -0.6760913977083556,
          -1.1041299976906465,
          0.22052054948520405,
          -0.6208213787655636,
          -0.9832356528265209,
          0.3121875795693881,
          -0.044428851806542095,
          -0.6160413621576425,
          0.8338980770256911,
          -0.4078014558131567,
          1.1326628751514818,
          1.381820447729485,
          0.5870663051810776,
          -0.7226234218334454,
          0.637116486862654,
          0.810474475909267,
          2.70372528025538,
          0.6462466649527927,
          0.3743500129845283,
          0.17484316236836292,
          1.4641354227184749,
          -0.00834110773828608,
          1.0168581856522507,
          -0.46088217782489604,
          -1.5221428181584185,
          1.1085033065208867,
          -0.03359453206244407,
          0.13024239174967583,
          -1.1376425645386274,
          1.1102484582897623,
          0.12115485743688534,
          1.2269014026945384,
          -1.2118887477098856,
          -0.07302583552604484,
          -0.7657437595439366,
          0.014733537309346229,
          -1.7912003541024881,
          1.7244980639349405,
          -1.209570556075875,
          -1.1811987834399718,
          -1.3383168952142377,
          -0.23545845455329553,
          0.5455075698862204,
          0.5143435707195769,
          0.49970410382795577,
          -1.0087869177358482,
          1.5295395940774288,
          0.19968872339286142,
          0.2853967438038379,
          0.6267199329816086,
          0.7594740494277189,
          -2.2107520896395836,
          0.04207387549136959,
          -0.1009791017301549,
          -1.363303282286697,
          -2.1269648825992946,
          -0.9969616855723071,
          -0.16447434850235484,
          0.4579274109261358,
          -0.0501398598101201,
          0.9794488277108203,
          -0.6698307222391381,
          1.3153732821001494,
          0.05781171695218909,
          -0.7880077693551906,
          1.513297183883774,
          -1.2630353942419186,
          -0.8474541119052957,
          1.8675720657212853,
          0.8259412981691324,
          0.23634614857664427,
          -1.5622218215155599
         ],
         "y": [
          -0.6501201079452595,
          -0.6396703664807071,
          -0.14910624389792665,
          0.9191471993045957,
          -0.20408638918650238,
          -1.8339833921820385,
          -0.5336687782287028,
          1.1159759429939438,
          0.9687317127445674,
          -1.7400136162569626,
          0.21071196310648294,
          -0.6652480269305107,
          -0.5355523925508483,
          -0.5131492863893872,
          0.6857146627816957,
          1.098945987906431,
          -0.9348369343583188,
          -0.7325354095966315,
          0.021514349515909068,
          -1.0346009878659206,
          -0.17501231162040945,
          0.7367345313547262,
          -1.0897665770658538,
          -0.33938896768116844,
          2.0121374329786192,
          -0.6393950234441513,
          0.03647086107054639,
          -0.5948946033349691,
          1.4104386684965855,
          0.24031607468836597,
          0.013035966419714847,
          -0.20069232286431354,
          2.631987135365754,
          1.1402967549197727,
          -1.3480836252528436,
          -0.5419029514580261,
          0.35165958782611867,
          0.5574337761914983,
          0.5053362646599682,
          0.06694474269967485,
          -0.6160293085973875,
          -1.8467820531221697,
          0.23180264269673023,
          1.5710530598742847,
          0.16850544639523987,
          -0.5448421894097137,
          0.800392407126888,
          -0.3205623468664349,
          1.080515029284678,
          -1.7371274865461397,
          -1.89016032000533,
          0.6587944707237163,
          1.3712428758799025,
          -0.22839481245865867,
          -0.11743381153175035,
          0.08875123869894627,
          1.2534991446004125,
          -1.0050131736037835,
          -1.4849688355120898,
          0.6705897386978111,
          1.5984677392051143,
          -1.2645470074698082,
          0.7264911234789589,
          -2.3717085033683727,
          -1.4436789972254331,
          -0.40695984992958373,
          -0.4220425299401283,
          -1.4988249695855351,
          -1.1392043419422493,
          -0.25228704335304114,
          1.1690146052494421,
          -1.059060163146755,
          -0.6643372846194279,
          -1.8106561856144445,
          0.23156168713817965,
          0.4832174484382462,
          1.5349359636281692,
          0.7813633744015297,
          -0.14476594977734775,
          -1.191781902475107,
          1.1339137809138238,
          0.4633338142600121,
          1.6834801300382207,
          -0.04735403216966803,
          2.303170234529257,
          -1.588979977909511,
          0.15271731738318492,
          -0.7055727659267433,
          0.06895653776059535,
          0.4744135459499637,
          -1.7719303079565776,
          -0.3132926379621396,
          0.475239615161257,
          0.3984714410737094,
          -0.37273617218314103,
          -1.5892452468814993,
          1.383171377203694,
          0.3208732966941905,
          -0.33731818730533253,
          0.45105978115116213
         ]
        }
       ],
       "layout": {
        "legend": {
         "bgcolor": "#F5F6F9",
         "font": {
          "color": "#4D5663"
         }
        },
        "paper_bgcolor": "#F5F6F9",
        "plot_bgcolor": "#F5F6F9",
        "template": {
         "data": {
          "bar": [
           {
            "error_x": {
             "color": "#2a3f5f"
            },
            "error_y": {
             "color": "#2a3f5f"
            },
            "marker": {
             "line": {
              "color": "#E5ECF6",
              "width": 0.5
             }
            },
            "type": "bar"
           }
          ],
          "barpolar": [
           {
            "marker": {
             "line": {
              "color": "#E5ECF6",
              "width": 0.5
             }
            },
            "type": "barpolar"
           }
          ],
          "carpet": [
           {
            "aaxis": {
             "endlinecolor": "#2a3f5f",
             "gridcolor": "white",
             "linecolor": "white",
             "minorgridcolor": "white",
             "startlinecolor": "#2a3f5f"
            },
            "baxis": {
             "endlinecolor": "#2a3f5f",
             "gridcolor": "white",
             "linecolor": "white",
             "minorgridcolor": "white",
             "startlinecolor": "#2a3f5f"
            },
            "type": "carpet"
           }
          ],
          "choropleth": [
           {
            "colorbar": {
             "outlinewidth": 0,
             "ticks": ""
            },
            "type": "choropleth"
           }
          ],
          "contour": [
           {
            "colorbar": {
             "outlinewidth": 0,
             "ticks": ""
            },
            "colorscale": [
             [
              0,
              "#0d0887"
             ],
             [
              0.1111111111111111,
              "#46039f"
             ],
             [
              0.2222222222222222,
              "#7201a8"
             ],
             [
              0.3333333333333333,
              "#9c179e"
             ],
             [
              0.4444444444444444,
              "#bd3786"
             ],
             [
              0.5555555555555556,
              "#d8576b"
             ],
             [
              0.6666666666666666,
              "#ed7953"
             ],
             [
              0.7777777777777778,
              "#fb9f3a"
             ],
             [
              0.8888888888888888,
              "#fdca26"
             ],
             [
              1,
              "#f0f921"
             ]
            ],
            "type": "contour"
           }
          ],
          "contourcarpet": [
           {
            "colorbar": {
             "outlinewidth": 0,
             "ticks": ""
            },
            "type": "contourcarpet"
           }
          ],
          "heatmap": [
           {
            "colorbar": {
             "outlinewidth": 0,
             "ticks": ""
            },
            "colorscale": [
             [
              0,
              "#0d0887"
             ],
             [
              0.1111111111111111,
              "#46039f"
             ],
             [
              0.2222222222222222,
              "#7201a8"
             ],
             [
              0.3333333333333333,
              "#9c179e"
             ],
             [
              0.4444444444444444,
              "#bd3786"
             ],
             [
              0.5555555555555556,
              "#d8576b"
             ],
             [
              0.6666666666666666,
              "#ed7953"
             ],
             [
              0.7777777777777778,
              "#fb9f3a"
             ],
             [
              0.8888888888888888,
              "#fdca26"
             ],
             [
              1,
              "#f0f921"
             ]
            ],
            "type": "heatmap"
           }
          ],
          "heatmapgl": [
           {
            "colorbar": {
             "outlinewidth": 0,
             "ticks": ""
            },
            "colorscale": [
             [
              0,
              "#0d0887"
             ],
             [
              0.1111111111111111,
              "#46039f"
             ],
             [
              0.2222222222222222,
              "#7201a8"
             ],
             [
              0.3333333333333333,
              "#9c179e"
             ],
             [
              0.4444444444444444,
              "#bd3786"
             ],
             [
              0.5555555555555556,
              "#d8576b"
             ],
             [
              0.6666666666666666,
              "#ed7953"
             ],
             [
              0.7777777777777778,
              "#fb9f3a"
             ],
             [
              0.8888888888888888,
              "#fdca26"
             ],
             [
              1,
              "#f0f921"
             ]
            ],
            "type": "heatmapgl"
           }
          ],
          "histogram": [
           {
            "marker": {
             "colorbar": {
              "outlinewidth": 0,
              "ticks": ""
             }
            },
            "type": "histogram"
           }
          ],
          "histogram2d": [
           {
            "colorbar": {
             "outlinewidth": 0,
             "ticks": ""
            },
            "colorscale": [
             [
              0,
              "#0d0887"
             ],
             [
              0.1111111111111111,
              "#46039f"
             ],
             [
              0.2222222222222222,
              "#7201a8"
             ],
             [
              0.3333333333333333,
              "#9c179e"
             ],
             [
              0.4444444444444444,
              "#bd3786"
             ],
             [
              0.5555555555555556,
              "#d8576b"
             ],
             [
              0.6666666666666666,
              "#ed7953"
             ],
             [
              0.7777777777777778,
              "#fb9f3a"
             ],
             [
              0.8888888888888888,
              "#fdca26"
             ],
             [
              1,
              "#f0f921"
             ]
            ],
            "type": "histogram2d"
           }
          ],
          "histogram2dcontour": [
           {
            "colorbar": {
             "outlinewidth": 0,
             "ticks": ""
            },
            "colorscale": [
             [
              0,
              "#0d0887"
             ],
             [
              0.1111111111111111,
              "#46039f"
             ],
             [
              0.2222222222222222,
              "#7201a8"
             ],
             [
              0.3333333333333333,
              "#9c179e"
             ],
             [
              0.4444444444444444,
              "#bd3786"
             ],
             [
              0.5555555555555556,
              "#d8576b"
             ],
             [
              0.6666666666666666,
              "#ed7953"
             ],
             [
              0.7777777777777778,
              "#fb9f3a"
             ],
             [
              0.8888888888888888,
              "#fdca26"
             ],
             [
              1,
              "#f0f921"
             ]
            ],
            "type": "histogram2dcontour"
           }
          ],
          "mesh3d": [
           {
            "colorbar": {
             "outlinewidth": 0,
             "ticks": ""
            },
            "type": "mesh3d"
           }
          ],
          "parcoords": [
           {
            "line": {
             "colorbar": {
              "outlinewidth": 0,
              "ticks": ""
             }
            },
            "type": "parcoords"
           }
          ],
          "pie": [
           {
            "automargin": true,
            "type": "pie"
           }
          ],
          "scatter": [
           {
            "marker": {
             "colorbar": {
              "outlinewidth": 0,
              "ticks": ""
             }
            },
            "type": "scatter"
           }
          ],
          "scatter3d": [
           {
            "line": {
             "colorbar": {
              "outlinewidth": 0,
              "ticks": ""
             }
            },
            "marker": {
             "colorbar": {
              "outlinewidth": 0,
              "ticks": ""
             }
            },
            "type": "scatter3d"
           }
          ],
          "scattercarpet": [
           {
            "marker": {
             "colorbar": {
              "outlinewidth": 0,
              "ticks": ""
             }
            },
            "type": "scattercarpet"
           }
          ],
          "scattergeo": [
           {
            "marker": {
             "colorbar": {
              "outlinewidth": 0,
              "ticks": ""
             }
            },
            "type": "scattergeo"
           }
          ],
          "scattergl": [
           {
            "marker": {
             "colorbar": {
              "outlinewidth": 0,
              "ticks": ""
             }
            },
            "type": "scattergl"
           }
          ],
          "scattermapbox": [
           {
            "marker": {
             "colorbar": {
              "outlinewidth": 0,
              "ticks": ""
             }
            },
            "type": "scattermapbox"
           }
          ],
          "scatterpolar": [
           {
            "marker": {
             "colorbar": {
              "outlinewidth": 0,
              "ticks": ""
             }
            },
            "type": "scatterpolar"
           }
          ],
          "scatterpolargl": [
           {
            "marker": {
             "colorbar": {
              "outlinewidth": 0,
              "ticks": ""
             }
            },
            "type": "scatterpolargl"
           }
          ],
          "scatterternary": [
           {
            "marker": {
             "colorbar": {
              "outlinewidth": 0,
              "ticks": ""
             }
            },
            "type": "scatterternary"
           }
          ],
          "surface": [
           {
            "colorbar": {
             "outlinewidth": 0,
             "ticks": ""
            },
            "colorscale": [
             [
              0,
              "#0d0887"
             ],
             [
              0.1111111111111111,
              "#46039f"
             ],
             [
              0.2222222222222222,
              "#7201a8"
             ],
             [
              0.3333333333333333,
              "#9c179e"
             ],
             [
              0.4444444444444444,
              "#bd3786"
             ],
             [
              0.5555555555555556,
              "#d8576b"
             ],
             [
              0.6666666666666666,
              "#ed7953"
             ],
             [
              0.7777777777777778,
              "#fb9f3a"
             ],
             [
              0.8888888888888888,
              "#fdca26"
             ],
             [
              1,
              "#f0f921"
             ]
            ],
            "type": "surface"
           }
          ],
          "table": [
           {
            "cells": {
             "fill": {
              "color": "#EBF0F8"
             },
             "line": {
              "color": "white"
             }
            },
            "header": {
             "fill": {
              "color": "#C8D4E3"
             },
             "line": {
              "color": "white"
             }
            },
            "type": "table"
           }
          ]
         },
         "layout": {
          "annotationdefaults": {
           "arrowcolor": "#2a3f5f",
           "arrowhead": 0,
           "arrowwidth": 1
          },
          "autotypenumbers": "strict",
          "coloraxis": {
           "colorbar": {
            "outlinewidth": 0,
            "ticks": ""
           }
          },
          "colorscale": {
           "diverging": [
            [
             0,
             "#8e0152"
            ],
            [
             0.1,
             "#c51b7d"
            ],
            [
             0.2,
             "#de77ae"
            ],
            [
             0.3,
             "#f1b6da"
            ],
            [
             0.4,
             "#fde0ef"
            ],
            [
             0.5,
             "#f7f7f7"
            ],
            [
             0.6,
             "#e6f5d0"
            ],
            [
             0.7,
             "#b8e186"
            ],
            [
             0.8,
             "#7fbc41"
            ],
            [
             0.9,
             "#4d9221"
            ],
            [
             1,
             "#276419"
            ]
           ],
           "sequential": [
            [
             0,
             "#0d0887"
            ],
            [
             0.1111111111111111,
             "#46039f"
            ],
            [
             0.2222222222222222,
             "#7201a8"
            ],
            [
             0.3333333333333333,
             "#9c179e"
            ],
            [
             0.4444444444444444,
             "#bd3786"
            ],
            [
             0.5555555555555556,
             "#d8576b"
            ],
            [
             0.6666666666666666,
             "#ed7953"
            ],
            [
             0.7777777777777778,
             "#fb9f3a"
            ],
            [
             0.8888888888888888,
             "#fdca26"
            ],
            [
             1,
             "#f0f921"
            ]
           ],
           "sequentialminus": [
            [
             0,
             "#0d0887"
            ],
            [
             0.1111111111111111,
             "#46039f"
            ],
            [
             0.2222222222222222,
             "#7201a8"
            ],
            [
             0.3333333333333333,
             "#9c179e"
            ],
            [
             0.4444444444444444,
             "#bd3786"
            ],
            [
             0.5555555555555556,
             "#d8576b"
            ],
            [
             0.6666666666666666,
             "#ed7953"
            ],
            [
             0.7777777777777778,
             "#fb9f3a"
            ],
            [
             0.8888888888888888,
             "#fdca26"
            ],
            [
             1,
             "#f0f921"
            ]
           ]
          },
          "colorway": [
           "#636efa",
           "#EF553B",
           "#00cc96",
           "#ab63fa",
           "#FFA15A",
           "#19d3f3",
           "#FF6692",
           "#B6E880",
           "#FF97FF",
           "#FECB52"
          ],
          "font": {
           "color": "#2a3f5f"
          },
          "geo": {
           "bgcolor": "white",
           "lakecolor": "white",
           "landcolor": "#E5ECF6",
           "showlakes": true,
           "showland": true,
           "subunitcolor": "white"
          },
          "hoverlabel": {
           "align": "left"
          },
          "hovermode": "closest",
          "mapbox": {
           "style": "light"
          },
          "paper_bgcolor": "white",
          "plot_bgcolor": "#E5ECF6",
          "polar": {
           "angularaxis": {
            "gridcolor": "white",
            "linecolor": "white",
            "ticks": ""
           },
           "bgcolor": "#E5ECF6",
           "radialaxis": {
            "gridcolor": "white",
            "linecolor": "white",
            "ticks": ""
           }
          },
          "scene": {
           "xaxis": {
            "backgroundcolor": "#E5ECF6",
            "gridcolor": "white",
            "gridwidth": 2,
            "linecolor": "white",
            "showbackground": true,
            "ticks": "",
            "zerolinecolor": "white"
           },
           "yaxis": {
            "backgroundcolor": "#E5ECF6",
            "gridcolor": "white",
            "gridwidth": 2,
            "linecolor": "white",
            "showbackground": true,
            "ticks": "",
            "zerolinecolor": "white"
           },
           "zaxis": {
            "backgroundcolor": "#E5ECF6",
            "gridcolor": "white",
            "gridwidth": 2,
            "linecolor": "white",
            "showbackground": true,
            "ticks": "",
            "zerolinecolor": "white"
           }
          },
          "shapedefaults": {
           "line": {
            "color": "#2a3f5f"
           }
          },
          "ternary": {
           "aaxis": {
            "gridcolor": "white",
            "linecolor": "white",
            "ticks": ""
           },
           "baxis": {
            "gridcolor": "white",
            "linecolor": "white",
            "ticks": ""
           },
           "bgcolor": "#E5ECF6",
           "caxis": {
            "gridcolor": "white",
            "linecolor": "white",
            "ticks": ""
           }
          },
          "title": {
           "x": 0.05
          },
          "xaxis": {
           "automargin": true,
           "gridcolor": "white",
           "linecolor": "white",
           "ticks": "",
           "title": {
            "standoff": 15
           },
           "zerolinecolor": "white",
           "zerolinewidth": 2
          },
          "yaxis": {
           "automargin": true,
           "gridcolor": "white",
           "linecolor": "white",
           "ticks": "",
           "title": {
            "standoff": 15
           },
           "zerolinecolor": "white",
           "zerolinewidth": 2
          }
         }
        },
        "title": {
         "font": {
          "color": "#4D5663"
         }
        },
        "xaxis": {
         "gridcolor": "#E1E5ED",
         "showgrid": true,
         "tickfont": {
          "color": "#4D5663"
         },
         "title": {
          "font": {
           "color": "#4D5663"
          },
          "text": ""
         },
         "zerolinecolor": "#E1E5ED"
        },
        "yaxis": {
         "gridcolor": "#E1E5ED",
         "showgrid": true,
         "tickfont": {
          "color": "#4D5663"
         },
         "title": {
          "font": {
           "color": "#4D5663"
          },
          "text": ""
         },
         "zerolinecolor": "#E1E5ED"
        }
       }
      },
      "text/html": [
       "<div>                            <div id=\"5fe01d1a-4498-4fef-a5a2-09f92ee09608\" class=\"plotly-graph-div\" style=\"height:525px; width:100%;\"></div>            <script type=\"text/javascript\">                require([\"plotly\"], function(Plotly) {                    window.PLOTLYENV=window.PLOTLYENV || {};\n",
       "                    window.PLOTLYENV.BASE_URL='https://plot.ly';                                    if (document.getElementById(\"5fe01d1a-4498-4fef-a5a2-09f92ee09608\")) {                    Plotly.newPlot(                        \"5fe01d1a-4498-4fef-a5a2-09f92ee09608\",                        [{\"line\": {\"color\": \"rgba(255, 153, 51, 1.0)\", \"dash\": \"solid\", \"shape\": \"linear\", \"width\": 1.3}, \"marker\": {\"size\": 10, \"symbol\": \"circle\"}, \"mode\": \"markers\", \"name\": \"B\", \"text\": \"\", \"type\": \"scatter\", \"x\": [0.42135637469066833, 0.051787610039485656, -0.8859201272757309, 1.127155918130127, 0.05110503169809027, -1.3625779998716074, 1.413463839091547, -1.0518298420858014, -1.4273371067642697, 0.2167236110214108, 0.1543785204974001, 1.0307652297071481, -1.556770626777491, -0.846285335148641, -1.4475567856473346, 0.28136297298603, 0.16206068112953487, 0.3415324132284915, -1.1033635133636706, 0.8894648772645205, -1.8017630378505909, -0.14245031927646856, -0.8266858154440575, -0.7530689966357229, -2.0574608097003035, -1.8778506514905104, -0.08148361870194606, -0.9357959490775972, -0.6760913977083556, -1.1041299976906465, 0.22052054948520405, -0.6208213787655636, -0.9832356528265209, 0.3121875795693881, -0.044428851806542095, -0.6160413621576425, 0.8338980770256911, -0.4078014558131567, 1.1326628751514818, 1.381820447729485, 0.5870663051810776, -0.7226234218334454, 0.637116486862654, 0.810474475909267, 2.70372528025538, 0.6462466649527927, 0.3743500129845283, 0.17484316236836292, 1.4641354227184749, -0.00834110773828608, 1.0168581856522507, -0.46088217782489604, -1.5221428181584185, 1.1085033065208867, -0.03359453206244407, 0.13024239174967583, -1.1376425645386274, 1.1102484582897623, 0.12115485743688534, 1.2269014026945384, -1.2118887477098856, -0.07302583552604484, -0.7657437595439366, 0.014733537309346229, -1.7912003541024881, 1.7244980639349405, -1.209570556075875, -1.1811987834399718, -1.3383168952142377, -0.23545845455329553, 0.5455075698862204, 0.5143435707195769, 0.49970410382795577, -1.0087869177358482, 1.5295395940774288, 0.19968872339286142, 0.2853967438038379, 0.6267199329816086, 0.7594740494277189, -2.2107520896395836, 0.04207387549136959, -0.1009791017301549, -1.363303282286697, -2.1269648825992946, -0.9969616855723071, -0.16447434850235484, 0.4579274109261358, -0.0501398598101201, 0.9794488277108203, -0.6698307222391381, 1.3153732821001494, 0.05781171695218909, -0.7880077693551906, 1.513297183883774, -1.2630353942419186, -0.8474541119052957, 1.8675720657212853, 0.8259412981691324, 0.23634614857664427, -1.5622218215155599], \"y\": [-0.6501201079452595, -0.6396703664807071, -0.14910624389792665, 0.9191471993045957, -0.20408638918650238, -1.8339833921820385, -0.5336687782287028, 1.1159759429939438, 0.9687317127445674, -1.7400136162569626, 0.21071196310648294, -0.6652480269305107, -0.5355523925508483, -0.5131492863893872, 0.6857146627816957, 1.098945987906431, -0.9348369343583188, -0.7325354095966315, 0.021514349515909068, -1.0346009878659206, -0.17501231162040945, 0.7367345313547262, -1.0897665770658538, -0.33938896768116844, 2.0121374329786192, -0.6393950234441513, 0.03647086107054639, -0.5948946033349691, 1.4104386684965855, 0.24031607468836597, 0.013035966419714847, -0.20069232286431354, 2.631987135365754, 1.1402967549197727, -1.3480836252528436, -0.5419029514580261, 0.35165958782611867, 0.5574337761914983, 0.5053362646599682, 0.06694474269967485, -0.6160293085973875, -1.8467820531221697, 0.23180264269673023, 1.5710530598742847, 0.16850544639523987, -0.5448421894097137, 0.800392407126888, -0.3205623468664349, 1.080515029284678, -1.7371274865461397, -1.89016032000533, 0.6587944707237163, 1.3712428758799025, -0.22839481245865867, -0.11743381153175035, 0.08875123869894627, 1.2534991446004125, -1.0050131736037835, -1.4849688355120898, 0.6705897386978111, 1.5984677392051143, -1.2645470074698082, 0.7264911234789589, -2.3717085033683727, -1.4436789972254331, -0.40695984992958373, -0.4220425299401283, -1.4988249695855351, -1.1392043419422493, -0.25228704335304114, 1.1690146052494421, -1.059060163146755, -0.6643372846194279, -1.8106561856144445, 0.23156168713817965, 0.4832174484382462, 1.5349359636281692, 0.7813633744015297, -0.14476594977734775, -1.191781902475107, 1.1339137809138238, 0.4633338142600121, 1.6834801300382207, -0.04735403216966803, 2.303170234529257, -1.588979977909511, 0.15271731738318492, -0.7055727659267433, 0.06895653776059535, 0.4744135459499637, -1.7719303079565776, -0.3132926379621396, 0.475239615161257, 0.3984714410737094, -0.37273617218314103, -1.5892452468814993, 1.383171377203694, 0.3208732966941905, -0.33731818730533253, 0.45105978115116213]}],                        {\"legend\": {\"bgcolor\": \"#F5F6F9\", \"font\": {\"color\": \"#4D5663\"}}, \"paper_bgcolor\": \"#F5F6F9\", \"plot_bgcolor\": \"#F5F6F9\", \"template\": {\"data\": {\"bar\": [{\"error_x\": {\"color\": \"#2a3f5f\"}, \"error_y\": {\"color\": \"#2a3f5f\"}, \"marker\": {\"line\": {\"color\": \"#E5ECF6\", \"width\": 0.5}}, \"type\": \"bar\"}], \"barpolar\": [{\"marker\": {\"line\": {\"color\": \"#E5ECF6\", \"width\": 0.5}}, \"type\": \"barpolar\"}], \"carpet\": [{\"aaxis\": {\"endlinecolor\": \"#2a3f5f\", \"gridcolor\": \"white\", \"linecolor\": \"white\", \"minorgridcolor\": \"white\", \"startlinecolor\": \"#2a3f5f\"}, \"baxis\": {\"endlinecolor\": \"#2a3f5f\", \"gridcolor\": \"white\", \"linecolor\": \"white\", \"minorgridcolor\": \"white\", \"startlinecolor\": \"#2a3f5f\"}, \"type\": \"carpet\"}], \"choropleth\": [{\"colorbar\": {\"outlinewidth\": 0, \"ticks\": \"\"}, \"type\": \"choropleth\"}], \"contour\": [{\"colorbar\": {\"outlinewidth\": 0, \"ticks\": \"\"}, \"colorscale\": [[0.0, \"#0d0887\"], [0.1111111111111111, \"#46039f\"], [0.2222222222222222, \"#7201a8\"], [0.3333333333333333, \"#9c179e\"], [0.4444444444444444, \"#bd3786\"], [0.5555555555555556, \"#d8576b\"], [0.6666666666666666, \"#ed7953\"], [0.7777777777777778, \"#fb9f3a\"], [0.8888888888888888, \"#fdca26\"], [1.0, \"#f0f921\"]], \"type\": \"contour\"}], \"contourcarpet\": [{\"colorbar\": {\"outlinewidth\": 0, \"ticks\": \"\"}, \"type\": \"contourcarpet\"}], \"heatmap\": [{\"colorbar\": {\"outlinewidth\": 0, \"ticks\": \"\"}, \"colorscale\": [[0.0, \"#0d0887\"], [0.1111111111111111, \"#46039f\"], [0.2222222222222222, \"#7201a8\"], [0.3333333333333333, \"#9c179e\"], [0.4444444444444444, \"#bd3786\"], [0.5555555555555556, \"#d8576b\"], [0.6666666666666666, \"#ed7953\"], [0.7777777777777778, \"#fb9f3a\"], [0.8888888888888888, \"#fdca26\"], [1.0, \"#f0f921\"]], \"type\": \"heatmap\"}], \"heatmapgl\": [{\"colorbar\": {\"outlinewidth\": 0, \"ticks\": \"\"}, \"colorscale\": [[0.0, \"#0d0887\"], [0.1111111111111111, \"#46039f\"], [0.2222222222222222, \"#7201a8\"], [0.3333333333333333, \"#9c179e\"], [0.4444444444444444, \"#bd3786\"], [0.5555555555555556, \"#d8576b\"], [0.6666666666666666, \"#ed7953\"], [0.7777777777777778, \"#fb9f3a\"], [0.8888888888888888, \"#fdca26\"], [1.0, \"#f0f921\"]], \"type\": \"heatmapgl\"}], \"histogram\": [{\"marker\": {\"colorbar\": {\"outlinewidth\": 0, \"ticks\": \"\"}}, \"type\": \"histogram\"}], \"histogram2d\": [{\"colorbar\": {\"outlinewidth\": 0, \"ticks\": \"\"}, \"colorscale\": [[0.0, \"#0d0887\"], [0.1111111111111111, \"#46039f\"], [0.2222222222222222, \"#7201a8\"], [0.3333333333333333, \"#9c179e\"], [0.4444444444444444, \"#bd3786\"], [0.5555555555555556, \"#d8576b\"], [0.6666666666666666, \"#ed7953\"], [0.7777777777777778, \"#fb9f3a\"], [0.8888888888888888, \"#fdca26\"], [1.0, \"#f0f921\"]], \"type\": \"histogram2d\"}], \"histogram2dcontour\": [{\"colorbar\": {\"outlinewidth\": 0, \"ticks\": \"\"}, \"colorscale\": [[0.0, \"#0d0887\"], [0.1111111111111111, \"#46039f\"], [0.2222222222222222, \"#7201a8\"], [0.3333333333333333, \"#9c179e\"], [0.4444444444444444, \"#bd3786\"], [0.5555555555555556, \"#d8576b\"], [0.6666666666666666, \"#ed7953\"], [0.7777777777777778, \"#fb9f3a\"], [0.8888888888888888, \"#fdca26\"], [1.0, \"#f0f921\"]], \"type\": \"histogram2dcontour\"}], \"mesh3d\": [{\"colorbar\": {\"outlinewidth\": 0, \"ticks\": \"\"}, \"type\": \"mesh3d\"}], \"parcoords\": [{\"line\": {\"colorbar\": {\"outlinewidth\": 0, \"ticks\": \"\"}}, \"type\": \"parcoords\"}], \"pie\": [{\"automargin\": true, \"type\": \"pie\"}], \"scatter\": [{\"marker\": {\"colorbar\": {\"outlinewidth\": 0, \"ticks\": \"\"}}, \"type\": \"scatter\"}], \"scatter3d\": [{\"line\": {\"colorbar\": {\"outlinewidth\": 0, \"ticks\": \"\"}}, \"marker\": {\"colorbar\": {\"outlinewidth\": 0, \"ticks\": \"\"}}, \"type\": \"scatter3d\"}], \"scattercarpet\": [{\"marker\": {\"colorbar\": {\"outlinewidth\": 0, \"ticks\": \"\"}}, \"type\": \"scattercarpet\"}], \"scattergeo\": [{\"marker\": {\"colorbar\": {\"outlinewidth\": 0, \"ticks\": \"\"}}, \"type\": \"scattergeo\"}], \"scattergl\": [{\"marker\": {\"colorbar\": {\"outlinewidth\": 0, \"ticks\": \"\"}}, \"type\": \"scattergl\"}], \"scattermapbox\": [{\"marker\": {\"colorbar\": {\"outlinewidth\": 0, \"ticks\": \"\"}}, \"type\": \"scattermapbox\"}], \"scatterpolar\": [{\"marker\": {\"colorbar\": {\"outlinewidth\": 0, \"ticks\": \"\"}}, \"type\": \"scatterpolar\"}], \"scatterpolargl\": [{\"marker\": {\"colorbar\": {\"outlinewidth\": 0, \"ticks\": \"\"}}, \"type\": \"scatterpolargl\"}], \"scatterternary\": [{\"marker\": {\"colorbar\": {\"outlinewidth\": 0, \"ticks\": \"\"}}, \"type\": \"scatterternary\"}], \"surface\": [{\"colorbar\": {\"outlinewidth\": 0, \"ticks\": \"\"}, \"colorscale\": [[0.0, \"#0d0887\"], [0.1111111111111111, \"#46039f\"], [0.2222222222222222, \"#7201a8\"], [0.3333333333333333, \"#9c179e\"], [0.4444444444444444, \"#bd3786\"], [0.5555555555555556, \"#d8576b\"], [0.6666666666666666, \"#ed7953\"], [0.7777777777777778, \"#fb9f3a\"], [0.8888888888888888, \"#fdca26\"], [1.0, \"#f0f921\"]], \"type\": \"surface\"}], \"table\": [{\"cells\": {\"fill\": {\"color\": \"#EBF0F8\"}, \"line\": {\"color\": \"white\"}}, \"header\": {\"fill\": {\"color\": \"#C8D4E3\"}, \"line\": {\"color\": \"white\"}}, \"type\": \"table\"}]}, \"layout\": {\"annotationdefaults\": {\"arrowcolor\": \"#2a3f5f\", \"arrowhead\": 0, \"arrowwidth\": 1}, \"autotypenumbers\": \"strict\", \"coloraxis\": {\"colorbar\": {\"outlinewidth\": 0, \"ticks\": \"\"}}, \"colorscale\": {\"diverging\": [[0, \"#8e0152\"], [0.1, \"#c51b7d\"], [0.2, \"#de77ae\"], [0.3, \"#f1b6da\"], [0.4, \"#fde0ef\"], [0.5, \"#f7f7f7\"], [0.6, \"#e6f5d0\"], [0.7, \"#b8e186\"], [0.8, \"#7fbc41\"], [0.9, \"#4d9221\"], [1, \"#276419\"]], \"sequential\": [[0.0, \"#0d0887\"], [0.1111111111111111, \"#46039f\"], [0.2222222222222222, \"#7201a8\"], [0.3333333333333333, \"#9c179e\"], [0.4444444444444444, \"#bd3786\"], [0.5555555555555556, \"#d8576b\"], [0.6666666666666666, \"#ed7953\"], [0.7777777777777778, \"#fb9f3a\"], [0.8888888888888888, \"#fdca26\"], [1.0, \"#f0f921\"]], \"sequentialminus\": [[0.0, \"#0d0887\"], [0.1111111111111111, \"#46039f\"], [0.2222222222222222, \"#7201a8\"], [0.3333333333333333, \"#9c179e\"], [0.4444444444444444, \"#bd3786\"], [0.5555555555555556, \"#d8576b\"], [0.6666666666666666, \"#ed7953\"], [0.7777777777777778, \"#fb9f3a\"], [0.8888888888888888, \"#fdca26\"], [1.0, \"#f0f921\"]]}, \"colorway\": [\"#636efa\", \"#EF553B\", \"#00cc96\", \"#ab63fa\", \"#FFA15A\", \"#19d3f3\", \"#FF6692\", \"#B6E880\", \"#FF97FF\", \"#FECB52\"], \"font\": {\"color\": \"#2a3f5f\"}, \"geo\": {\"bgcolor\": \"white\", \"lakecolor\": \"white\", \"landcolor\": \"#E5ECF6\", \"showlakes\": true, \"showland\": true, \"subunitcolor\": \"white\"}, \"hoverlabel\": {\"align\": \"left\"}, \"hovermode\": \"closest\", \"mapbox\": {\"style\": \"light\"}, \"paper_bgcolor\": \"white\", \"plot_bgcolor\": \"#E5ECF6\", \"polar\": {\"angularaxis\": {\"gridcolor\": \"white\", \"linecolor\": \"white\", \"ticks\": \"\"}, \"bgcolor\": \"#E5ECF6\", \"radialaxis\": {\"gridcolor\": \"white\", \"linecolor\": \"white\", \"ticks\": \"\"}}, \"scene\": {\"xaxis\": {\"backgroundcolor\": \"#E5ECF6\", \"gridcolor\": \"white\", \"gridwidth\": 2, \"linecolor\": \"white\", \"showbackground\": true, \"ticks\": \"\", \"zerolinecolor\": \"white\"}, \"yaxis\": {\"backgroundcolor\": \"#E5ECF6\", \"gridcolor\": \"white\", \"gridwidth\": 2, \"linecolor\": \"white\", \"showbackground\": true, \"ticks\": \"\", \"zerolinecolor\": \"white\"}, \"zaxis\": {\"backgroundcolor\": \"#E5ECF6\", \"gridcolor\": \"white\", \"gridwidth\": 2, \"linecolor\": \"white\", \"showbackground\": true, \"ticks\": \"\", \"zerolinecolor\": \"white\"}}, \"shapedefaults\": {\"line\": {\"color\": \"#2a3f5f\"}}, \"ternary\": {\"aaxis\": {\"gridcolor\": \"white\", \"linecolor\": \"white\", \"ticks\": \"\"}, \"baxis\": {\"gridcolor\": \"white\", \"linecolor\": \"white\", \"ticks\": \"\"}, \"bgcolor\": \"#E5ECF6\", \"caxis\": {\"gridcolor\": \"white\", \"linecolor\": \"white\", \"ticks\": \"\"}}, \"title\": {\"x\": 0.05}, \"xaxis\": {\"automargin\": true, \"gridcolor\": \"white\", \"linecolor\": \"white\", \"ticks\": \"\", \"title\": {\"standoff\": 15}, \"zerolinecolor\": \"white\", \"zerolinewidth\": 2}, \"yaxis\": {\"automargin\": true, \"gridcolor\": \"white\", \"linecolor\": \"white\", \"ticks\": \"\", \"title\": {\"standoff\": 15}, \"zerolinecolor\": \"white\", \"zerolinewidth\": 2}}}, \"title\": {\"font\": {\"color\": \"#4D5663\"}}, \"xaxis\": {\"gridcolor\": \"#E1E5ED\", \"showgrid\": true, \"tickfont\": {\"color\": \"#4D5663\"}, \"title\": {\"font\": {\"color\": \"#4D5663\"}, \"text\": \"\"}, \"zerolinecolor\": \"#E1E5ED\"}, \"yaxis\": {\"gridcolor\": \"#E1E5ED\", \"showgrid\": true, \"tickfont\": {\"color\": \"#4D5663\"}, \"title\": {\"font\": {\"color\": \"#4D5663\"}, \"text\": \"\"}, \"zerolinecolor\": \"#E1E5ED\"}},                        {\"showLink\": true, \"linkText\": \"Export to plot.ly\", \"plotlyServerURL\": \"https://plot.ly\", \"responsive\": true}                    ).then(function(){\n",
       "                            \n",
       "var gd = document.getElementById('5fe01d1a-4498-4fef-a5a2-09f92ee09608');\n",
       "var x = new MutationObserver(function (mutations, observer) {{\n",
       "        var display = window.getComputedStyle(gd).display;\n",
       "        if (!display || display === 'none') {{\n",
       "            console.log([gd, 'removed!']);\n",
       "            Plotly.purge(gd);\n",
       "            observer.disconnect();\n",
       "        }}\n",
       "}});\n",
       "\n",
       "// Listen for the removal of the full notebook cells\n",
       "var notebookContainer = gd.closest('#notebook-container');\n",
       "if (notebookContainer) {{\n",
       "    x.observe(notebookContainer, {childList: true});\n",
       "}}\n",
       "\n",
       "// Listen for the clearing of the current output cell\n",
       "var outputEl = gd.closest('.output');\n",
       "if (outputEl) {{\n",
       "    x.observe(outputEl, {childList: true});\n",
       "}}\n",
       "\n",
       "                        })                };                });            </script>        </div>"
      ]
     },
     "metadata": {},
     "output_type": "display_data"
    }
   ],
   "source": [
    "df.iplot(kind='scatter',x='A',y='B',mode='markers',size=10)"
   ]
  },
  {
   "cell_type": "markdown",
   "metadata": {},
   "source": [
    "## Bar Plots"
   ]
  },
  {
   "cell_type": "code",
   "execution_count": 11,
   "metadata": {},
   "outputs": [
    {
     "data": {
      "application/vnd.plotly.v1+json": {
       "config": {
        "linkText": "Export to plot.ly",
        "plotlyServerURL": "https://plot.ly",
        "showLink": true
       },
       "data": [
        {
         "marker": {
          "color": "rgba(255, 153, 51, 0.6)",
          "line": {
           "color": "rgba(255, 153, 51, 1.0)",
           "width": 1
          }
         },
         "name": "Values",
         "orientation": "v",
         "text": "",
         "type": "bar",
         "x": [
          "A",
          "B",
          "C"
         ],
         "y": [
          32,
          43,
          50
         ]
        }
       ],
       "layout": {
        "legend": {
         "bgcolor": "#F5F6F9",
         "font": {
          "color": "#4D5663"
         }
        },
        "paper_bgcolor": "#F5F6F9",
        "plot_bgcolor": "#F5F6F9",
        "template": {
         "data": {
          "bar": [
           {
            "error_x": {
             "color": "#2a3f5f"
            },
            "error_y": {
             "color": "#2a3f5f"
            },
            "marker": {
             "line": {
              "color": "#E5ECF6",
              "width": 0.5
             }
            },
            "type": "bar"
           }
          ],
          "barpolar": [
           {
            "marker": {
             "line": {
              "color": "#E5ECF6",
              "width": 0.5
             }
            },
            "type": "barpolar"
           }
          ],
          "carpet": [
           {
            "aaxis": {
             "endlinecolor": "#2a3f5f",
             "gridcolor": "white",
             "linecolor": "white",
             "minorgridcolor": "white",
             "startlinecolor": "#2a3f5f"
            },
            "baxis": {
             "endlinecolor": "#2a3f5f",
             "gridcolor": "white",
             "linecolor": "white",
             "minorgridcolor": "white",
             "startlinecolor": "#2a3f5f"
            },
            "type": "carpet"
           }
          ],
          "choropleth": [
           {
            "colorbar": {
             "outlinewidth": 0,
             "ticks": ""
            },
            "type": "choropleth"
           }
          ],
          "contour": [
           {
            "colorbar": {
             "outlinewidth": 0,
             "ticks": ""
            },
            "colorscale": [
             [
              0,
              "#0d0887"
             ],
             [
              0.1111111111111111,
              "#46039f"
             ],
             [
              0.2222222222222222,
              "#7201a8"
             ],
             [
              0.3333333333333333,
              "#9c179e"
             ],
             [
              0.4444444444444444,
              "#bd3786"
             ],
             [
              0.5555555555555556,
              "#d8576b"
             ],
             [
              0.6666666666666666,
              "#ed7953"
             ],
             [
              0.7777777777777778,
              "#fb9f3a"
             ],
             [
              0.8888888888888888,
              "#fdca26"
             ],
             [
              1,
              "#f0f921"
             ]
            ],
            "type": "contour"
           }
          ],
          "contourcarpet": [
           {
            "colorbar": {
             "outlinewidth": 0,
             "ticks": ""
            },
            "type": "contourcarpet"
           }
          ],
          "heatmap": [
           {
            "colorbar": {
             "outlinewidth": 0,
             "ticks": ""
            },
            "colorscale": [
             [
              0,
              "#0d0887"
             ],
             [
              0.1111111111111111,
              "#46039f"
             ],
             [
              0.2222222222222222,
              "#7201a8"
             ],
             [
              0.3333333333333333,
              "#9c179e"
             ],
             [
              0.4444444444444444,
              "#bd3786"
             ],
             [
              0.5555555555555556,
              "#d8576b"
             ],
             [
              0.6666666666666666,
              "#ed7953"
             ],
             [
              0.7777777777777778,
              "#fb9f3a"
             ],
             [
              0.8888888888888888,
              "#fdca26"
             ],
             [
              1,
              "#f0f921"
             ]
            ],
            "type": "heatmap"
           }
          ],
          "heatmapgl": [
           {
            "colorbar": {
             "outlinewidth": 0,
             "ticks": ""
            },
            "colorscale": [
             [
              0,
              "#0d0887"
             ],
             [
              0.1111111111111111,
              "#46039f"
             ],
             [
              0.2222222222222222,
              "#7201a8"
             ],
             [
              0.3333333333333333,
              "#9c179e"
             ],
             [
              0.4444444444444444,
              "#bd3786"
             ],
             [
              0.5555555555555556,
              "#d8576b"
             ],
             [
              0.6666666666666666,
              "#ed7953"
             ],
             [
              0.7777777777777778,
              "#fb9f3a"
             ],
             [
              0.8888888888888888,
              "#fdca26"
             ],
             [
              1,
              "#f0f921"
             ]
            ],
            "type": "heatmapgl"
           }
          ],
          "histogram": [
           {
            "marker": {
             "colorbar": {
              "outlinewidth": 0,
              "ticks": ""
             }
            },
            "type": "histogram"
           }
          ],
          "histogram2d": [
           {
            "colorbar": {
             "outlinewidth": 0,
             "ticks": ""
            },
            "colorscale": [
             [
              0,
              "#0d0887"
             ],
             [
              0.1111111111111111,
              "#46039f"
             ],
             [
              0.2222222222222222,
              "#7201a8"
             ],
             [
              0.3333333333333333,
              "#9c179e"
             ],
             [
              0.4444444444444444,
              "#bd3786"
             ],
             [
              0.5555555555555556,
              "#d8576b"
             ],
             [
              0.6666666666666666,
              "#ed7953"
             ],
             [
              0.7777777777777778,
              "#fb9f3a"
             ],
             [
              0.8888888888888888,
              "#fdca26"
             ],
             [
              1,
              "#f0f921"
             ]
            ],
            "type": "histogram2d"
           }
          ],
          "histogram2dcontour": [
           {
            "colorbar": {
             "outlinewidth": 0,
             "ticks": ""
            },
            "colorscale": [
             [
              0,
              "#0d0887"
             ],
             [
              0.1111111111111111,
              "#46039f"
             ],
             [
              0.2222222222222222,
              "#7201a8"
             ],
             [
              0.3333333333333333,
              "#9c179e"
             ],
             [
              0.4444444444444444,
              "#bd3786"
             ],
             [
              0.5555555555555556,
              "#d8576b"
             ],
             [
              0.6666666666666666,
              "#ed7953"
             ],
             [
              0.7777777777777778,
              "#fb9f3a"
             ],
             [
              0.8888888888888888,
              "#fdca26"
             ],
             [
              1,
              "#f0f921"
             ]
            ],
            "type": "histogram2dcontour"
           }
          ],
          "mesh3d": [
           {
            "colorbar": {
             "outlinewidth": 0,
             "ticks": ""
            },
            "type": "mesh3d"
           }
          ],
          "parcoords": [
           {
            "line": {
             "colorbar": {
              "outlinewidth": 0,
              "ticks": ""
             }
            },
            "type": "parcoords"
           }
          ],
          "pie": [
           {
            "automargin": true,
            "type": "pie"
           }
          ],
          "scatter": [
           {
            "marker": {
             "colorbar": {
              "outlinewidth": 0,
              "ticks": ""
             }
            },
            "type": "scatter"
           }
          ],
          "scatter3d": [
           {
            "line": {
             "colorbar": {
              "outlinewidth": 0,
              "ticks": ""
             }
            },
            "marker": {
             "colorbar": {
              "outlinewidth": 0,
              "ticks": ""
             }
            },
            "type": "scatter3d"
           }
          ],
          "scattercarpet": [
           {
            "marker": {
             "colorbar": {
              "outlinewidth": 0,
              "ticks": ""
             }
            },
            "type": "scattercarpet"
           }
          ],
          "scattergeo": [
           {
            "marker": {
             "colorbar": {
              "outlinewidth": 0,
              "ticks": ""
             }
            },
            "type": "scattergeo"
           }
          ],
          "scattergl": [
           {
            "marker": {
             "colorbar": {
              "outlinewidth": 0,
              "ticks": ""
             }
            },
            "type": "scattergl"
           }
          ],
          "scattermapbox": [
           {
            "marker": {
             "colorbar": {
              "outlinewidth": 0,
              "ticks": ""
             }
            },
            "type": "scattermapbox"
           }
          ],
          "scatterpolar": [
           {
            "marker": {
             "colorbar": {
              "outlinewidth": 0,
              "ticks": ""
             }
            },
            "type": "scatterpolar"
           }
          ],
          "scatterpolargl": [
           {
            "marker": {
             "colorbar": {
              "outlinewidth": 0,
              "ticks": ""
             }
            },
            "type": "scatterpolargl"
           }
          ],
          "scatterternary": [
           {
            "marker": {
             "colorbar": {
              "outlinewidth": 0,
              "ticks": ""
             }
            },
            "type": "scatterternary"
           }
          ],
          "surface": [
           {
            "colorbar": {
             "outlinewidth": 0,
             "ticks": ""
            },
            "colorscale": [
             [
              0,
              "#0d0887"
             ],
             [
              0.1111111111111111,
              "#46039f"
             ],
             [
              0.2222222222222222,
              "#7201a8"
             ],
             [
              0.3333333333333333,
              "#9c179e"
             ],
             [
              0.4444444444444444,
              "#bd3786"
             ],
             [
              0.5555555555555556,
              "#d8576b"
             ],
             [
              0.6666666666666666,
              "#ed7953"
             ],
             [
              0.7777777777777778,
              "#fb9f3a"
             ],
             [
              0.8888888888888888,
              "#fdca26"
             ],
             [
              1,
              "#f0f921"
             ]
            ],
            "type": "surface"
           }
          ],
          "table": [
           {
            "cells": {
             "fill": {
              "color": "#EBF0F8"
             },
             "line": {
              "color": "white"
             }
            },
            "header": {
             "fill": {
              "color": "#C8D4E3"
             },
             "line": {
              "color": "white"
             }
            },
            "type": "table"
           }
          ]
         },
         "layout": {
          "annotationdefaults": {
           "arrowcolor": "#2a3f5f",
           "arrowhead": 0,
           "arrowwidth": 1
          },
          "autotypenumbers": "strict",
          "coloraxis": {
           "colorbar": {
            "outlinewidth": 0,
            "ticks": ""
           }
          },
          "colorscale": {
           "diverging": [
            [
             0,
             "#8e0152"
            ],
            [
             0.1,
             "#c51b7d"
            ],
            [
             0.2,
             "#de77ae"
            ],
            [
             0.3,
             "#f1b6da"
            ],
            [
             0.4,
             "#fde0ef"
            ],
            [
             0.5,
             "#f7f7f7"
            ],
            [
             0.6,
             "#e6f5d0"
            ],
            [
             0.7,
             "#b8e186"
            ],
            [
             0.8,
             "#7fbc41"
            ],
            [
             0.9,
             "#4d9221"
            ],
            [
             1,
             "#276419"
            ]
           ],
           "sequential": [
            [
             0,
             "#0d0887"
            ],
            [
             0.1111111111111111,
             "#46039f"
            ],
            [
             0.2222222222222222,
             "#7201a8"
            ],
            [
             0.3333333333333333,
             "#9c179e"
            ],
            [
             0.4444444444444444,
             "#bd3786"
            ],
            [
             0.5555555555555556,
             "#d8576b"
            ],
            [
             0.6666666666666666,
             "#ed7953"
            ],
            [
             0.7777777777777778,
             "#fb9f3a"
            ],
            [
             0.8888888888888888,
             "#fdca26"
            ],
            [
             1,
             "#f0f921"
            ]
           ],
           "sequentialminus": [
            [
             0,
             "#0d0887"
            ],
            [
             0.1111111111111111,
             "#46039f"
            ],
            [
             0.2222222222222222,
             "#7201a8"
            ],
            [
             0.3333333333333333,
             "#9c179e"
            ],
            [
             0.4444444444444444,
             "#bd3786"
            ],
            [
             0.5555555555555556,
             "#d8576b"
            ],
            [
             0.6666666666666666,
             "#ed7953"
            ],
            [
             0.7777777777777778,
             "#fb9f3a"
            ],
            [
             0.8888888888888888,
             "#fdca26"
            ],
            [
             1,
             "#f0f921"
            ]
           ]
          },
          "colorway": [
           "#636efa",
           "#EF553B",
           "#00cc96",
           "#ab63fa",
           "#FFA15A",
           "#19d3f3",
           "#FF6692",
           "#B6E880",
           "#FF97FF",
           "#FECB52"
          ],
          "font": {
           "color": "#2a3f5f"
          },
          "geo": {
           "bgcolor": "white",
           "lakecolor": "white",
           "landcolor": "#E5ECF6",
           "showlakes": true,
           "showland": true,
           "subunitcolor": "white"
          },
          "hoverlabel": {
           "align": "left"
          },
          "hovermode": "closest",
          "mapbox": {
           "style": "light"
          },
          "paper_bgcolor": "white",
          "plot_bgcolor": "#E5ECF6",
          "polar": {
           "angularaxis": {
            "gridcolor": "white",
            "linecolor": "white",
            "ticks": ""
           },
           "bgcolor": "#E5ECF6",
           "radialaxis": {
            "gridcolor": "white",
            "linecolor": "white",
            "ticks": ""
           }
          },
          "scene": {
           "xaxis": {
            "backgroundcolor": "#E5ECF6",
            "gridcolor": "white",
            "gridwidth": 2,
            "linecolor": "white",
            "showbackground": true,
            "ticks": "",
            "zerolinecolor": "white"
           },
           "yaxis": {
            "backgroundcolor": "#E5ECF6",
            "gridcolor": "white",
            "gridwidth": 2,
            "linecolor": "white",
            "showbackground": true,
            "ticks": "",
            "zerolinecolor": "white"
           },
           "zaxis": {
            "backgroundcolor": "#E5ECF6",
            "gridcolor": "white",
            "gridwidth": 2,
            "linecolor": "white",
            "showbackground": true,
            "ticks": "",
            "zerolinecolor": "white"
           }
          },
          "shapedefaults": {
           "line": {
            "color": "#2a3f5f"
           }
          },
          "ternary": {
           "aaxis": {
            "gridcolor": "white",
            "linecolor": "white",
            "ticks": ""
           },
           "baxis": {
            "gridcolor": "white",
            "linecolor": "white",
            "ticks": ""
           },
           "bgcolor": "#E5ECF6",
           "caxis": {
            "gridcolor": "white",
            "linecolor": "white",
            "ticks": ""
           }
          },
          "title": {
           "x": 0.05
          },
          "xaxis": {
           "automargin": true,
           "gridcolor": "white",
           "linecolor": "white",
           "ticks": "",
           "title": {
            "standoff": 15
           },
           "zerolinecolor": "white",
           "zerolinewidth": 2
          },
          "yaxis": {
           "automargin": true,
           "gridcolor": "white",
           "linecolor": "white",
           "ticks": "",
           "title": {
            "standoff": 15
           },
           "zerolinecolor": "white",
           "zerolinewidth": 2
          }
         }
        },
        "title": {
         "font": {
          "color": "#4D5663"
         }
        },
        "xaxis": {
         "gridcolor": "#E1E5ED",
         "showgrid": true,
         "tickfont": {
          "color": "#4D5663"
         },
         "title": {
          "font": {
           "color": "#4D5663"
          },
          "text": ""
         },
         "zerolinecolor": "#E1E5ED"
        },
        "yaxis": {
         "gridcolor": "#E1E5ED",
         "showgrid": true,
         "tickfont": {
          "color": "#4D5663"
         },
         "title": {
          "font": {
           "color": "#4D5663"
          },
          "text": ""
         },
         "zerolinecolor": "#E1E5ED"
        }
       }
      },
      "text/html": [
       "<div>                            <div id=\"39f4dc58-09a8-4297-a184-8f6b966d3803\" class=\"plotly-graph-div\" style=\"height:525px; width:100%;\"></div>            <script type=\"text/javascript\">                require([\"plotly\"], function(Plotly) {                    window.PLOTLYENV=window.PLOTLYENV || {};\n",
       "                    window.PLOTLYENV.BASE_URL='https://plot.ly';                                    if (document.getElementById(\"39f4dc58-09a8-4297-a184-8f6b966d3803\")) {                    Plotly.newPlot(                        \"39f4dc58-09a8-4297-a184-8f6b966d3803\",                        [{\"marker\": {\"color\": \"rgba(255, 153, 51, 0.6)\", \"line\": {\"color\": \"rgba(255, 153, 51, 1.0)\", \"width\": 1}}, \"name\": \"Values\", \"orientation\": \"v\", \"text\": \"\", \"type\": \"bar\", \"x\": [\"A\", \"B\", \"C\"], \"y\": [32, 43, 50]}],                        {\"legend\": {\"bgcolor\": \"#F5F6F9\", \"font\": {\"color\": \"#4D5663\"}}, \"paper_bgcolor\": \"#F5F6F9\", \"plot_bgcolor\": \"#F5F6F9\", \"template\": {\"data\": {\"bar\": [{\"error_x\": {\"color\": \"#2a3f5f\"}, \"error_y\": {\"color\": \"#2a3f5f\"}, \"marker\": {\"line\": {\"color\": \"#E5ECF6\", \"width\": 0.5}}, \"type\": \"bar\"}], \"barpolar\": [{\"marker\": {\"line\": {\"color\": \"#E5ECF6\", \"width\": 0.5}}, \"type\": \"barpolar\"}], \"carpet\": [{\"aaxis\": {\"endlinecolor\": \"#2a3f5f\", \"gridcolor\": \"white\", \"linecolor\": \"white\", \"minorgridcolor\": \"white\", \"startlinecolor\": \"#2a3f5f\"}, \"baxis\": {\"endlinecolor\": \"#2a3f5f\", \"gridcolor\": \"white\", \"linecolor\": \"white\", \"minorgridcolor\": \"white\", \"startlinecolor\": \"#2a3f5f\"}, \"type\": \"carpet\"}], \"choropleth\": [{\"colorbar\": {\"outlinewidth\": 0, \"ticks\": \"\"}, \"type\": \"choropleth\"}], \"contour\": [{\"colorbar\": {\"outlinewidth\": 0, \"ticks\": \"\"}, \"colorscale\": [[0.0, \"#0d0887\"], [0.1111111111111111, \"#46039f\"], [0.2222222222222222, \"#7201a8\"], [0.3333333333333333, \"#9c179e\"], [0.4444444444444444, \"#bd3786\"], [0.5555555555555556, \"#d8576b\"], [0.6666666666666666, \"#ed7953\"], [0.7777777777777778, \"#fb9f3a\"], [0.8888888888888888, \"#fdca26\"], [1.0, \"#f0f921\"]], \"type\": \"contour\"}], \"contourcarpet\": [{\"colorbar\": {\"outlinewidth\": 0, \"ticks\": \"\"}, \"type\": \"contourcarpet\"}], \"heatmap\": [{\"colorbar\": {\"outlinewidth\": 0, \"ticks\": \"\"}, \"colorscale\": [[0.0, \"#0d0887\"], [0.1111111111111111, \"#46039f\"], [0.2222222222222222, \"#7201a8\"], [0.3333333333333333, \"#9c179e\"], [0.4444444444444444, \"#bd3786\"], [0.5555555555555556, \"#d8576b\"], [0.6666666666666666, \"#ed7953\"], [0.7777777777777778, \"#fb9f3a\"], [0.8888888888888888, \"#fdca26\"], [1.0, \"#f0f921\"]], \"type\": \"heatmap\"}], \"heatmapgl\": [{\"colorbar\": {\"outlinewidth\": 0, \"ticks\": \"\"}, \"colorscale\": [[0.0, \"#0d0887\"], [0.1111111111111111, \"#46039f\"], [0.2222222222222222, \"#7201a8\"], [0.3333333333333333, \"#9c179e\"], [0.4444444444444444, \"#bd3786\"], [0.5555555555555556, \"#d8576b\"], [0.6666666666666666, \"#ed7953\"], [0.7777777777777778, \"#fb9f3a\"], [0.8888888888888888, \"#fdca26\"], [1.0, \"#f0f921\"]], \"type\": \"heatmapgl\"}], \"histogram\": [{\"marker\": {\"colorbar\": {\"outlinewidth\": 0, \"ticks\": \"\"}}, \"type\": \"histogram\"}], \"histogram2d\": [{\"colorbar\": {\"outlinewidth\": 0, \"ticks\": \"\"}, \"colorscale\": [[0.0, \"#0d0887\"], [0.1111111111111111, \"#46039f\"], [0.2222222222222222, \"#7201a8\"], [0.3333333333333333, \"#9c179e\"], [0.4444444444444444, \"#bd3786\"], [0.5555555555555556, \"#d8576b\"], [0.6666666666666666, \"#ed7953\"], [0.7777777777777778, \"#fb9f3a\"], [0.8888888888888888, \"#fdca26\"], [1.0, \"#f0f921\"]], \"type\": \"histogram2d\"}], \"histogram2dcontour\": [{\"colorbar\": {\"outlinewidth\": 0, \"ticks\": \"\"}, \"colorscale\": [[0.0, \"#0d0887\"], [0.1111111111111111, \"#46039f\"], [0.2222222222222222, \"#7201a8\"], [0.3333333333333333, \"#9c179e\"], [0.4444444444444444, \"#bd3786\"], [0.5555555555555556, \"#d8576b\"], [0.6666666666666666, \"#ed7953\"], [0.7777777777777778, \"#fb9f3a\"], [0.8888888888888888, \"#fdca26\"], [1.0, \"#f0f921\"]], \"type\": \"histogram2dcontour\"}], \"mesh3d\": [{\"colorbar\": {\"outlinewidth\": 0, \"ticks\": \"\"}, \"type\": \"mesh3d\"}], \"parcoords\": [{\"line\": {\"colorbar\": {\"outlinewidth\": 0, \"ticks\": \"\"}}, \"type\": \"parcoords\"}], \"pie\": [{\"automargin\": true, \"type\": \"pie\"}], \"scatter\": [{\"marker\": {\"colorbar\": {\"outlinewidth\": 0, \"ticks\": \"\"}}, \"type\": \"scatter\"}], \"scatter3d\": [{\"line\": {\"colorbar\": {\"outlinewidth\": 0, \"ticks\": \"\"}}, \"marker\": {\"colorbar\": {\"outlinewidth\": 0, \"ticks\": \"\"}}, \"type\": \"scatter3d\"}], \"scattercarpet\": [{\"marker\": {\"colorbar\": {\"outlinewidth\": 0, \"ticks\": \"\"}}, \"type\": \"scattercarpet\"}], \"scattergeo\": [{\"marker\": {\"colorbar\": {\"outlinewidth\": 0, \"ticks\": \"\"}}, \"type\": \"scattergeo\"}], \"scattergl\": [{\"marker\": {\"colorbar\": {\"outlinewidth\": 0, \"ticks\": \"\"}}, \"type\": \"scattergl\"}], \"scattermapbox\": [{\"marker\": {\"colorbar\": {\"outlinewidth\": 0, \"ticks\": \"\"}}, \"type\": \"scattermapbox\"}], \"scatterpolar\": [{\"marker\": {\"colorbar\": {\"outlinewidth\": 0, \"ticks\": \"\"}}, \"type\": \"scatterpolar\"}], \"scatterpolargl\": [{\"marker\": {\"colorbar\": {\"outlinewidth\": 0, \"ticks\": \"\"}}, \"type\": \"scatterpolargl\"}], \"scatterternary\": [{\"marker\": {\"colorbar\": {\"outlinewidth\": 0, \"ticks\": \"\"}}, \"type\": \"scatterternary\"}], \"surface\": [{\"colorbar\": {\"outlinewidth\": 0, \"ticks\": \"\"}, \"colorscale\": [[0.0, \"#0d0887\"], [0.1111111111111111, \"#46039f\"], [0.2222222222222222, \"#7201a8\"], [0.3333333333333333, \"#9c179e\"], [0.4444444444444444, \"#bd3786\"], [0.5555555555555556, \"#d8576b\"], [0.6666666666666666, \"#ed7953\"], [0.7777777777777778, \"#fb9f3a\"], [0.8888888888888888, \"#fdca26\"], [1.0, \"#f0f921\"]], \"type\": \"surface\"}], \"table\": [{\"cells\": {\"fill\": {\"color\": \"#EBF0F8\"}, \"line\": {\"color\": \"white\"}}, \"header\": {\"fill\": {\"color\": \"#C8D4E3\"}, \"line\": {\"color\": \"white\"}}, \"type\": \"table\"}]}, \"layout\": {\"annotationdefaults\": {\"arrowcolor\": \"#2a3f5f\", \"arrowhead\": 0, \"arrowwidth\": 1}, \"autotypenumbers\": \"strict\", \"coloraxis\": {\"colorbar\": {\"outlinewidth\": 0, \"ticks\": \"\"}}, \"colorscale\": {\"diverging\": [[0, \"#8e0152\"], [0.1, \"#c51b7d\"], [0.2, \"#de77ae\"], [0.3, \"#f1b6da\"], [0.4, \"#fde0ef\"], [0.5, \"#f7f7f7\"], [0.6, \"#e6f5d0\"], [0.7, \"#b8e186\"], [0.8, \"#7fbc41\"], [0.9, \"#4d9221\"], [1, \"#276419\"]], \"sequential\": [[0.0, \"#0d0887\"], [0.1111111111111111, \"#46039f\"], [0.2222222222222222, \"#7201a8\"], [0.3333333333333333, \"#9c179e\"], [0.4444444444444444, \"#bd3786\"], [0.5555555555555556, \"#d8576b\"], [0.6666666666666666, \"#ed7953\"], [0.7777777777777778, \"#fb9f3a\"], [0.8888888888888888, \"#fdca26\"], [1.0, \"#f0f921\"]], \"sequentialminus\": [[0.0, \"#0d0887\"], [0.1111111111111111, \"#46039f\"], [0.2222222222222222, \"#7201a8\"], [0.3333333333333333, \"#9c179e\"], [0.4444444444444444, \"#bd3786\"], [0.5555555555555556, \"#d8576b\"], [0.6666666666666666, \"#ed7953\"], [0.7777777777777778, \"#fb9f3a\"], [0.8888888888888888, \"#fdca26\"], [1.0, \"#f0f921\"]]}, \"colorway\": [\"#636efa\", \"#EF553B\", \"#00cc96\", \"#ab63fa\", \"#FFA15A\", \"#19d3f3\", \"#FF6692\", \"#B6E880\", \"#FF97FF\", \"#FECB52\"], \"font\": {\"color\": \"#2a3f5f\"}, \"geo\": {\"bgcolor\": \"white\", \"lakecolor\": \"white\", \"landcolor\": \"#E5ECF6\", \"showlakes\": true, \"showland\": true, \"subunitcolor\": \"white\"}, \"hoverlabel\": {\"align\": \"left\"}, \"hovermode\": \"closest\", \"mapbox\": {\"style\": \"light\"}, \"paper_bgcolor\": \"white\", \"plot_bgcolor\": \"#E5ECF6\", \"polar\": {\"angularaxis\": {\"gridcolor\": \"white\", \"linecolor\": \"white\", \"ticks\": \"\"}, \"bgcolor\": \"#E5ECF6\", \"radialaxis\": {\"gridcolor\": \"white\", \"linecolor\": \"white\", \"ticks\": \"\"}}, \"scene\": {\"xaxis\": {\"backgroundcolor\": \"#E5ECF6\", \"gridcolor\": \"white\", \"gridwidth\": 2, \"linecolor\": \"white\", \"showbackground\": true, \"ticks\": \"\", \"zerolinecolor\": \"white\"}, \"yaxis\": {\"backgroundcolor\": \"#E5ECF6\", \"gridcolor\": \"white\", \"gridwidth\": 2, \"linecolor\": \"white\", \"showbackground\": true, \"ticks\": \"\", \"zerolinecolor\": \"white\"}, \"zaxis\": {\"backgroundcolor\": \"#E5ECF6\", \"gridcolor\": \"white\", \"gridwidth\": 2, \"linecolor\": \"white\", \"showbackground\": true, \"ticks\": \"\", \"zerolinecolor\": \"white\"}}, \"shapedefaults\": {\"line\": {\"color\": \"#2a3f5f\"}}, \"ternary\": {\"aaxis\": {\"gridcolor\": \"white\", \"linecolor\": \"white\", \"ticks\": \"\"}, \"baxis\": {\"gridcolor\": \"white\", \"linecolor\": \"white\", \"ticks\": \"\"}, \"bgcolor\": \"#E5ECF6\", \"caxis\": {\"gridcolor\": \"white\", \"linecolor\": \"white\", \"ticks\": \"\"}}, \"title\": {\"x\": 0.05}, \"xaxis\": {\"automargin\": true, \"gridcolor\": \"white\", \"linecolor\": \"white\", \"ticks\": \"\", \"title\": {\"standoff\": 15}, \"zerolinecolor\": \"white\", \"zerolinewidth\": 2}, \"yaxis\": {\"automargin\": true, \"gridcolor\": \"white\", \"linecolor\": \"white\", \"ticks\": \"\", \"title\": {\"standoff\": 15}, \"zerolinecolor\": \"white\", \"zerolinewidth\": 2}}}, \"title\": {\"font\": {\"color\": \"#4D5663\"}}, \"xaxis\": {\"gridcolor\": \"#E1E5ED\", \"showgrid\": true, \"tickfont\": {\"color\": \"#4D5663\"}, \"title\": {\"font\": {\"color\": \"#4D5663\"}, \"text\": \"\"}, \"zerolinecolor\": \"#E1E5ED\"}, \"yaxis\": {\"gridcolor\": \"#E1E5ED\", \"showgrid\": true, \"tickfont\": {\"color\": \"#4D5663\"}, \"title\": {\"font\": {\"color\": \"#4D5663\"}, \"text\": \"\"}, \"zerolinecolor\": \"#E1E5ED\"}},                        {\"showLink\": true, \"linkText\": \"Export to plot.ly\", \"plotlyServerURL\": \"https://plot.ly\", \"responsive\": true}                    ).then(function(){\n",
       "                            \n",
       "var gd = document.getElementById('39f4dc58-09a8-4297-a184-8f6b966d3803');\n",
       "var x = new MutationObserver(function (mutations, observer) {{\n",
       "        var display = window.getComputedStyle(gd).display;\n",
       "        if (!display || display === 'none') {{\n",
       "            console.log([gd, 'removed!']);\n",
       "            Plotly.purge(gd);\n",
       "            observer.disconnect();\n",
       "        }}\n",
       "}});\n",
       "\n",
       "// Listen for the removal of the full notebook cells\n",
       "var notebookContainer = gd.closest('#notebook-container');\n",
       "if (notebookContainer) {{\n",
       "    x.observe(notebookContainer, {childList: true});\n",
       "}}\n",
       "\n",
       "// Listen for the clearing of the current output cell\n",
       "var outputEl = gd.closest('.output');\n",
       "if (outputEl) {{\n",
       "    x.observe(outputEl, {childList: true});\n",
       "}}\n",
       "\n",
       "                        })                };                });            </script>        </div>"
      ]
     },
     "metadata": {},
     "output_type": "display_data"
    }
   ],
   "source": [
    "df2.iplot(kind='bar',x='Category',y='Values')"
   ]
  },
  {
   "cell_type": "code",
   "execution_count": 12,
   "metadata": {},
   "outputs": [
    {
     "data": {
      "application/vnd.plotly.v1+json": {
       "config": {
        "linkText": "Export to plot.ly",
        "plotlyServerURL": "https://plot.ly",
        "showLink": true
       },
       "data": [
        {
         "marker": {
          "color": "rgba(255, 153, 51, 0.6)",
          "line": {
           "color": "rgba(255, 153, 51, 1.0)",
           "width": 1
          }
         },
         "name": "None",
         "orientation": "v",
         "text": "",
         "type": "bar",
         "x": [
          "A",
          "B",
          "C",
          "D"
         ],
         "y": [
          100,
          100,
          100,
          100
         ]
        }
       ],
       "layout": {
        "legend": {
         "bgcolor": "#F5F6F9",
         "font": {
          "color": "#4D5663"
         }
        },
        "paper_bgcolor": "#F5F6F9",
        "plot_bgcolor": "#F5F6F9",
        "template": {
         "data": {
          "bar": [
           {
            "error_x": {
             "color": "#2a3f5f"
            },
            "error_y": {
             "color": "#2a3f5f"
            },
            "marker": {
             "line": {
              "color": "#E5ECF6",
              "width": 0.5
             }
            },
            "type": "bar"
           }
          ],
          "barpolar": [
           {
            "marker": {
             "line": {
              "color": "#E5ECF6",
              "width": 0.5
             }
            },
            "type": "barpolar"
           }
          ],
          "carpet": [
           {
            "aaxis": {
             "endlinecolor": "#2a3f5f",
             "gridcolor": "white",
             "linecolor": "white",
             "minorgridcolor": "white",
             "startlinecolor": "#2a3f5f"
            },
            "baxis": {
             "endlinecolor": "#2a3f5f",
             "gridcolor": "white",
             "linecolor": "white",
             "minorgridcolor": "white",
             "startlinecolor": "#2a3f5f"
            },
            "type": "carpet"
           }
          ],
          "choropleth": [
           {
            "colorbar": {
             "outlinewidth": 0,
             "ticks": ""
            },
            "type": "choropleth"
           }
          ],
          "contour": [
           {
            "colorbar": {
             "outlinewidth": 0,
             "ticks": ""
            },
            "colorscale": [
             [
              0,
              "#0d0887"
             ],
             [
              0.1111111111111111,
              "#46039f"
             ],
             [
              0.2222222222222222,
              "#7201a8"
             ],
             [
              0.3333333333333333,
              "#9c179e"
             ],
             [
              0.4444444444444444,
              "#bd3786"
             ],
             [
              0.5555555555555556,
              "#d8576b"
             ],
             [
              0.6666666666666666,
              "#ed7953"
             ],
             [
              0.7777777777777778,
              "#fb9f3a"
             ],
             [
              0.8888888888888888,
              "#fdca26"
             ],
             [
              1,
              "#f0f921"
             ]
            ],
            "type": "contour"
           }
          ],
          "contourcarpet": [
           {
            "colorbar": {
             "outlinewidth": 0,
             "ticks": ""
            },
            "type": "contourcarpet"
           }
          ],
          "heatmap": [
           {
            "colorbar": {
             "outlinewidth": 0,
             "ticks": ""
            },
            "colorscale": [
             [
              0,
              "#0d0887"
             ],
             [
              0.1111111111111111,
              "#46039f"
             ],
             [
              0.2222222222222222,
              "#7201a8"
             ],
             [
              0.3333333333333333,
              "#9c179e"
             ],
             [
              0.4444444444444444,
              "#bd3786"
             ],
             [
              0.5555555555555556,
              "#d8576b"
             ],
             [
              0.6666666666666666,
              "#ed7953"
             ],
             [
              0.7777777777777778,
              "#fb9f3a"
             ],
             [
              0.8888888888888888,
              "#fdca26"
             ],
             [
              1,
              "#f0f921"
             ]
            ],
            "type": "heatmap"
           }
          ],
          "heatmapgl": [
           {
            "colorbar": {
             "outlinewidth": 0,
             "ticks": ""
            },
            "colorscale": [
             [
              0,
              "#0d0887"
             ],
             [
              0.1111111111111111,
              "#46039f"
             ],
             [
              0.2222222222222222,
              "#7201a8"
             ],
             [
              0.3333333333333333,
              "#9c179e"
             ],
             [
              0.4444444444444444,
              "#bd3786"
             ],
             [
              0.5555555555555556,
              "#d8576b"
             ],
             [
              0.6666666666666666,
              "#ed7953"
             ],
             [
              0.7777777777777778,
              "#fb9f3a"
             ],
             [
              0.8888888888888888,
              "#fdca26"
             ],
             [
              1,
              "#f0f921"
             ]
            ],
            "type": "heatmapgl"
           }
          ],
          "histogram": [
           {
            "marker": {
             "colorbar": {
              "outlinewidth": 0,
              "ticks": ""
             }
            },
            "type": "histogram"
           }
          ],
          "histogram2d": [
           {
            "colorbar": {
             "outlinewidth": 0,
             "ticks": ""
            },
            "colorscale": [
             [
              0,
              "#0d0887"
             ],
             [
              0.1111111111111111,
              "#46039f"
             ],
             [
              0.2222222222222222,
              "#7201a8"
             ],
             [
              0.3333333333333333,
              "#9c179e"
             ],
             [
              0.4444444444444444,
              "#bd3786"
             ],
             [
              0.5555555555555556,
              "#d8576b"
             ],
             [
              0.6666666666666666,
              "#ed7953"
             ],
             [
              0.7777777777777778,
              "#fb9f3a"
             ],
             [
              0.8888888888888888,
              "#fdca26"
             ],
             [
              1,
              "#f0f921"
             ]
            ],
            "type": "histogram2d"
           }
          ],
          "histogram2dcontour": [
           {
            "colorbar": {
             "outlinewidth": 0,
             "ticks": ""
            },
            "colorscale": [
             [
              0,
              "#0d0887"
             ],
             [
              0.1111111111111111,
              "#46039f"
             ],
             [
              0.2222222222222222,
              "#7201a8"
             ],
             [
              0.3333333333333333,
              "#9c179e"
             ],
             [
              0.4444444444444444,
              "#bd3786"
             ],
             [
              0.5555555555555556,
              "#d8576b"
             ],
             [
              0.6666666666666666,
              "#ed7953"
             ],
             [
              0.7777777777777778,
              "#fb9f3a"
             ],
             [
              0.8888888888888888,
              "#fdca26"
             ],
             [
              1,
              "#f0f921"
             ]
            ],
            "type": "histogram2dcontour"
           }
          ],
          "mesh3d": [
           {
            "colorbar": {
             "outlinewidth": 0,
             "ticks": ""
            },
            "type": "mesh3d"
           }
          ],
          "parcoords": [
           {
            "line": {
             "colorbar": {
              "outlinewidth": 0,
              "ticks": ""
             }
            },
            "type": "parcoords"
           }
          ],
          "pie": [
           {
            "automargin": true,
            "type": "pie"
           }
          ],
          "scatter": [
           {
            "marker": {
             "colorbar": {
              "outlinewidth": 0,
              "ticks": ""
             }
            },
            "type": "scatter"
           }
          ],
          "scatter3d": [
           {
            "line": {
             "colorbar": {
              "outlinewidth": 0,
              "ticks": ""
             }
            },
            "marker": {
             "colorbar": {
              "outlinewidth": 0,
              "ticks": ""
             }
            },
            "type": "scatter3d"
           }
          ],
          "scattercarpet": [
           {
            "marker": {
             "colorbar": {
              "outlinewidth": 0,
              "ticks": ""
             }
            },
            "type": "scattercarpet"
           }
          ],
          "scattergeo": [
           {
            "marker": {
             "colorbar": {
              "outlinewidth": 0,
              "ticks": ""
             }
            },
            "type": "scattergeo"
           }
          ],
          "scattergl": [
           {
            "marker": {
             "colorbar": {
              "outlinewidth": 0,
              "ticks": ""
             }
            },
            "type": "scattergl"
           }
          ],
          "scattermapbox": [
           {
            "marker": {
             "colorbar": {
              "outlinewidth": 0,
              "ticks": ""
             }
            },
            "type": "scattermapbox"
           }
          ],
          "scatterpolar": [
           {
            "marker": {
             "colorbar": {
              "outlinewidth": 0,
              "ticks": ""
             }
            },
            "type": "scatterpolar"
           }
          ],
          "scatterpolargl": [
           {
            "marker": {
             "colorbar": {
              "outlinewidth": 0,
              "ticks": ""
             }
            },
            "type": "scatterpolargl"
           }
          ],
          "scatterternary": [
           {
            "marker": {
             "colorbar": {
              "outlinewidth": 0,
              "ticks": ""
             }
            },
            "type": "scatterternary"
           }
          ],
          "surface": [
           {
            "colorbar": {
             "outlinewidth": 0,
             "ticks": ""
            },
            "colorscale": [
             [
              0,
              "#0d0887"
             ],
             [
              0.1111111111111111,
              "#46039f"
             ],
             [
              0.2222222222222222,
              "#7201a8"
             ],
             [
              0.3333333333333333,
              "#9c179e"
             ],
             [
              0.4444444444444444,
              "#bd3786"
             ],
             [
              0.5555555555555556,
              "#d8576b"
             ],
             [
              0.6666666666666666,
              "#ed7953"
             ],
             [
              0.7777777777777778,
              "#fb9f3a"
             ],
             [
              0.8888888888888888,
              "#fdca26"
             ],
             [
              1,
              "#f0f921"
             ]
            ],
            "type": "surface"
           }
          ],
          "table": [
           {
            "cells": {
             "fill": {
              "color": "#EBF0F8"
             },
             "line": {
              "color": "white"
             }
            },
            "header": {
             "fill": {
              "color": "#C8D4E3"
             },
             "line": {
              "color": "white"
             }
            },
            "type": "table"
           }
          ]
         },
         "layout": {
          "annotationdefaults": {
           "arrowcolor": "#2a3f5f",
           "arrowhead": 0,
           "arrowwidth": 1
          },
          "autotypenumbers": "strict",
          "coloraxis": {
           "colorbar": {
            "outlinewidth": 0,
            "ticks": ""
           }
          },
          "colorscale": {
           "diverging": [
            [
             0,
             "#8e0152"
            ],
            [
             0.1,
             "#c51b7d"
            ],
            [
             0.2,
             "#de77ae"
            ],
            [
             0.3,
             "#f1b6da"
            ],
            [
             0.4,
             "#fde0ef"
            ],
            [
             0.5,
             "#f7f7f7"
            ],
            [
             0.6,
             "#e6f5d0"
            ],
            [
             0.7,
             "#b8e186"
            ],
            [
             0.8,
             "#7fbc41"
            ],
            [
             0.9,
             "#4d9221"
            ],
            [
             1,
             "#276419"
            ]
           ],
           "sequential": [
            [
             0,
             "#0d0887"
            ],
            [
             0.1111111111111111,
             "#46039f"
            ],
            [
             0.2222222222222222,
             "#7201a8"
            ],
            [
             0.3333333333333333,
             "#9c179e"
            ],
            [
             0.4444444444444444,
             "#bd3786"
            ],
            [
             0.5555555555555556,
             "#d8576b"
            ],
            [
             0.6666666666666666,
             "#ed7953"
            ],
            [
             0.7777777777777778,
             "#fb9f3a"
            ],
            [
             0.8888888888888888,
             "#fdca26"
            ],
            [
             1,
             "#f0f921"
            ]
           ],
           "sequentialminus": [
            [
             0,
             "#0d0887"
            ],
            [
             0.1111111111111111,
             "#46039f"
            ],
            [
             0.2222222222222222,
             "#7201a8"
            ],
            [
             0.3333333333333333,
             "#9c179e"
            ],
            [
             0.4444444444444444,
             "#bd3786"
            ],
            [
             0.5555555555555556,
             "#d8576b"
            ],
            [
             0.6666666666666666,
             "#ed7953"
            ],
            [
             0.7777777777777778,
             "#fb9f3a"
            ],
            [
             0.8888888888888888,
             "#fdca26"
            ],
            [
             1,
             "#f0f921"
            ]
           ]
          },
          "colorway": [
           "#636efa",
           "#EF553B",
           "#00cc96",
           "#ab63fa",
           "#FFA15A",
           "#19d3f3",
           "#FF6692",
           "#B6E880",
           "#FF97FF",
           "#FECB52"
          ],
          "font": {
           "color": "#2a3f5f"
          },
          "geo": {
           "bgcolor": "white",
           "lakecolor": "white",
           "landcolor": "#E5ECF6",
           "showlakes": true,
           "showland": true,
           "subunitcolor": "white"
          },
          "hoverlabel": {
           "align": "left"
          },
          "hovermode": "closest",
          "mapbox": {
           "style": "light"
          },
          "paper_bgcolor": "white",
          "plot_bgcolor": "#E5ECF6",
          "polar": {
           "angularaxis": {
            "gridcolor": "white",
            "linecolor": "white",
            "ticks": ""
           },
           "bgcolor": "#E5ECF6",
           "radialaxis": {
            "gridcolor": "white",
            "linecolor": "white",
            "ticks": ""
           }
          },
          "scene": {
           "xaxis": {
            "backgroundcolor": "#E5ECF6",
            "gridcolor": "white",
            "gridwidth": 2,
            "linecolor": "white",
            "showbackground": true,
            "ticks": "",
            "zerolinecolor": "white"
           },
           "yaxis": {
            "backgroundcolor": "#E5ECF6",
            "gridcolor": "white",
            "gridwidth": 2,
            "linecolor": "white",
            "showbackground": true,
            "ticks": "",
            "zerolinecolor": "white"
           },
           "zaxis": {
            "backgroundcolor": "#E5ECF6",
            "gridcolor": "white",
            "gridwidth": 2,
            "linecolor": "white",
            "showbackground": true,
            "ticks": "",
            "zerolinecolor": "white"
           }
          },
          "shapedefaults": {
           "line": {
            "color": "#2a3f5f"
           }
          },
          "ternary": {
           "aaxis": {
            "gridcolor": "white",
            "linecolor": "white",
            "ticks": ""
           },
           "baxis": {
            "gridcolor": "white",
            "linecolor": "white",
            "ticks": ""
           },
           "bgcolor": "#E5ECF6",
           "caxis": {
            "gridcolor": "white",
            "linecolor": "white",
            "ticks": ""
           }
          },
          "title": {
           "x": 0.05
          },
          "xaxis": {
           "automargin": true,
           "gridcolor": "white",
           "linecolor": "white",
           "ticks": "",
           "title": {
            "standoff": 15
           },
           "zerolinecolor": "white",
           "zerolinewidth": 2
          },
          "yaxis": {
           "automargin": true,
           "gridcolor": "white",
           "linecolor": "white",
           "ticks": "",
           "title": {
            "standoff": 15
           },
           "zerolinecolor": "white",
           "zerolinewidth": 2
          }
         }
        },
        "title": {
         "font": {
          "color": "#4D5663"
         }
        },
        "xaxis": {
         "gridcolor": "#E1E5ED",
         "showgrid": true,
         "tickfont": {
          "color": "#4D5663"
         },
         "title": {
          "font": {
           "color": "#4D5663"
          },
          "text": ""
         },
         "zerolinecolor": "#E1E5ED"
        },
        "yaxis": {
         "gridcolor": "#E1E5ED",
         "showgrid": true,
         "tickfont": {
          "color": "#4D5663"
         },
         "title": {
          "font": {
           "color": "#4D5663"
          },
          "text": ""
         },
         "zerolinecolor": "#E1E5ED"
        }
       }
      },
      "text/html": [
       "<div>                            <div id=\"38c9d1cc-fbef-49c3-96cb-a9ddf3f022cd\" class=\"plotly-graph-div\" style=\"height:525px; width:100%;\"></div>            <script type=\"text/javascript\">                require([\"plotly\"], function(Plotly) {                    window.PLOTLYENV=window.PLOTLYENV || {};\n",
       "                    window.PLOTLYENV.BASE_URL='https://plot.ly';                                    if (document.getElementById(\"38c9d1cc-fbef-49c3-96cb-a9ddf3f022cd\")) {                    Plotly.newPlot(                        \"38c9d1cc-fbef-49c3-96cb-a9ddf3f022cd\",                        [{\"marker\": {\"color\": \"rgba(255, 153, 51, 0.6)\", \"line\": {\"color\": \"rgba(255, 153, 51, 1.0)\", \"width\": 1}}, \"name\": \"None\", \"orientation\": \"v\", \"text\": \"\", \"type\": \"bar\", \"x\": [\"A\", \"B\", \"C\", \"D\"], \"y\": [100, 100, 100, 100]}],                        {\"legend\": {\"bgcolor\": \"#F5F6F9\", \"font\": {\"color\": \"#4D5663\"}}, \"paper_bgcolor\": \"#F5F6F9\", \"plot_bgcolor\": \"#F5F6F9\", \"template\": {\"data\": {\"bar\": [{\"error_x\": {\"color\": \"#2a3f5f\"}, \"error_y\": {\"color\": \"#2a3f5f\"}, \"marker\": {\"line\": {\"color\": \"#E5ECF6\", \"width\": 0.5}}, \"type\": \"bar\"}], \"barpolar\": [{\"marker\": {\"line\": {\"color\": \"#E5ECF6\", \"width\": 0.5}}, \"type\": \"barpolar\"}], \"carpet\": [{\"aaxis\": {\"endlinecolor\": \"#2a3f5f\", \"gridcolor\": \"white\", \"linecolor\": \"white\", \"minorgridcolor\": \"white\", \"startlinecolor\": \"#2a3f5f\"}, \"baxis\": {\"endlinecolor\": \"#2a3f5f\", \"gridcolor\": \"white\", \"linecolor\": \"white\", \"minorgridcolor\": \"white\", \"startlinecolor\": \"#2a3f5f\"}, \"type\": \"carpet\"}], \"choropleth\": [{\"colorbar\": {\"outlinewidth\": 0, \"ticks\": \"\"}, \"type\": \"choropleth\"}], \"contour\": [{\"colorbar\": {\"outlinewidth\": 0, \"ticks\": \"\"}, \"colorscale\": [[0.0, \"#0d0887\"], [0.1111111111111111, \"#46039f\"], [0.2222222222222222, \"#7201a8\"], [0.3333333333333333, \"#9c179e\"], [0.4444444444444444, \"#bd3786\"], [0.5555555555555556, \"#d8576b\"], [0.6666666666666666, \"#ed7953\"], [0.7777777777777778, \"#fb9f3a\"], [0.8888888888888888, \"#fdca26\"], [1.0, \"#f0f921\"]], \"type\": \"contour\"}], \"contourcarpet\": [{\"colorbar\": {\"outlinewidth\": 0, \"ticks\": \"\"}, \"type\": \"contourcarpet\"}], \"heatmap\": [{\"colorbar\": {\"outlinewidth\": 0, \"ticks\": \"\"}, \"colorscale\": [[0.0, \"#0d0887\"], [0.1111111111111111, \"#46039f\"], [0.2222222222222222, \"#7201a8\"], [0.3333333333333333, \"#9c179e\"], [0.4444444444444444, \"#bd3786\"], [0.5555555555555556, \"#d8576b\"], [0.6666666666666666, \"#ed7953\"], [0.7777777777777778, \"#fb9f3a\"], [0.8888888888888888, \"#fdca26\"], [1.0, \"#f0f921\"]], \"type\": \"heatmap\"}], \"heatmapgl\": [{\"colorbar\": {\"outlinewidth\": 0, \"ticks\": \"\"}, \"colorscale\": [[0.0, \"#0d0887\"], [0.1111111111111111, \"#46039f\"], [0.2222222222222222, \"#7201a8\"], [0.3333333333333333, \"#9c179e\"], [0.4444444444444444, \"#bd3786\"], [0.5555555555555556, \"#d8576b\"], [0.6666666666666666, \"#ed7953\"], [0.7777777777777778, \"#fb9f3a\"], [0.8888888888888888, \"#fdca26\"], [1.0, \"#f0f921\"]], \"type\": \"heatmapgl\"}], \"histogram\": [{\"marker\": {\"colorbar\": {\"outlinewidth\": 0, \"ticks\": \"\"}}, \"type\": \"histogram\"}], \"histogram2d\": [{\"colorbar\": {\"outlinewidth\": 0, \"ticks\": \"\"}, \"colorscale\": [[0.0, \"#0d0887\"], [0.1111111111111111, \"#46039f\"], [0.2222222222222222, \"#7201a8\"], [0.3333333333333333, \"#9c179e\"], [0.4444444444444444, \"#bd3786\"], [0.5555555555555556, \"#d8576b\"], [0.6666666666666666, \"#ed7953\"], [0.7777777777777778, \"#fb9f3a\"], [0.8888888888888888, \"#fdca26\"], [1.0, \"#f0f921\"]], \"type\": \"histogram2d\"}], \"histogram2dcontour\": [{\"colorbar\": {\"outlinewidth\": 0, \"ticks\": \"\"}, \"colorscale\": [[0.0, \"#0d0887\"], [0.1111111111111111, \"#46039f\"], [0.2222222222222222, \"#7201a8\"], [0.3333333333333333, \"#9c179e\"], [0.4444444444444444, \"#bd3786\"], [0.5555555555555556, \"#d8576b\"], [0.6666666666666666, \"#ed7953\"], [0.7777777777777778, \"#fb9f3a\"], [0.8888888888888888, \"#fdca26\"], [1.0, \"#f0f921\"]], \"type\": \"histogram2dcontour\"}], \"mesh3d\": [{\"colorbar\": {\"outlinewidth\": 0, \"ticks\": \"\"}, \"type\": \"mesh3d\"}], \"parcoords\": [{\"line\": {\"colorbar\": {\"outlinewidth\": 0, \"ticks\": \"\"}}, \"type\": \"parcoords\"}], \"pie\": [{\"automargin\": true, \"type\": \"pie\"}], \"scatter\": [{\"marker\": {\"colorbar\": {\"outlinewidth\": 0, \"ticks\": \"\"}}, \"type\": \"scatter\"}], \"scatter3d\": [{\"line\": {\"colorbar\": {\"outlinewidth\": 0, \"ticks\": \"\"}}, \"marker\": {\"colorbar\": {\"outlinewidth\": 0, \"ticks\": \"\"}}, \"type\": \"scatter3d\"}], \"scattercarpet\": [{\"marker\": {\"colorbar\": {\"outlinewidth\": 0, \"ticks\": \"\"}}, \"type\": \"scattercarpet\"}], \"scattergeo\": [{\"marker\": {\"colorbar\": {\"outlinewidth\": 0, \"ticks\": \"\"}}, \"type\": \"scattergeo\"}], \"scattergl\": [{\"marker\": {\"colorbar\": {\"outlinewidth\": 0, \"ticks\": \"\"}}, \"type\": \"scattergl\"}], \"scattermapbox\": [{\"marker\": {\"colorbar\": {\"outlinewidth\": 0, \"ticks\": \"\"}}, \"type\": \"scattermapbox\"}], \"scatterpolar\": [{\"marker\": {\"colorbar\": {\"outlinewidth\": 0, \"ticks\": \"\"}}, \"type\": \"scatterpolar\"}], \"scatterpolargl\": [{\"marker\": {\"colorbar\": {\"outlinewidth\": 0, \"ticks\": \"\"}}, \"type\": \"scatterpolargl\"}], \"scatterternary\": [{\"marker\": {\"colorbar\": {\"outlinewidth\": 0, \"ticks\": \"\"}}, \"type\": \"scatterternary\"}], \"surface\": [{\"colorbar\": {\"outlinewidth\": 0, \"ticks\": \"\"}, \"colorscale\": [[0.0, \"#0d0887\"], [0.1111111111111111, \"#46039f\"], [0.2222222222222222, \"#7201a8\"], [0.3333333333333333, \"#9c179e\"], [0.4444444444444444, \"#bd3786\"], [0.5555555555555556, \"#d8576b\"], [0.6666666666666666, \"#ed7953\"], [0.7777777777777778, \"#fb9f3a\"], [0.8888888888888888, \"#fdca26\"], [1.0, \"#f0f921\"]], \"type\": \"surface\"}], \"table\": [{\"cells\": {\"fill\": {\"color\": \"#EBF0F8\"}, \"line\": {\"color\": \"white\"}}, \"header\": {\"fill\": {\"color\": \"#C8D4E3\"}, \"line\": {\"color\": \"white\"}}, \"type\": \"table\"}]}, \"layout\": {\"annotationdefaults\": {\"arrowcolor\": \"#2a3f5f\", \"arrowhead\": 0, \"arrowwidth\": 1}, \"autotypenumbers\": \"strict\", \"coloraxis\": {\"colorbar\": {\"outlinewidth\": 0, \"ticks\": \"\"}}, \"colorscale\": {\"diverging\": [[0, \"#8e0152\"], [0.1, \"#c51b7d\"], [0.2, \"#de77ae\"], [0.3, \"#f1b6da\"], [0.4, \"#fde0ef\"], [0.5, \"#f7f7f7\"], [0.6, \"#e6f5d0\"], [0.7, \"#b8e186\"], [0.8, \"#7fbc41\"], [0.9, \"#4d9221\"], [1, \"#276419\"]], \"sequential\": [[0.0, \"#0d0887\"], [0.1111111111111111, \"#46039f\"], [0.2222222222222222, \"#7201a8\"], [0.3333333333333333, \"#9c179e\"], [0.4444444444444444, \"#bd3786\"], [0.5555555555555556, \"#d8576b\"], [0.6666666666666666, \"#ed7953\"], [0.7777777777777778, \"#fb9f3a\"], [0.8888888888888888, \"#fdca26\"], [1.0, \"#f0f921\"]], \"sequentialminus\": [[0.0, \"#0d0887\"], [0.1111111111111111, \"#46039f\"], [0.2222222222222222, \"#7201a8\"], [0.3333333333333333, \"#9c179e\"], [0.4444444444444444, \"#bd3786\"], [0.5555555555555556, \"#d8576b\"], [0.6666666666666666, \"#ed7953\"], [0.7777777777777778, \"#fb9f3a\"], [0.8888888888888888, \"#fdca26\"], [1.0, \"#f0f921\"]]}, \"colorway\": [\"#636efa\", \"#EF553B\", \"#00cc96\", \"#ab63fa\", \"#FFA15A\", \"#19d3f3\", \"#FF6692\", \"#B6E880\", \"#FF97FF\", \"#FECB52\"], \"font\": {\"color\": \"#2a3f5f\"}, \"geo\": {\"bgcolor\": \"white\", \"lakecolor\": \"white\", \"landcolor\": \"#E5ECF6\", \"showlakes\": true, \"showland\": true, \"subunitcolor\": \"white\"}, \"hoverlabel\": {\"align\": \"left\"}, \"hovermode\": \"closest\", \"mapbox\": {\"style\": \"light\"}, \"paper_bgcolor\": \"white\", \"plot_bgcolor\": \"#E5ECF6\", \"polar\": {\"angularaxis\": {\"gridcolor\": \"white\", \"linecolor\": \"white\", \"ticks\": \"\"}, \"bgcolor\": \"#E5ECF6\", \"radialaxis\": {\"gridcolor\": \"white\", \"linecolor\": \"white\", \"ticks\": \"\"}}, \"scene\": {\"xaxis\": {\"backgroundcolor\": \"#E5ECF6\", \"gridcolor\": \"white\", \"gridwidth\": 2, \"linecolor\": \"white\", \"showbackground\": true, \"ticks\": \"\", \"zerolinecolor\": \"white\"}, \"yaxis\": {\"backgroundcolor\": \"#E5ECF6\", \"gridcolor\": \"white\", \"gridwidth\": 2, \"linecolor\": \"white\", \"showbackground\": true, \"ticks\": \"\", \"zerolinecolor\": \"white\"}, \"zaxis\": {\"backgroundcolor\": \"#E5ECF6\", \"gridcolor\": \"white\", \"gridwidth\": 2, \"linecolor\": \"white\", \"showbackground\": true, \"ticks\": \"\", \"zerolinecolor\": \"white\"}}, \"shapedefaults\": {\"line\": {\"color\": \"#2a3f5f\"}}, \"ternary\": {\"aaxis\": {\"gridcolor\": \"white\", \"linecolor\": \"white\", \"ticks\": \"\"}, \"baxis\": {\"gridcolor\": \"white\", \"linecolor\": \"white\", \"ticks\": \"\"}, \"bgcolor\": \"#E5ECF6\", \"caxis\": {\"gridcolor\": \"white\", \"linecolor\": \"white\", \"ticks\": \"\"}}, \"title\": {\"x\": 0.05}, \"xaxis\": {\"automargin\": true, \"gridcolor\": \"white\", \"linecolor\": \"white\", \"ticks\": \"\", \"title\": {\"standoff\": 15}, \"zerolinecolor\": \"white\", \"zerolinewidth\": 2}, \"yaxis\": {\"automargin\": true, \"gridcolor\": \"white\", \"linecolor\": \"white\", \"ticks\": \"\", \"title\": {\"standoff\": 15}, \"zerolinecolor\": \"white\", \"zerolinewidth\": 2}}}, \"title\": {\"font\": {\"color\": \"#4D5663\"}}, \"xaxis\": {\"gridcolor\": \"#E1E5ED\", \"showgrid\": true, \"tickfont\": {\"color\": \"#4D5663\"}, \"title\": {\"font\": {\"color\": \"#4D5663\"}, \"text\": \"\"}, \"zerolinecolor\": \"#E1E5ED\"}, \"yaxis\": {\"gridcolor\": \"#E1E5ED\", \"showgrid\": true, \"tickfont\": {\"color\": \"#4D5663\"}, \"title\": {\"font\": {\"color\": \"#4D5663\"}, \"text\": \"\"}, \"zerolinecolor\": \"#E1E5ED\"}},                        {\"showLink\": true, \"linkText\": \"Export to plot.ly\", \"plotlyServerURL\": \"https://plot.ly\", \"responsive\": true}                    ).then(function(){\n",
       "                            \n",
       "var gd = document.getElementById('38c9d1cc-fbef-49c3-96cb-a9ddf3f022cd');\n",
       "var x = new MutationObserver(function (mutations, observer) {{\n",
       "        var display = window.getComputedStyle(gd).display;\n",
       "        if (!display || display === 'none') {{\n",
       "            console.log([gd, 'removed!']);\n",
       "            Plotly.purge(gd);\n",
       "            observer.disconnect();\n",
       "        }}\n",
       "}});\n",
       "\n",
       "// Listen for the removal of the full notebook cells\n",
       "var notebookContainer = gd.closest('#notebook-container');\n",
       "if (notebookContainer) {{\n",
       "    x.observe(notebookContainer, {childList: true});\n",
       "}}\n",
       "\n",
       "// Listen for the clearing of the current output cell\n",
       "var outputEl = gd.closest('.output');\n",
       "if (outputEl) {{\n",
       "    x.observe(outputEl, {childList: true});\n",
       "}}\n",
       "\n",
       "                        })                };                });            </script>        </div>"
      ]
     },
     "metadata": {},
     "output_type": "display_data"
    }
   ],
   "source": [
    "df.count().iplot(kind='bar')"
   ]
  },
  {
   "cell_type": "markdown",
   "metadata": {},
   "source": [
    "## Boxplots"
   ]
  },
  {
   "cell_type": "code",
   "execution_count": 14,
   "metadata": {},
   "outputs": [
    {
     "data": {
      "application/vnd.plotly.v1+json": {
       "config": {
        "linkText": "Export to plot.ly",
        "plotlyServerURL": "https://plot.ly",
        "showLink": true
       },
       "data": [
        {
         "boxpoints": false,
         "line": {
          "width": 1.3
         },
         "marker": {
          "color": "rgba(255, 153, 51, 1.0)"
         },
         "name": "A",
         "orientation": "v",
         "type": "box",
         "y": [
          0.42135637469066833,
          0.051787610039485656,
          -0.8859201272757309,
          1.127155918130127,
          0.05110503169809027,
          -1.3625779998716074,
          1.413463839091547,
          -1.0518298420858014,
          -1.4273371067642697,
          0.2167236110214108,
          0.1543785204974001,
          1.0307652297071481,
          -1.556770626777491,
          -0.846285335148641,
          -1.4475567856473346,
          0.28136297298603,
          0.16206068112953487,
          0.3415324132284915,
          -1.1033635133636706,
          0.8894648772645205,
          -1.8017630378505909,
          -0.14245031927646856,
          -0.8266858154440575,
          -0.7530689966357229,
          -2.0574608097003035,
          -1.8778506514905104,
          -0.08148361870194606,
          -0.9357959490775972,
          -0.6760913977083556,
          -1.1041299976906465,
          0.22052054948520405,
          -0.6208213787655636,
          -0.9832356528265209,
          0.3121875795693881,
          -0.044428851806542095,
          -0.6160413621576425,
          0.8338980770256911,
          -0.4078014558131567,
          1.1326628751514818,
          1.381820447729485,
          0.5870663051810776,
          -0.7226234218334454,
          0.637116486862654,
          0.810474475909267,
          2.70372528025538,
          0.6462466649527927,
          0.3743500129845283,
          0.17484316236836292,
          1.4641354227184749,
          -0.00834110773828608,
          1.0168581856522507,
          -0.46088217782489604,
          -1.5221428181584185,
          1.1085033065208867,
          -0.03359453206244407,
          0.13024239174967583,
          -1.1376425645386274,
          1.1102484582897623,
          0.12115485743688534,
          1.2269014026945384,
          -1.2118887477098856,
          -0.07302583552604484,
          -0.7657437595439366,
          0.014733537309346229,
          -1.7912003541024881,
          1.7244980639349405,
          -1.209570556075875,
          -1.1811987834399718,
          -1.3383168952142377,
          -0.23545845455329553,
          0.5455075698862204,
          0.5143435707195769,
          0.49970410382795577,
          -1.0087869177358482,
          1.5295395940774288,
          0.19968872339286142,
          0.2853967438038379,
          0.6267199329816086,
          0.7594740494277189,
          -2.2107520896395836,
          0.04207387549136959,
          -0.1009791017301549,
          -1.363303282286697,
          -2.1269648825992946,
          -0.9969616855723071,
          -0.16447434850235484,
          0.4579274109261358,
          -0.0501398598101201,
          0.9794488277108203,
          -0.6698307222391381,
          1.3153732821001494,
          0.05781171695218909,
          -0.7880077693551906,
          1.513297183883774,
          -1.2630353942419186,
          -0.8474541119052957,
          1.8675720657212853,
          0.8259412981691324,
          0.23634614857664427,
          -1.5622218215155599
         ]
        },
        {
         "boxpoints": false,
         "line": {
          "width": 1.3
         },
         "marker": {
          "color": "rgba(55, 128, 191, 1.0)"
         },
         "name": "B",
         "orientation": "v",
         "type": "box",
         "y": [
          -0.6501201079452595,
          -0.6396703664807071,
          -0.14910624389792665,
          0.9191471993045957,
          -0.20408638918650238,
          -1.8339833921820385,
          -0.5336687782287028,
          1.1159759429939438,
          0.9687317127445674,
          -1.7400136162569626,
          0.21071196310648294,
          -0.6652480269305107,
          -0.5355523925508483,
          -0.5131492863893872,
          0.6857146627816957,
          1.098945987906431,
          -0.9348369343583188,
          -0.7325354095966315,
          0.021514349515909068,
          -1.0346009878659206,
          -0.17501231162040945,
          0.7367345313547262,
          -1.0897665770658538,
          -0.33938896768116844,
          2.0121374329786192,
          -0.6393950234441513,
          0.03647086107054639,
          -0.5948946033349691,
          1.4104386684965855,
          0.24031607468836597,
          0.013035966419714847,
          -0.20069232286431354,
          2.631987135365754,
          1.1402967549197727,
          -1.3480836252528436,
          -0.5419029514580261,
          0.35165958782611867,
          0.5574337761914983,
          0.5053362646599682,
          0.06694474269967485,
          -0.6160293085973875,
          -1.8467820531221697,
          0.23180264269673023,
          1.5710530598742847,
          0.16850544639523987,
          -0.5448421894097137,
          0.800392407126888,
          -0.3205623468664349,
          1.080515029284678,
          -1.7371274865461397,
          -1.89016032000533,
          0.6587944707237163,
          1.3712428758799025,
          -0.22839481245865867,
          -0.11743381153175035,
          0.08875123869894627,
          1.2534991446004125,
          -1.0050131736037835,
          -1.4849688355120898,
          0.6705897386978111,
          1.5984677392051143,
          -1.2645470074698082,
          0.7264911234789589,
          -2.3717085033683727,
          -1.4436789972254331,
          -0.40695984992958373,
          -0.4220425299401283,
          -1.4988249695855351,
          -1.1392043419422493,
          -0.25228704335304114,
          1.1690146052494421,
          -1.059060163146755,
          -0.6643372846194279,
          -1.8106561856144445,
          0.23156168713817965,
          0.4832174484382462,
          1.5349359636281692,
          0.7813633744015297,
          -0.14476594977734775,
          -1.191781902475107,
          1.1339137809138238,
          0.4633338142600121,
          1.6834801300382207,
          -0.04735403216966803,
          2.303170234529257,
          -1.588979977909511,
          0.15271731738318492,
          -0.7055727659267433,
          0.06895653776059535,
          0.4744135459499637,
          -1.7719303079565776,
          -0.3132926379621396,
          0.475239615161257,
          0.3984714410737094,
          -0.37273617218314103,
          -1.5892452468814993,
          1.383171377203694,
          0.3208732966941905,
          -0.33731818730533253,
          0.45105978115116213
         ]
        },
        {
         "boxpoints": false,
         "line": {
          "width": 1.3
         },
         "marker": {
          "color": "rgba(50, 171, 96, 1.0)"
         },
         "name": "C",
         "orientation": "v",
         "type": "box",
         "y": [
          1.3055372336746414,
          0.7114162391522426,
          0.5319180757823271,
          -1.9123101474310888,
          0.39976536098051685,
          -0.18028859700089062,
          -0.5230524008977765,
          0.7268276275024059,
          -0.2944345287828867,
          -0.14726694281082295,
          1.7315655586248442,
          -0.5810551835695299,
          1.1368820733256777,
          -0.3215240402868722,
          2.0359069216444285,
          -0.20123013992778713,
          -0.4875713899458238,
          -1.151241975461552,
          -0.30277486316817714,
          -0.744220382383983,
          0.04613315459916105,
          -1.3057145064090865,
          -0.4088861945126814,
          -1.5646154963534107,
          0.3966568333743682,
          0.6316679600864687,
          0.6374757271763759,
          1.754905824180303,
          -0.640682521286157,
          1.0486061154272264,
          -0.7145667182885798,
          -0.3806877293010073,
          0.1567278401603999,
          -1.155602029567627,
          -1.297873553374794,
          0.14349699346763617,
          2.2799058299597124,
          0.18010941279247047,
          0.38356005316294317,
          0.10698467327652507,
          -0.3454448778351593,
          0.14763921225715568,
          -0.4028902079268841,
          -0.3579514673449626,
          0.3902241277617355,
          1.0646480458600145,
          -1.0403554672055213,
          1.4058607286530946,
          1.1088578975947785,
          1.8983552624544502,
          -0.629144404663461,
          -1.027197527692072,
          -0.27884089253739963,
          0.4830919556732657,
          -2.159602108194867,
          0.23154295197431854,
          -0.4101269047367675,
          -1.0397144029380463,
          0.8634663671915421,
          0.12335901710602763,
          -0.6589125054500717,
          -0.8837218309099732,
          0.5300635380526064,
          -0.5870212032242089,
          0.21604687294689323,
          -0.0431600231923067,
          0.24948270037241593,
          -0.42846826181497183,
          -0.47024444812079214,
          1.809993947170532,
          1.4155181217884234,
          -0.7683014914435955,
          0.9974571901906416,
          1.2081981866169547,
          1.3013948917973308,
          -1.0273427942609155,
          -1.62347966779969,
          -0.8168534597595072,
          0.7534440881257819,
          0.9544426339832112,
          -0.4756276159424117,
          1.9926114495734437,
          -1.3346008304863448,
          0.2519142867261577,
          -1.3917654263113124,
          0.0702088161041401,
          1.6807653325822103,
          1.6610790717144759,
          1.335548879210626,
          -0.28583985589391103,
          1.7341348469615736,
          0.7254979973728675,
          -1.3934189049663144,
          0.7145845715122107,
          1.7147939898494737,
          -0.2795741666374927,
          -0.6180242470288976,
          -0.5457928510713272,
          0.11293397023512372,
          0.5798588529977873
         ]
        },
        {
         "boxpoints": false,
         "line": {
          "width": 1.3
         },
         "marker": {
          "color": "rgba(128, 0, 128, 1.0)"
         },
         "name": "D",
         "orientation": "v",
         "type": "box",
         "y": [
          -0.003033409631288337,
          0.0786626564452496,
          -0.15823725127379146,
          -1.9897783258797754,
          -0.41469460533272623,
          1.4209020494595277,
          -0.30222592133763926,
          -0.2214303624712438,
          1.0492788369564692,
          1.2865687882164314,
          -0.4493402433359212,
          -0.8714411779303679,
          0.7425824108485773,
          -0.6427963906285001,
          -0.10072805894553197,
          -1.063010377345948,
          1.8967232364452522,
          1.5131947179202632,
          0.1421901583946138,
          0.35931468731170635,
          -1.1301308249181474,
          -0.5491444471277825,
          0.5525386710611327,
          0.6675662569851768,
          1.2676396438682156,
          -0.9228784813863433,
          -0.10282939821541764,
          -0.35084487058720015,
          -0.5625409640797048,
          0.3918012164622865,
          0.06882667451567533,
          1.3631664978395412,
          -0.07210002209831458,
          -0.35224032075625084,
          -0.5700048238525449,
          -0.37336140249850625,
          -0.20410294091782258,
          -1.2606734333733391,
          -1.5704556774214729,
          0.41333788496089735,
          1.43456879745207,
          2.3518517184715164,
          -0.27428472549608524,
          -0.6660421044452691,
          -0.797339923192551,
          0.39236278706815675,
          -0.15133720320061578,
          -0.1699134011562469,
          1.610601288481763,
          -0.1800306081143111,
          1.5892979941116103,
          -0.3857441205726969,
          0.043082707784277155,
          -1.4789768943208657,
          0.35693164902395574,
          0.9355962081748874,
          -0.358848280315065,
          1.343576697424638,
          0.7145499982587419,
          0.48335042718906546,
          0.6172007463564116,
          -1.9989361583464225,
          -1.2887866227474574,
          -1.439672249846713,
          0.8113502189659851,
          -1.5751104537746734,
          -0.48775695972951977,
          0.9489523365226368,
          -0.4310005056557186,
          -0.4257587741239332,
          -0.6635703254063151,
          0.4300317363803354,
          0.6620577766334544,
          -0.09559127950967047,
          -0.3569141009756636,
          -0.0233346034764943,
          1.3609456400638476,
          0.39830836958691485,
          -0.32917161014308327,
          -1.249598408618195,
          0.48635625903842067,
          0.6146070928884189,
          1.5013270015588285,
          0.08889598457134902,
          -1.8961362936115076,
          -0.6942743965654605,
          1.5225977203488685,
          0.18551046093397752,
          -1.6889406217713374,
          -0.7953297664720886,
          1.4261997343997797,
          0.34036161861680775,
          -0.9653392499121465,
          -0.7010390172221788,
          -0.7223460527695292,
          -2.203097985891278,
          1.1683019412809572,
          -1.1160191622760745,
          1.2534968643237283,
          -0.7367971794866054
         ]
        }
       ],
       "layout": {
        "legend": {
         "bgcolor": "#F5F6F9",
         "font": {
          "color": "#4D5663"
         }
        },
        "paper_bgcolor": "#F5F6F9",
        "plot_bgcolor": "#F5F6F9",
        "template": {
         "data": {
          "bar": [
           {
            "error_x": {
             "color": "#2a3f5f"
            },
            "error_y": {
             "color": "#2a3f5f"
            },
            "marker": {
             "line": {
              "color": "#E5ECF6",
              "width": 0.5
             }
            },
            "type": "bar"
           }
          ],
          "barpolar": [
           {
            "marker": {
             "line": {
              "color": "#E5ECF6",
              "width": 0.5
             }
            },
            "type": "barpolar"
           }
          ],
          "carpet": [
           {
            "aaxis": {
             "endlinecolor": "#2a3f5f",
             "gridcolor": "white",
             "linecolor": "white",
             "minorgridcolor": "white",
             "startlinecolor": "#2a3f5f"
            },
            "baxis": {
             "endlinecolor": "#2a3f5f",
             "gridcolor": "white",
             "linecolor": "white",
             "minorgridcolor": "white",
             "startlinecolor": "#2a3f5f"
            },
            "type": "carpet"
           }
          ],
          "choropleth": [
           {
            "colorbar": {
             "outlinewidth": 0,
             "ticks": ""
            },
            "type": "choropleth"
           }
          ],
          "contour": [
           {
            "colorbar": {
             "outlinewidth": 0,
             "ticks": ""
            },
            "colorscale": [
             [
              0,
              "#0d0887"
             ],
             [
              0.1111111111111111,
              "#46039f"
             ],
             [
              0.2222222222222222,
              "#7201a8"
             ],
             [
              0.3333333333333333,
              "#9c179e"
             ],
             [
              0.4444444444444444,
              "#bd3786"
             ],
             [
              0.5555555555555556,
              "#d8576b"
             ],
             [
              0.6666666666666666,
              "#ed7953"
             ],
             [
              0.7777777777777778,
              "#fb9f3a"
             ],
             [
              0.8888888888888888,
              "#fdca26"
             ],
             [
              1,
              "#f0f921"
             ]
            ],
            "type": "contour"
           }
          ],
          "contourcarpet": [
           {
            "colorbar": {
             "outlinewidth": 0,
             "ticks": ""
            },
            "type": "contourcarpet"
           }
          ],
          "heatmap": [
           {
            "colorbar": {
             "outlinewidth": 0,
             "ticks": ""
            },
            "colorscale": [
             [
              0,
              "#0d0887"
             ],
             [
              0.1111111111111111,
              "#46039f"
             ],
             [
              0.2222222222222222,
              "#7201a8"
             ],
             [
              0.3333333333333333,
              "#9c179e"
             ],
             [
              0.4444444444444444,
              "#bd3786"
             ],
             [
              0.5555555555555556,
              "#d8576b"
             ],
             [
              0.6666666666666666,
              "#ed7953"
             ],
             [
              0.7777777777777778,
              "#fb9f3a"
             ],
             [
              0.8888888888888888,
              "#fdca26"
             ],
             [
              1,
              "#f0f921"
             ]
            ],
            "type": "heatmap"
           }
          ],
          "heatmapgl": [
           {
            "colorbar": {
             "outlinewidth": 0,
             "ticks": ""
            },
            "colorscale": [
             [
              0,
              "#0d0887"
             ],
             [
              0.1111111111111111,
              "#46039f"
             ],
             [
              0.2222222222222222,
              "#7201a8"
             ],
             [
              0.3333333333333333,
              "#9c179e"
             ],
             [
              0.4444444444444444,
              "#bd3786"
             ],
             [
              0.5555555555555556,
              "#d8576b"
             ],
             [
              0.6666666666666666,
              "#ed7953"
             ],
             [
              0.7777777777777778,
              "#fb9f3a"
             ],
             [
              0.8888888888888888,
              "#fdca26"
             ],
             [
              1,
              "#f0f921"
             ]
            ],
            "type": "heatmapgl"
           }
          ],
          "histogram": [
           {
            "marker": {
             "colorbar": {
              "outlinewidth": 0,
              "ticks": ""
             }
            },
            "type": "histogram"
           }
          ],
          "histogram2d": [
           {
            "colorbar": {
             "outlinewidth": 0,
             "ticks": ""
            },
            "colorscale": [
             [
              0,
              "#0d0887"
             ],
             [
              0.1111111111111111,
              "#46039f"
             ],
             [
              0.2222222222222222,
              "#7201a8"
             ],
             [
              0.3333333333333333,
              "#9c179e"
             ],
             [
              0.4444444444444444,
              "#bd3786"
             ],
             [
              0.5555555555555556,
              "#d8576b"
             ],
             [
              0.6666666666666666,
              "#ed7953"
             ],
             [
              0.7777777777777778,
              "#fb9f3a"
             ],
             [
              0.8888888888888888,
              "#fdca26"
             ],
             [
              1,
              "#f0f921"
             ]
            ],
            "type": "histogram2d"
           }
          ],
          "histogram2dcontour": [
           {
            "colorbar": {
             "outlinewidth": 0,
             "ticks": ""
            },
            "colorscale": [
             [
              0,
              "#0d0887"
             ],
             [
              0.1111111111111111,
              "#46039f"
             ],
             [
              0.2222222222222222,
              "#7201a8"
             ],
             [
              0.3333333333333333,
              "#9c179e"
             ],
             [
              0.4444444444444444,
              "#bd3786"
             ],
             [
              0.5555555555555556,
              "#d8576b"
             ],
             [
              0.6666666666666666,
              "#ed7953"
             ],
             [
              0.7777777777777778,
              "#fb9f3a"
             ],
             [
              0.8888888888888888,
              "#fdca26"
             ],
             [
              1,
              "#f0f921"
             ]
            ],
            "type": "histogram2dcontour"
           }
          ],
          "mesh3d": [
           {
            "colorbar": {
             "outlinewidth": 0,
             "ticks": ""
            },
            "type": "mesh3d"
           }
          ],
          "parcoords": [
           {
            "line": {
             "colorbar": {
              "outlinewidth": 0,
              "ticks": ""
             }
            },
            "type": "parcoords"
           }
          ],
          "pie": [
           {
            "automargin": true,
            "type": "pie"
           }
          ],
          "scatter": [
           {
            "marker": {
             "colorbar": {
              "outlinewidth": 0,
              "ticks": ""
             }
            },
            "type": "scatter"
           }
          ],
          "scatter3d": [
           {
            "line": {
             "colorbar": {
              "outlinewidth": 0,
              "ticks": ""
             }
            },
            "marker": {
             "colorbar": {
              "outlinewidth": 0,
              "ticks": ""
             }
            },
            "type": "scatter3d"
           }
          ],
          "scattercarpet": [
           {
            "marker": {
             "colorbar": {
              "outlinewidth": 0,
              "ticks": ""
             }
            },
            "type": "scattercarpet"
           }
          ],
          "scattergeo": [
           {
            "marker": {
             "colorbar": {
              "outlinewidth": 0,
              "ticks": ""
             }
            },
            "type": "scattergeo"
           }
          ],
          "scattergl": [
           {
            "marker": {
             "colorbar": {
              "outlinewidth": 0,
              "ticks": ""
             }
            },
            "type": "scattergl"
           }
          ],
          "scattermapbox": [
           {
            "marker": {
             "colorbar": {
              "outlinewidth": 0,
              "ticks": ""
             }
            },
            "type": "scattermapbox"
           }
          ],
          "scatterpolar": [
           {
            "marker": {
             "colorbar": {
              "outlinewidth": 0,
              "ticks": ""
             }
            },
            "type": "scatterpolar"
           }
          ],
          "scatterpolargl": [
           {
            "marker": {
             "colorbar": {
              "outlinewidth": 0,
              "ticks": ""
             }
            },
            "type": "scatterpolargl"
           }
          ],
          "scatterternary": [
           {
            "marker": {
             "colorbar": {
              "outlinewidth": 0,
              "ticks": ""
             }
            },
            "type": "scatterternary"
           }
          ],
          "surface": [
           {
            "colorbar": {
             "outlinewidth": 0,
             "ticks": ""
            },
            "colorscale": [
             [
              0,
              "#0d0887"
             ],
             [
              0.1111111111111111,
              "#46039f"
             ],
             [
              0.2222222222222222,
              "#7201a8"
             ],
             [
              0.3333333333333333,
              "#9c179e"
             ],
             [
              0.4444444444444444,
              "#bd3786"
             ],
             [
              0.5555555555555556,
              "#d8576b"
             ],
             [
              0.6666666666666666,
              "#ed7953"
             ],
             [
              0.7777777777777778,
              "#fb9f3a"
             ],
             [
              0.8888888888888888,
              "#fdca26"
             ],
             [
              1,
              "#f0f921"
             ]
            ],
            "type": "surface"
           }
          ],
          "table": [
           {
            "cells": {
             "fill": {
              "color": "#EBF0F8"
             },
             "line": {
              "color": "white"
             }
            },
            "header": {
             "fill": {
              "color": "#C8D4E3"
             },
             "line": {
              "color": "white"
             }
            },
            "type": "table"
           }
          ]
         },
         "layout": {
          "annotationdefaults": {
           "arrowcolor": "#2a3f5f",
           "arrowhead": 0,
           "arrowwidth": 1
          },
          "autotypenumbers": "strict",
          "coloraxis": {
           "colorbar": {
            "outlinewidth": 0,
            "ticks": ""
           }
          },
          "colorscale": {
           "diverging": [
            [
             0,
             "#8e0152"
            ],
            [
             0.1,
             "#c51b7d"
            ],
            [
             0.2,
             "#de77ae"
            ],
            [
             0.3,
             "#f1b6da"
            ],
            [
             0.4,
             "#fde0ef"
            ],
            [
             0.5,
             "#f7f7f7"
            ],
            [
             0.6,
             "#e6f5d0"
            ],
            [
             0.7,
             "#b8e186"
            ],
            [
             0.8,
             "#7fbc41"
            ],
            [
             0.9,
             "#4d9221"
            ],
            [
             1,
             "#276419"
            ]
           ],
           "sequential": [
            [
             0,
             "#0d0887"
            ],
            [
             0.1111111111111111,
             "#46039f"
            ],
            [
             0.2222222222222222,
             "#7201a8"
            ],
            [
             0.3333333333333333,
             "#9c179e"
            ],
            [
             0.4444444444444444,
             "#bd3786"
            ],
            [
             0.5555555555555556,
             "#d8576b"
            ],
            [
             0.6666666666666666,
             "#ed7953"
            ],
            [
             0.7777777777777778,
             "#fb9f3a"
            ],
            [
             0.8888888888888888,
             "#fdca26"
            ],
            [
             1,
             "#f0f921"
            ]
           ],
           "sequentialminus": [
            [
             0,
             "#0d0887"
            ],
            [
             0.1111111111111111,
             "#46039f"
            ],
            [
             0.2222222222222222,
             "#7201a8"
            ],
            [
             0.3333333333333333,
             "#9c179e"
            ],
            [
             0.4444444444444444,
             "#bd3786"
            ],
            [
             0.5555555555555556,
             "#d8576b"
            ],
            [
             0.6666666666666666,
             "#ed7953"
            ],
            [
             0.7777777777777778,
             "#fb9f3a"
            ],
            [
             0.8888888888888888,
             "#fdca26"
            ],
            [
             1,
             "#f0f921"
            ]
           ]
          },
          "colorway": [
           "#636efa",
           "#EF553B",
           "#00cc96",
           "#ab63fa",
           "#FFA15A",
           "#19d3f3",
           "#FF6692",
           "#B6E880",
           "#FF97FF",
           "#FECB52"
          ],
          "font": {
           "color": "#2a3f5f"
          },
          "geo": {
           "bgcolor": "white",
           "lakecolor": "white",
           "landcolor": "#E5ECF6",
           "showlakes": true,
           "showland": true,
           "subunitcolor": "white"
          },
          "hoverlabel": {
           "align": "left"
          },
          "hovermode": "closest",
          "mapbox": {
           "style": "light"
          },
          "paper_bgcolor": "white",
          "plot_bgcolor": "#E5ECF6",
          "polar": {
           "angularaxis": {
            "gridcolor": "white",
            "linecolor": "white",
            "ticks": ""
           },
           "bgcolor": "#E5ECF6",
           "radialaxis": {
            "gridcolor": "white",
            "linecolor": "white",
            "ticks": ""
           }
          },
          "scene": {
           "xaxis": {
            "backgroundcolor": "#E5ECF6",
            "gridcolor": "white",
            "gridwidth": 2,
            "linecolor": "white",
            "showbackground": true,
            "ticks": "",
            "zerolinecolor": "white"
           },
           "yaxis": {
            "backgroundcolor": "#E5ECF6",
            "gridcolor": "white",
            "gridwidth": 2,
            "linecolor": "white",
            "showbackground": true,
            "ticks": "",
            "zerolinecolor": "white"
           },
           "zaxis": {
            "backgroundcolor": "#E5ECF6",
            "gridcolor": "white",
            "gridwidth": 2,
            "linecolor": "white",
            "showbackground": true,
            "ticks": "",
            "zerolinecolor": "white"
           }
          },
          "shapedefaults": {
           "line": {
            "color": "#2a3f5f"
           }
          },
          "ternary": {
           "aaxis": {
            "gridcolor": "white",
            "linecolor": "white",
            "ticks": ""
           },
           "baxis": {
            "gridcolor": "white",
            "linecolor": "white",
            "ticks": ""
           },
           "bgcolor": "#E5ECF6",
           "caxis": {
            "gridcolor": "white",
            "linecolor": "white",
            "ticks": ""
           }
          },
          "title": {
           "x": 0.05
          },
          "xaxis": {
           "automargin": true,
           "gridcolor": "white",
           "linecolor": "white",
           "ticks": "",
           "title": {
            "standoff": 15
           },
           "zerolinecolor": "white",
           "zerolinewidth": 2
          },
          "yaxis": {
           "automargin": true,
           "gridcolor": "white",
           "linecolor": "white",
           "ticks": "",
           "title": {
            "standoff": 15
           },
           "zerolinecolor": "white",
           "zerolinewidth": 2
          }
         }
        },
        "title": {
         "font": {
          "color": "#4D5663"
         }
        },
        "xaxis": {
         "gridcolor": "#E1E5ED",
         "showgrid": true,
         "tickfont": {
          "color": "#4D5663"
         },
         "title": {
          "font": {
           "color": "#4D5663"
          },
          "text": ""
         },
         "zerolinecolor": "#E1E5ED"
        },
        "yaxis": {
         "gridcolor": "#E1E5ED",
         "showgrid": true,
         "tickfont": {
          "color": "#4D5663"
         },
         "title": {
          "font": {
           "color": "#4D5663"
          },
          "text": ""
         },
         "zerolinecolor": "#E1E5ED"
        }
       }
      },
      "text/html": [
       "<div>                            <div id=\"81074ead-d78f-4d26-a159-de671c6fa231\" class=\"plotly-graph-div\" style=\"height:525px; width:100%;\"></div>            <script type=\"text/javascript\">                require([\"plotly\"], function(Plotly) {                    window.PLOTLYENV=window.PLOTLYENV || {};\n",
       "                    window.PLOTLYENV.BASE_URL='https://plot.ly';                                    if (document.getElementById(\"81074ead-d78f-4d26-a159-de671c6fa231\")) {                    Plotly.newPlot(                        \"81074ead-d78f-4d26-a159-de671c6fa231\",                        [{\"boxpoints\": false, \"line\": {\"width\": 1.3}, \"marker\": {\"color\": \"rgba(255, 153, 51, 1.0)\"}, \"name\": \"A\", \"orientation\": \"v\", \"type\": \"box\", \"y\": [0.42135637469066833, 0.051787610039485656, -0.8859201272757309, 1.127155918130127, 0.05110503169809027, -1.3625779998716074, 1.413463839091547, -1.0518298420858014, -1.4273371067642697, 0.2167236110214108, 0.1543785204974001, 1.0307652297071481, -1.556770626777491, -0.846285335148641, -1.4475567856473346, 0.28136297298603, 0.16206068112953487, 0.3415324132284915, -1.1033635133636706, 0.8894648772645205, -1.8017630378505909, -0.14245031927646856, -0.8266858154440575, -0.7530689966357229, -2.0574608097003035, -1.8778506514905104, -0.08148361870194606, -0.9357959490775972, -0.6760913977083556, -1.1041299976906465, 0.22052054948520405, -0.6208213787655636, -0.9832356528265209, 0.3121875795693881, -0.044428851806542095, -0.6160413621576425, 0.8338980770256911, -0.4078014558131567, 1.1326628751514818, 1.381820447729485, 0.5870663051810776, -0.7226234218334454, 0.637116486862654, 0.810474475909267, 2.70372528025538, 0.6462466649527927, 0.3743500129845283, 0.17484316236836292, 1.4641354227184749, -0.00834110773828608, 1.0168581856522507, -0.46088217782489604, -1.5221428181584185, 1.1085033065208867, -0.03359453206244407, 0.13024239174967583, -1.1376425645386274, 1.1102484582897623, 0.12115485743688534, 1.2269014026945384, -1.2118887477098856, -0.07302583552604484, -0.7657437595439366, 0.014733537309346229, -1.7912003541024881, 1.7244980639349405, -1.209570556075875, -1.1811987834399718, -1.3383168952142377, -0.23545845455329553, 0.5455075698862204, 0.5143435707195769, 0.49970410382795577, -1.0087869177358482, 1.5295395940774288, 0.19968872339286142, 0.2853967438038379, 0.6267199329816086, 0.7594740494277189, -2.2107520896395836, 0.04207387549136959, -0.1009791017301549, -1.363303282286697, -2.1269648825992946, -0.9969616855723071, -0.16447434850235484, 0.4579274109261358, -0.0501398598101201, 0.9794488277108203, -0.6698307222391381, 1.3153732821001494, 0.05781171695218909, -0.7880077693551906, 1.513297183883774, -1.2630353942419186, -0.8474541119052957, 1.8675720657212853, 0.8259412981691324, 0.23634614857664427, -1.5622218215155599]}, {\"boxpoints\": false, \"line\": {\"width\": 1.3}, \"marker\": {\"color\": \"rgba(55, 128, 191, 1.0)\"}, \"name\": \"B\", \"orientation\": \"v\", \"type\": \"box\", \"y\": [-0.6501201079452595, -0.6396703664807071, -0.14910624389792665, 0.9191471993045957, -0.20408638918650238, -1.8339833921820385, -0.5336687782287028, 1.1159759429939438, 0.9687317127445674, -1.7400136162569626, 0.21071196310648294, -0.6652480269305107, -0.5355523925508483, -0.5131492863893872, 0.6857146627816957, 1.098945987906431, -0.9348369343583188, -0.7325354095966315, 0.021514349515909068, -1.0346009878659206, -0.17501231162040945, 0.7367345313547262, -1.0897665770658538, -0.33938896768116844, 2.0121374329786192, -0.6393950234441513, 0.03647086107054639, -0.5948946033349691, 1.4104386684965855, 0.24031607468836597, 0.013035966419714847, -0.20069232286431354, 2.631987135365754, 1.1402967549197727, -1.3480836252528436, -0.5419029514580261, 0.35165958782611867, 0.5574337761914983, 0.5053362646599682, 0.06694474269967485, -0.6160293085973875, -1.8467820531221697, 0.23180264269673023, 1.5710530598742847, 0.16850544639523987, -0.5448421894097137, 0.800392407126888, -0.3205623468664349, 1.080515029284678, -1.7371274865461397, -1.89016032000533, 0.6587944707237163, 1.3712428758799025, -0.22839481245865867, -0.11743381153175035, 0.08875123869894627, 1.2534991446004125, -1.0050131736037835, -1.4849688355120898, 0.6705897386978111, 1.5984677392051143, -1.2645470074698082, 0.7264911234789589, -2.3717085033683727, -1.4436789972254331, -0.40695984992958373, -0.4220425299401283, -1.4988249695855351, -1.1392043419422493, -0.25228704335304114, 1.1690146052494421, -1.059060163146755, -0.6643372846194279, -1.8106561856144445, 0.23156168713817965, 0.4832174484382462, 1.5349359636281692, 0.7813633744015297, -0.14476594977734775, -1.191781902475107, 1.1339137809138238, 0.4633338142600121, 1.6834801300382207, -0.04735403216966803, 2.303170234529257, -1.588979977909511, 0.15271731738318492, -0.7055727659267433, 0.06895653776059535, 0.4744135459499637, -1.7719303079565776, -0.3132926379621396, 0.475239615161257, 0.3984714410737094, -0.37273617218314103, -1.5892452468814993, 1.383171377203694, 0.3208732966941905, -0.33731818730533253, 0.45105978115116213]}, {\"boxpoints\": false, \"line\": {\"width\": 1.3}, \"marker\": {\"color\": \"rgba(50, 171, 96, 1.0)\"}, \"name\": \"C\", \"orientation\": \"v\", \"type\": \"box\", \"y\": [1.3055372336746414, 0.7114162391522426, 0.5319180757823271, -1.9123101474310888, 0.39976536098051685, -0.18028859700089062, -0.5230524008977765, 0.7268276275024059, -0.2944345287828867, -0.14726694281082295, 1.7315655586248442, -0.5810551835695299, 1.1368820733256777, -0.3215240402868722, 2.0359069216444285, -0.20123013992778713, -0.4875713899458238, -1.151241975461552, -0.30277486316817714, -0.744220382383983, 0.04613315459916105, -1.3057145064090865, -0.4088861945126814, -1.5646154963534107, 0.3966568333743682, 0.6316679600864687, 0.6374757271763759, 1.754905824180303, -0.640682521286157, 1.0486061154272264, -0.7145667182885798, -0.3806877293010073, 0.1567278401603999, -1.155602029567627, -1.297873553374794, 0.14349699346763617, 2.2799058299597124, 0.18010941279247047, 0.38356005316294317, 0.10698467327652507, -0.3454448778351593, 0.14763921225715568, -0.4028902079268841, -0.3579514673449626, 0.3902241277617355, 1.0646480458600145, -1.0403554672055213, 1.4058607286530946, 1.1088578975947785, 1.8983552624544502, -0.629144404663461, -1.027197527692072, -0.27884089253739963, 0.4830919556732657, -2.159602108194867, 0.23154295197431854, -0.4101269047367675, -1.0397144029380463, 0.8634663671915421, 0.12335901710602763, -0.6589125054500717, -0.8837218309099732, 0.5300635380526064, -0.5870212032242089, 0.21604687294689323, -0.0431600231923067, 0.24948270037241593, -0.42846826181497183, -0.47024444812079214, 1.809993947170532, 1.4155181217884234, -0.7683014914435955, 0.9974571901906416, 1.2081981866169547, 1.3013948917973308, -1.0273427942609155, -1.62347966779969, -0.8168534597595072, 0.7534440881257819, 0.9544426339832112, -0.4756276159424117, 1.9926114495734437, -1.3346008304863448, 0.2519142867261577, -1.3917654263113124, 0.0702088161041401, 1.6807653325822103, 1.6610790717144759, 1.335548879210626, -0.28583985589391103, 1.7341348469615736, 0.7254979973728675, -1.3934189049663144, 0.7145845715122107, 1.7147939898494737, -0.2795741666374927, -0.6180242470288976, -0.5457928510713272, 0.11293397023512372, 0.5798588529977873]}, {\"boxpoints\": false, \"line\": {\"width\": 1.3}, \"marker\": {\"color\": \"rgba(128, 0, 128, 1.0)\"}, \"name\": \"D\", \"orientation\": \"v\", \"type\": \"box\", \"y\": [-0.003033409631288337, 0.0786626564452496, -0.15823725127379146, -1.9897783258797754, -0.41469460533272623, 1.4209020494595277, -0.30222592133763926, -0.2214303624712438, 1.0492788369564692, 1.2865687882164314, -0.4493402433359212, -0.8714411779303679, 0.7425824108485773, -0.6427963906285001, -0.10072805894553197, -1.063010377345948, 1.8967232364452522, 1.5131947179202632, 0.1421901583946138, 0.35931468731170635, -1.1301308249181474, -0.5491444471277825, 0.5525386710611327, 0.6675662569851768, 1.2676396438682156, -0.9228784813863433, -0.10282939821541764, -0.35084487058720015, -0.5625409640797048, 0.3918012164622865, 0.06882667451567533, 1.3631664978395412, -0.07210002209831458, -0.35224032075625084, -0.5700048238525449, -0.37336140249850625, -0.20410294091782258, -1.2606734333733391, -1.5704556774214729, 0.41333788496089735, 1.43456879745207, 2.3518517184715164, -0.27428472549608524, -0.6660421044452691, -0.797339923192551, 0.39236278706815675, -0.15133720320061578, -0.1699134011562469, 1.610601288481763, -0.1800306081143111, 1.5892979941116103, -0.3857441205726969, 0.043082707784277155, -1.4789768943208657, 0.35693164902395574, 0.9355962081748874, -0.358848280315065, 1.343576697424638, 0.7145499982587419, 0.48335042718906546, 0.6172007463564116, -1.9989361583464225, -1.2887866227474574, -1.439672249846713, 0.8113502189659851, -1.5751104537746734, -0.48775695972951977, 0.9489523365226368, -0.4310005056557186, -0.4257587741239332, -0.6635703254063151, 0.4300317363803354, 0.6620577766334544, -0.09559127950967047, -0.3569141009756636, -0.0233346034764943, 1.3609456400638476, 0.39830836958691485, -0.32917161014308327, -1.249598408618195, 0.48635625903842067, 0.6146070928884189, 1.5013270015588285, 0.08889598457134902, -1.8961362936115076, -0.6942743965654605, 1.5225977203488685, 0.18551046093397752, -1.6889406217713374, -0.7953297664720886, 1.4261997343997797, 0.34036161861680775, -0.9653392499121465, -0.7010390172221788, -0.7223460527695292, -2.203097985891278, 1.1683019412809572, -1.1160191622760745, 1.2534968643237283, -0.7367971794866054]}],                        {\"legend\": {\"bgcolor\": \"#F5F6F9\", \"font\": {\"color\": \"#4D5663\"}}, \"paper_bgcolor\": \"#F5F6F9\", \"plot_bgcolor\": \"#F5F6F9\", \"template\": {\"data\": {\"bar\": [{\"error_x\": {\"color\": \"#2a3f5f\"}, \"error_y\": {\"color\": \"#2a3f5f\"}, \"marker\": {\"line\": {\"color\": \"#E5ECF6\", \"width\": 0.5}}, \"type\": \"bar\"}], \"barpolar\": [{\"marker\": {\"line\": {\"color\": \"#E5ECF6\", \"width\": 0.5}}, \"type\": \"barpolar\"}], \"carpet\": [{\"aaxis\": {\"endlinecolor\": \"#2a3f5f\", \"gridcolor\": \"white\", \"linecolor\": \"white\", \"minorgridcolor\": \"white\", \"startlinecolor\": \"#2a3f5f\"}, \"baxis\": {\"endlinecolor\": \"#2a3f5f\", \"gridcolor\": \"white\", \"linecolor\": \"white\", \"minorgridcolor\": \"white\", \"startlinecolor\": \"#2a3f5f\"}, \"type\": \"carpet\"}], \"choropleth\": [{\"colorbar\": {\"outlinewidth\": 0, \"ticks\": \"\"}, \"type\": \"choropleth\"}], \"contour\": [{\"colorbar\": {\"outlinewidth\": 0, \"ticks\": \"\"}, \"colorscale\": [[0.0, \"#0d0887\"], [0.1111111111111111, \"#46039f\"], [0.2222222222222222, \"#7201a8\"], [0.3333333333333333, \"#9c179e\"], [0.4444444444444444, \"#bd3786\"], [0.5555555555555556, \"#d8576b\"], [0.6666666666666666, \"#ed7953\"], [0.7777777777777778, \"#fb9f3a\"], [0.8888888888888888, \"#fdca26\"], [1.0, \"#f0f921\"]], \"type\": \"contour\"}], \"contourcarpet\": [{\"colorbar\": {\"outlinewidth\": 0, \"ticks\": \"\"}, \"type\": \"contourcarpet\"}], \"heatmap\": [{\"colorbar\": {\"outlinewidth\": 0, \"ticks\": \"\"}, \"colorscale\": [[0.0, \"#0d0887\"], [0.1111111111111111, \"#46039f\"], [0.2222222222222222, \"#7201a8\"], [0.3333333333333333, \"#9c179e\"], [0.4444444444444444, \"#bd3786\"], [0.5555555555555556, \"#d8576b\"], [0.6666666666666666, \"#ed7953\"], [0.7777777777777778, \"#fb9f3a\"], [0.8888888888888888, \"#fdca26\"], [1.0, \"#f0f921\"]], \"type\": \"heatmap\"}], \"heatmapgl\": [{\"colorbar\": {\"outlinewidth\": 0, \"ticks\": \"\"}, \"colorscale\": [[0.0, \"#0d0887\"], [0.1111111111111111, \"#46039f\"], [0.2222222222222222, \"#7201a8\"], [0.3333333333333333, \"#9c179e\"], [0.4444444444444444, \"#bd3786\"], [0.5555555555555556, \"#d8576b\"], [0.6666666666666666, \"#ed7953\"], [0.7777777777777778, \"#fb9f3a\"], [0.8888888888888888, \"#fdca26\"], [1.0, \"#f0f921\"]], \"type\": \"heatmapgl\"}], \"histogram\": [{\"marker\": {\"colorbar\": {\"outlinewidth\": 0, \"ticks\": \"\"}}, \"type\": \"histogram\"}], \"histogram2d\": [{\"colorbar\": {\"outlinewidth\": 0, \"ticks\": \"\"}, \"colorscale\": [[0.0, \"#0d0887\"], [0.1111111111111111, \"#46039f\"], [0.2222222222222222, \"#7201a8\"], [0.3333333333333333, \"#9c179e\"], [0.4444444444444444, \"#bd3786\"], [0.5555555555555556, \"#d8576b\"], [0.6666666666666666, \"#ed7953\"], [0.7777777777777778, \"#fb9f3a\"], [0.8888888888888888, \"#fdca26\"], [1.0, \"#f0f921\"]], \"type\": \"histogram2d\"}], \"histogram2dcontour\": [{\"colorbar\": {\"outlinewidth\": 0, \"ticks\": \"\"}, \"colorscale\": [[0.0, \"#0d0887\"], [0.1111111111111111, \"#46039f\"], [0.2222222222222222, \"#7201a8\"], [0.3333333333333333, \"#9c179e\"], [0.4444444444444444, \"#bd3786\"], [0.5555555555555556, \"#d8576b\"], [0.6666666666666666, \"#ed7953\"], [0.7777777777777778, \"#fb9f3a\"], [0.8888888888888888, \"#fdca26\"], [1.0, \"#f0f921\"]], \"type\": \"histogram2dcontour\"}], \"mesh3d\": [{\"colorbar\": {\"outlinewidth\": 0, \"ticks\": \"\"}, \"type\": \"mesh3d\"}], \"parcoords\": [{\"line\": {\"colorbar\": {\"outlinewidth\": 0, \"ticks\": \"\"}}, \"type\": \"parcoords\"}], \"pie\": [{\"automargin\": true, \"type\": \"pie\"}], \"scatter\": [{\"marker\": {\"colorbar\": {\"outlinewidth\": 0, \"ticks\": \"\"}}, \"type\": \"scatter\"}], \"scatter3d\": [{\"line\": {\"colorbar\": {\"outlinewidth\": 0, \"ticks\": \"\"}}, \"marker\": {\"colorbar\": {\"outlinewidth\": 0, \"ticks\": \"\"}}, \"type\": \"scatter3d\"}], \"scattercarpet\": [{\"marker\": {\"colorbar\": {\"outlinewidth\": 0, \"ticks\": \"\"}}, \"type\": \"scattercarpet\"}], \"scattergeo\": [{\"marker\": {\"colorbar\": {\"outlinewidth\": 0, \"ticks\": \"\"}}, \"type\": \"scattergeo\"}], \"scattergl\": [{\"marker\": {\"colorbar\": {\"outlinewidth\": 0, \"ticks\": \"\"}}, \"type\": \"scattergl\"}], \"scattermapbox\": [{\"marker\": {\"colorbar\": {\"outlinewidth\": 0, \"ticks\": \"\"}}, \"type\": \"scattermapbox\"}], \"scatterpolar\": [{\"marker\": {\"colorbar\": {\"outlinewidth\": 0, \"ticks\": \"\"}}, \"type\": \"scatterpolar\"}], \"scatterpolargl\": [{\"marker\": {\"colorbar\": {\"outlinewidth\": 0, \"ticks\": \"\"}}, \"type\": \"scatterpolargl\"}], \"scatterternary\": [{\"marker\": {\"colorbar\": {\"outlinewidth\": 0, \"ticks\": \"\"}}, \"type\": \"scatterternary\"}], \"surface\": [{\"colorbar\": {\"outlinewidth\": 0, \"ticks\": \"\"}, \"colorscale\": [[0.0, \"#0d0887\"], [0.1111111111111111, \"#46039f\"], [0.2222222222222222, \"#7201a8\"], [0.3333333333333333, \"#9c179e\"], [0.4444444444444444, \"#bd3786\"], [0.5555555555555556, \"#d8576b\"], [0.6666666666666666, \"#ed7953\"], [0.7777777777777778, \"#fb9f3a\"], [0.8888888888888888, \"#fdca26\"], [1.0, \"#f0f921\"]], \"type\": \"surface\"}], \"table\": [{\"cells\": {\"fill\": {\"color\": \"#EBF0F8\"}, \"line\": {\"color\": \"white\"}}, \"header\": {\"fill\": {\"color\": \"#C8D4E3\"}, \"line\": {\"color\": \"white\"}}, \"type\": \"table\"}]}, \"layout\": {\"annotationdefaults\": {\"arrowcolor\": \"#2a3f5f\", \"arrowhead\": 0, \"arrowwidth\": 1}, \"autotypenumbers\": \"strict\", \"coloraxis\": {\"colorbar\": {\"outlinewidth\": 0, \"ticks\": \"\"}}, \"colorscale\": {\"diverging\": [[0, \"#8e0152\"], [0.1, \"#c51b7d\"], [0.2, \"#de77ae\"], [0.3, \"#f1b6da\"], [0.4, \"#fde0ef\"], [0.5, \"#f7f7f7\"], [0.6, \"#e6f5d0\"], [0.7, \"#b8e186\"], [0.8, \"#7fbc41\"], [0.9, \"#4d9221\"], [1, \"#276419\"]], \"sequential\": [[0.0, \"#0d0887\"], [0.1111111111111111, \"#46039f\"], [0.2222222222222222, \"#7201a8\"], [0.3333333333333333, \"#9c179e\"], [0.4444444444444444, \"#bd3786\"], [0.5555555555555556, \"#d8576b\"], [0.6666666666666666, \"#ed7953\"], [0.7777777777777778, \"#fb9f3a\"], [0.8888888888888888, \"#fdca26\"], [1.0, \"#f0f921\"]], \"sequentialminus\": [[0.0, \"#0d0887\"], [0.1111111111111111, \"#46039f\"], [0.2222222222222222, \"#7201a8\"], [0.3333333333333333, \"#9c179e\"], [0.4444444444444444, \"#bd3786\"], [0.5555555555555556, \"#d8576b\"], [0.6666666666666666, \"#ed7953\"], [0.7777777777777778, \"#fb9f3a\"], [0.8888888888888888, \"#fdca26\"], [1.0, \"#f0f921\"]]}, \"colorway\": [\"#636efa\", \"#EF553B\", \"#00cc96\", \"#ab63fa\", \"#FFA15A\", \"#19d3f3\", \"#FF6692\", \"#B6E880\", \"#FF97FF\", \"#FECB52\"], \"font\": {\"color\": \"#2a3f5f\"}, \"geo\": {\"bgcolor\": \"white\", \"lakecolor\": \"white\", \"landcolor\": \"#E5ECF6\", \"showlakes\": true, \"showland\": true, \"subunitcolor\": \"white\"}, \"hoverlabel\": {\"align\": \"left\"}, \"hovermode\": \"closest\", \"mapbox\": {\"style\": \"light\"}, \"paper_bgcolor\": \"white\", \"plot_bgcolor\": \"#E5ECF6\", \"polar\": {\"angularaxis\": {\"gridcolor\": \"white\", \"linecolor\": \"white\", \"ticks\": \"\"}, \"bgcolor\": \"#E5ECF6\", \"radialaxis\": {\"gridcolor\": \"white\", \"linecolor\": \"white\", \"ticks\": \"\"}}, \"scene\": {\"xaxis\": {\"backgroundcolor\": \"#E5ECF6\", \"gridcolor\": \"white\", \"gridwidth\": 2, \"linecolor\": \"white\", \"showbackground\": true, \"ticks\": \"\", \"zerolinecolor\": \"white\"}, \"yaxis\": {\"backgroundcolor\": \"#E5ECF6\", \"gridcolor\": \"white\", \"gridwidth\": 2, \"linecolor\": \"white\", \"showbackground\": true, \"ticks\": \"\", \"zerolinecolor\": \"white\"}, \"zaxis\": {\"backgroundcolor\": \"#E5ECF6\", \"gridcolor\": \"white\", \"gridwidth\": 2, \"linecolor\": \"white\", \"showbackground\": true, \"ticks\": \"\", \"zerolinecolor\": \"white\"}}, \"shapedefaults\": {\"line\": {\"color\": \"#2a3f5f\"}}, \"ternary\": {\"aaxis\": {\"gridcolor\": \"white\", \"linecolor\": \"white\", \"ticks\": \"\"}, \"baxis\": {\"gridcolor\": \"white\", \"linecolor\": \"white\", \"ticks\": \"\"}, \"bgcolor\": \"#E5ECF6\", \"caxis\": {\"gridcolor\": \"white\", \"linecolor\": \"white\", \"ticks\": \"\"}}, \"title\": {\"x\": 0.05}, \"xaxis\": {\"automargin\": true, \"gridcolor\": \"white\", \"linecolor\": \"white\", \"ticks\": \"\", \"title\": {\"standoff\": 15}, \"zerolinecolor\": \"white\", \"zerolinewidth\": 2}, \"yaxis\": {\"automargin\": true, \"gridcolor\": \"white\", \"linecolor\": \"white\", \"ticks\": \"\", \"title\": {\"standoff\": 15}, \"zerolinecolor\": \"white\", \"zerolinewidth\": 2}}}, \"title\": {\"font\": {\"color\": \"#4D5663\"}}, \"xaxis\": {\"gridcolor\": \"#E1E5ED\", \"showgrid\": true, \"tickfont\": {\"color\": \"#4D5663\"}, \"title\": {\"font\": {\"color\": \"#4D5663\"}, \"text\": \"\"}, \"zerolinecolor\": \"#E1E5ED\"}, \"yaxis\": {\"gridcolor\": \"#E1E5ED\", \"showgrid\": true, \"tickfont\": {\"color\": \"#4D5663\"}, \"title\": {\"font\": {\"color\": \"#4D5663\"}, \"text\": \"\"}, \"zerolinecolor\": \"#E1E5ED\"}},                        {\"showLink\": true, \"linkText\": \"Export to plot.ly\", \"plotlyServerURL\": \"https://plot.ly\", \"responsive\": true}                    ).then(function(){\n",
       "                            \n",
       "var gd = document.getElementById('81074ead-d78f-4d26-a159-de671c6fa231');\n",
       "var x = new MutationObserver(function (mutations, observer) {{\n",
       "        var display = window.getComputedStyle(gd).display;\n",
       "        if (!display || display === 'none') {{\n",
       "            console.log([gd, 'removed!']);\n",
       "            Plotly.purge(gd);\n",
       "            observer.disconnect();\n",
       "        }}\n",
       "}});\n",
       "\n",
       "// Listen for the removal of the full notebook cells\n",
       "var notebookContainer = gd.closest('#notebook-container');\n",
       "if (notebookContainer) {{\n",
       "    x.observe(notebookContainer, {childList: true});\n",
       "}}\n",
       "\n",
       "// Listen for the clearing of the current output cell\n",
       "var outputEl = gd.closest('.output');\n",
       "if (outputEl) {{\n",
       "    x.observe(outputEl, {childList: true});\n",
       "}}\n",
       "\n",
       "                        })                };                });            </script>        </div>"
      ]
     },
     "metadata": {},
     "output_type": "display_data"
    }
   ],
   "source": [
    "df.iplot(kind='box')"
   ]
  },
  {
   "cell_type": "markdown",
   "metadata": {},
   "source": [
    "## 3d Surface"
   ]
  },
  {
   "cell_type": "code",
   "execution_count": 15,
   "metadata": {},
   "outputs": [
    {
     "data": {
      "application/vnd.plotly.v1+json": {
       "config": {
        "linkText": "Export to plot.ly",
        "plotlyServerURL": "https://plot.ly",
        "showLink": true
       },
       "data": [
        {
         "colorscale": [
          [
           0,
           "rgb(165,0,38)"
          ],
          [
           0.1,
           "rgb(215,48,39)"
          ],
          [
           0.2,
           "rgb(244,109,67)"
          ],
          [
           0.3,
           "rgb(253,174,97)"
          ],
          [
           0.4,
           "rgb(254,224,144)"
          ],
          [
           0.5,
           "rgb(255,255,191)"
          ],
          [
           0.6,
           "rgb(224,243,248)"
          ],
          [
           0.7,
           "rgb(171,217,233)"
          ],
          [
           0.8,
           "rgb(116,173,209)"
          ],
          [
           0.9,
           "rgb(69,117,180)"
          ],
          [
           1,
           "rgb(49,54,149)"
          ]
         ],
         "type": "surface",
         "x": [
          0,
          1,
          2,
          3,
          4
         ],
         "y": [
          "x",
          "y",
          "z"
         ],
         "z": [
          [
           1,
           2,
           3,
           4,
           5
          ],
          [
           10,
           20,
           30,
           20,
           10
          ],
          [
           5,
           4,
           3,
           2,
           1
          ]
         ]
        }
       ],
       "layout": {
        "legend": {
         "bgcolor": "#F5F6F9",
         "font": {
          "color": "#4D5663"
         }
        },
        "paper_bgcolor": "#F5F6F9",
        "plot_bgcolor": "#F5F6F9",
        "template": {
         "data": {
          "bar": [
           {
            "error_x": {
             "color": "#2a3f5f"
            },
            "error_y": {
             "color": "#2a3f5f"
            },
            "marker": {
             "line": {
              "color": "#E5ECF6",
              "width": 0.5
             }
            },
            "type": "bar"
           }
          ],
          "barpolar": [
           {
            "marker": {
             "line": {
              "color": "#E5ECF6",
              "width": 0.5
             }
            },
            "type": "barpolar"
           }
          ],
          "carpet": [
           {
            "aaxis": {
             "endlinecolor": "#2a3f5f",
             "gridcolor": "white",
             "linecolor": "white",
             "minorgridcolor": "white",
             "startlinecolor": "#2a3f5f"
            },
            "baxis": {
             "endlinecolor": "#2a3f5f",
             "gridcolor": "white",
             "linecolor": "white",
             "minorgridcolor": "white",
             "startlinecolor": "#2a3f5f"
            },
            "type": "carpet"
           }
          ],
          "choropleth": [
           {
            "colorbar": {
             "outlinewidth": 0,
             "ticks": ""
            },
            "type": "choropleth"
           }
          ],
          "contour": [
           {
            "colorbar": {
             "outlinewidth": 0,
             "ticks": ""
            },
            "colorscale": [
             [
              0,
              "#0d0887"
             ],
             [
              0.1111111111111111,
              "#46039f"
             ],
             [
              0.2222222222222222,
              "#7201a8"
             ],
             [
              0.3333333333333333,
              "#9c179e"
             ],
             [
              0.4444444444444444,
              "#bd3786"
             ],
             [
              0.5555555555555556,
              "#d8576b"
             ],
             [
              0.6666666666666666,
              "#ed7953"
             ],
             [
              0.7777777777777778,
              "#fb9f3a"
             ],
             [
              0.8888888888888888,
              "#fdca26"
             ],
             [
              1,
              "#f0f921"
             ]
            ],
            "type": "contour"
           }
          ],
          "contourcarpet": [
           {
            "colorbar": {
             "outlinewidth": 0,
             "ticks": ""
            },
            "type": "contourcarpet"
           }
          ],
          "heatmap": [
           {
            "colorbar": {
             "outlinewidth": 0,
             "ticks": ""
            },
            "colorscale": [
             [
              0,
              "#0d0887"
             ],
             [
              0.1111111111111111,
              "#46039f"
             ],
             [
              0.2222222222222222,
              "#7201a8"
             ],
             [
              0.3333333333333333,
              "#9c179e"
             ],
             [
              0.4444444444444444,
              "#bd3786"
             ],
             [
              0.5555555555555556,
              "#d8576b"
             ],
             [
              0.6666666666666666,
              "#ed7953"
             ],
             [
              0.7777777777777778,
              "#fb9f3a"
             ],
             [
              0.8888888888888888,
              "#fdca26"
             ],
             [
              1,
              "#f0f921"
             ]
            ],
            "type": "heatmap"
           }
          ],
          "heatmapgl": [
           {
            "colorbar": {
             "outlinewidth": 0,
             "ticks": ""
            },
            "colorscale": [
             [
              0,
              "#0d0887"
             ],
             [
              0.1111111111111111,
              "#46039f"
             ],
             [
              0.2222222222222222,
              "#7201a8"
             ],
             [
              0.3333333333333333,
              "#9c179e"
             ],
             [
              0.4444444444444444,
              "#bd3786"
             ],
             [
              0.5555555555555556,
              "#d8576b"
             ],
             [
              0.6666666666666666,
              "#ed7953"
             ],
             [
              0.7777777777777778,
              "#fb9f3a"
             ],
             [
              0.8888888888888888,
              "#fdca26"
             ],
             [
              1,
              "#f0f921"
             ]
            ],
            "type": "heatmapgl"
           }
          ],
          "histogram": [
           {
            "marker": {
             "colorbar": {
              "outlinewidth": 0,
              "ticks": ""
             }
            },
            "type": "histogram"
           }
          ],
          "histogram2d": [
           {
            "colorbar": {
             "outlinewidth": 0,
             "ticks": ""
            },
            "colorscale": [
             [
              0,
              "#0d0887"
             ],
             [
              0.1111111111111111,
              "#46039f"
             ],
             [
              0.2222222222222222,
              "#7201a8"
             ],
             [
              0.3333333333333333,
              "#9c179e"
             ],
             [
              0.4444444444444444,
              "#bd3786"
             ],
             [
              0.5555555555555556,
              "#d8576b"
             ],
             [
              0.6666666666666666,
              "#ed7953"
             ],
             [
              0.7777777777777778,
              "#fb9f3a"
             ],
             [
              0.8888888888888888,
              "#fdca26"
             ],
             [
              1,
              "#f0f921"
             ]
            ],
            "type": "histogram2d"
           }
          ],
          "histogram2dcontour": [
           {
            "colorbar": {
             "outlinewidth": 0,
             "ticks": ""
            },
            "colorscale": [
             [
              0,
              "#0d0887"
             ],
             [
              0.1111111111111111,
              "#46039f"
             ],
             [
              0.2222222222222222,
              "#7201a8"
             ],
             [
              0.3333333333333333,
              "#9c179e"
             ],
             [
              0.4444444444444444,
              "#bd3786"
             ],
             [
              0.5555555555555556,
              "#d8576b"
             ],
             [
              0.6666666666666666,
              "#ed7953"
             ],
             [
              0.7777777777777778,
              "#fb9f3a"
             ],
             [
              0.8888888888888888,
              "#fdca26"
             ],
             [
              1,
              "#f0f921"
             ]
            ],
            "type": "histogram2dcontour"
           }
          ],
          "mesh3d": [
           {
            "colorbar": {
             "outlinewidth": 0,
             "ticks": ""
            },
            "type": "mesh3d"
           }
          ],
          "parcoords": [
           {
            "line": {
             "colorbar": {
              "outlinewidth": 0,
              "ticks": ""
             }
            },
            "type": "parcoords"
           }
          ],
          "pie": [
           {
            "automargin": true,
            "type": "pie"
           }
          ],
          "scatter": [
           {
            "marker": {
             "colorbar": {
              "outlinewidth": 0,
              "ticks": ""
             }
            },
            "type": "scatter"
           }
          ],
          "scatter3d": [
           {
            "line": {
             "colorbar": {
              "outlinewidth": 0,
              "ticks": ""
             }
            },
            "marker": {
             "colorbar": {
              "outlinewidth": 0,
              "ticks": ""
             }
            },
            "type": "scatter3d"
           }
          ],
          "scattercarpet": [
           {
            "marker": {
             "colorbar": {
              "outlinewidth": 0,
              "ticks": ""
             }
            },
            "type": "scattercarpet"
           }
          ],
          "scattergeo": [
           {
            "marker": {
             "colorbar": {
              "outlinewidth": 0,
              "ticks": ""
             }
            },
            "type": "scattergeo"
           }
          ],
          "scattergl": [
           {
            "marker": {
             "colorbar": {
              "outlinewidth": 0,
              "ticks": ""
             }
            },
            "type": "scattergl"
           }
          ],
          "scattermapbox": [
           {
            "marker": {
             "colorbar": {
              "outlinewidth": 0,
              "ticks": ""
             }
            },
            "type": "scattermapbox"
           }
          ],
          "scatterpolar": [
           {
            "marker": {
             "colorbar": {
              "outlinewidth": 0,
              "ticks": ""
             }
            },
            "type": "scatterpolar"
           }
          ],
          "scatterpolargl": [
           {
            "marker": {
             "colorbar": {
              "outlinewidth": 0,
              "ticks": ""
             }
            },
            "type": "scatterpolargl"
           }
          ],
          "scatterternary": [
           {
            "marker": {
             "colorbar": {
              "outlinewidth": 0,
              "ticks": ""
             }
            },
            "type": "scatterternary"
           }
          ],
          "surface": [
           {
            "colorbar": {
             "outlinewidth": 0,
             "ticks": ""
            },
            "colorscale": [
             [
              0,
              "#0d0887"
             ],
             [
              0.1111111111111111,
              "#46039f"
             ],
             [
              0.2222222222222222,
              "#7201a8"
             ],
             [
              0.3333333333333333,
              "#9c179e"
             ],
             [
              0.4444444444444444,
              "#bd3786"
             ],
             [
              0.5555555555555556,
              "#d8576b"
             ],
             [
              0.6666666666666666,
              "#ed7953"
             ],
             [
              0.7777777777777778,
              "#fb9f3a"
             ],
             [
              0.8888888888888888,
              "#fdca26"
             ],
             [
              1,
              "#f0f921"
             ]
            ],
            "type": "surface"
           }
          ],
          "table": [
           {
            "cells": {
             "fill": {
              "color": "#EBF0F8"
             },
             "line": {
              "color": "white"
             }
            },
            "header": {
             "fill": {
              "color": "#C8D4E3"
             },
             "line": {
              "color": "white"
             }
            },
            "type": "table"
           }
          ]
         },
         "layout": {
          "annotationdefaults": {
           "arrowcolor": "#2a3f5f",
           "arrowhead": 0,
           "arrowwidth": 1
          },
          "autotypenumbers": "strict",
          "coloraxis": {
           "colorbar": {
            "outlinewidth": 0,
            "ticks": ""
           }
          },
          "colorscale": {
           "diverging": [
            [
             0,
             "#8e0152"
            ],
            [
             0.1,
             "#c51b7d"
            ],
            [
             0.2,
             "#de77ae"
            ],
            [
             0.3,
             "#f1b6da"
            ],
            [
             0.4,
             "#fde0ef"
            ],
            [
             0.5,
             "#f7f7f7"
            ],
            [
             0.6,
             "#e6f5d0"
            ],
            [
             0.7,
             "#b8e186"
            ],
            [
             0.8,
             "#7fbc41"
            ],
            [
             0.9,
             "#4d9221"
            ],
            [
             1,
             "#276419"
            ]
           ],
           "sequential": [
            [
             0,
             "#0d0887"
            ],
            [
             0.1111111111111111,
             "#46039f"
            ],
            [
             0.2222222222222222,
             "#7201a8"
            ],
            [
             0.3333333333333333,
             "#9c179e"
            ],
            [
             0.4444444444444444,
             "#bd3786"
            ],
            [
             0.5555555555555556,
             "#d8576b"
            ],
            [
             0.6666666666666666,
             "#ed7953"
            ],
            [
             0.7777777777777778,
             "#fb9f3a"
            ],
            [
             0.8888888888888888,
             "#fdca26"
            ],
            [
             1,
             "#f0f921"
            ]
           ],
           "sequentialminus": [
            [
             0,
             "#0d0887"
            ],
            [
             0.1111111111111111,
             "#46039f"
            ],
            [
             0.2222222222222222,
             "#7201a8"
            ],
            [
             0.3333333333333333,
             "#9c179e"
            ],
            [
             0.4444444444444444,
             "#bd3786"
            ],
            [
             0.5555555555555556,
             "#d8576b"
            ],
            [
             0.6666666666666666,
             "#ed7953"
            ],
            [
             0.7777777777777778,
             "#fb9f3a"
            ],
            [
             0.8888888888888888,
             "#fdca26"
            ],
            [
             1,
             "#f0f921"
            ]
           ]
          },
          "colorway": [
           "#636efa",
           "#EF553B",
           "#00cc96",
           "#ab63fa",
           "#FFA15A",
           "#19d3f3",
           "#FF6692",
           "#B6E880",
           "#FF97FF",
           "#FECB52"
          ],
          "font": {
           "color": "#2a3f5f"
          },
          "geo": {
           "bgcolor": "white",
           "lakecolor": "white",
           "landcolor": "#E5ECF6",
           "showlakes": true,
           "showland": true,
           "subunitcolor": "white"
          },
          "hoverlabel": {
           "align": "left"
          },
          "hovermode": "closest",
          "mapbox": {
           "style": "light"
          },
          "paper_bgcolor": "white",
          "plot_bgcolor": "#E5ECF6",
          "polar": {
           "angularaxis": {
            "gridcolor": "white",
            "linecolor": "white",
            "ticks": ""
           },
           "bgcolor": "#E5ECF6",
           "radialaxis": {
            "gridcolor": "white",
            "linecolor": "white",
            "ticks": ""
           }
          },
          "scene": {
           "xaxis": {
            "backgroundcolor": "#E5ECF6",
            "gridcolor": "white",
            "gridwidth": 2,
            "linecolor": "white",
            "showbackground": true,
            "ticks": "",
            "zerolinecolor": "white"
           },
           "yaxis": {
            "backgroundcolor": "#E5ECF6",
            "gridcolor": "white",
            "gridwidth": 2,
            "linecolor": "white",
            "showbackground": true,
            "ticks": "",
            "zerolinecolor": "white"
           },
           "zaxis": {
            "backgroundcolor": "#E5ECF6",
            "gridcolor": "white",
            "gridwidth": 2,
            "linecolor": "white",
            "showbackground": true,
            "ticks": "",
            "zerolinecolor": "white"
           }
          },
          "shapedefaults": {
           "line": {
            "color": "#2a3f5f"
           }
          },
          "ternary": {
           "aaxis": {
            "gridcolor": "white",
            "linecolor": "white",
            "ticks": ""
           },
           "baxis": {
            "gridcolor": "white",
            "linecolor": "white",
            "ticks": ""
           },
           "bgcolor": "#E5ECF6",
           "caxis": {
            "gridcolor": "white",
            "linecolor": "white",
            "ticks": ""
           }
          },
          "title": {
           "x": 0.05
          },
          "xaxis": {
           "automargin": true,
           "gridcolor": "white",
           "linecolor": "white",
           "ticks": "",
           "title": {
            "standoff": 15
           },
           "zerolinecolor": "white",
           "zerolinewidth": 2
          },
          "yaxis": {
           "automargin": true,
           "gridcolor": "white",
           "linecolor": "white",
           "ticks": "",
           "title": {
            "standoff": 15
           },
           "zerolinecolor": "white",
           "zerolinewidth": 2
          }
         }
        },
        "title": {
         "font": {
          "color": "#4D5663"
         }
        },
        "xaxis": {
         "gridcolor": "#E1E5ED",
         "showgrid": true,
         "tickfont": {
          "color": "#4D5663"
         },
         "title": {
          "font": {
           "color": "#4D5663"
          },
          "text": ""
         },
         "zerolinecolor": "#E1E5ED"
        },
        "yaxis": {
         "gridcolor": "#E1E5ED",
         "showgrid": true,
         "tickfont": {
          "color": "#4D5663"
         },
         "title": {
          "font": {
           "color": "#4D5663"
          },
          "text": ""
         },
         "zerolinecolor": "#E1E5ED"
        }
       }
      },
      "text/html": [
       "<div>                            <div id=\"5682970e-566e-4950-aade-3474f989ad11\" class=\"plotly-graph-div\" style=\"height:525px; width:100%;\"></div>            <script type=\"text/javascript\">                require([\"plotly\"], function(Plotly) {                    window.PLOTLYENV=window.PLOTLYENV || {};\n",
       "                    window.PLOTLYENV.BASE_URL='https://plot.ly';                                    if (document.getElementById(\"5682970e-566e-4950-aade-3474f989ad11\")) {                    Plotly.newPlot(                        \"5682970e-566e-4950-aade-3474f989ad11\",                        [{\"colorscale\": [[0.0, \"rgb(165,0,38)\"], [0.1, \"rgb(215,48,39)\"], [0.2, \"rgb(244,109,67)\"], [0.3, \"rgb(253,174,97)\"], [0.4, \"rgb(254,224,144)\"], [0.5, \"rgb(255,255,191)\"], [0.6, \"rgb(224,243,248)\"], [0.7, \"rgb(171,217,233)\"], [0.8, \"rgb(116,173,209)\"], [0.9, \"rgb(69,117,180)\"], [1.0, \"rgb(49,54,149)\"]], \"type\": \"surface\", \"x\": [0, 1, 2, 3, 4], \"y\": [\"x\", \"y\", \"z\"], \"z\": [[1, 2, 3, 4, 5], [10, 20, 30, 20, 10], [5, 4, 3, 2, 1]]}],                        {\"legend\": {\"bgcolor\": \"#F5F6F9\", \"font\": {\"color\": \"#4D5663\"}}, \"paper_bgcolor\": \"#F5F6F9\", \"plot_bgcolor\": \"#F5F6F9\", \"template\": {\"data\": {\"bar\": [{\"error_x\": {\"color\": \"#2a3f5f\"}, \"error_y\": {\"color\": \"#2a3f5f\"}, \"marker\": {\"line\": {\"color\": \"#E5ECF6\", \"width\": 0.5}}, \"type\": \"bar\"}], \"barpolar\": [{\"marker\": {\"line\": {\"color\": \"#E5ECF6\", \"width\": 0.5}}, \"type\": \"barpolar\"}], \"carpet\": [{\"aaxis\": {\"endlinecolor\": \"#2a3f5f\", \"gridcolor\": \"white\", \"linecolor\": \"white\", \"minorgridcolor\": \"white\", \"startlinecolor\": \"#2a3f5f\"}, \"baxis\": {\"endlinecolor\": \"#2a3f5f\", \"gridcolor\": \"white\", \"linecolor\": \"white\", \"minorgridcolor\": \"white\", \"startlinecolor\": \"#2a3f5f\"}, \"type\": \"carpet\"}], \"choropleth\": [{\"colorbar\": {\"outlinewidth\": 0, \"ticks\": \"\"}, \"type\": \"choropleth\"}], \"contour\": [{\"colorbar\": {\"outlinewidth\": 0, \"ticks\": \"\"}, \"colorscale\": [[0.0, \"#0d0887\"], [0.1111111111111111, \"#46039f\"], [0.2222222222222222, \"#7201a8\"], [0.3333333333333333, \"#9c179e\"], [0.4444444444444444, \"#bd3786\"], [0.5555555555555556, \"#d8576b\"], [0.6666666666666666, \"#ed7953\"], [0.7777777777777778, \"#fb9f3a\"], [0.8888888888888888, \"#fdca26\"], [1.0, \"#f0f921\"]], \"type\": \"contour\"}], \"contourcarpet\": [{\"colorbar\": {\"outlinewidth\": 0, \"ticks\": \"\"}, \"type\": \"contourcarpet\"}], \"heatmap\": [{\"colorbar\": {\"outlinewidth\": 0, \"ticks\": \"\"}, \"colorscale\": [[0.0, \"#0d0887\"], [0.1111111111111111, \"#46039f\"], [0.2222222222222222, \"#7201a8\"], [0.3333333333333333, \"#9c179e\"], [0.4444444444444444, \"#bd3786\"], [0.5555555555555556, \"#d8576b\"], [0.6666666666666666, \"#ed7953\"], [0.7777777777777778, \"#fb9f3a\"], [0.8888888888888888, \"#fdca26\"], [1.0, \"#f0f921\"]], \"type\": \"heatmap\"}], \"heatmapgl\": [{\"colorbar\": {\"outlinewidth\": 0, \"ticks\": \"\"}, \"colorscale\": [[0.0, \"#0d0887\"], [0.1111111111111111, \"#46039f\"], [0.2222222222222222, \"#7201a8\"], [0.3333333333333333, \"#9c179e\"], [0.4444444444444444, \"#bd3786\"], [0.5555555555555556, \"#d8576b\"], [0.6666666666666666, \"#ed7953\"], [0.7777777777777778, \"#fb9f3a\"], [0.8888888888888888, \"#fdca26\"], [1.0, \"#f0f921\"]], \"type\": \"heatmapgl\"}], \"histogram\": [{\"marker\": {\"colorbar\": {\"outlinewidth\": 0, \"ticks\": \"\"}}, \"type\": \"histogram\"}], \"histogram2d\": [{\"colorbar\": {\"outlinewidth\": 0, \"ticks\": \"\"}, \"colorscale\": [[0.0, \"#0d0887\"], [0.1111111111111111, \"#46039f\"], [0.2222222222222222, \"#7201a8\"], [0.3333333333333333, \"#9c179e\"], [0.4444444444444444, \"#bd3786\"], [0.5555555555555556, \"#d8576b\"], [0.6666666666666666, \"#ed7953\"], [0.7777777777777778, \"#fb9f3a\"], [0.8888888888888888, \"#fdca26\"], [1.0, \"#f0f921\"]], \"type\": \"histogram2d\"}], \"histogram2dcontour\": [{\"colorbar\": {\"outlinewidth\": 0, \"ticks\": \"\"}, \"colorscale\": [[0.0, \"#0d0887\"], [0.1111111111111111, \"#46039f\"], [0.2222222222222222, \"#7201a8\"], [0.3333333333333333, \"#9c179e\"], [0.4444444444444444, \"#bd3786\"], [0.5555555555555556, \"#d8576b\"], [0.6666666666666666, \"#ed7953\"], [0.7777777777777778, \"#fb9f3a\"], [0.8888888888888888, \"#fdca26\"], [1.0, \"#f0f921\"]], \"type\": \"histogram2dcontour\"}], \"mesh3d\": [{\"colorbar\": {\"outlinewidth\": 0, \"ticks\": \"\"}, \"type\": \"mesh3d\"}], \"parcoords\": [{\"line\": {\"colorbar\": {\"outlinewidth\": 0, \"ticks\": \"\"}}, \"type\": \"parcoords\"}], \"pie\": [{\"automargin\": true, \"type\": \"pie\"}], \"scatter\": [{\"marker\": {\"colorbar\": {\"outlinewidth\": 0, \"ticks\": \"\"}}, \"type\": \"scatter\"}], \"scatter3d\": [{\"line\": {\"colorbar\": {\"outlinewidth\": 0, \"ticks\": \"\"}}, \"marker\": {\"colorbar\": {\"outlinewidth\": 0, \"ticks\": \"\"}}, \"type\": \"scatter3d\"}], \"scattercarpet\": [{\"marker\": {\"colorbar\": {\"outlinewidth\": 0, \"ticks\": \"\"}}, \"type\": \"scattercarpet\"}], \"scattergeo\": [{\"marker\": {\"colorbar\": {\"outlinewidth\": 0, \"ticks\": \"\"}}, \"type\": \"scattergeo\"}], \"scattergl\": [{\"marker\": {\"colorbar\": {\"outlinewidth\": 0, \"ticks\": \"\"}}, \"type\": \"scattergl\"}], \"scattermapbox\": [{\"marker\": {\"colorbar\": {\"outlinewidth\": 0, \"ticks\": \"\"}}, \"type\": \"scattermapbox\"}], \"scatterpolar\": [{\"marker\": {\"colorbar\": {\"outlinewidth\": 0, \"ticks\": \"\"}}, \"type\": \"scatterpolar\"}], \"scatterpolargl\": [{\"marker\": {\"colorbar\": {\"outlinewidth\": 0, \"ticks\": \"\"}}, \"type\": \"scatterpolargl\"}], \"scatterternary\": [{\"marker\": {\"colorbar\": {\"outlinewidth\": 0, \"ticks\": \"\"}}, \"type\": \"scatterternary\"}], \"surface\": [{\"colorbar\": {\"outlinewidth\": 0, \"ticks\": \"\"}, \"colorscale\": [[0.0, \"#0d0887\"], [0.1111111111111111, \"#46039f\"], [0.2222222222222222, \"#7201a8\"], [0.3333333333333333, \"#9c179e\"], [0.4444444444444444, \"#bd3786\"], [0.5555555555555556, \"#d8576b\"], [0.6666666666666666, \"#ed7953\"], [0.7777777777777778, \"#fb9f3a\"], [0.8888888888888888, \"#fdca26\"], [1.0, \"#f0f921\"]], \"type\": \"surface\"}], \"table\": [{\"cells\": {\"fill\": {\"color\": \"#EBF0F8\"}, \"line\": {\"color\": \"white\"}}, \"header\": {\"fill\": {\"color\": \"#C8D4E3\"}, \"line\": {\"color\": \"white\"}}, \"type\": \"table\"}]}, \"layout\": {\"annotationdefaults\": {\"arrowcolor\": \"#2a3f5f\", \"arrowhead\": 0, \"arrowwidth\": 1}, \"autotypenumbers\": \"strict\", \"coloraxis\": {\"colorbar\": {\"outlinewidth\": 0, \"ticks\": \"\"}}, \"colorscale\": {\"diverging\": [[0, \"#8e0152\"], [0.1, \"#c51b7d\"], [0.2, \"#de77ae\"], [0.3, \"#f1b6da\"], [0.4, \"#fde0ef\"], [0.5, \"#f7f7f7\"], [0.6, \"#e6f5d0\"], [0.7, \"#b8e186\"], [0.8, \"#7fbc41\"], [0.9, \"#4d9221\"], [1, \"#276419\"]], \"sequential\": [[0.0, \"#0d0887\"], [0.1111111111111111, \"#46039f\"], [0.2222222222222222, \"#7201a8\"], [0.3333333333333333, \"#9c179e\"], [0.4444444444444444, \"#bd3786\"], [0.5555555555555556, \"#d8576b\"], [0.6666666666666666, \"#ed7953\"], [0.7777777777777778, \"#fb9f3a\"], [0.8888888888888888, \"#fdca26\"], [1.0, \"#f0f921\"]], \"sequentialminus\": [[0.0, \"#0d0887\"], [0.1111111111111111, \"#46039f\"], [0.2222222222222222, \"#7201a8\"], [0.3333333333333333, \"#9c179e\"], [0.4444444444444444, \"#bd3786\"], [0.5555555555555556, \"#d8576b\"], [0.6666666666666666, \"#ed7953\"], [0.7777777777777778, \"#fb9f3a\"], [0.8888888888888888, \"#fdca26\"], [1.0, \"#f0f921\"]]}, \"colorway\": [\"#636efa\", \"#EF553B\", \"#00cc96\", \"#ab63fa\", \"#FFA15A\", \"#19d3f3\", \"#FF6692\", \"#B6E880\", \"#FF97FF\", \"#FECB52\"], \"font\": {\"color\": \"#2a3f5f\"}, \"geo\": {\"bgcolor\": \"white\", \"lakecolor\": \"white\", \"landcolor\": \"#E5ECF6\", \"showlakes\": true, \"showland\": true, \"subunitcolor\": \"white\"}, \"hoverlabel\": {\"align\": \"left\"}, \"hovermode\": \"closest\", \"mapbox\": {\"style\": \"light\"}, \"paper_bgcolor\": \"white\", \"plot_bgcolor\": \"#E5ECF6\", \"polar\": {\"angularaxis\": {\"gridcolor\": \"white\", \"linecolor\": \"white\", \"ticks\": \"\"}, \"bgcolor\": \"#E5ECF6\", \"radialaxis\": {\"gridcolor\": \"white\", \"linecolor\": \"white\", \"ticks\": \"\"}}, \"scene\": {\"xaxis\": {\"backgroundcolor\": \"#E5ECF6\", \"gridcolor\": \"white\", \"gridwidth\": 2, \"linecolor\": \"white\", \"showbackground\": true, \"ticks\": \"\", \"zerolinecolor\": \"white\"}, \"yaxis\": {\"backgroundcolor\": \"#E5ECF6\", \"gridcolor\": \"white\", \"gridwidth\": 2, \"linecolor\": \"white\", \"showbackground\": true, \"ticks\": \"\", \"zerolinecolor\": \"white\"}, \"zaxis\": {\"backgroundcolor\": \"#E5ECF6\", \"gridcolor\": \"white\", \"gridwidth\": 2, \"linecolor\": \"white\", \"showbackground\": true, \"ticks\": \"\", \"zerolinecolor\": \"white\"}}, \"shapedefaults\": {\"line\": {\"color\": \"#2a3f5f\"}}, \"ternary\": {\"aaxis\": {\"gridcolor\": \"white\", \"linecolor\": \"white\", \"ticks\": \"\"}, \"baxis\": {\"gridcolor\": \"white\", \"linecolor\": \"white\", \"ticks\": \"\"}, \"bgcolor\": \"#E5ECF6\", \"caxis\": {\"gridcolor\": \"white\", \"linecolor\": \"white\", \"ticks\": \"\"}}, \"title\": {\"x\": 0.05}, \"xaxis\": {\"automargin\": true, \"gridcolor\": \"white\", \"linecolor\": \"white\", \"ticks\": \"\", \"title\": {\"standoff\": 15}, \"zerolinecolor\": \"white\", \"zerolinewidth\": 2}, \"yaxis\": {\"automargin\": true, \"gridcolor\": \"white\", \"linecolor\": \"white\", \"ticks\": \"\", \"title\": {\"standoff\": 15}, \"zerolinecolor\": \"white\", \"zerolinewidth\": 2}}}, \"title\": {\"font\": {\"color\": \"#4D5663\"}}, \"xaxis\": {\"gridcolor\": \"#E1E5ED\", \"showgrid\": true, \"tickfont\": {\"color\": \"#4D5663\"}, \"title\": {\"font\": {\"color\": \"#4D5663\"}, \"text\": \"\"}, \"zerolinecolor\": \"#E1E5ED\"}, \"yaxis\": {\"gridcolor\": \"#E1E5ED\", \"showgrid\": true, \"tickfont\": {\"color\": \"#4D5663\"}, \"title\": {\"font\": {\"color\": \"#4D5663\"}, \"text\": \"\"}, \"zerolinecolor\": \"#E1E5ED\"}},                        {\"showLink\": true, \"linkText\": \"Export to plot.ly\", \"plotlyServerURL\": \"https://plot.ly\", \"responsive\": true}                    ).then(function(){\n",
       "                            \n",
       "var gd = document.getElementById('5682970e-566e-4950-aade-3474f989ad11');\n",
       "var x = new MutationObserver(function (mutations, observer) {{\n",
       "        var display = window.getComputedStyle(gd).display;\n",
       "        if (!display || display === 'none') {{\n",
       "            console.log([gd, 'removed!']);\n",
       "            Plotly.purge(gd);\n",
       "            observer.disconnect();\n",
       "        }}\n",
       "}});\n",
       "\n",
       "// Listen for the removal of the full notebook cells\n",
       "var notebookContainer = gd.closest('#notebook-container');\n",
       "if (notebookContainer) {{\n",
       "    x.observe(notebookContainer, {childList: true});\n",
       "}}\n",
       "\n",
       "// Listen for the clearing of the current output cell\n",
       "var outputEl = gd.closest('.output');\n",
       "if (outputEl) {{\n",
       "    x.observe(outputEl, {childList: true});\n",
       "}}\n",
       "\n",
       "                        })                };                });            </script>        </div>"
      ]
     },
     "metadata": {},
     "output_type": "display_data"
    }
   ],
   "source": [
    "df3 = pd.DataFrame({'x':[1,2,3,4,5],'y':[10,20,30,20,10],'z':[5,4,3,2,1]})\n",
    "df3.iplot(kind='surface',colorscale='rdylbu')"
   ]
  },
  {
   "cell_type": "markdown",
   "metadata": {},
   "source": [
    "## Spread"
   ]
  },
  {
   "cell_type": "code",
   "execution_count": 16,
   "metadata": {},
   "outputs": [
    {
     "name": "stderr",
     "output_type": "stream",
     "text": [
      "/Users/a23/opt/anaconda3/lib/python3.8/site-packages/cufflinks/plotlytools.py:849: FutureWarning:\n",
      "\n",
      "The pandas.np module is deprecated and will be removed from pandas in a future version. Import numpy directly instead\n",
      "\n",
      "/Users/a23/opt/anaconda3/lib/python3.8/site-packages/cufflinks/plotlytools.py:850: FutureWarning:\n",
      "\n",
      "The pandas.np module is deprecated and will be removed from pandas in a future version. Import numpy directly instead\n",
      "\n"
     ]
    },
    {
     "data": {
      "application/vnd.plotly.v1+json": {
       "config": {
        "linkText": "Export to plot.ly",
        "plotlyServerURL": "https://plot.ly",
        "showLink": true
       },
       "data": [
        {
         "line": {
          "color": "rgba(255, 153, 51, 1.0)",
          "dash": "solid",
          "shape": "linear",
          "width": 1.3
         },
         "mode": "lines",
         "name": "A",
         "text": "",
         "type": "scatter",
         "x": [
          0,
          1,
          2,
          3,
          4,
          5,
          6,
          7,
          8,
          9,
          10,
          11,
          12,
          13,
          14,
          15,
          16,
          17,
          18,
          19,
          20,
          21,
          22,
          23,
          24,
          25,
          26,
          27,
          28,
          29,
          30,
          31,
          32,
          33,
          34,
          35,
          36,
          37,
          38,
          39,
          40,
          41,
          42,
          43,
          44,
          45,
          46,
          47,
          48,
          49,
          50,
          51,
          52,
          53,
          54,
          55,
          56,
          57,
          58,
          59,
          60,
          61,
          62,
          63,
          64,
          65,
          66,
          67,
          68,
          69,
          70,
          71,
          72,
          73,
          74,
          75,
          76,
          77,
          78,
          79,
          80,
          81,
          82,
          83,
          84,
          85,
          86,
          87,
          88,
          89,
          90,
          91,
          92,
          93,
          94,
          95,
          96,
          97,
          98,
          99
         ],
         "y": [
          0.42135637469066833,
          0.051787610039485656,
          -0.8859201272757309,
          1.127155918130127,
          0.05110503169809027,
          -1.3625779998716074,
          1.413463839091547,
          -1.0518298420858014,
          -1.4273371067642697,
          0.2167236110214108,
          0.1543785204974001,
          1.0307652297071481,
          -1.556770626777491,
          -0.846285335148641,
          -1.4475567856473346,
          0.28136297298603,
          0.16206068112953487,
          0.3415324132284915,
          -1.1033635133636706,
          0.8894648772645205,
          -1.8017630378505909,
          -0.14245031927646856,
          -0.8266858154440575,
          -0.7530689966357229,
          -2.0574608097003035,
          -1.8778506514905104,
          -0.08148361870194606,
          -0.9357959490775972,
          -0.6760913977083556,
          -1.1041299976906465,
          0.22052054948520405,
          -0.6208213787655636,
          -0.9832356528265209,
          0.3121875795693881,
          -0.044428851806542095,
          -0.6160413621576425,
          0.8338980770256911,
          -0.4078014558131567,
          1.1326628751514818,
          1.381820447729485,
          0.5870663051810776,
          -0.7226234218334454,
          0.637116486862654,
          0.810474475909267,
          2.70372528025538,
          0.6462466649527927,
          0.3743500129845283,
          0.17484316236836292,
          1.4641354227184749,
          -0.00834110773828608,
          1.0168581856522507,
          -0.46088217782489604,
          -1.5221428181584185,
          1.1085033065208867,
          -0.03359453206244407,
          0.13024239174967583,
          -1.1376425645386274,
          1.1102484582897623,
          0.12115485743688534,
          1.2269014026945384,
          -1.2118887477098856,
          -0.07302583552604484,
          -0.7657437595439366,
          0.014733537309346229,
          -1.7912003541024881,
          1.7244980639349405,
          -1.209570556075875,
          -1.1811987834399718,
          -1.3383168952142377,
          -0.23545845455329553,
          0.5455075698862204,
          0.5143435707195769,
          0.49970410382795577,
          -1.0087869177358482,
          1.5295395940774288,
          0.19968872339286142,
          0.2853967438038379,
          0.6267199329816086,
          0.7594740494277189,
          -2.2107520896395836,
          0.04207387549136959,
          -0.1009791017301549,
          -1.363303282286697,
          -2.1269648825992946,
          -0.9969616855723071,
          -0.16447434850235484,
          0.4579274109261358,
          -0.0501398598101201,
          0.9794488277108203,
          -0.6698307222391381,
          1.3153732821001494,
          0.05781171695218909,
          -0.7880077693551906,
          1.513297183883774,
          -1.2630353942419186,
          -0.8474541119052957,
          1.8675720657212853,
          0.8259412981691324,
          0.23634614857664427,
          -1.5622218215155599
         ]
        },
        {
         "line": {
          "color": "rgba(55, 128, 191, 1.0)",
          "dash": "solid",
          "shape": "linear",
          "width": 1.3
         },
         "mode": "lines",
         "name": "B",
         "text": "",
         "type": "scatter",
         "x": [
          0,
          1,
          2,
          3,
          4,
          5,
          6,
          7,
          8,
          9,
          10,
          11,
          12,
          13,
          14,
          15,
          16,
          17,
          18,
          19,
          20,
          21,
          22,
          23,
          24,
          25,
          26,
          27,
          28,
          29,
          30,
          31,
          32,
          33,
          34,
          35,
          36,
          37,
          38,
          39,
          40,
          41,
          42,
          43,
          44,
          45,
          46,
          47,
          48,
          49,
          50,
          51,
          52,
          53,
          54,
          55,
          56,
          57,
          58,
          59,
          60,
          61,
          62,
          63,
          64,
          65,
          66,
          67,
          68,
          69,
          70,
          71,
          72,
          73,
          74,
          75,
          76,
          77,
          78,
          79,
          80,
          81,
          82,
          83,
          84,
          85,
          86,
          87,
          88,
          89,
          90,
          91,
          92,
          93,
          94,
          95,
          96,
          97,
          98,
          99
         ],
         "y": [
          -0.6501201079452595,
          -0.6396703664807071,
          -0.14910624389792665,
          0.9191471993045957,
          -0.20408638918650238,
          -1.8339833921820385,
          -0.5336687782287028,
          1.1159759429939438,
          0.9687317127445674,
          -1.7400136162569626,
          0.21071196310648294,
          -0.6652480269305107,
          -0.5355523925508483,
          -0.5131492863893872,
          0.6857146627816957,
          1.098945987906431,
          -0.9348369343583188,
          -0.7325354095966315,
          0.021514349515909068,
          -1.0346009878659206,
          -0.17501231162040945,
          0.7367345313547262,
          -1.0897665770658538,
          -0.33938896768116844,
          2.0121374329786192,
          -0.6393950234441513,
          0.03647086107054639,
          -0.5948946033349691,
          1.4104386684965855,
          0.24031607468836597,
          0.013035966419714847,
          -0.20069232286431354,
          2.631987135365754,
          1.1402967549197727,
          -1.3480836252528436,
          -0.5419029514580261,
          0.35165958782611867,
          0.5574337761914983,
          0.5053362646599682,
          0.06694474269967485,
          -0.6160293085973875,
          -1.8467820531221697,
          0.23180264269673023,
          1.5710530598742847,
          0.16850544639523987,
          -0.5448421894097137,
          0.800392407126888,
          -0.3205623468664349,
          1.080515029284678,
          -1.7371274865461397,
          -1.89016032000533,
          0.6587944707237163,
          1.3712428758799025,
          -0.22839481245865867,
          -0.11743381153175035,
          0.08875123869894627,
          1.2534991446004125,
          -1.0050131736037835,
          -1.4849688355120898,
          0.6705897386978111,
          1.5984677392051143,
          -1.2645470074698082,
          0.7264911234789589,
          -2.3717085033683727,
          -1.4436789972254331,
          -0.40695984992958373,
          -0.4220425299401283,
          -1.4988249695855351,
          -1.1392043419422493,
          -0.25228704335304114,
          1.1690146052494421,
          -1.059060163146755,
          -0.6643372846194279,
          -1.8106561856144445,
          0.23156168713817965,
          0.4832174484382462,
          1.5349359636281692,
          0.7813633744015297,
          -0.14476594977734775,
          -1.191781902475107,
          1.1339137809138238,
          0.4633338142600121,
          1.6834801300382207,
          -0.04735403216966803,
          2.303170234529257,
          -1.588979977909511,
          0.15271731738318492,
          -0.7055727659267433,
          0.06895653776059535,
          0.4744135459499637,
          -1.7719303079565776,
          -0.3132926379621396,
          0.475239615161257,
          0.3984714410737094,
          -0.37273617218314103,
          -1.5892452468814993,
          1.383171377203694,
          0.3208732966941905,
          -0.33731818730533253,
          0.45105978115116213
         ]
        },
        {
         "connectgaps": false,
         "fill": "tozeroy",
         "line": {
          "color": "green",
          "dash": "solid",
          "shape": "linear",
          "width": 0.5
         },
         "mode": "lines",
         "name": "Spread",
         "showlegend": false,
         "type": "scatter",
         "x": [
          0,
          1,
          2,
          3,
          4,
          5,
          6,
          7,
          8,
          9,
          10,
          11,
          12,
          13,
          14,
          15,
          16,
          17,
          18,
          19,
          20,
          21,
          22,
          23,
          24,
          25,
          26,
          27,
          28,
          29,
          30,
          31,
          32,
          33,
          34,
          35,
          36,
          37,
          38,
          39,
          40,
          41,
          42,
          43,
          44,
          45,
          46,
          47,
          48,
          49,
          50,
          51,
          52,
          53,
          54,
          55,
          56,
          57,
          58,
          59,
          60,
          61,
          62,
          63,
          64,
          65,
          66,
          67,
          68,
          69,
          70,
          71,
          72,
          73,
          74,
          75,
          76,
          77,
          78,
          79,
          80,
          81,
          82,
          83,
          84,
          85,
          86,
          87,
          88,
          89,
          90,
          91,
          92,
          93,
          94,
          95,
          96,
          97,
          98,
          99
         ],
         "xaxis": "x2",
         "y": [
          1.0714764826359278,
          0.6914579765201927,
          "",
          0.2080087188255313,
          0.2551914208845926,
          0.4714053923104311,
          1.94713261732025,
          "",
          "",
          1.9567372272783734,
          "",
          1.696013256637659,
          "",
          "",
          "",
          "",
          1.0968976154878538,
          1.074067822825123,
          "",
          1.9240658651304412,
          "",
          "",
          0.2630807616217963,
          "",
          "",
          "",
          "",
          "",
          "",
          "",
          0.2074845830654892,
          "",
          "",
          "",
          1.3036547734463015,
          "",
          0.4822384891995724,
          "",
          0.6273266104915136,
          1.3148757050298103,
          1.2030956137784652,
          1.1241586312887244,
          0.40531384416592375,
          "",
          2.53521983386014,
          1.1910888543625064,
          "",
          0.49540550923479787,
          0.38362039343379695,
          1.7287863788078537,
          2.9070185056575806,
          "",
          "",
          1.3368981189795455,
          0.08383927946930628,
          0.04149115305072956,
          "",
          2.1152616318935458,
          1.606123692948975,
          0.5563116639967273,
          "",
          1.1915211719437633,
          "",
          2.3864420406777187,
          "",
          2.131457913864524,
          "",
          0.31762618614556337,
          "",
          0.01682858879974561,
          "",
          1.573403733866332,
          1.1640413884473837,
          0.8018692678785964,
          1.2979779069392492,
          "",
          "",
          "",
          0.9042399992050667,
          "",
          "",
          "",
          "",
          "",
          "",
          1.4245056294071563,
          0.3052100935429509,
          0.6554329061166232,
          0.910492289950225,
          "",
          3.087303590056727,
          0.3711043549143287,
          "",
          1.1148257428100647,
          "",
          0.7417911349762035,
          0.4844006885175913,
          0.5050680014749419,
          0.5736643358819769,
          ""
         ],
         "yaxis": "y2"
        },
        {
         "connectgaps": false,
         "fill": "tozeroy",
         "line": {
          "color": "red",
          "dash": "solid",
          "shape": "linear",
          "width": 0.5
         },
         "mode": "lines",
         "name": "Spread",
         "showlegend": false,
         "type": "scatter",
         "x": [
          0,
          1,
          2,
          3,
          4,
          5,
          6,
          7,
          8,
          9,
          10,
          11,
          12,
          13,
          14,
          15,
          16,
          17,
          18,
          19,
          20,
          21,
          22,
          23,
          24,
          25,
          26,
          27,
          28,
          29,
          30,
          31,
          32,
          33,
          34,
          35,
          36,
          37,
          38,
          39,
          40,
          41,
          42,
          43,
          44,
          45,
          46,
          47,
          48,
          49,
          50,
          51,
          52,
          53,
          54,
          55,
          56,
          57,
          58,
          59,
          60,
          61,
          62,
          63,
          64,
          65,
          66,
          67,
          68,
          69,
          70,
          71,
          72,
          73,
          74,
          75,
          76,
          77,
          78,
          79,
          80,
          81,
          82,
          83,
          84,
          85,
          86,
          87,
          88,
          89,
          90,
          91,
          92,
          93,
          94,
          95,
          96,
          97,
          98,
          99
         ],
         "xaxis": "x2",
         "y": [
          "",
          "",
          -0.7368138833778042,
          "",
          "",
          "",
          "",
          -2.167805785079745,
          -2.3960688195088373,
          "",
          -0.05633344260908282,
          "",
          -1.0212182342266427,
          -0.33313604875925384,
          -2.1332714484290305,
          -0.8175830149204009,
          "",
          "",
          -1.1248778628795797,
          "",
          -1.6267507262301815,
          -0.8791848506311948,
          "",
          -0.41368002895455447,
          -4.069598242678923,
          -1.238455628046359,
          -0.11795447977249246,
          -0.3409013457426281,
          -2.086530066204941,
          -1.3444460723790124,
          "",
          -0.4201290559012501,
          -3.6152227881922747,
          -0.8281091753503846,
          "",
          -0.07413841069961635,
          "",
          -0.9652352320046549,
          "",
          "",
          "",
          "",
          "",
          -0.7605785839650177,
          "",
          "",
          -0.42604239414235967,
          "",
          "",
          "",
          "",
          -1.1196766485486123,
          -2.893385694038321,
          "",
          "",
          "",
          -2.39114170913904,
          "",
          "",
          "",
          -2.810356486915,
          "",
          -1.4922348830228955,
          "",
          -0.347521356877055,
          "",
          -0.7875280261357467,
          "",
          -0.1991125532719884,
          "",
          -0.6235070353632217,
          "",
          "",
          "",
          "",
          -0.2835287250453848,
          -1.2495392198243314,
          -0.15464344141992115,
          "",
          -1.0189701871644765,
          -1.0918399054224541,
          -0.564312915990167,
          -3.046783412324918,
          -2.0796108504296265,
          -3.300131920101564,
          "",
          "",
          "",
          "",
          -1.1442442681891019,
          "",
          "",
          -1.2632473845164476,
          "",
          -0.8902992220587775,
          "",
          "",
          "",
          "",
          -2.013281602666722
         ],
         "yaxis": "y2"
        }
       ],
       "layout": {
        "hovermode": "x",
        "legend": {
         "bgcolor": "#F5F6F9",
         "font": {
          "color": "#4D5663"
         }
        },
        "paper_bgcolor": "#F5F6F9",
        "plot_bgcolor": "#F5F6F9",
        "template": {
         "data": {
          "bar": [
           {
            "error_x": {
             "color": "#2a3f5f"
            },
            "error_y": {
             "color": "#2a3f5f"
            },
            "marker": {
             "line": {
              "color": "#E5ECF6",
              "width": 0.5
             }
            },
            "type": "bar"
           }
          ],
          "barpolar": [
           {
            "marker": {
             "line": {
              "color": "#E5ECF6",
              "width": 0.5
             }
            },
            "type": "barpolar"
           }
          ],
          "carpet": [
           {
            "aaxis": {
             "endlinecolor": "#2a3f5f",
             "gridcolor": "white",
             "linecolor": "white",
             "minorgridcolor": "white",
             "startlinecolor": "#2a3f5f"
            },
            "baxis": {
             "endlinecolor": "#2a3f5f",
             "gridcolor": "white",
             "linecolor": "white",
             "minorgridcolor": "white",
             "startlinecolor": "#2a3f5f"
            },
            "type": "carpet"
           }
          ],
          "choropleth": [
           {
            "colorbar": {
             "outlinewidth": 0,
             "ticks": ""
            },
            "type": "choropleth"
           }
          ],
          "contour": [
           {
            "colorbar": {
             "outlinewidth": 0,
             "ticks": ""
            },
            "colorscale": [
             [
              0,
              "#0d0887"
             ],
             [
              0.1111111111111111,
              "#46039f"
             ],
             [
              0.2222222222222222,
              "#7201a8"
             ],
             [
              0.3333333333333333,
              "#9c179e"
             ],
             [
              0.4444444444444444,
              "#bd3786"
             ],
             [
              0.5555555555555556,
              "#d8576b"
             ],
             [
              0.6666666666666666,
              "#ed7953"
             ],
             [
              0.7777777777777778,
              "#fb9f3a"
             ],
             [
              0.8888888888888888,
              "#fdca26"
             ],
             [
              1,
              "#f0f921"
             ]
            ],
            "type": "contour"
           }
          ],
          "contourcarpet": [
           {
            "colorbar": {
             "outlinewidth": 0,
             "ticks": ""
            },
            "type": "contourcarpet"
           }
          ],
          "heatmap": [
           {
            "colorbar": {
             "outlinewidth": 0,
             "ticks": ""
            },
            "colorscale": [
             [
              0,
              "#0d0887"
             ],
             [
              0.1111111111111111,
              "#46039f"
             ],
             [
              0.2222222222222222,
              "#7201a8"
             ],
             [
              0.3333333333333333,
              "#9c179e"
             ],
             [
              0.4444444444444444,
              "#bd3786"
             ],
             [
              0.5555555555555556,
              "#d8576b"
             ],
             [
              0.6666666666666666,
              "#ed7953"
             ],
             [
              0.7777777777777778,
              "#fb9f3a"
             ],
             [
              0.8888888888888888,
              "#fdca26"
             ],
             [
              1,
              "#f0f921"
             ]
            ],
            "type": "heatmap"
           }
          ],
          "heatmapgl": [
           {
            "colorbar": {
             "outlinewidth": 0,
             "ticks": ""
            },
            "colorscale": [
             [
              0,
              "#0d0887"
             ],
             [
              0.1111111111111111,
              "#46039f"
             ],
             [
              0.2222222222222222,
              "#7201a8"
             ],
             [
              0.3333333333333333,
              "#9c179e"
             ],
             [
              0.4444444444444444,
              "#bd3786"
             ],
             [
              0.5555555555555556,
              "#d8576b"
             ],
             [
              0.6666666666666666,
              "#ed7953"
             ],
             [
              0.7777777777777778,
              "#fb9f3a"
             ],
             [
              0.8888888888888888,
              "#fdca26"
             ],
             [
              1,
              "#f0f921"
             ]
            ],
            "type": "heatmapgl"
           }
          ],
          "histogram": [
           {
            "marker": {
             "colorbar": {
              "outlinewidth": 0,
              "ticks": ""
             }
            },
            "type": "histogram"
           }
          ],
          "histogram2d": [
           {
            "colorbar": {
             "outlinewidth": 0,
             "ticks": ""
            },
            "colorscale": [
             [
              0,
              "#0d0887"
             ],
             [
              0.1111111111111111,
              "#46039f"
             ],
             [
              0.2222222222222222,
              "#7201a8"
             ],
             [
              0.3333333333333333,
              "#9c179e"
             ],
             [
              0.4444444444444444,
              "#bd3786"
             ],
             [
              0.5555555555555556,
              "#d8576b"
             ],
             [
              0.6666666666666666,
              "#ed7953"
             ],
             [
              0.7777777777777778,
              "#fb9f3a"
             ],
             [
              0.8888888888888888,
              "#fdca26"
             ],
             [
              1,
              "#f0f921"
             ]
            ],
            "type": "histogram2d"
           }
          ],
          "histogram2dcontour": [
           {
            "colorbar": {
             "outlinewidth": 0,
             "ticks": ""
            },
            "colorscale": [
             [
              0,
              "#0d0887"
             ],
             [
              0.1111111111111111,
              "#46039f"
             ],
             [
              0.2222222222222222,
              "#7201a8"
             ],
             [
              0.3333333333333333,
              "#9c179e"
             ],
             [
              0.4444444444444444,
              "#bd3786"
             ],
             [
              0.5555555555555556,
              "#d8576b"
             ],
             [
              0.6666666666666666,
              "#ed7953"
             ],
             [
              0.7777777777777778,
              "#fb9f3a"
             ],
             [
              0.8888888888888888,
              "#fdca26"
             ],
             [
              1,
              "#f0f921"
             ]
            ],
            "type": "histogram2dcontour"
           }
          ],
          "mesh3d": [
           {
            "colorbar": {
             "outlinewidth": 0,
             "ticks": ""
            },
            "type": "mesh3d"
           }
          ],
          "parcoords": [
           {
            "line": {
             "colorbar": {
              "outlinewidth": 0,
              "ticks": ""
             }
            },
            "type": "parcoords"
           }
          ],
          "pie": [
           {
            "automargin": true,
            "type": "pie"
           }
          ],
          "scatter": [
           {
            "marker": {
             "colorbar": {
              "outlinewidth": 0,
              "ticks": ""
             }
            },
            "type": "scatter"
           }
          ],
          "scatter3d": [
           {
            "line": {
             "colorbar": {
              "outlinewidth": 0,
              "ticks": ""
             }
            },
            "marker": {
             "colorbar": {
              "outlinewidth": 0,
              "ticks": ""
             }
            },
            "type": "scatter3d"
           }
          ],
          "scattercarpet": [
           {
            "marker": {
             "colorbar": {
              "outlinewidth": 0,
              "ticks": ""
             }
            },
            "type": "scattercarpet"
           }
          ],
          "scattergeo": [
           {
            "marker": {
             "colorbar": {
              "outlinewidth": 0,
              "ticks": ""
             }
            },
            "type": "scattergeo"
           }
          ],
          "scattergl": [
           {
            "marker": {
             "colorbar": {
              "outlinewidth": 0,
              "ticks": ""
             }
            },
            "type": "scattergl"
           }
          ],
          "scattermapbox": [
           {
            "marker": {
             "colorbar": {
              "outlinewidth": 0,
              "ticks": ""
             }
            },
            "type": "scattermapbox"
           }
          ],
          "scatterpolar": [
           {
            "marker": {
             "colorbar": {
              "outlinewidth": 0,
              "ticks": ""
             }
            },
            "type": "scatterpolar"
           }
          ],
          "scatterpolargl": [
           {
            "marker": {
             "colorbar": {
              "outlinewidth": 0,
              "ticks": ""
             }
            },
            "type": "scatterpolargl"
           }
          ],
          "scatterternary": [
           {
            "marker": {
             "colorbar": {
              "outlinewidth": 0,
              "ticks": ""
             }
            },
            "type": "scatterternary"
           }
          ],
          "surface": [
           {
            "colorbar": {
             "outlinewidth": 0,
             "ticks": ""
            },
            "colorscale": [
             [
              0,
              "#0d0887"
             ],
             [
              0.1111111111111111,
              "#46039f"
             ],
             [
              0.2222222222222222,
              "#7201a8"
             ],
             [
              0.3333333333333333,
              "#9c179e"
             ],
             [
              0.4444444444444444,
              "#bd3786"
             ],
             [
              0.5555555555555556,
              "#d8576b"
             ],
             [
              0.6666666666666666,
              "#ed7953"
             ],
             [
              0.7777777777777778,
              "#fb9f3a"
             ],
             [
              0.8888888888888888,
              "#fdca26"
             ],
             [
              1,
              "#f0f921"
             ]
            ],
            "type": "surface"
           }
          ],
          "table": [
           {
            "cells": {
             "fill": {
              "color": "#EBF0F8"
             },
             "line": {
              "color": "white"
             }
            },
            "header": {
             "fill": {
              "color": "#C8D4E3"
             },
             "line": {
              "color": "white"
             }
            },
            "type": "table"
           }
          ]
         },
         "layout": {
          "annotationdefaults": {
           "arrowcolor": "#2a3f5f",
           "arrowhead": 0,
           "arrowwidth": 1
          },
          "autotypenumbers": "strict",
          "coloraxis": {
           "colorbar": {
            "outlinewidth": 0,
            "ticks": ""
           }
          },
          "colorscale": {
           "diverging": [
            [
             0,
             "#8e0152"
            ],
            [
             0.1,
             "#c51b7d"
            ],
            [
             0.2,
             "#de77ae"
            ],
            [
             0.3,
             "#f1b6da"
            ],
            [
             0.4,
             "#fde0ef"
            ],
            [
             0.5,
             "#f7f7f7"
            ],
            [
             0.6,
             "#e6f5d0"
            ],
            [
             0.7,
             "#b8e186"
            ],
            [
             0.8,
             "#7fbc41"
            ],
            [
             0.9,
             "#4d9221"
            ],
            [
             1,
             "#276419"
            ]
           ],
           "sequential": [
            [
             0,
             "#0d0887"
            ],
            [
             0.1111111111111111,
             "#46039f"
            ],
            [
             0.2222222222222222,
             "#7201a8"
            ],
            [
             0.3333333333333333,
             "#9c179e"
            ],
            [
             0.4444444444444444,
             "#bd3786"
            ],
            [
             0.5555555555555556,
             "#d8576b"
            ],
            [
             0.6666666666666666,
             "#ed7953"
            ],
            [
             0.7777777777777778,
             "#fb9f3a"
            ],
            [
             0.8888888888888888,
             "#fdca26"
            ],
            [
             1,
             "#f0f921"
            ]
           ],
           "sequentialminus": [
            [
             0,
             "#0d0887"
            ],
            [
             0.1111111111111111,
             "#46039f"
            ],
            [
             0.2222222222222222,
             "#7201a8"
            ],
            [
             0.3333333333333333,
             "#9c179e"
            ],
            [
             0.4444444444444444,
             "#bd3786"
            ],
            [
             0.5555555555555556,
             "#d8576b"
            ],
            [
             0.6666666666666666,
             "#ed7953"
            ],
            [
             0.7777777777777778,
             "#fb9f3a"
            ],
            [
             0.8888888888888888,
             "#fdca26"
            ],
            [
             1,
             "#f0f921"
            ]
           ]
          },
          "colorway": [
           "#636efa",
           "#EF553B",
           "#00cc96",
           "#ab63fa",
           "#FFA15A",
           "#19d3f3",
           "#FF6692",
           "#B6E880",
           "#FF97FF",
           "#FECB52"
          ],
          "font": {
           "color": "#2a3f5f"
          },
          "geo": {
           "bgcolor": "white",
           "lakecolor": "white",
           "landcolor": "#E5ECF6",
           "showlakes": true,
           "showland": true,
           "subunitcolor": "white"
          },
          "hoverlabel": {
           "align": "left"
          },
          "hovermode": "closest",
          "mapbox": {
           "style": "light"
          },
          "paper_bgcolor": "white",
          "plot_bgcolor": "#E5ECF6",
          "polar": {
           "angularaxis": {
            "gridcolor": "white",
            "linecolor": "white",
            "ticks": ""
           },
           "bgcolor": "#E5ECF6",
           "radialaxis": {
            "gridcolor": "white",
            "linecolor": "white",
            "ticks": ""
           }
          },
          "scene": {
           "xaxis": {
            "backgroundcolor": "#E5ECF6",
            "gridcolor": "white",
            "gridwidth": 2,
            "linecolor": "white",
            "showbackground": true,
            "ticks": "",
            "zerolinecolor": "white"
           },
           "yaxis": {
            "backgroundcolor": "#E5ECF6",
            "gridcolor": "white",
            "gridwidth": 2,
            "linecolor": "white",
            "showbackground": true,
            "ticks": "",
            "zerolinecolor": "white"
           },
           "zaxis": {
            "backgroundcolor": "#E5ECF6",
            "gridcolor": "white",
            "gridwidth": 2,
            "linecolor": "white",
            "showbackground": true,
            "ticks": "",
            "zerolinecolor": "white"
           }
          },
          "shapedefaults": {
           "line": {
            "color": "#2a3f5f"
           }
          },
          "ternary": {
           "aaxis": {
            "gridcolor": "white",
            "linecolor": "white",
            "ticks": ""
           },
           "baxis": {
            "gridcolor": "white",
            "linecolor": "white",
            "ticks": ""
           },
           "bgcolor": "#E5ECF6",
           "caxis": {
            "gridcolor": "white",
            "linecolor": "white",
            "ticks": ""
           }
          },
          "title": {
           "x": 0.05
          },
          "xaxis": {
           "automargin": true,
           "gridcolor": "white",
           "linecolor": "white",
           "ticks": "",
           "title": {
            "standoff": 15
           },
           "zerolinecolor": "white",
           "zerolinewidth": 2
          },
          "yaxis": {
           "automargin": true,
           "gridcolor": "white",
           "linecolor": "white",
           "ticks": "",
           "title": {
            "standoff": 15
           },
           "zerolinecolor": "white",
           "zerolinewidth": 2
          }
         }
        },
        "title": {
         "font": {
          "color": "#4D5663"
         }
        },
        "xaxis": {
         "gridcolor": "#E1E5ED",
         "showgrid": true,
         "tickfont": {
          "color": "#4D5663"
         },
         "title": {
          "font": {
           "color": "#4D5663"
          },
          "text": ""
         },
         "zerolinecolor": "#E1E5ED"
        },
        "xaxis2": {
         "anchor": "y2",
         "gridcolor": "#E1E5ED",
         "showgrid": true,
         "showticklabels": false,
         "tickfont": {
          "color": "#4D5663"
         },
         "title": {
          "font": {
           "color": "#4D5663"
          },
          "text": ""
         },
         "zerolinecolor": "#E1E5ED"
        },
        "yaxis": {
         "domain": [
          0.3,
          1
         ],
         "gridcolor": "#E1E5ED",
         "showgrid": true,
         "tickfont": {
          "color": "#4D5663"
         },
         "title": {
          "font": {
           "color": "#4D5663"
          },
          "text": ""
         },
         "zerolinecolor": "#E1E5ED"
        },
        "yaxis2": {
         "domain": [
          0,
          0.25
         ],
         "gridcolor": "#E1E5ED",
         "showgrid": true,
         "tickfont": {
          "color": "#4D5663"
         },
         "title": {
          "font": {
           "color": "#4D5663"
          },
          "text": "Spread"
         },
         "zerolinecolor": "#E1E5ED"
        }
       }
      },
      "text/html": [
       "<div>                            <div id=\"fdba9d66-84d4-4007-842d-45a3f567e838\" class=\"plotly-graph-div\" style=\"height:525px; width:100%;\"></div>            <script type=\"text/javascript\">                require([\"plotly\"], function(Plotly) {                    window.PLOTLYENV=window.PLOTLYENV || {};\n",
       "                    window.PLOTLYENV.BASE_URL='https://plot.ly';                                    if (document.getElementById(\"fdba9d66-84d4-4007-842d-45a3f567e838\")) {                    Plotly.newPlot(                        \"fdba9d66-84d4-4007-842d-45a3f567e838\",                        [{\"line\": {\"color\": \"rgba(255, 153, 51, 1.0)\", \"dash\": \"solid\", \"shape\": \"linear\", \"width\": 1.3}, \"mode\": \"lines\", \"name\": \"A\", \"text\": \"\", \"type\": \"scatter\", \"x\": [0, 1, 2, 3, 4, 5, 6, 7, 8, 9, 10, 11, 12, 13, 14, 15, 16, 17, 18, 19, 20, 21, 22, 23, 24, 25, 26, 27, 28, 29, 30, 31, 32, 33, 34, 35, 36, 37, 38, 39, 40, 41, 42, 43, 44, 45, 46, 47, 48, 49, 50, 51, 52, 53, 54, 55, 56, 57, 58, 59, 60, 61, 62, 63, 64, 65, 66, 67, 68, 69, 70, 71, 72, 73, 74, 75, 76, 77, 78, 79, 80, 81, 82, 83, 84, 85, 86, 87, 88, 89, 90, 91, 92, 93, 94, 95, 96, 97, 98, 99], \"y\": [0.42135637469066833, 0.051787610039485656, -0.8859201272757309, 1.127155918130127, 0.05110503169809027, -1.3625779998716074, 1.413463839091547, -1.0518298420858014, -1.4273371067642697, 0.2167236110214108, 0.1543785204974001, 1.0307652297071481, -1.556770626777491, -0.846285335148641, -1.4475567856473346, 0.28136297298603, 0.16206068112953487, 0.3415324132284915, -1.1033635133636706, 0.8894648772645205, -1.8017630378505909, -0.14245031927646856, -0.8266858154440575, -0.7530689966357229, -2.0574608097003035, -1.8778506514905104, -0.08148361870194606, -0.9357959490775972, -0.6760913977083556, -1.1041299976906465, 0.22052054948520405, -0.6208213787655636, -0.9832356528265209, 0.3121875795693881, -0.044428851806542095, -0.6160413621576425, 0.8338980770256911, -0.4078014558131567, 1.1326628751514818, 1.381820447729485, 0.5870663051810776, -0.7226234218334454, 0.637116486862654, 0.810474475909267, 2.70372528025538, 0.6462466649527927, 0.3743500129845283, 0.17484316236836292, 1.4641354227184749, -0.00834110773828608, 1.0168581856522507, -0.46088217782489604, -1.5221428181584185, 1.1085033065208867, -0.03359453206244407, 0.13024239174967583, -1.1376425645386274, 1.1102484582897623, 0.12115485743688534, 1.2269014026945384, -1.2118887477098856, -0.07302583552604484, -0.7657437595439366, 0.014733537309346229, -1.7912003541024881, 1.7244980639349405, -1.209570556075875, -1.1811987834399718, -1.3383168952142377, -0.23545845455329553, 0.5455075698862204, 0.5143435707195769, 0.49970410382795577, -1.0087869177358482, 1.5295395940774288, 0.19968872339286142, 0.2853967438038379, 0.6267199329816086, 0.7594740494277189, -2.2107520896395836, 0.04207387549136959, -0.1009791017301549, -1.363303282286697, -2.1269648825992946, -0.9969616855723071, -0.16447434850235484, 0.4579274109261358, -0.0501398598101201, 0.9794488277108203, -0.6698307222391381, 1.3153732821001494, 0.05781171695218909, -0.7880077693551906, 1.513297183883774, -1.2630353942419186, -0.8474541119052957, 1.8675720657212853, 0.8259412981691324, 0.23634614857664427, -1.5622218215155599]}, {\"line\": {\"color\": \"rgba(55, 128, 191, 1.0)\", \"dash\": \"solid\", \"shape\": \"linear\", \"width\": 1.3}, \"mode\": \"lines\", \"name\": \"B\", \"text\": \"\", \"type\": \"scatter\", \"x\": [0, 1, 2, 3, 4, 5, 6, 7, 8, 9, 10, 11, 12, 13, 14, 15, 16, 17, 18, 19, 20, 21, 22, 23, 24, 25, 26, 27, 28, 29, 30, 31, 32, 33, 34, 35, 36, 37, 38, 39, 40, 41, 42, 43, 44, 45, 46, 47, 48, 49, 50, 51, 52, 53, 54, 55, 56, 57, 58, 59, 60, 61, 62, 63, 64, 65, 66, 67, 68, 69, 70, 71, 72, 73, 74, 75, 76, 77, 78, 79, 80, 81, 82, 83, 84, 85, 86, 87, 88, 89, 90, 91, 92, 93, 94, 95, 96, 97, 98, 99], \"y\": [-0.6501201079452595, -0.6396703664807071, -0.14910624389792665, 0.9191471993045957, -0.20408638918650238, -1.8339833921820385, -0.5336687782287028, 1.1159759429939438, 0.9687317127445674, -1.7400136162569626, 0.21071196310648294, -0.6652480269305107, -0.5355523925508483, -0.5131492863893872, 0.6857146627816957, 1.098945987906431, -0.9348369343583188, -0.7325354095966315, 0.021514349515909068, -1.0346009878659206, -0.17501231162040945, 0.7367345313547262, -1.0897665770658538, -0.33938896768116844, 2.0121374329786192, -0.6393950234441513, 0.03647086107054639, -0.5948946033349691, 1.4104386684965855, 0.24031607468836597, 0.013035966419714847, -0.20069232286431354, 2.631987135365754, 1.1402967549197727, -1.3480836252528436, -0.5419029514580261, 0.35165958782611867, 0.5574337761914983, 0.5053362646599682, 0.06694474269967485, -0.6160293085973875, -1.8467820531221697, 0.23180264269673023, 1.5710530598742847, 0.16850544639523987, -0.5448421894097137, 0.800392407126888, -0.3205623468664349, 1.080515029284678, -1.7371274865461397, -1.89016032000533, 0.6587944707237163, 1.3712428758799025, -0.22839481245865867, -0.11743381153175035, 0.08875123869894627, 1.2534991446004125, -1.0050131736037835, -1.4849688355120898, 0.6705897386978111, 1.5984677392051143, -1.2645470074698082, 0.7264911234789589, -2.3717085033683727, -1.4436789972254331, -0.40695984992958373, -0.4220425299401283, -1.4988249695855351, -1.1392043419422493, -0.25228704335304114, 1.1690146052494421, -1.059060163146755, -0.6643372846194279, -1.8106561856144445, 0.23156168713817965, 0.4832174484382462, 1.5349359636281692, 0.7813633744015297, -0.14476594977734775, -1.191781902475107, 1.1339137809138238, 0.4633338142600121, 1.6834801300382207, -0.04735403216966803, 2.303170234529257, -1.588979977909511, 0.15271731738318492, -0.7055727659267433, 0.06895653776059535, 0.4744135459499637, -1.7719303079565776, -0.3132926379621396, 0.475239615161257, 0.3984714410737094, -0.37273617218314103, -1.5892452468814993, 1.383171377203694, 0.3208732966941905, -0.33731818730533253, 0.45105978115116213]}, {\"connectgaps\": false, \"fill\": \"tozeroy\", \"line\": {\"color\": \"green\", \"dash\": \"solid\", \"shape\": \"linear\", \"width\": 0.5}, \"mode\": \"lines\", \"name\": \"Spread\", \"showlegend\": false, \"type\": \"scatter\", \"x\": [0, 1, 2, 3, 4, 5, 6, 7, 8, 9, 10, 11, 12, 13, 14, 15, 16, 17, 18, 19, 20, 21, 22, 23, 24, 25, 26, 27, 28, 29, 30, 31, 32, 33, 34, 35, 36, 37, 38, 39, 40, 41, 42, 43, 44, 45, 46, 47, 48, 49, 50, 51, 52, 53, 54, 55, 56, 57, 58, 59, 60, 61, 62, 63, 64, 65, 66, 67, 68, 69, 70, 71, 72, 73, 74, 75, 76, 77, 78, 79, 80, 81, 82, 83, 84, 85, 86, 87, 88, 89, 90, 91, 92, 93, 94, 95, 96, 97, 98, 99], \"xaxis\": \"x2\", \"y\": [1.0714764826359278, 0.6914579765201927, \"\", 0.2080087188255313, 0.2551914208845926, 0.4714053923104311, 1.94713261732025, \"\", \"\", 1.9567372272783734, \"\", 1.696013256637659, \"\", \"\", \"\", \"\", 1.0968976154878538, 1.074067822825123, \"\", 1.9240658651304412, \"\", \"\", 0.2630807616217963, \"\", \"\", \"\", \"\", \"\", \"\", \"\", 0.2074845830654892, \"\", \"\", \"\", 1.3036547734463015, \"\", 0.4822384891995724, \"\", 0.6273266104915136, 1.3148757050298103, 1.2030956137784652, 1.1241586312887244, 0.40531384416592375, \"\", 2.53521983386014, 1.1910888543625064, \"\", 0.49540550923479787, 0.38362039343379695, 1.7287863788078537, 2.9070185056575806, \"\", \"\", 1.3368981189795455, 0.08383927946930628, 0.04149115305072956, \"\", 2.1152616318935458, 1.606123692948975, 0.5563116639967273, \"\", 1.1915211719437633, \"\", 2.3864420406777187, \"\", 2.131457913864524, \"\", 0.31762618614556337, \"\", 0.01682858879974561, \"\", 1.573403733866332, 1.1640413884473837, 0.8018692678785964, 1.2979779069392492, \"\", \"\", \"\", 0.9042399992050667, \"\", \"\", \"\", \"\", \"\", \"\", 1.4245056294071563, 0.3052100935429509, 0.6554329061166232, 0.910492289950225, \"\", 3.087303590056727, 0.3711043549143287, \"\", 1.1148257428100647, \"\", 0.7417911349762035, 0.4844006885175913, 0.5050680014749419, 0.5736643358819769, \"\"], \"yaxis\": \"y2\"}, {\"connectgaps\": false, \"fill\": \"tozeroy\", \"line\": {\"color\": \"red\", \"dash\": \"solid\", \"shape\": \"linear\", \"width\": 0.5}, \"mode\": \"lines\", \"name\": \"Spread\", \"showlegend\": false, \"type\": \"scatter\", \"x\": [0, 1, 2, 3, 4, 5, 6, 7, 8, 9, 10, 11, 12, 13, 14, 15, 16, 17, 18, 19, 20, 21, 22, 23, 24, 25, 26, 27, 28, 29, 30, 31, 32, 33, 34, 35, 36, 37, 38, 39, 40, 41, 42, 43, 44, 45, 46, 47, 48, 49, 50, 51, 52, 53, 54, 55, 56, 57, 58, 59, 60, 61, 62, 63, 64, 65, 66, 67, 68, 69, 70, 71, 72, 73, 74, 75, 76, 77, 78, 79, 80, 81, 82, 83, 84, 85, 86, 87, 88, 89, 90, 91, 92, 93, 94, 95, 96, 97, 98, 99], \"xaxis\": \"x2\", \"y\": [\"\", \"\", -0.7368138833778042, \"\", \"\", \"\", \"\", -2.167805785079745, -2.3960688195088373, \"\", -0.05633344260908282, \"\", -1.0212182342266427, -0.33313604875925384, -2.1332714484290305, -0.8175830149204009, \"\", \"\", -1.1248778628795797, \"\", -1.6267507262301815, -0.8791848506311948, \"\", -0.41368002895455447, -4.069598242678923, -1.238455628046359, -0.11795447977249246, -0.3409013457426281, -2.086530066204941, -1.3444460723790124, \"\", -0.4201290559012501, -3.6152227881922747, -0.8281091753503846, \"\", -0.07413841069961635, \"\", -0.9652352320046549, \"\", \"\", \"\", \"\", \"\", -0.7605785839650177, \"\", \"\", -0.42604239414235967, \"\", \"\", \"\", \"\", -1.1196766485486123, -2.893385694038321, \"\", \"\", \"\", -2.39114170913904, \"\", \"\", \"\", -2.810356486915, \"\", -1.4922348830228955, \"\", -0.347521356877055, \"\", -0.7875280261357467, \"\", -0.1991125532719884, \"\", -0.6235070353632217, \"\", \"\", \"\", \"\", -0.2835287250453848, -1.2495392198243314, -0.15464344141992115, \"\", -1.0189701871644765, -1.0918399054224541, -0.564312915990167, -3.046783412324918, -2.0796108504296265, -3.300131920101564, \"\", \"\", \"\", \"\", -1.1442442681891019, \"\", \"\", -1.2632473845164476, \"\", -0.8902992220587775, \"\", \"\", \"\", \"\", -2.013281602666722], \"yaxis\": \"y2\"}],                        {\"hovermode\": \"x\", \"legend\": {\"bgcolor\": \"#F5F6F9\", \"font\": {\"color\": \"#4D5663\"}}, \"paper_bgcolor\": \"#F5F6F9\", \"plot_bgcolor\": \"#F5F6F9\", \"template\": {\"data\": {\"bar\": [{\"error_x\": {\"color\": \"#2a3f5f\"}, \"error_y\": {\"color\": \"#2a3f5f\"}, \"marker\": {\"line\": {\"color\": \"#E5ECF6\", \"width\": 0.5}}, \"type\": \"bar\"}], \"barpolar\": [{\"marker\": {\"line\": {\"color\": \"#E5ECF6\", \"width\": 0.5}}, \"type\": \"barpolar\"}], \"carpet\": [{\"aaxis\": {\"endlinecolor\": \"#2a3f5f\", \"gridcolor\": \"white\", \"linecolor\": \"white\", \"minorgridcolor\": \"white\", \"startlinecolor\": \"#2a3f5f\"}, \"baxis\": {\"endlinecolor\": \"#2a3f5f\", \"gridcolor\": \"white\", \"linecolor\": \"white\", \"minorgridcolor\": \"white\", \"startlinecolor\": \"#2a3f5f\"}, \"type\": \"carpet\"}], \"choropleth\": [{\"colorbar\": {\"outlinewidth\": 0, \"ticks\": \"\"}, \"type\": \"choropleth\"}], \"contour\": [{\"colorbar\": {\"outlinewidth\": 0, \"ticks\": \"\"}, \"colorscale\": [[0.0, \"#0d0887\"], [0.1111111111111111, \"#46039f\"], [0.2222222222222222, \"#7201a8\"], [0.3333333333333333, \"#9c179e\"], [0.4444444444444444, \"#bd3786\"], [0.5555555555555556, \"#d8576b\"], [0.6666666666666666, \"#ed7953\"], [0.7777777777777778, \"#fb9f3a\"], [0.8888888888888888, \"#fdca26\"], [1.0, \"#f0f921\"]], \"type\": \"contour\"}], \"contourcarpet\": [{\"colorbar\": {\"outlinewidth\": 0, \"ticks\": \"\"}, \"type\": \"contourcarpet\"}], \"heatmap\": [{\"colorbar\": {\"outlinewidth\": 0, \"ticks\": \"\"}, \"colorscale\": [[0.0, \"#0d0887\"], [0.1111111111111111, \"#46039f\"], [0.2222222222222222, \"#7201a8\"], [0.3333333333333333, \"#9c179e\"], [0.4444444444444444, \"#bd3786\"], [0.5555555555555556, \"#d8576b\"], [0.6666666666666666, \"#ed7953\"], [0.7777777777777778, \"#fb9f3a\"], [0.8888888888888888, \"#fdca26\"], [1.0, \"#f0f921\"]], \"type\": \"heatmap\"}], \"heatmapgl\": [{\"colorbar\": {\"outlinewidth\": 0, \"ticks\": \"\"}, \"colorscale\": [[0.0, \"#0d0887\"], [0.1111111111111111, \"#46039f\"], [0.2222222222222222, \"#7201a8\"], [0.3333333333333333, \"#9c179e\"], [0.4444444444444444, \"#bd3786\"], [0.5555555555555556, \"#d8576b\"], [0.6666666666666666, \"#ed7953\"], [0.7777777777777778, \"#fb9f3a\"], [0.8888888888888888, \"#fdca26\"], [1.0, \"#f0f921\"]], \"type\": \"heatmapgl\"}], \"histogram\": [{\"marker\": {\"colorbar\": {\"outlinewidth\": 0, \"ticks\": \"\"}}, \"type\": \"histogram\"}], \"histogram2d\": [{\"colorbar\": {\"outlinewidth\": 0, \"ticks\": \"\"}, \"colorscale\": [[0.0, \"#0d0887\"], [0.1111111111111111, \"#46039f\"], [0.2222222222222222, \"#7201a8\"], [0.3333333333333333, \"#9c179e\"], [0.4444444444444444, \"#bd3786\"], [0.5555555555555556, \"#d8576b\"], [0.6666666666666666, \"#ed7953\"], [0.7777777777777778, \"#fb9f3a\"], [0.8888888888888888, \"#fdca26\"], [1.0, \"#f0f921\"]], \"type\": \"histogram2d\"}], \"histogram2dcontour\": [{\"colorbar\": {\"outlinewidth\": 0, \"ticks\": \"\"}, \"colorscale\": [[0.0, \"#0d0887\"], [0.1111111111111111, \"#46039f\"], [0.2222222222222222, \"#7201a8\"], [0.3333333333333333, \"#9c179e\"], [0.4444444444444444, \"#bd3786\"], [0.5555555555555556, \"#d8576b\"], [0.6666666666666666, \"#ed7953\"], [0.7777777777777778, \"#fb9f3a\"], [0.8888888888888888, \"#fdca26\"], [1.0, \"#f0f921\"]], \"type\": \"histogram2dcontour\"}], \"mesh3d\": [{\"colorbar\": {\"outlinewidth\": 0, \"ticks\": \"\"}, \"type\": \"mesh3d\"}], \"parcoords\": [{\"line\": {\"colorbar\": {\"outlinewidth\": 0, \"ticks\": \"\"}}, \"type\": \"parcoords\"}], \"pie\": [{\"automargin\": true, \"type\": \"pie\"}], \"scatter\": [{\"marker\": {\"colorbar\": {\"outlinewidth\": 0, \"ticks\": \"\"}}, \"type\": \"scatter\"}], \"scatter3d\": [{\"line\": {\"colorbar\": {\"outlinewidth\": 0, \"ticks\": \"\"}}, \"marker\": {\"colorbar\": {\"outlinewidth\": 0, \"ticks\": \"\"}}, \"type\": \"scatter3d\"}], \"scattercarpet\": [{\"marker\": {\"colorbar\": {\"outlinewidth\": 0, \"ticks\": \"\"}}, \"type\": \"scattercarpet\"}], \"scattergeo\": [{\"marker\": {\"colorbar\": {\"outlinewidth\": 0, \"ticks\": \"\"}}, \"type\": \"scattergeo\"}], \"scattergl\": [{\"marker\": {\"colorbar\": {\"outlinewidth\": 0, \"ticks\": \"\"}}, \"type\": \"scattergl\"}], \"scattermapbox\": [{\"marker\": {\"colorbar\": {\"outlinewidth\": 0, \"ticks\": \"\"}}, \"type\": \"scattermapbox\"}], \"scatterpolar\": [{\"marker\": {\"colorbar\": {\"outlinewidth\": 0, \"ticks\": \"\"}}, \"type\": \"scatterpolar\"}], \"scatterpolargl\": [{\"marker\": {\"colorbar\": {\"outlinewidth\": 0, \"ticks\": \"\"}}, \"type\": \"scatterpolargl\"}], \"scatterternary\": [{\"marker\": {\"colorbar\": {\"outlinewidth\": 0, \"ticks\": \"\"}}, \"type\": \"scatterternary\"}], \"surface\": [{\"colorbar\": {\"outlinewidth\": 0, \"ticks\": \"\"}, \"colorscale\": [[0.0, \"#0d0887\"], [0.1111111111111111, \"#46039f\"], [0.2222222222222222, \"#7201a8\"], [0.3333333333333333, \"#9c179e\"], [0.4444444444444444, \"#bd3786\"], [0.5555555555555556, \"#d8576b\"], [0.6666666666666666, \"#ed7953\"], [0.7777777777777778, \"#fb9f3a\"], [0.8888888888888888, \"#fdca26\"], [1.0, \"#f0f921\"]], \"type\": \"surface\"}], \"table\": [{\"cells\": {\"fill\": {\"color\": \"#EBF0F8\"}, \"line\": {\"color\": \"white\"}}, \"header\": {\"fill\": {\"color\": \"#C8D4E3\"}, \"line\": {\"color\": \"white\"}}, \"type\": \"table\"}]}, \"layout\": {\"annotationdefaults\": {\"arrowcolor\": \"#2a3f5f\", \"arrowhead\": 0, \"arrowwidth\": 1}, \"autotypenumbers\": \"strict\", \"coloraxis\": {\"colorbar\": {\"outlinewidth\": 0, \"ticks\": \"\"}}, \"colorscale\": {\"diverging\": [[0, \"#8e0152\"], [0.1, \"#c51b7d\"], [0.2, \"#de77ae\"], [0.3, \"#f1b6da\"], [0.4, \"#fde0ef\"], [0.5, \"#f7f7f7\"], [0.6, \"#e6f5d0\"], [0.7, \"#b8e186\"], [0.8, \"#7fbc41\"], [0.9, \"#4d9221\"], [1, \"#276419\"]], \"sequential\": [[0.0, \"#0d0887\"], [0.1111111111111111, \"#46039f\"], [0.2222222222222222, \"#7201a8\"], [0.3333333333333333, \"#9c179e\"], [0.4444444444444444, \"#bd3786\"], [0.5555555555555556, \"#d8576b\"], [0.6666666666666666, \"#ed7953\"], [0.7777777777777778, \"#fb9f3a\"], [0.8888888888888888, \"#fdca26\"], [1.0, \"#f0f921\"]], \"sequentialminus\": [[0.0, \"#0d0887\"], [0.1111111111111111, \"#46039f\"], [0.2222222222222222, \"#7201a8\"], [0.3333333333333333, \"#9c179e\"], [0.4444444444444444, \"#bd3786\"], [0.5555555555555556, \"#d8576b\"], [0.6666666666666666, \"#ed7953\"], [0.7777777777777778, \"#fb9f3a\"], [0.8888888888888888, \"#fdca26\"], [1.0, \"#f0f921\"]]}, \"colorway\": [\"#636efa\", \"#EF553B\", \"#00cc96\", \"#ab63fa\", \"#FFA15A\", \"#19d3f3\", \"#FF6692\", \"#B6E880\", \"#FF97FF\", \"#FECB52\"], \"font\": {\"color\": \"#2a3f5f\"}, \"geo\": {\"bgcolor\": \"white\", \"lakecolor\": \"white\", \"landcolor\": \"#E5ECF6\", \"showlakes\": true, \"showland\": true, \"subunitcolor\": \"white\"}, \"hoverlabel\": {\"align\": \"left\"}, \"hovermode\": \"closest\", \"mapbox\": {\"style\": \"light\"}, \"paper_bgcolor\": \"white\", \"plot_bgcolor\": \"#E5ECF6\", \"polar\": {\"angularaxis\": {\"gridcolor\": \"white\", \"linecolor\": \"white\", \"ticks\": \"\"}, \"bgcolor\": \"#E5ECF6\", \"radialaxis\": {\"gridcolor\": \"white\", \"linecolor\": \"white\", \"ticks\": \"\"}}, \"scene\": {\"xaxis\": {\"backgroundcolor\": \"#E5ECF6\", \"gridcolor\": \"white\", \"gridwidth\": 2, \"linecolor\": \"white\", \"showbackground\": true, \"ticks\": \"\", \"zerolinecolor\": \"white\"}, \"yaxis\": {\"backgroundcolor\": \"#E5ECF6\", \"gridcolor\": \"white\", \"gridwidth\": 2, \"linecolor\": \"white\", \"showbackground\": true, \"ticks\": \"\", \"zerolinecolor\": \"white\"}, \"zaxis\": {\"backgroundcolor\": \"#E5ECF6\", \"gridcolor\": \"white\", \"gridwidth\": 2, \"linecolor\": \"white\", \"showbackground\": true, \"ticks\": \"\", \"zerolinecolor\": \"white\"}}, \"shapedefaults\": {\"line\": {\"color\": \"#2a3f5f\"}}, \"ternary\": {\"aaxis\": {\"gridcolor\": \"white\", \"linecolor\": \"white\", \"ticks\": \"\"}, \"baxis\": {\"gridcolor\": \"white\", \"linecolor\": \"white\", \"ticks\": \"\"}, \"bgcolor\": \"#E5ECF6\", \"caxis\": {\"gridcolor\": \"white\", \"linecolor\": \"white\", \"ticks\": \"\"}}, \"title\": {\"x\": 0.05}, \"xaxis\": {\"automargin\": true, \"gridcolor\": \"white\", \"linecolor\": \"white\", \"ticks\": \"\", \"title\": {\"standoff\": 15}, \"zerolinecolor\": \"white\", \"zerolinewidth\": 2}, \"yaxis\": {\"automargin\": true, \"gridcolor\": \"white\", \"linecolor\": \"white\", \"ticks\": \"\", \"title\": {\"standoff\": 15}, \"zerolinecolor\": \"white\", \"zerolinewidth\": 2}}}, \"title\": {\"font\": {\"color\": \"#4D5663\"}}, \"xaxis\": {\"gridcolor\": \"#E1E5ED\", \"showgrid\": true, \"tickfont\": {\"color\": \"#4D5663\"}, \"title\": {\"font\": {\"color\": \"#4D5663\"}, \"text\": \"\"}, \"zerolinecolor\": \"#E1E5ED\"}, \"xaxis2\": {\"anchor\": \"y2\", \"gridcolor\": \"#E1E5ED\", \"showgrid\": true, \"showticklabels\": false, \"tickfont\": {\"color\": \"#4D5663\"}, \"title\": {\"font\": {\"color\": \"#4D5663\"}, \"text\": \"\"}, \"zerolinecolor\": \"#E1E5ED\"}, \"yaxis\": {\"domain\": [0.3, 1], \"gridcolor\": \"#E1E5ED\", \"showgrid\": true, \"tickfont\": {\"color\": \"#4D5663\"}, \"title\": {\"font\": {\"color\": \"#4D5663\"}, \"text\": \"\"}, \"zerolinecolor\": \"#E1E5ED\"}, \"yaxis2\": {\"domain\": [0, 0.25], \"gridcolor\": \"#E1E5ED\", \"showgrid\": true, \"tickfont\": {\"color\": \"#4D5663\"}, \"title\": {\"font\": {\"color\": \"#4D5663\"}, \"text\": \"Spread\"}, \"zerolinecolor\": \"#E1E5ED\"}},                        {\"showLink\": true, \"linkText\": \"Export to plot.ly\", \"plotlyServerURL\": \"https://plot.ly\", \"responsive\": true}                    ).then(function(){\n",
       "                            \n",
       "var gd = document.getElementById('fdba9d66-84d4-4007-842d-45a3f567e838');\n",
       "var x = new MutationObserver(function (mutations, observer) {{\n",
       "        var display = window.getComputedStyle(gd).display;\n",
       "        if (!display || display === 'none') {{\n",
       "            console.log([gd, 'removed!']);\n",
       "            Plotly.purge(gd);\n",
       "            observer.disconnect();\n",
       "        }}\n",
       "}});\n",
       "\n",
       "// Listen for the removal of the full notebook cells\n",
       "var notebookContainer = gd.closest('#notebook-container');\n",
       "if (notebookContainer) {{\n",
       "    x.observe(notebookContainer, {childList: true});\n",
       "}}\n",
       "\n",
       "// Listen for the clearing of the current output cell\n",
       "var outputEl = gd.closest('.output');\n",
       "if (outputEl) {{\n",
       "    x.observe(outputEl, {childList: true});\n",
       "}}\n",
       "\n",
       "                        })                };                });            </script>        </div>"
      ]
     },
     "metadata": {},
     "output_type": "display_data"
    }
   ],
   "source": [
    "df[['A','B']].iplot(kind='spread')"
   ]
  },
  {
   "cell_type": "markdown",
   "metadata": {},
   "source": [
    "## histogram"
   ]
  },
  {
   "cell_type": "code",
   "execution_count": 17,
   "metadata": {},
   "outputs": [
    {
     "data": {
      "application/vnd.plotly.v1+json": {
       "config": {
        "linkText": "Export to plot.ly",
        "plotlyServerURL": "https://plot.ly",
        "showLink": true
       },
       "data": [
        {
         "histfunc": "count",
         "histnorm": "",
         "marker": {
          "color": "rgba(255, 153, 51, 1.0)",
          "line": {
           "color": "#4D5663",
           "width": 1.3
          }
         },
         "name": "A",
         "nbinsx": 25,
         "opacity": 0.8,
         "orientation": "v",
         "type": "histogram",
         "x": [
          0.42135637469066833,
          0.051787610039485656,
          -0.8859201272757309,
          1.127155918130127,
          0.05110503169809027,
          -1.3625779998716074,
          1.413463839091547,
          -1.0518298420858014,
          -1.4273371067642697,
          0.2167236110214108,
          0.1543785204974001,
          1.0307652297071481,
          -1.556770626777491,
          -0.846285335148641,
          -1.4475567856473346,
          0.28136297298603,
          0.16206068112953487,
          0.3415324132284915,
          -1.1033635133636706,
          0.8894648772645205,
          -1.8017630378505909,
          -0.14245031927646856,
          -0.8266858154440575,
          -0.7530689966357229,
          -2.0574608097003035,
          -1.8778506514905104,
          -0.08148361870194606,
          -0.9357959490775972,
          -0.6760913977083556,
          -1.1041299976906465,
          0.22052054948520405,
          -0.6208213787655636,
          -0.9832356528265209,
          0.3121875795693881,
          -0.044428851806542095,
          -0.6160413621576425,
          0.8338980770256911,
          -0.4078014558131567,
          1.1326628751514818,
          1.381820447729485,
          0.5870663051810776,
          -0.7226234218334454,
          0.637116486862654,
          0.810474475909267,
          2.70372528025538,
          0.6462466649527927,
          0.3743500129845283,
          0.17484316236836292,
          1.4641354227184749,
          -0.00834110773828608,
          1.0168581856522507,
          -0.46088217782489604,
          -1.5221428181584185,
          1.1085033065208867,
          -0.03359453206244407,
          0.13024239174967583,
          -1.1376425645386274,
          1.1102484582897623,
          0.12115485743688534,
          1.2269014026945384,
          -1.2118887477098856,
          -0.07302583552604484,
          -0.7657437595439366,
          0.014733537309346229,
          -1.7912003541024881,
          1.7244980639349405,
          -1.209570556075875,
          -1.1811987834399718,
          -1.3383168952142377,
          -0.23545845455329553,
          0.5455075698862204,
          0.5143435707195769,
          0.49970410382795577,
          -1.0087869177358482,
          1.5295395940774288,
          0.19968872339286142,
          0.2853967438038379,
          0.6267199329816086,
          0.7594740494277189,
          -2.2107520896395836,
          0.04207387549136959,
          -0.1009791017301549,
          -1.363303282286697,
          -2.1269648825992946,
          -0.9969616855723071,
          -0.16447434850235484,
          0.4579274109261358,
          -0.0501398598101201,
          0.9794488277108203,
          -0.6698307222391381,
          1.3153732821001494,
          0.05781171695218909,
          -0.7880077693551906,
          1.513297183883774,
          -1.2630353942419186,
          -0.8474541119052957,
          1.8675720657212853,
          0.8259412981691324,
          0.23634614857664427,
          -1.5622218215155599
         ]
        }
       ],
       "layout": {
        "barmode": "overlay",
        "legend": {
         "bgcolor": "#F5F6F9",
         "font": {
          "color": "#4D5663"
         }
        },
        "paper_bgcolor": "#F5F6F9",
        "plot_bgcolor": "#F5F6F9",
        "template": {
         "data": {
          "bar": [
           {
            "error_x": {
             "color": "#2a3f5f"
            },
            "error_y": {
             "color": "#2a3f5f"
            },
            "marker": {
             "line": {
              "color": "#E5ECF6",
              "width": 0.5
             }
            },
            "type": "bar"
           }
          ],
          "barpolar": [
           {
            "marker": {
             "line": {
              "color": "#E5ECF6",
              "width": 0.5
             }
            },
            "type": "barpolar"
           }
          ],
          "carpet": [
           {
            "aaxis": {
             "endlinecolor": "#2a3f5f",
             "gridcolor": "white",
             "linecolor": "white",
             "minorgridcolor": "white",
             "startlinecolor": "#2a3f5f"
            },
            "baxis": {
             "endlinecolor": "#2a3f5f",
             "gridcolor": "white",
             "linecolor": "white",
             "minorgridcolor": "white",
             "startlinecolor": "#2a3f5f"
            },
            "type": "carpet"
           }
          ],
          "choropleth": [
           {
            "colorbar": {
             "outlinewidth": 0,
             "ticks": ""
            },
            "type": "choropleth"
           }
          ],
          "contour": [
           {
            "colorbar": {
             "outlinewidth": 0,
             "ticks": ""
            },
            "colorscale": [
             [
              0,
              "#0d0887"
             ],
             [
              0.1111111111111111,
              "#46039f"
             ],
             [
              0.2222222222222222,
              "#7201a8"
             ],
             [
              0.3333333333333333,
              "#9c179e"
             ],
             [
              0.4444444444444444,
              "#bd3786"
             ],
             [
              0.5555555555555556,
              "#d8576b"
             ],
             [
              0.6666666666666666,
              "#ed7953"
             ],
             [
              0.7777777777777778,
              "#fb9f3a"
             ],
             [
              0.8888888888888888,
              "#fdca26"
             ],
             [
              1,
              "#f0f921"
             ]
            ],
            "type": "contour"
           }
          ],
          "contourcarpet": [
           {
            "colorbar": {
             "outlinewidth": 0,
             "ticks": ""
            },
            "type": "contourcarpet"
           }
          ],
          "heatmap": [
           {
            "colorbar": {
             "outlinewidth": 0,
             "ticks": ""
            },
            "colorscale": [
             [
              0,
              "#0d0887"
             ],
             [
              0.1111111111111111,
              "#46039f"
             ],
             [
              0.2222222222222222,
              "#7201a8"
             ],
             [
              0.3333333333333333,
              "#9c179e"
             ],
             [
              0.4444444444444444,
              "#bd3786"
             ],
             [
              0.5555555555555556,
              "#d8576b"
             ],
             [
              0.6666666666666666,
              "#ed7953"
             ],
             [
              0.7777777777777778,
              "#fb9f3a"
             ],
             [
              0.8888888888888888,
              "#fdca26"
             ],
             [
              1,
              "#f0f921"
             ]
            ],
            "type": "heatmap"
           }
          ],
          "heatmapgl": [
           {
            "colorbar": {
             "outlinewidth": 0,
             "ticks": ""
            },
            "colorscale": [
             [
              0,
              "#0d0887"
             ],
             [
              0.1111111111111111,
              "#46039f"
             ],
             [
              0.2222222222222222,
              "#7201a8"
             ],
             [
              0.3333333333333333,
              "#9c179e"
             ],
             [
              0.4444444444444444,
              "#bd3786"
             ],
             [
              0.5555555555555556,
              "#d8576b"
             ],
             [
              0.6666666666666666,
              "#ed7953"
             ],
             [
              0.7777777777777778,
              "#fb9f3a"
             ],
             [
              0.8888888888888888,
              "#fdca26"
             ],
             [
              1,
              "#f0f921"
             ]
            ],
            "type": "heatmapgl"
           }
          ],
          "histogram": [
           {
            "marker": {
             "colorbar": {
              "outlinewidth": 0,
              "ticks": ""
             }
            },
            "type": "histogram"
           }
          ],
          "histogram2d": [
           {
            "colorbar": {
             "outlinewidth": 0,
             "ticks": ""
            },
            "colorscale": [
             [
              0,
              "#0d0887"
             ],
             [
              0.1111111111111111,
              "#46039f"
             ],
             [
              0.2222222222222222,
              "#7201a8"
             ],
             [
              0.3333333333333333,
              "#9c179e"
             ],
             [
              0.4444444444444444,
              "#bd3786"
             ],
             [
              0.5555555555555556,
              "#d8576b"
             ],
             [
              0.6666666666666666,
              "#ed7953"
             ],
             [
              0.7777777777777778,
              "#fb9f3a"
             ],
             [
              0.8888888888888888,
              "#fdca26"
             ],
             [
              1,
              "#f0f921"
             ]
            ],
            "type": "histogram2d"
           }
          ],
          "histogram2dcontour": [
           {
            "colorbar": {
             "outlinewidth": 0,
             "ticks": ""
            },
            "colorscale": [
             [
              0,
              "#0d0887"
             ],
             [
              0.1111111111111111,
              "#46039f"
             ],
             [
              0.2222222222222222,
              "#7201a8"
             ],
             [
              0.3333333333333333,
              "#9c179e"
             ],
             [
              0.4444444444444444,
              "#bd3786"
             ],
             [
              0.5555555555555556,
              "#d8576b"
             ],
             [
              0.6666666666666666,
              "#ed7953"
             ],
             [
              0.7777777777777778,
              "#fb9f3a"
             ],
             [
              0.8888888888888888,
              "#fdca26"
             ],
             [
              1,
              "#f0f921"
             ]
            ],
            "type": "histogram2dcontour"
           }
          ],
          "mesh3d": [
           {
            "colorbar": {
             "outlinewidth": 0,
             "ticks": ""
            },
            "type": "mesh3d"
           }
          ],
          "parcoords": [
           {
            "line": {
             "colorbar": {
              "outlinewidth": 0,
              "ticks": ""
             }
            },
            "type": "parcoords"
           }
          ],
          "pie": [
           {
            "automargin": true,
            "type": "pie"
           }
          ],
          "scatter": [
           {
            "marker": {
             "colorbar": {
              "outlinewidth": 0,
              "ticks": ""
             }
            },
            "type": "scatter"
           }
          ],
          "scatter3d": [
           {
            "line": {
             "colorbar": {
              "outlinewidth": 0,
              "ticks": ""
             }
            },
            "marker": {
             "colorbar": {
              "outlinewidth": 0,
              "ticks": ""
             }
            },
            "type": "scatter3d"
           }
          ],
          "scattercarpet": [
           {
            "marker": {
             "colorbar": {
              "outlinewidth": 0,
              "ticks": ""
             }
            },
            "type": "scattercarpet"
           }
          ],
          "scattergeo": [
           {
            "marker": {
             "colorbar": {
              "outlinewidth": 0,
              "ticks": ""
             }
            },
            "type": "scattergeo"
           }
          ],
          "scattergl": [
           {
            "marker": {
             "colorbar": {
              "outlinewidth": 0,
              "ticks": ""
             }
            },
            "type": "scattergl"
           }
          ],
          "scattermapbox": [
           {
            "marker": {
             "colorbar": {
              "outlinewidth": 0,
              "ticks": ""
             }
            },
            "type": "scattermapbox"
           }
          ],
          "scatterpolar": [
           {
            "marker": {
             "colorbar": {
              "outlinewidth": 0,
              "ticks": ""
             }
            },
            "type": "scatterpolar"
           }
          ],
          "scatterpolargl": [
           {
            "marker": {
             "colorbar": {
              "outlinewidth": 0,
              "ticks": ""
             }
            },
            "type": "scatterpolargl"
           }
          ],
          "scatterternary": [
           {
            "marker": {
             "colorbar": {
              "outlinewidth": 0,
              "ticks": ""
             }
            },
            "type": "scatterternary"
           }
          ],
          "surface": [
           {
            "colorbar": {
             "outlinewidth": 0,
             "ticks": ""
            },
            "colorscale": [
             [
              0,
              "#0d0887"
             ],
             [
              0.1111111111111111,
              "#46039f"
             ],
             [
              0.2222222222222222,
              "#7201a8"
             ],
             [
              0.3333333333333333,
              "#9c179e"
             ],
             [
              0.4444444444444444,
              "#bd3786"
             ],
             [
              0.5555555555555556,
              "#d8576b"
             ],
             [
              0.6666666666666666,
              "#ed7953"
             ],
             [
              0.7777777777777778,
              "#fb9f3a"
             ],
             [
              0.8888888888888888,
              "#fdca26"
             ],
             [
              1,
              "#f0f921"
             ]
            ],
            "type": "surface"
           }
          ],
          "table": [
           {
            "cells": {
             "fill": {
              "color": "#EBF0F8"
             },
             "line": {
              "color": "white"
             }
            },
            "header": {
             "fill": {
              "color": "#C8D4E3"
             },
             "line": {
              "color": "white"
             }
            },
            "type": "table"
           }
          ]
         },
         "layout": {
          "annotationdefaults": {
           "arrowcolor": "#2a3f5f",
           "arrowhead": 0,
           "arrowwidth": 1
          },
          "autotypenumbers": "strict",
          "coloraxis": {
           "colorbar": {
            "outlinewidth": 0,
            "ticks": ""
           }
          },
          "colorscale": {
           "diverging": [
            [
             0,
             "#8e0152"
            ],
            [
             0.1,
             "#c51b7d"
            ],
            [
             0.2,
             "#de77ae"
            ],
            [
             0.3,
             "#f1b6da"
            ],
            [
             0.4,
             "#fde0ef"
            ],
            [
             0.5,
             "#f7f7f7"
            ],
            [
             0.6,
             "#e6f5d0"
            ],
            [
             0.7,
             "#b8e186"
            ],
            [
             0.8,
             "#7fbc41"
            ],
            [
             0.9,
             "#4d9221"
            ],
            [
             1,
             "#276419"
            ]
           ],
           "sequential": [
            [
             0,
             "#0d0887"
            ],
            [
             0.1111111111111111,
             "#46039f"
            ],
            [
             0.2222222222222222,
             "#7201a8"
            ],
            [
             0.3333333333333333,
             "#9c179e"
            ],
            [
             0.4444444444444444,
             "#bd3786"
            ],
            [
             0.5555555555555556,
             "#d8576b"
            ],
            [
             0.6666666666666666,
             "#ed7953"
            ],
            [
             0.7777777777777778,
             "#fb9f3a"
            ],
            [
             0.8888888888888888,
             "#fdca26"
            ],
            [
             1,
             "#f0f921"
            ]
           ],
           "sequentialminus": [
            [
             0,
             "#0d0887"
            ],
            [
             0.1111111111111111,
             "#46039f"
            ],
            [
             0.2222222222222222,
             "#7201a8"
            ],
            [
             0.3333333333333333,
             "#9c179e"
            ],
            [
             0.4444444444444444,
             "#bd3786"
            ],
            [
             0.5555555555555556,
             "#d8576b"
            ],
            [
             0.6666666666666666,
             "#ed7953"
            ],
            [
             0.7777777777777778,
             "#fb9f3a"
            ],
            [
             0.8888888888888888,
             "#fdca26"
            ],
            [
             1,
             "#f0f921"
            ]
           ]
          },
          "colorway": [
           "#636efa",
           "#EF553B",
           "#00cc96",
           "#ab63fa",
           "#FFA15A",
           "#19d3f3",
           "#FF6692",
           "#B6E880",
           "#FF97FF",
           "#FECB52"
          ],
          "font": {
           "color": "#2a3f5f"
          },
          "geo": {
           "bgcolor": "white",
           "lakecolor": "white",
           "landcolor": "#E5ECF6",
           "showlakes": true,
           "showland": true,
           "subunitcolor": "white"
          },
          "hoverlabel": {
           "align": "left"
          },
          "hovermode": "closest",
          "mapbox": {
           "style": "light"
          },
          "paper_bgcolor": "white",
          "plot_bgcolor": "#E5ECF6",
          "polar": {
           "angularaxis": {
            "gridcolor": "white",
            "linecolor": "white",
            "ticks": ""
           },
           "bgcolor": "#E5ECF6",
           "radialaxis": {
            "gridcolor": "white",
            "linecolor": "white",
            "ticks": ""
           }
          },
          "scene": {
           "xaxis": {
            "backgroundcolor": "#E5ECF6",
            "gridcolor": "white",
            "gridwidth": 2,
            "linecolor": "white",
            "showbackground": true,
            "ticks": "",
            "zerolinecolor": "white"
           },
           "yaxis": {
            "backgroundcolor": "#E5ECF6",
            "gridcolor": "white",
            "gridwidth": 2,
            "linecolor": "white",
            "showbackground": true,
            "ticks": "",
            "zerolinecolor": "white"
           },
           "zaxis": {
            "backgroundcolor": "#E5ECF6",
            "gridcolor": "white",
            "gridwidth": 2,
            "linecolor": "white",
            "showbackground": true,
            "ticks": "",
            "zerolinecolor": "white"
           }
          },
          "shapedefaults": {
           "line": {
            "color": "#2a3f5f"
           }
          },
          "ternary": {
           "aaxis": {
            "gridcolor": "white",
            "linecolor": "white",
            "ticks": ""
           },
           "baxis": {
            "gridcolor": "white",
            "linecolor": "white",
            "ticks": ""
           },
           "bgcolor": "#E5ECF6",
           "caxis": {
            "gridcolor": "white",
            "linecolor": "white",
            "ticks": ""
           }
          },
          "title": {
           "x": 0.05
          },
          "xaxis": {
           "automargin": true,
           "gridcolor": "white",
           "linecolor": "white",
           "ticks": "",
           "title": {
            "standoff": 15
           },
           "zerolinecolor": "white",
           "zerolinewidth": 2
          },
          "yaxis": {
           "automargin": true,
           "gridcolor": "white",
           "linecolor": "white",
           "ticks": "",
           "title": {
            "standoff": 15
           },
           "zerolinecolor": "white",
           "zerolinewidth": 2
          }
         }
        },
        "title": {
         "font": {
          "color": "#4D5663"
         }
        },
        "xaxis": {
         "gridcolor": "#E1E5ED",
         "showgrid": true,
         "tickfont": {
          "color": "#4D5663"
         },
         "title": {
          "font": {
           "color": "#4D5663"
          },
          "text": ""
         },
         "zerolinecolor": "#E1E5ED"
        },
        "yaxis": {
         "gridcolor": "#E1E5ED",
         "showgrid": true,
         "tickfont": {
          "color": "#4D5663"
         },
         "title": {
          "font": {
           "color": "#4D5663"
          },
          "text": ""
         },
         "zerolinecolor": "#E1E5ED"
        }
       }
      },
      "text/html": [
       "<div>                            <div id=\"4c7a2420-70b4-45bd-9092-491f1095be96\" class=\"plotly-graph-div\" style=\"height:525px; width:100%;\"></div>            <script type=\"text/javascript\">                require([\"plotly\"], function(Plotly) {                    window.PLOTLYENV=window.PLOTLYENV || {};\n",
       "                    window.PLOTLYENV.BASE_URL='https://plot.ly';                                    if (document.getElementById(\"4c7a2420-70b4-45bd-9092-491f1095be96\")) {                    Plotly.newPlot(                        \"4c7a2420-70b4-45bd-9092-491f1095be96\",                        [{\"histfunc\": \"count\", \"histnorm\": \"\", \"marker\": {\"color\": \"rgba(255, 153, 51, 1.0)\", \"line\": {\"color\": \"#4D5663\", \"width\": 1.3}}, \"name\": \"A\", \"nbinsx\": 25, \"opacity\": 0.8, \"orientation\": \"v\", \"type\": \"histogram\", \"x\": [0.42135637469066833, 0.051787610039485656, -0.8859201272757309, 1.127155918130127, 0.05110503169809027, -1.3625779998716074, 1.413463839091547, -1.0518298420858014, -1.4273371067642697, 0.2167236110214108, 0.1543785204974001, 1.0307652297071481, -1.556770626777491, -0.846285335148641, -1.4475567856473346, 0.28136297298603, 0.16206068112953487, 0.3415324132284915, -1.1033635133636706, 0.8894648772645205, -1.8017630378505909, -0.14245031927646856, -0.8266858154440575, -0.7530689966357229, -2.0574608097003035, -1.8778506514905104, -0.08148361870194606, -0.9357959490775972, -0.6760913977083556, -1.1041299976906465, 0.22052054948520405, -0.6208213787655636, -0.9832356528265209, 0.3121875795693881, -0.044428851806542095, -0.6160413621576425, 0.8338980770256911, -0.4078014558131567, 1.1326628751514818, 1.381820447729485, 0.5870663051810776, -0.7226234218334454, 0.637116486862654, 0.810474475909267, 2.70372528025538, 0.6462466649527927, 0.3743500129845283, 0.17484316236836292, 1.4641354227184749, -0.00834110773828608, 1.0168581856522507, -0.46088217782489604, -1.5221428181584185, 1.1085033065208867, -0.03359453206244407, 0.13024239174967583, -1.1376425645386274, 1.1102484582897623, 0.12115485743688534, 1.2269014026945384, -1.2118887477098856, -0.07302583552604484, -0.7657437595439366, 0.014733537309346229, -1.7912003541024881, 1.7244980639349405, -1.209570556075875, -1.1811987834399718, -1.3383168952142377, -0.23545845455329553, 0.5455075698862204, 0.5143435707195769, 0.49970410382795577, -1.0087869177358482, 1.5295395940774288, 0.19968872339286142, 0.2853967438038379, 0.6267199329816086, 0.7594740494277189, -2.2107520896395836, 0.04207387549136959, -0.1009791017301549, -1.363303282286697, -2.1269648825992946, -0.9969616855723071, -0.16447434850235484, 0.4579274109261358, -0.0501398598101201, 0.9794488277108203, -0.6698307222391381, 1.3153732821001494, 0.05781171695218909, -0.7880077693551906, 1.513297183883774, -1.2630353942419186, -0.8474541119052957, 1.8675720657212853, 0.8259412981691324, 0.23634614857664427, -1.5622218215155599]}],                        {\"barmode\": \"overlay\", \"legend\": {\"bgcolor\": \"#F5F6F9\", \"font\": {\"color\": \"#4D5663\"}}, \"paper_bgcolor\": \"#F5F6F9\", \"plot_bgcolor\": \"#F5F6F9\", \"template\": {\"data\": {\"bar\": [{\"error_x\": {\"color\": \"#2a3f5f\"}, \"error_y\": {\"color\": \"#2a3f5f\"}, \"marker\": {\"line\": {\"color\": \"#E5ECF6\", \"width\": 0.5}}, \"type\": \"bar\"}], \"barpolar\": [{\"marker\": {\"line\": {\"color\": \"#E5ECF6\", \"width\": 0.5}}, \"type\": \"barpolar\"}], \"carpet\": [{\"aaxis\": {\"endlinecolor\": \"#2a3f5f\", \"gridcolor\": \"white\", \"linecolor\": \"white\", \"minorgridcolor\": \"white\", \"startlinecolor\": \"#2a3f5f\"}, \"baxis\": {\"endlinecolor\": \"#2a3f5f\", \"gridcolor\": \"white\", \"linecolor\": \"white\", \"minorgridcolor\": \"white\", \"startlinecolor\": \"#2a3f5f\"}, \"type\": \"carpet\"}], \"choropleth\": [{\"colorbar\": {\"outlinewidth\": 0, \"ticks\": \"\"}, \"type\": \"choropleth\"}], \"contour\": [{\"colorbar\": {\"outlinewidth\": 0, \"ticks\": \"\"}, \"colorscale\": [[0.0, \"#0d0887\"], [0.1111111111111111, \"#46039f\"], [0.2222222222222222, \"#7201a8\"], [0.3333333333333333, \"#9c179e\"], [0.4444444444444444, \"#bd3786\"], [0.5555555555555556, \"#d8576b\"], [0.6666666666666666, \"#ed7953\"], [0.7777777777777778, \"#fb9f3a\"], [0.8888888888888888, \"#fdca26\"], [1.0, \"#f0f921\"]], \"type\": \"contour\"}], \"contourcarpet\": [{\"colorbar\": {\"outlinewidth\": 0, \"ticks\": \"\"}, \"type\": \"contourcarpet\"}], \"heatmap\": [{\"colorbar\": {\"outlinewidth\": 0, \"ticks\": \"\"}, \"colorscale\": [[0.0, \"#0d0887\"], [0.1111111111111111, \"#46039f\"], [0.2222222222222222, \"#7201a8\"], [0.3333333333333333, \"#9c179e\"], [0.4444444444444444, \"#bd3786\"], [0.5555555555555556, \"#d8576b\"], [0.6666666666666666, \"#ed7953\"], [0.7777777777777778, \"#fb9f3a\"], [0.8888888888888888, \"#fdca26\"], [1.0, \"#f0f921\"]], \"type\": \"heatmap\"}], \"heatmapgl\": [{\"colorbar\": {\"outlinewidth\": 0, \"ticks\": \"\"}, \"colorscale\": [[0.0, \"#0d0887\"], [0.1111111111111111, \"#46039f\"], [0.2222222222222222, \"#7201a8\"], [0.3333333333333333, \"#9c179e\"], [0.4444444444444444, \"#bd3786\"], [0.5555555555555556, \"#d8576b\"], [0.6666666666666666, \"#ed7953\"], [0.7777777777777778, \"#fb9f3a\"], [0.8888888888888888, \"#fdca26\"], [1.0, \"#f0f921\"]], \"type\": \"heatmapgl\"}], \"histogram\": [{\"marker\": {\"colorbar\": {\"outlinewidth\": 0, \"ticks\": \"\"}}, \"type\": \"histogram\"}], \"histogram2d\": [{\"colorbar\": {\"outlinewidth\": 0, \"ticks\": \"\"}, \"colorscale\": [[0.0, \"#0d0887\"], [0.1111111111111111, \"#46039f\"], [0.2222222222222222, \"#7201a8\"], [0.3333333333333333, \"#9c179e\"], [0.4444444444444444, \"#bd3786\"], [0.5555555555555556, \"#d8576b\"], [0.6666666666666666, \"#ed7953\"], [0.7777777777777778, \"#fb9f3a\"], [0.8888888888888888, \"#fdca26\"], [1.0, \"#f0f921\"]], \"type\": \"histogram2d\"}], \"histogram2dcontour\": [{\"colorbar\": {\"outlinewidth\": 0, \"ticks\": \"\"}, \"colorscale\": [[0.0, \"#0d0887\"], [0.1111111111111111, \"#46039f\"], [0.2222222222222222, \"#7201a8\"], [0.3333333333333333, \"#9c179e\"], [0.4444444444444444, \"#bd3786\"], [0.5555555555555556, \"#d8576b\"], [0.6666666666666666, \"#ed7953\"], [0.7777777777777778, \"#fb9f3a\"], [0.8888888888888888, \"#fdca26\"], [1.0, \"#f0f921\"]], \"type\": \"histogram2dcontour\"}], \"mesh3d\": [{\"colorbar\": {\"outlinewidth\": 0, \"ticks\": \"\"}, \"type\": \"mesh3d\"}], \"parcoords\": [{\"line\": {\"colorbar\": {\"outlinewidth\": 0, \"ticks\": \"\"}}, \"type\": \"parcoords\"}], \"pie\": [{\"automargin\": true, \"type\": \"pie\"}], \"scatter\": [{\"marker\": {\"colorbar\": {\"outlinewidth\": 0, \"ticks\": \"\"}}, \"type\": \"scatter\"}], \"scatter3d\": [{\"line\": {\"colorbar\": {\"outlinewidth\": 0, \"ticks\": \"\"}}, \"marker\": {\"colorbar\": {\"outlinewidth\": 0, \"ticks\": \"\"}}, \"type\": \"scatter3d\"}], \"scattercarpet\": [{\"marker\": {\"colorbar\": {\"outlinewidth\": 0, \"ticks\": \"\"}}, \"type\": \"scattercarpet\"}], \"scattergeo\": [{\"marker\": {\"colorbar\": {\"outlinewidth\": 0, \"ticks\": \"\"}}, \"type\": \"scattergeo\"}], \"scattergl\": [{\"marker\": {\"colorbar\": {\"outlinewidth\": 0, \"ticks\": \"\"}}, \"type\": \"scattergl\"}], \"scattermapbox\": [{\"marker\": {\"colorbar\": {\"outlinewidth\": 0, \"ticks\": \"\"}}, \"type\": \"scattermapbox\"}], \"scatterpolar\": [{\"marker\": {\"colorbar\": {\"outlinewidth\": 0, \"ticks\": \"\"}}, \"type\": \"scatterpolar\"}], \"scatterpolargl\": [{\"marker\": {\"colorbar\": {\"outlinewidth\": 0, \"ticks\": \"\"}}, \"type\": \"scatterpolargl\"}], \"scatterternary\": [{\"marker\": {\"colorbar\": {\"outlinewidth\": 0, \"ticks\": \"\"}}, \"type\": \"scatterternary\"}], \"surface\": [{\"colorbar\": {\"outlinewidth\": 0, \"ticks\": \"\"}, \"colorscale\": [[0.0, \"#0d0887\"], [0.1111111111111111, \"#46039f\"], [0.2222222222222222, \"#7201a8\"], [0.3333333333333333, \"#9c179e\"], [0.4444444444444444, \"#bd3786\"], [0.5555555555555556, \"#d8576b\"], [0.6666666666666666, \"#ed7953\"], [0.7777777777777778, \"#fb9f3a\"], [0.8888888888888888, \"#fdca26\"], [1.0, \"#f0f921\"]], \"type\": \"surface\"}], \"table\": [{\"cells\": {\"fill\": {\"color\": \"#EBF0F8\"}, \"line\": {\"color\": \"white\"}}, \"header\": {\"fill\": {\"color\": \"#C8D4E3\"}, \"line\": {\"color\": \"white\"}}, \"type\": \"table\"}]}, \"layout\": {\"annotationdefaults\": {\"arrowcolor\": \"#2a3f5f\", \"arrowhead\": 0, \"arrowwidth\": 1}, \"autotypenumbers\": \"strict\", \"coloraxis\": {\"colorbar\": {\"outlinewidth\": 0, \"ticks\": \"\"}}, \"colorscale\": {\"diverging\": [[0, \"#8e0152\"], [0.1, \"#c51b7d\"], [0.2, \"#de77ae\"], [0.3, \"#f1b6da\"], [0.4, \"#fde0ef\"], [0.5, \"#f7f7f7\"], [0.6, \"#e6f5d0\"], [0.7, \"#b8e186\"], [0.8, \"#7fbc41\"], [0.9, \"#4d9221\"], [1, \"#276419\"]], \"sequential\": [[0.0, \"#0d0887\"], [0.1111111111111111, \"#46039f\"], [0.2222222222222222, \"#7201a8\"], [0.3333333333333333, \"#9c179e\"], [0.4444444444444444, \"#bd3786\"], [0.5555555555555556, \"#d8576b\"], [0.6666666666666666, \"#ed7953\"], [0.7777777777777778, \"#fb9f3a\"], [0.8888888888888888, \"#fdca26\"], [1.0, \"#f0f921\"]], \"sequentialminus\": [[0.0, \"#0d0887\"], [0.1111111111111111, \"#46039f\"], [0.2222222222222222, \"#7201a8\"], [0.3333333333333333, \"#9c179e\"], [0.4444444444444444, \"#bd3786\"], [0.5555555555555556, \"#d8576b\"], [0.6666666666666666, \"#ed7953\"], [0.7777777777777778, \"#fb9f3a\"], [0.8888888888888888, \"#fdca26\"], [1.0, \"#f0f921\"]]}, \"colorway\": [\"#636efa\", \"#EF553B\", \"#00cc96\", \"#ab63fa\", \"#FFA15A\", \"#19d3f3\", \"#FF6692\", \"#B6E880\", \"#FF97FF\", \"#FECB52\"], \"font\": {\"color\": \"#2a3f5f\"}, \"geo\": {\"bgcolor\": \"white\", \"lakecolor\": \"white\", \"landcolor\": \"#E5ECF6\", \"showlakes\": true, \"showland\": true, \"subunitcolor\": \"white\"}, \"hoverlabel\": {\"align\": \"left\"}, \"hovermode\": \"closest\", \"mapbox\": {\"style\": \"light\"}, \"paper_bgcolor\": \"white\", \"plot_bgcolor\": \"#E5ECF6\", \"polar\": {\"angularaxis\": {\"gridcolor\": \"white\", \"linecolor\": \"white\", \"ticks\": \"\"}, \"bgcolor\": \"#E5ECF6\", \"radialaxis\": {\"gridcolor\": \"white\", \"linecolor\": \"white\", \"ticks\": \"\"}}, \"scene\": {\"xaxis\": {\"backgroundcolor\": \"#E5ECF6\", \"gridcolor\": \"white\", \"gridwidth\": 2, \"linecolor\": \"white\", \"showbackground\": true, \"ticks\": \"\", \"zerolinecolor\": \"white\"}, \"yaxis\": {\"backgroundcolor\": \"#E5ECF6\", \"gridcolor\": \"white\", \"gridwidth\": 2, \"linecolor\": \"white\", \"showbackground\": true, \"ticks\": \"\", \"zerolinecolor\": \"white\"}, \"zaxis\": {\"backgroundcolor\": \"#E5ECF6\", \"gridcolor\": \"white\", \"gridwidth\": 2, \"linecolor\": \"white\", \"showbackground\": true, \"ticks\": \"\", \"zerolinecolor\": \"white\"}}, \"shapedefaults\": {\"line\": {\"color\": \"#2a3f5f\"}}, \"ternary\": {\"aaxis\": {\"gridcolor\": \"white\", \"linecolor\": \"white\", \"ticks\": \"\"}, \"baxis\": {\"gridcolor\": \"white\", \"linecolor\": \"white\", \"ticks\": \"\"}, \"bgcolor\": \"#E5ECF6\", \"caxis\": {\"gridcolor\": \"white\", \"linecolor\": \"white\", \"ticks\": \"\"}}, \"title\": {\"x\": 0.05}, \"xaxis\": {\"automargin\": true, \"gridcolor\": \"white\", \"linecolor\": \"white\", \"ticks\": \"\", \"title\": {\"standoff\": 15}, \"zerolinecolor\": \"white\", \"zerolinewidth\": 2}, \"yaxis\": {\"automargin\": true, \"gridcolor\": \"white\", \"linecolor\": \"white\", \"ticks\": \"\", \"title\": {\"standoff\": 15}, \"zerolinecolor\": \"white\", \"zerolinewidth\": 2}}}, \"title\": {\"font\": {\"color\": \"#4D5663\"}}, \"xaxis\": {\"gridcolor\": \"#E1E5ED\", \"showgrid\": true, \"tickfont\": {\"color\": \"#4D5663\"}, \"title\": {\"font\": {\"color\": \"#4D5663\"}, \"text\": \"\"}, \"zerolinecolor\": \"#E1E5ED\"}, \"yaxis\": {\"gridcolor\": \"#E1E5ED\", \"showgrid\": true, \"tickfont\": {\"color\": \"#4D5663\"}, \"title\": {\"font\": {\"color\": \"#4D5663\"}, \"text\": \"\"}, \"zerolinecolor\": \"#E1E5ED\"}},                        {\"showLink\": true, \"linkText\": \"Export to plot.ly\", \"plotlyServerURL\": \"https://plot.ly\", \"responsive\": true}                    ).then(function(){\n",
       "                            \n",
       "var gd = document.getElementById('4c7a2420-70b4-45bd-9092-491f1095be96');\n",
       "var x = new MutationObserver(function (mutations, observer) {{\n",
       "        var display = window.getComputedStyle(gd).display;\n",
       "        if (!display || display === 'none') {{\n",
       "            console.log([gd, 'removed!']);\n",
       "            Plotly.purge(gd);\n",
       "            observer.disconnect();\n",
       "        }}\n",
       "}});\n",
       "\n",
       "// Listen for the removal of the full notebook cells\n",
       "var notebookContainer = gd.closest('#notebook-container');\n",
       "if (notebookContainer) {{\n",
       "    x.observe(notebookContainer, {childList: true});\n",
       "}}\n",
       "\n",
       "// Listen for the clearing of the current output cell\n",
       "var outputEl = gd.closest('.output');\n",
       "if (outputEl) {{\n",
       "    x.observe(outputEl, {childList: true});\n",
       "}}\n",
       "\n",
       "                        })                };                });            </script>        </div>"
      ]
     },
     "metadata": {},
     "output_type": "display_data"
    }
   ],
   "source": [
    "df['A'].iplot(kind='hist',bins=25)"
   ]
  },
  {
   "cell_type": "code",
   "execution_count": 18,
   "metadata": {},
   "outputs": [
    {
     "data": {
      "application/vnd.plotly.v1+json": {
       "config": {
        "linkText": "Export to plot.ly",
        "plotlyServerURL": "https://plot.ly",
        "showLink": true
       },
       "data": [
        {
         "marker": {
          "color": [
           "rgb(255, 153, 51)",
           "rgb(55, 128, 191)",
           "rgb(50, 171, 96)",
           "rgb(128, 0, 128)",
           "rgb(219, 64, 82)",
           "rgb(0, 128, 128)",
           "rgb(255, 255, 51)",
           "rgb(128, 128, 0)",
           "rgb(251, 128, 114)",
           "rgb(128, 177, 211)"
          ],
          "line": {
           "width": 1.3
          },
          "size": [
           90,
           76,
           72,
           17,
           69,
           56,
           48,
           77,
           54,
           57,
           99,
           47,
           86,
           53,
           106,
           56,
           49,
           34,
           53,
           43,
           61,
           31,
           51,
           25,
           69,
           74,
           75,
           100,
           46,
           84,
           44,
           52,
           64,
           34,
           31,
           63,
           112,
           64,
           69,
           63,
           52,
           63,
           51,
           52,
           69,
           84,
           37,
           92,
           85,
           103,
           46,
           37,
           54,
           71,
           12,
           65,
           51,
           37,
           80,
           63,
           45,
           40,
           72,
           47,
           65,
           59,
           66,
           50,
           50,
           101,
           92,
           43,
           83,
           87,
           89,
           37,
           24,
           42,
           77,
           82,
           49,
           105,
           30,
           66,
           29,
           62,
           98,
           98,
           90,
           54,
           99,
           76,
           29,
           76,
           99,
           54,
           46,
           48,
           63,
           73
          ],
          "symbol": "circle"
         },
         "mode": "markers",
         "text": "",
         "type": "scatter",
         "x": [
          0.42135637469066833,
          0.051787610039485656,
          -0.8859201272757309,
          1.127155918130127,
          0.05110503169809027,
          -1.3625779998716074,
          1.413463839091547,
          -1.0518298420858014,
          -1.4273371067642697,
          0.2167236110214108,
          0.1543785204974001,
          1.0307652297071481,
          -1.556770626777491,
          -0.846285335148641,
          -1.4475567856473346,
          0.28136297298603,
          0.16206068112953487,
          0.3415324132284915,
          -1.1033635133636706,
          0.8894648772645205,
          -1.8017630378505909,
          -0.14245031927646856,
          -0.8266858154440575,
          -0.7530689966357229,
          -2.0574608097003035,
          -1.8778506514905104,
          -0.08148361870194606,
          -0.9357959490775972,
          -0.6760913977083556,
          -1.1041299976906465,
          0.22052054948520405,
          -0.6208213787655636,
          -0.9832356528265209,
          0.3121875795693881,
          -0.044428851806542095,
          -0.6160413621576425,
          0.8338980770256911,
          -0.4078014558131567,
          1.1326628751514818,
          1.381820447729485,
          0.5870663051810776,
          -0.7226234218334454,
          0.637116486862654,
          0.810474475909267,
          2.70372528025538,
          0.6462466649527927,
          0.3743500129845283,
          0.17484316236836292,
          1.4641354227184749,
          -0.00834110773828608,
          1.0168581856522507,
          -0.46088217782489604,
          -1.5221428181584185,
          1.1085033065208867,
          -0.03359453206244407,
          0.13024239174967583,
          -1.1376425645386274,
          1.1102484582897623,
          0.12115485743688534,
          1.2269014026945384,
          -1.2118887477098856,
          -0.07302583552604484,
          -0.7657437595439366,
          0.014733537309346229,
          -1.7912003541024881,
          1.7244980639349405,
          -1.209570556075875,
          -1.1811987834399718,
          -1.3383168952142377,
          -0.23545845455329553,
          0.5455075698862204,
          0.5143435707195769,
          0.49970410382795577,
          -1.0087869177358482,
          1.5295395940774288,
          0.19968872339286142,
          0.2853967438038379,
          0.6267199329816086,
          0.7594740494277189,
          -2.2107520896395836,
          0.04207387549136959,
          -0.1009791017301549,
          -1.363303282286697,
          -2.1269648825992946,
          -0.9969616855723071,
          -0.16447434850235484,
          0.4579274109261358,
          -0.0501398598101201,
          0.9794488277108203,
          -0.6698307222391381,
          1.3153732821001494,
          0.05781171695218909,
          -0.7880077693551906,
          1.513297183883774,
          -1.2630353942419186,
          -0.8474541119052957,
          1.8675720657212853,
          0.8259412981691324,
          0.23634614857664427,
          -1.5622218215155599
         ],
         "y": [
          -0.6501201079452595,
          -0.6396703664807071,
          -0.14910624389792665,
          0.9191471993045957,
          -0.20408638918650238,
          -1.8339833921820385,
          -0.5336687782287028,
          1.1159759429939438,
          0.9687317127445674,
          -1.7400136162569626,
          0.21071196310648294,
          -0.6652480269305107,
          -0.5355523925508483,
          -0.5131492863893872,
          0.6857146627816957,
          1.098945987906431,
          -0.9348369343583188,
          -0.7325354095966315,
          0.021514349515909068,
          -1.0346009878659206,
          -0.17501231162040945,
          0.7367345313547262,
          -1.0897665770658538,
          -0.33938896768116844,
          2.0121374329786192,
          -0.6393950234441513,
          0.03647086107054639,
          -0.5948946033349691,
          1.4104386684965855,
          0.24031607468836597,
          0.013035966419714847,
          -0.20069232286431354,
          2.631987135365754,
          1.1402967549197727,
          -1.3480836252528436,
          -0.5419029514580261,
          0.35165958782611867,
          0.5574337761914983,
          0.5053362646599682,
          0.06694474269967485,
          -0.6160293085973875,
          -1.8467820531221697,
          0.23180264269673023,
          1.5710530598742847,
          0.16850544639523987,
          -0.5448421894097137,
          0.800392407126888,
          -0.3205623468664349,
          1.080515029284678,
          -1.7371274865461397,
          -1.89016032000533,
          0.6587944707237163,
          1.3712428758799025,
          -0.22839481245865867,
          -0.11743381153175035,
          0.08875123869894627,
          1.2534991446004125,
          -1.0050131736037835,
          -1.4849688355120898,
          0.6705897386978111,
          1.5984677392051143,
          -1.2645470074698082,
          0.7264911234789589,
          -2.3717085033683727,
          -1.4436789972254331,
          -0.40695984992958373,
          -0.4220425299401283,
          -1.4988249695855351,
          -1.1392043419422493,
          -0.25228704335304114,
          1.1690146052494421,
          -1.059060163146755,
          -0.6643372846194279,
          -1.8106561856144445,
          0.23156168713817965,
          0.4832174484382462,
          1.5349359636281692,
          0.7813633744015297,
          -0.14476594977734775,
          -1.191781902475107,
          1.1339137809138238,
          0.4633338142600121,
          1.6834801300382207,
          -0.04735403216966803,
          2.303170234529257,
          -1.588979977909511,
          0.15271731738318492,
          -0.7055727659267433,
          0.06895653776059535,
          0.4744135459499637,
          -1.7719303079565776,
          -0.3132926379621396,
          0.475239615161257,
          0.3984714410737094,
          -0.37273617218314103,
          -1.5892452468814993,
          1.383171377203694,
          0.3208732966941905,
          -0.33731818730533253,
          0.45105978115116213
         ]
        }
       ],
       "layout": {
        "legend": {
         "bgcolor": "#F5F6F9",
         "font": {
          "color": "#4D5663"
         }
        },
        "paper_bgcolor": "#F5F6F9",
        "plot_bgcolor": "#F5F6F9",
        "template": {
         "data": {
          "bar": [
           {
            "error_x": {
             "color": "#2a3f5f"
            },
            "error_y": {
             "color": "#2a3f5f"
            },
            "marker": {
             "line": {
              "color": "#E5ECF6",
              "width": 0.5
             }
            },
            "type": "bar"
           }
          ],
          "barpolar": [
           {
            "marker": {
             "line": {
              "color": "#E5ECF6",
              "width": 0.5
             }
            },
            "type": "barpolar"
           }
          ],
          "carpet": [
           {
            "aaxis": {
             "endlinecolor": "#2a3f5f",
             "gridcolor": "white",
             "linecolor": "white",
             "minorgridcolor": "white",
             "startlinecolor": "#2a3f5f"
            },
            "baxis": {
             "endlinecolor": "#2a3f5f",
             "gridcolor": "white",
             "linecolor": "white",
             "minorgridcolor": "white",
             "startlinecolor": "#2a3f5f"
            },
            "type": "carpet"
           }
          ],
          "choropleth": [
           {
            "colorbar": {
             "outlinewidth": 0,
             "ticks": ""
            },
            "type": "choropleth"
           }
          ],
          "contour": [
           {
            "colorbar": {
             "outlinewidth": 0,
             "ticks": ""
            },
            "colorscale": [
             [
              0,
              "#0d0887"
             ],
             [
              0.1111111111111111,
              "#46039f"
             ],
             [
              0.2222222222222222,
              "#7201a8"
             ],
             [
              0.3333333333333333,
              "#9c179e"
             ],
             [
              0.4444444444444444,
              "#bd3786"
             ],
             [
              0.5555555555555556,
              "#d8576b"
             ],
             [
              0.6666666666666666,
              "#ed7953"
             ],
             [
              0.7777777777777778,
              "#fb9f3a"
             ],
             [
              0.8888888888888888,
              "#fdca26"
             ],
             [
              1,
              "#f0f921"
             ]
            ],
            "type": "contour"
           }
          ],
          "contourcarpet": [
           {
            "colorbar": {
             "outlinewidth": 0,
             "ticks": ""
            },
            "type": "contourcarpet"
           }
          ],
          "heatmap": [
           {
            "colorbar": {
             "outlinewidth": 0,
             "ticks": ""
            },
            "colorscale": [
             [
              0,
              "#0d0887"
             ],
             [
              0.1111111111111111,
              "#46039f"
             ],
             [
              0.2222222222222222,
              "#7201a8"
             ],
             [
              0.3333333333333333,
              "#9c179e"
             ],
             [
              0.4444444444444444,
              "#bd3786"
             ],
             [
              0.5555555555555556,
              "#d8576b"
             ],
             [
              0.6666666666666666,
              "#ed7953"
             ],
             [
              0.7777777777777778,
              "#fb9f3a"
             ],
             [
              0.8888888888888888,
              "#fdca26"
             ],
             [
              1,
              "#f0f921"
             ]
            ],
            "type": "heatmap"
           }
          ],
          "heatmapgl": [
           {
            "colorbar": {
             "outlinewidth": 0,
             "ticks": ""
            },
            "colorscale": [
             [
              0,
              "#0d0887"
             ],
             [
              0.1111111111111111,
              "#46039f"
             ],
             [
              0.2222222222222222,
              "#7201a8"
             ],
             [
              0.3333333333333333,
              "#9c179e"
             ],
             [
              0.4444444444444444,
              "#bd3786"
             ],
             [
              0.5555555555555556,
              "#d8576b"
             ],
             [
              0.6666666666666666,
              "#ed7953"
             ],
             [
              0.7777777777777778,
              "#fb9f3a"
             ],
             [
              0.8888888888888888,
              "#fdca26"
             ],
             [
              1,
              "#f0f921"
             ]
            ],
            "type": "heatmapgl"
           }
          ],
          "histogram": [
           {
            "marker": {
             "colorbar": {
              "outlinewidth": 0,
              "ticks": ""
             }
            },
            "type": "histogram"
           }
          ],
          "histogram2d": [
           {
            "colorbar": {
             "outlinewidth": 0,
             "ticks": ""
            },
            "colorscale": [
             [
              0,
              "#0d0887"
             ],
             [
              0.1111111111111111,
              "#46039f"
             ],
             [
              0.2222222222222222,
              "#7201a8"
             ],
             [
              0.3333333333333333,
              "#9c179e"
             ],
             [
              0.4444444444444444,
              "#bd3786"
             ],
             [
              0.5555555555555556,
              "#d8576b"
             ],
             [
              0.6666666666666666,
              "#ed7953"
             ],
             [
              0.7777777777777778,
              "#fb9f3a"
             ],
             [
              0.8888888888888888,
              "#fdca26"
             ],
             [
              1,
              "#f0f921"
             ]
            ],
            "type": "histogram2d"
           }
          ],
          "histogram2dcontour": [
           {
            "colorbar": {
             "outlinewidth": 0,
             "ticks": ""
            },
            "colorscale": [
             [
              0,
              "#0d0887"
             ],
             [
              0.1111111111111111,
              "#46039f"
             ],
             [
              0.2222222222222222,
              "#7201a8"
             ],
             [
              0.3333333333333333,
              "#9c179e"
             ],
             [
              0.4444444444444444,
              "#bd3786"
             ],
             [
              0.5555555555555556,
              "#d8576b"
             ],
             [
              0.6666666666666666,
              "#ed7953"
             ],
             [
              0.7777777777777778,
              "#fb9f3a"
             ],
             [
              0.8888888888888888,
              "#fdca26"
             ],
             [
              1,
              "#f0f921"
             ]
            ],
            "type": "histogram2dcontour"
           }
          ],
          "mesh3d": [
           {
            "colorbar": {
             "outlinewidth": 0,
             "ticks": ""
            },
            "type": "mesh3d"
           }
          ],
          "parcoords": [
           {
            "line": {
             "colorbar": {
              "outlinewidth": 0,
              "ticks": ""
             }
            },
            "type": "parcoords"
           }
          ],
          "pie": [
           {
            "automargin": true,
            "type": "pie"
           }
          ],
          "scatter": [
           {
            "marker": {
             "colorbar": {
              "outlinewidth": 0,
              "ticks": ""
             }
            },
            "type": "scatter"
           }
          ],
          "scatter3d": [
           {
            "line": {
             "colorbar": {
              "outlinewidth": 0,
              "ticks": ""
             }
            },
            "marker": {
             "colorbar": {
              "outlinewidth": 0,
              "ticks": ""
             }
            },
            "type": "scatter3d"
           }
          ],
          "scattercarpet": [
           {
            "marker": {
             "colorbar": {
              "outlinewidth": 0,
              "ticks": ""
             }
            },
            "type": "scattercarpet"
           }
          ],
          "scattergeo": [
           {
            "marker": {
             "colorbar": {
              "outlinewidth": 0,
              "ticks": ""
             }
            },
            "type": "scattergeo"
           }
          ],
          "scattergl": [
           {
            "marker": {
             "colorbar": {
              "outlinewidth": 0,
              "ticks": ""
             }
            },
            "type": "scattergl"
           }
          ],
          "scattermapbox": [
           {
            "marker": {
             "colorbar": {
              "outlinewidth": 0,
              "ticks": ""
             }
            },
            "type": "scattermapbox"
           }
          ],
          "scatterpolar": [
           {
            "marker": {
             "colorbar": {
              "outlinewidth": 0,
              "ticks": ""
             }
            },
            "type": "scatterpolar"
           }
          ],
          "scatterpolargl": [
           {
            "marker": {
             "colorbar": {
              "outlinewidth": 0,
              "ticks": ""
             }
            },
            "type": "scatterpolargl"
           }
          ],
          "scatterternary": [
           {
            "marker": {
             "colorbar": {
              "outlinewidth": 0,
              "ticks": ""
             }
            },
            "type": "scatterternary"
           }
          ],
          "surface": [
           {
            "colorbar": {
             "outlinewidth": 0,
             "ticks": ""
            },
            "colorscale": [
             [
              0,
              "#0d0887"
             ],
             [
              0.1111111111111111,
              "#46039f"
             ],
             [
              0.2222222222222222,
              "#7201a8"
             ],
             [
              0.3333333333333333,
              "#9c179e"
             ],
             [
              0.4444444444444444,
              "#bd3786"
             ],
             [
              0.5555555555555556,
              "#d8576b"
             ],
             [
              0.6666666666666666,
              "#ed7953"
             ],
             [
              0.7777777777777778,
              "#fb9f3a"
             ],
             [
              0.8888888888888888,
              "#fdca26"
             ],
             [
              1,
              "#f0f921"
             ]
            ],
            "type": "surface"
           }
          ],
          "table": [
           {
            "cells": {
             "fill": {
              "color": "#EBF0F8"
             },
             "line": {
              "color": "white"
             }
            },
            "header": {
             "fill": {
              "color": "#C8D4E3"
             },
             "line": {
              "color": "white"
             }
            },
            "type": "table"
           }
          ]
         },
         "layout": {
          "annotationdefaults": {
           "arrowcolor": "#2a3f5f",
           "arrowhead": 0,
           "arrowwidth": 1
          },
          "autotypenumbers": "strict",
          "coloraxis": {
           "colorbar": {
            "outlinewidth": 0,
            "ticks": ""
           }
          },
          "colorscale": {
           "diverging": [
            [
             0,
             "#8e0152"
            ],
            [
             0.1,
             "#c51b7d"
            ],
            [
             0.2,
             "#de77ae"
            ],
            [
             0.3,
             "#f1b6da"
            ],
            [
             0.4,
             "#fde0ef"
            ],
            [
             0.5,
             "#f7f7f7"
            ],
            [
             0.6,
             "#e6f5d0"
            ],
            [
             0.7,
             "#b8e186"
            ],
            [
             0.8,
             "#7fbc41"
            ],
            [
             0.9,
             "#4d9221"
            ],
            [
             1,
             "#276419"
            ]
           ],
           "sequential": [
            [
             0,
             "#0d0887"
            ],
            [
             0.1111111111111111,
             "#46039f"
            ],
            [
             0.2222222222222222,
             "#7201a8"
            ],
            [
             0.3333333333333333,
             "#9c179e"
            ],
            [
             0.4444444444444444,
             "#bd3786"
            ],
            [
             0.5555555555555556,
             "#d8576b"
            ],
            [
             0.6666666666666666,
             "#ed7953"
            ],
            [
             0.7777777777777778,
             "#fb9f3a"
            ],
            [
             0.8888888888888888,
             "#fdca26"
            ],
            [
             1,
             "#f0f921"
            ]
           ],
           "sequentialminus": [
            [
             0,
             "#0d0887"
            ],
            [
             0.1111111111111111,
             "#46039f"
            ],
            [
             0.2222222222222222,
             "#7201a8"
            ],
            [
             0.3333333333333333,
             "#9c179e"
            ],
            [
             0.4444444444444444,
             "#bd3786"
            ],
            [
             0.5555555555555556,
             "#d8576b"
            ],
            [
             0.6666666666666666,
             "#ed7953"
            ],
            [
             0.7777777777777778,
             "#fb9f3a"
            ],
            [
             0.8888888888888888,
             "#fdca26"
            ],
            [
             1,
             "#f0f921"
            ]
           ]
          },
          "colorway": [
           "#636efa",
           "#EF553B",
           "#00cc96",
           "#ab63fa",
           "#FFA15A",
           "#19d3f3",
           "#FF6692",
           "#B6E880",
           "#FF97FF",
           "#FECB52"
          ],
          "font": {
           "color": "#2a3f5f"
          },
          "geo": {
           "bgcolor": "white",
           "lakecolor": "white",
           "landcolor": "#E5ECF6",
           "showlakes": true,
           "showland": true,
           "subunitcolor": "white"
          },
          "hoverlabel": {
           "align": "left"
          },
          "hovermode": "closest",
          "mapbox": {
           "style": "light"
          },
          "paper_bgcolor": "white",
          "plot_bgcolor": "#E5ECF6",
          "polar": {
           "angularaxis": {
            "gridcolor": "white",
            "linecolor": "white",
            "ticks": ""
           },
           "bgcolor": "#E5ECF6",
           "radialaxis": {
            "gridcolor": "white",
            "linecolor": "white",
            "ticks": ""
           }
          },
          "scene": {
           "xaxis": {
            "backgroundcolor": "#E5ECF6",
            "gridcolor": "white",
            "gridwidth": 2,
            "linecolor": "white",
            "showbackground": true,
            "ticks": "",
            "zerolinecolor": "white"
           },
           "yaxis": {
            "backgroundcolor": "#E5ECF6",
            "gridcolor": "white",
            "gridwidth": 2,
            "linecolor": "white",
            "showbackground": true,
            "ticks": "",
            "zerolinecolor": "white"
           },
           "zaxis": {
            "backgroundcolor": "#E5ECF6",
            "gridcolor": "white",
            "gridwidth": 2,
            "linecolor": "white",
            "showbackground": true,
            "ticks": "",
            "zerolinecolor": "white"
           }
          },
          "shapedefaults": {
           "line": {
            "color": "#2a3f5f"
           }
          },
          "ternary": {
           "aaxis": {
            "gridcolor": "white",
            "linecolor": "white",
            "ticks": ""
           },
           "baxis": {
            "gridcolor": "white",
            "linecolor": "white",
            "ticks": ""
           },
           "bgcolor": "#E5ECF6",
           "caxis": {
            "gridcolor": "white",
            "linecolor": "white",
            "ticks": ""
           }
          },
          "title": {
           "x": 0.05
          },
          "xaxis": {
           "automargin": true,
           "gridcolor": "white",
           "linecolor": "white",
           "ticks": "",
           "title": {
            "standoff": 15
           },
           "zerolinecolor": "white",
           "zerolinewidth": 2
          },
          "yaxis": {
           "automargin": true,
           "gridcolor": "white",
           "linecolor": "white",
           "ticks": "",
           "title": {
            "standoff": 15
           },
           "zerolinecolor": "white",
           "zerolinewidth": 2
          }
         }
        },
        "title": {
         "font": {
          "color": "#4D5663"
         }
        },
        "xaxis": {
         "gridcolor": "#E1E5ED",
         "showgrid": true,
         "tickfont": {
          "color": "#4D5663"
         },
         "title": {
          "font": {
           "color": "#4D5663"
          },
          "text": ""
         },
         "zerolinecolor": "#E1E5ED"
        },
        "yaxis": {
         "gridcolor": "#E1E5ED",
         "showgrid": true,
         "tickfont": {
          "color": "#4D5663"
         },
         "title": {
          "font": {
           "color": "#4D5663"
          },
          "text": ""
         },
         "zerolinecolor": "#E1E5ED"
        }
       }
      },
      "text/html": [
       "<div>                            <div id=\"18e32cdd-55a9-49e2-84be-cb50321dc40d\" class=\"plotly-graph-div\" style=\"height:525px; width:100%;\"></div>            <script type=\"text/javascript\">                require([\"plotly\"], function(Plotly) {                    window.PLOTLYENV=window.PLOTLYENV || {};\n",
       "                    window.PLOTLYENV.BASE_URL='https://plot.ly';                                    if (document.getElementById(\"18e32cdd-55a9-49e2-84be-cb50321dc40d\")) {                    Plotly.newPlot(                        \"18e32cdd-55a9-49e2-84be-cb50321dc40d\",                        [{\"marker\": {\"color\": [\"rgb(255, 153, 51)\", \"rgb(55, 128, 191)\", \"rgb(50, 171, 96)\", \"rgb(128, 0, 128)\", \"rgb(219, 64, 82)\", \"rgb(0, 128, 128)\", \"rgb(255, 255, 51)\", \"rgb(128, 128, 0)\", \"rgb(251, 128, 114)\", \"rgb(128, 177, 211)\"], \"line\": {\"width\": 1.3}, \"size\": [90, 76, 72, 17, 69, 56, 48, 77, 54, 57, 99, 47, 86, 53, 106, 56, 49, 34, 53, 43, 61, 31, 51, 25, 69, 74, 75, 100, 46, 84, 44, 52, 64, 34, 31, 63, 112, 64, 69, 63, 52, 63, 51, 52, 69, 84, 37, 92, 85, 103, 46, 37, 54, 71, 12, 65, 51, 37, 80, 63, 45, 40, 72, 47, 65, 59, 66, 50, 50, 101, 92, 43, 83, 87, 89, 37, 24, 42, 77, 82, 49, 105, 30, 66, 29, 62, 98, 98, 90, 54, 99, 76, 29, 76, 99, 54, 46, 48, 63, 73], \"symbol\": \"circle\"}, \"mode\": \"markers\", \"text\": \"\", \"type\": \"scatter\", \"x\": [0.42135637469066833, 0.051787610039485656, -0.8859201272757309, 1.127155918130127, 0.05110503169809027, -1.3625779998716074, 1.413463839091547, -1.0518298420858014, -1.4273371067642697, 0.2167236110214108, 0.1543785204974001, 1.0307652297071481, -1.556770626777491, -0.846285335148641, -1.4475567856473346, 0.28136297298603, 0.16206068112953487, 0.3415324132284915, -1.1033635133636706, 0.8894648772645205, -1.8017630378505909, -0.14245031927646856, -0.8266858154440575, -0.7530689966357229, -2.0574608097003035, -1.8778506514905104, -0.08148361870194606, -0.9357959490775972, -0.6760913977083556, -1.1041299976906465, 0.22052054948520405, -0.6208213787655636, -0.9832356528265209, 0.3121875795693881, -0.044428851806542095, -0.6160413621576425, 0.8338980770256911, -0.4078014558131567, 1.1326628751514818, 1.381820447729485, 0.5870663051810776, -0.7226234218334454, 0.637116486862654, 0.810474475909267, 2.70372528025538, 0.6462466649527927, 0.3743500129845283, 0.17484316236836292, 1.4641354227184749, -0.00834110773828608, 1.0168581856522507, -0.46088217782489604, -1.5221428181584185, 1.1085033065208867, -0.03359453206244407, 0.13024239174967583, -1.1376425645386274, 1.1102484582897623, 0.12115485743688534, 1.2269014026945384, -1.2118887477098856, -0.07302583552604484, -0.7657437595439366, 0.014733537309346229, -1.7912003541024881, 1.7244980639349405, -1.209570556075875, -1.1811987834399718, -1.3383168952142377, -0.23545845455329553, 0.5455075698862204, 0.5143435707195769, 0.49970410382795577, -1.0087869177358482, 1.5295395940774288, 0.19968872339286142, 0.2853967438038379, 0.6267199329816086, 0.7594740494277189, -2.2107520896395836, 0.04207387549136959, -0.1009791017301549, -1.363303282286697, -2.1269648825992946, -0.9969616855723071, -0.16447434850235484, 0.4579274109261358, -0.0501398598101201, 0.9794488277108203, -0.6698307222391381, 1.3153732821001494, 0.05781171695218909, -0.7880077693551906, 1.513297183883774, -1.2630353942419186, -0.8474541119052957, 1.8675720657212853, 0.8259412981691324, 0.23634614857664427, -1.5622218215155599], \"y\": [-0.6501201079452595, -0.6396703664807071, -0.14910624389792665, 0.9191471993045957, -0.20408638918650238, -1.8339833921820385, -0.5336687782287028, 1.1159759429939438, 0.9687317127445674, -1.7400136162569626, 0.21071196310648294, -0.6652480269305107, -0.5355523925508483, -0.5131492863893872, 0.6857146627816957, 1.098945987906431, -0.9348369343583188, -0.7325354095966315, 0.021514349515909068, -1.0346009878659206, -0.17501231162040945, 0.7367345313547262, -1.0897665770658538, -0.33938896768116844, 2.0121374329786192, -0.6393950234441513, 0.03647086107054639, -0.5948946033349691, 1.4104386684965855, 0.24031607468836597, 0.013035966419714847, -0.20069232286431354, 2.631987135365754, 1.1402967549197727, -1.3480836252528436, -0.5419029514580261, 0.35165958782611867, 0.5574337761914983, 0.5053362646599682, 0.06694474269967485, -0.6160293085973875, -1.8467820531221697, 0.23180264269673023, 1.5710530598742847, 0.16850544639523987, -0.5448421894097137, 0.800392407126888, -0.3205623468664349, 1.080515029284678, -1.7371274865461397, -1.89016032000533, 0.6587944707237163, 1.3712428758799025, -0.22839481245865867, -0.11743381153175035, 0.08875123869894627, 1.2534991446004125, -1.0050131736037835, -1.4849688355120898, 0.6705897386978111, 1.5984677392051143, -1.2645470074698082, 0.7264911234789589, -2.3717085033683727, -1.4436789972254331, -0.40695984992958373, -0.4220425299401283, -1.4988249695855351, -1.1392043419422493, -0.25228704335304114, 1.1690146052494421, -1.059060163146755, -0.6643372846194279, -1.8106561856144445, 0.23156168713817965, 0.4832174484382462, 1.5349359636281692, 0.7813633744015297, -0.14476594977734775, -1.191781902475107, 1.1339137809138238, 0.4633338142600121, 1.6834801300382207, -0.04735403216966803, 2.303170234529257, -1.588979977909511, 0.15271731738318492, -0.7055727659267433, 0.06895653776059535, 0.4744135459499637, -1.7719303079565776, -0.3132926379621396, 0.475239615161257, 0.3984714410737094, -0.37273617218314103, -1.5892452468814993, 1.383171377203694, 0.3208732966941905, -0.33731818730533253, 0.45105978115116213]}],                        {\"legend\": {\"bgcolor\": \"#F5F6F9\", \"font\": {\"color\": \"#4D5663\"}}, \"paper_bgcolor\": \"#F5F6F9\", \"plot_bgcolor\": \"#F5F6F9\", \"template\": {\"data\": {\"bar\": [{\"error_x\": {\"color\": \"#2a3f5f\"}, \"error_y\": {\"color\": \"#2a3f5f\"}, \"marker\": {\"line\": {\"color\": \"#E5ECF6\", \"width\": 0.5}}, \"type\": \"bar\"}], \"barpolar\": [{\"marker\": {\"line\": {\"color\": \"#E5ECF6\", \"width\": 0.5}}, \"type\": \"barpolar\"}], \"carpet\": [{\"aaxis\": {\"endlinecolor\": \"#2a3f5f\", \"gridcolor\": \"white\", \"linecolor\": \"white\", \"minorgridcolor\": \"white\", \"startlinecolor\": \"#2a3f5f\"}, \"baxis\": {\"endlinecolor\": \"#2a3f5f\", \"gridcolor\": \"white\", \"linecolor\": \"white\", \"minorgridcolor\": \"white\", \"startlinecolor\": \"#2a3f5f\"}, \"type\": \"carpet\"}], \"choropleth\": [{\"colorbar\": {\"outlinewidth\": 0, \"ticks\": \"\"}, \"type\": \"choropleth\"}], \"contour\": [{\"colorbar\": {\"outlinewidth\": 0, \"ticks\": \"\"}, \"colorscale\": [[0.0, \"#0d0887\"], [0.1111111111111111, \"#46039f\"], [0.2222222222222222, \"#7201a8\"], [0.3333333333333333, \"#9c179e\"], [0.4444444444444444, \"#bd3786\"], [0.5555555555555556, \"#d8576b\"], [0.6666666666666666, \"#ed7953\"], [0.7777777777777778, \"#fb9f3a\"], [0.8888888888888888, \"#fdca26\"], [1.0, \"#f0f921\"]], \"type\": \"contour\"}], \"contourcarpet\": [{\"colorbar\": {\"outlinewidth\": 0, \"ticks\": \"\"}, \"type\": \"contourcarpet\"}], \"heatmap\": [{\"colorbar\": {\"outlinewidth\": 0, \"ticks\": \"\"}, \"colorscale\": [[0.0, \"#0d0887\"], [0.1111111111111111, \"#46039f\"], [0.2222222222222222, \"#7201a8\"], [0.3333333333333333, \"#9c179e\"], [0.4444444444444444, \"#bd3786\"], [0.5555555555555556, \"#d8576b\"], [0.6666666666666666, \"#ed7953\"], [0.7777777777777778, \"#fb9f3a\"], [0.8888888888888888, \"#fdca26\"], [1.0, \"#f0f921\"]], \"type\": \"heatmap\"}], \"heatmapgl\": [{\"colorbar\": {\"outlinewidth\": 0, \"ticks\": \"\"}, \"colorscale\": [[0.0, \"#0d0887\"], [0.1111111111111111, \"#46039f\"], [0.2222222222222222, \"#7201a8\"], [0.3333333333333333, \"#9c179e\"], [0.4444444444444444, \"#bd3786\"], [0.5555555555555556, \"#d8576b\"], [0.6666666666666666, \"#ed7953\"], [0.7777777777777778, \"#fb9f3a\"], [0.8888888888888888, \"#fdca26\"], [1.0, \"#f0f921\"]], \"type\": \"heatmapgl\"}], \"histogram\": [{\"marker\": {\"colorbar\": {\"outlinewidth\": 0, \"ticks\": \"\"}}, \"type\": \"histogram\"}], \"histogram2d\": [{\"colorbar\": {\"outlinewidth\": 0, \"ticks\": \"\"}, \"colorscale\": [[0.0, \"#0d0887\"], [0.1111111111111111, \"#46039f\"], [0.2222222222222222, \"#7201a8\"], [0.3333333333333333, \"#9c179e\"], [0.4444444444444444, \"#bd3786\"], [0.5555555555555556, \"#d8576b\"], [0.6666666666666666, \"#ed7953\"], [0.7777777777777778, \"#fb9f3a\"], [0.8888888888888888, \"#fdca26\"], [1.0, \"#f0f921\"]], \"type\": \"histogram2d\"}], \"histogram2dcontour\": [{\"colorbar\": {\"outlinewidth\": 0, \"ticks\": \"\"}, \"colorscale\": [[0.0, \"#0d0887\"], [0.1111111111111111, \"#46039f\"], [0.2222222222222222, \"#7201a8\"], [0.3333333333333333, \"#9c179e\"], [0.4444444444444444, \"#bd3786\"], [0.5555555555555556, \"#d8576b\"], [0.6666666666666666, \"#ed7953\"], [0.7777777777777778, \"#fb9f3a\"], [0.8888888888888888, \"#fdca26\"], [1.0, \"#f0f921\"]], \"type\": \"histogram2dcontour\"}], \"mesh3d\": [{\"colorbar\": {\"outlinewidth\": 0, \"ticks\": \"\"}, \"type\": \"mesh3d\"}], \"parcoords\": [{\"line\": {\"colorbar\": {\"outlinewidth\": 0, \"ticks\": \"\"}}, \"type\": \"parcoords\"}], \"pie\": [{\"automargin\": true, \"type\": \"pie\"}], \"scatter\": [{\"marker\": {\"colorbar\": {\"outlinewidth\": 0, \"ticks\": \"\"}}, \"type\": \"scatter\"}], \"scatter3d\": [{\"line\": {\"colorbar\": {\"outlinewidth\": 0, \"ticks\": \"\"}}, \"marker\": {\"colorbar\": {\"outlinewidth\": 0, \"ticks\": \"\"}}, \"type\": \"scatter3d\"}], \"scattercarpet\": [{\"marker\": {\"colorbar\": {\"outlinewidth\": 0, \"ticks\": \"\"}}, \"type\": \"scattercarpet\"}], \"scattergeo\": [{\"marker\": {\"colorbar\": {\"outlinewidth\": 0, \"ticks\": \"\"}}, \"type\": \"scattergeo\"}], \"scattergl\": [{\"marker\": {\"colorbar\": {\"outlinewidth\": 0, \"ticks\": \"\"}}, \"type\": \"scattergl\"}], \"scattermapbox\": [{\"marker\": {\"colorbar\": {\"outlinewidth\": 0, \"ticks\": \"\"}}, \"type\": \"scattermapbox\"}], \"scatterpolar\": [{\"marker\": {\"colorbar\": {\"outlinewidth\": 0, \"ticks\": \"\"}}, \"type\": \"scatterpolar\"}], \"scatterpolargl\": [{\"marker\": {\"colorbar\": {\"outlinewidth\": 0, \"ticks\": \"\"}}, \"type\": \"scatterpolargl\"}], \"scatterternary\": [{\"marker\": {\"colorbar\": {\"outlinewidth\": 0, \"ticks\": \"\"}}, \"type\": \"scatterternary\"}], \"surface\": [{\"colorbar\": {\"outlinewidth\": 0, \"ticks\": \"\"}, \"colorscale\": [[0.0, \"#0d0887\"], [0.1111111111111111, \"#46039f\"], [0.2222222222222222, \"#7201a8\"], [0.3333333333333333, \"#9c179e\"], [0.4444444444444444, \"#bd3786\"], [0.5555555555555556, \"#d8576b\"], [0.6666666666666666, \"#ed7953\"], [0.7777777777777778, \"#fb9f3a\"], [0.8888888888888888, \"#fdca26\"], [1.0, \"#f0f921\"]], \"type\": \"surface\"}], \"table\": [{\"cells\": {\"fill\": {\"color\": \"#EBF0F8\"}, \"line\": {\"color\": \"white\"}}, \"header\": {\"fill\": {\"color\": \"#C8D4E3\"}, \"line\": {\"color\": \"white\"}}, \"type\": \"table\"}]}, \"layout\": {\"annotationdefaults\": {\"arrowcolor\": \"#2a3f5f\", \"arrowhead\": 0, \"arrowwidth\": 1}, \"autotypenumbers\": \"strict\", \"coloraxis\": {\"colorbar\": {\"outlinewidth\": 0, \"ticks\": \"\"}}, \"colorscale\": {\"diverging\": [[0, \"#8e0152\"], [0.1, \"#c51b7d\"], [0.2, \"#de77ae\"], [0.3, \"#f1b6da\"], [0.4, \"#fde0ef\"], [0.5, \"#f7f7f7\"], [0.6, \"#e6f5d0\"], [0.7, \"#b8e186\"], [0.8, \"#7fbc41\"], [0.9, \"#4d9221\"], [1, \"#276419\"]], \"sequential\": [[0.0, \"#0d0887\"], [0.1111111111111111, \"#46039f\"], [0.2222222222222222, \"#7201a8\"], [0.3333333333333333, \"#9c179e\"], [0.4444444444444444, \"#bd3786\"], [0.5555555555555556, \"#d8576b\"], [0.6666666666666666, \"#ed7953\"], [0.7777777777777778, \"#fb9f3a\"], [0.8888888888888888, \"#fdca26\"], [1.0, \"#f0f921\"]], \"sequentialminus\": [[0.0, \"#0d0887\"], [0.1111111111111111, \"#46039f\"], [0.2222222222222222, \"#7201a8\"], [0.3333333333333333, \"#9c179e\"], [0.4444444444444444, \"#bd3786\"], [0.5555555555555556, \"#d8576b\"], [0.6666666666666666, \"#ed7953\"], [0.7777777777777778, \"#fb9f3a\"], [0.8888888888888888, \"#fdca26\"], [1.0, \"#f0f921\"]]}, \"colorway\": [\"#636efa\", \"#EF553B\", \"#00cc96\", \"#ab63fa\", \"#FFA15A\", \"#19d3f3\", \"#FF6692\", \"#B6E880\", \"#FF97FF\", \"#FECB52\"], \"font\": {\"color\": \"#2a3f5f\"}, \"geo\": {\"bgcolor\": \"white\", \"lakecolor\": \"white\", \"landcolor\": \"#E5ECF6\", \"showlakes\": true, \"showland\": true, \"subunitcolor\": \"white\"}, \"hoverlabel\": {\"align\": \"left\"}, \"hovermode\": \"closest\", \"mapbox\": {\"style\": \"light\"}, \"paper_bgcolor\": \"white\", \"plot_bgcolor\": \"#E5ECF6\", \"polar\": {\"angularaxis\": {\"gridcolor\": \"white\", \"linecolor\": \"white\", \"ticks\": \"\"}, \"bgcolor\": \"#E5ECF6\", \"radialaxis\": {\"gridcolor\": \"white\", \"linecolor\": \"white\", \"ticks\": \"\"}}, \"scene\": {\"xaxis\": {\"backgroundcolor\": \"#E5ECF6\", \"gridcolor\": \"white\", \"gridwidth\": 2, \"linecolor\": \"white\", \"showbackground\": true, \"ticks\": \"\", \"zerolinecolor\": \"white\"}, \"yaxis\": {\"backgroundcolor\": \"#E5ECF6\", \"gridcolor\": \"white\", \"gridwidth\": 2, \"linecolor\": \"white\", \"showbackground\": true, \"ticks\": \"\", \"zerolinecolor\": \"white\"}, \"zaxis\": {\"backgroundcolor\": \"#E5ECF6\", \"gridcolor\": \"white\", \"gridwidth\": 2, \"linecolor\": \"white\", \"showbackground\": true, \"ticks\": \"\", \"zerolinecolor\": \"white\"}}, \"shapedefaults\": {\"line\": {\"color\": \"#2a3f5f\"}}, \"ternary\": {\"aaxis\": {\"gridcolor\": \"white\", \"linecolor\": \"white\", \"ticks\": \"\"}, \"baxis\": {\"gridcolor\": \"white\", \"linecolor\": \"white\", \"ticks\": \"\"}, \"bgcolor\": \"#E5ECF6\", \"caxis\": {\"gridcolor\": \"white\", \"linecolor\": \"white\", \"ticks\": \"\"}}, \"title\": {\"x\": 0.05}, \"xaxis\": {\"automargin\": true, \"gridcolor\": \"white\", \"linecolor\": \"white\", \"ticks\": \"\", \"title\": {\"standoff\": 15}, \"zerolinecolor\": \"white\", \"zerolinewidth\": 2}, \"yaxis\": {\"automargin\": true, \"gridcolor\": \"white\", \"linecolor\": \"white\", \"ticks\": \"\", \"title\": {\"standoff\": 15}, \"zerolinecolor\": \"white\", \"zerolinewidth\": 2}}}, \"title\": {\"font\": {\"color\": \"#4D5663\"}}, \"xaxis\": {\"gridcolor\": \"#E1E5ED\", \"showgrid\": true, \"tickfont\": {\"color\": \"#4D5663\"}, \"title\": {\"font\": {\"color\": \"#4D5663\"}, \"text\": \"\"}, \"zerolinecolor\": \"#E1E5ED\"}, \"yaxis\": {\"gridcolor\": \"#E1E5ED\", \"showgrid\": true, \"tickfont\": {\"color\": \"#4D5663\"}, \"title\": {\"font\": {\"color\": \"#4D5663\"}, \"text\": \"\"}, \"zerolinecolor\": \"#E1E5ED\"}},                        {\"showLink\": true, \"linkText\": \"Export to plot.ly\", \"plotlyServerURL\": \"https://plot.ly\", \"responsive\": true}                    ).then(function(){\n",
       "                            \n",
       "var gd = document.getElementById('18e32cdd-55a9-49e2-84be-cb50321dc40d');\n",
       "var x = new MutationObserver(function (mutations, observer) {{\n",
       "        var display = window.getComputedStyle(gd).display;\n",
       "        if (!display || display === 'none') {{\n",
       "            console.log([gd, 'removed!']);\n",
       "            Plotly.purge(gd);\n",
       "            observer.disconnect();\n",
       "        }}\n",
       "}});\n",
       "\n",
       "// Listen for the removal of the full notebook cells\n",
       "var notebookContainer = gd.closest('#notebook-container');\n",
       "if (notebookContainer) {{\n",
       "    x.observe(notebookContainer, {childList: true});\n",
       "}}\n",
       "\n",
       "// Listen for the clearing of the current output cell\n",
       "var outputEl = gd.closest('.output');\n",
       "if (outputEl) {{\n",
       "    x.observe(outputEl, {childList: true});\n",
       "}}\n",
       "\n",
       "                        })                };                });            </script>        </div>"
      ]
     },
     "metadata": {},
     "output_type": "display_data"
    }
   ],
   "source": [
    "df.iplot(kind='bubble',x='A',y='B',size='C')"
   ]
  },
  {
   "cell_type": "markdown",
   "metadata": {},
   "source": [
    "## scatter_matrix()\n",
    "\n",
    "Similar to sns.pairplot()"
   ]
  },
  {
   "cell_type": "code",
   "execution_count": 19,
   "metadata": {},
   "outputs": [
    {
     "data": {
      "application/vnd.plotly.v1+json": {
       "config": {
        "linkText": "Export to plot.ly",
        "plotlyServerURL": "https://plot.ly",
        "showLink": true
       },
       "data": [
        {
         "histfunc": "count",
         "histnorm": "",
         "marker": {
          "color": "rgba(255, 153, 51, 1.0)",
          "line": {
           "color": "#4D5663",
           "width": 1.3
          }
         },
         "name": "A",
         "nbinsx": 10,
         "opacity": 0.8,
         "orientation": "v",
         "type": "histogram",
         "x": [
          0.42135637469066833,
          0.051787610039485656,
          -0.8859201272757309,
          1.127155918130127,
          0.05110503169809027,
          -1.3625779998716074,
          1.413463839091547,
          -1.0518298420858014,
          -1.4273371067642697,
          0.2167236110214108,
          0.1543785204974001,
          1.0307652297071481,
          -1.556770626777491,
          -0.846285335148641,
          -1.4475567856473346,
          0.28136297298603,
          0.16206068112953487,
          0.3415324132284915,
          -1.1033635133636706,
          0.8894648772645205,
          -1.8017630378505909,
          -0.14245031927646856,
          -0.8266858154440575,
          -0.7530689966357229,
          -2.0574608097003035,
          -1.8778506514905104,
          -0.08148361870194606,
          -0.9357959490775972,
          -0.6760913977083556,
          -1.1041299976906465,
          0.22052054948520405,
          -0.6208213787655636,
          -0.9832356528265209,
          0.3121875795693881,
          -0.044428851806542095,
          -0.6160413621576425,
          0.8338980770256911,
          -0.4078014558131567,
          1.1326628751514818,
          1.381820447729485,
          0.5870663051810776,
          -0.7226234218334454,
          0.637116486862654,
          0.810474475909267,
          2.70372528025538,
          0.6462466649527927,
          0.3743500129845283,
          0.17484316236836292,
          1.4641354227184749,
          -0.00834110773828608,
          1.0168581856522507,
          -0.46088217782489604,
          -1.5221428181584185,
          1.1085033065208867,
          -0.03359453206244407,
          0.13024239174967583,
          -1.1376425645386274,
          1.1102484582897623,
          0.12115485743688534,
          1.2269014026945384,
          -1.2118887477098856,
          -0.07302583552604484,
          -0.7657437595439366,
          0.014733537309346229,
          -1.7912003541024881,
          1.7244980639349405,
          -1.209570556075875,
          -1.1811987834399718,
          -1.3383168952142377,
          -0.23545845455329553,
          0.5455075698862204,
          0.5143435707195769,
          0.49970410382795577,
          -1.0087869177358482,
          1.5295395940774288,
          0.19968872339286142,
          0.2853967438038379,
          0.6267199329816086,
          0.7594740494277189,
          -2.2107520896395836,
          0.04207387549136959,
          -0.1009791017301549,
          -1.363303282286697,
          -2.1269648825992946,
          -0.9969616855723071,
          -0.16447434850235484,
          0.4579274109261358,
          -0.0501398598101201,
          0.9794488277108203,
          -0.6698307222391381,
          1.3153732821001494,
          0.05781171695218909,
          -0.7880077693551906,
          1.513297183883774,
          -1.2630353942419186,
          -0.8474541119052957,
          1.8675720657212853,
          0.8259412981691324,
          0.23634614857664427,
          -1.5622218215155599
         ],
         "xaxis": "x",
         "yaxis": "y"
        },
        {
         "line": {
          "color": "rgba(128, 128, 128, 1.0)",
          "dash": "solid",
          "shape": "linear",
          "width": 1.3
         },
         "marker": {
          "size": 2,
          "symbol": "circle"
         },
         "mode": "markers",
         "name": "A",
         "text": "",
         "type": "scatter",
         "x": [
          -0.6501201079452595,
          -0.6396703664807071,
          -0.14910624389792665,
          0.9191471993045957,
          -0.20408638918650238,
          -1.8339833921820385,
          -0.5336687782287028,
          1.1159759429939438,
          0.9687317127445674,
          -1.7400136162569626,
          0.21071196310648294,
          -0.6652480269305107,
          -0.5355523925508483,
          -0.5131492863893872,
          0.6857146627816957,
          1.098945987906431,
          -0.9348369343583188,
          -0.7325354095966315,
          0.021514349515909068,
          -1.0346009878659206,
          -0.17501231162040945,
          0.7367345313547262,
          -1.0897665770658538,
          -0.33938896768116844,
          2.0121374329786192,
          -0.6393950234441513,
          0.03647086107054639,
          -0.5948946033349691,
          1.4104386684965855,
          0.24031607468836597,
          0.013035966419714847,
          -0.20069232286431354,
          2.631987135365754,
          1.1402967549197727,
          -1.3480836252528436,
          -0.5419029514580261,
          0.35165958782611867,
          0.5574337761914983,
          0.5053362646599682,
          0.06694474269967485,
          -0.6160293085973875,
          -1.8467820531221697,
          0.23180264269673023,
          1.5710530598742847,
          0.16850544639523987,
          -0.5448421894097137,
          0.800392407126888,
          -0.3205623468664349,
          1.080515029284678,
          -1.7371274865461397,
          -1.89016032000533,
          0.6587944707237163,
          1.3712428758799025,
          -0.22839481245865867,
          -0.11743381153175035,
          0.08875123869894627,
          1.2534991446004125,
          -1.0050131736037835,
          -1.4849688355120898,
          0.6705897386978111,
          1.5984677392051143,
          -1.2645470074698082,
          0.7264911234789589,
          -2.3717085033683727,
          -1.4436789972254331,
          -0.40695984992958373,
          -0.4220425299401283,
          -1.4988249695855351,
          -1.1392043419422493,
          -0.25228704335304114,
          1.1690146052494421,
          -1.059060163146755,
          -0.6643372846194279,
          -1.8106561856144445,
          0.23156168713817965,
          0.4832174484382462,
          1.5349359636281692,
          0.7813633744015297,
          -0.14476594977734775,
          -1.191781902475107,
          1.1339137809138238,
          0.4633338142600121,
          1.6834801300382207,
          -0.04735403216966803,
          2.303170234529257,
          -1.588979977909511,
          0.15271731738318492,
          -0.7055727659267433,
          0.06895653776059535,
          0.4744135459499637,
          -1.7719303079565776,
          -0.3132926379621396,
          0.475239615161257,
          0.3984714410737094,
          -0.37273617218314103,
          -1.5892452468814993,
          1.383171377203694,
          0.3208732966941905,
          -0.33731818730533253,
          0.45105978115116213
         ],
         "xaxis": "x2",
         "y": [
          0.42135637469066833,
          0.051787610039485656,
          -0.8859201272757309,
          1.127155918130127,
          0.05110503169809027,
          -1.3625779998716074,
          1.413463839091547,
          -1.0518298420858014,
          -1.4273371067642697,
          0.2167236110214108,
          0.1543785204974001,
          1.0307652297071481,
          -1.556770626777491,
          -0.846285335148641,
          -1.4475567856473346,
          0.28136297298603,
          0.16206068112953487,
          0.3415324132284915,
          -1.1033635133636706,
          0.8894648772645205,
          -1.8017630378505909,
          -0.14245031927646856,
          -0.8266858154440575,
          -0.7530689966357229,
          -2.0574608097003035,
          -1.8778506514905104,
          -0.08148361870194606,
          -0.9357959490775972,
          -0.6760913977083556,
          -1.1041299976906465,
          0.22052054948520405,
          -0.6208213787655636,
          -0.9832356528265209,
          0.3121875795693881,
          -0.044428851806542095,
          -0.6160413621576425,
          0.8338980770256911,
          -0.4078014558131567,
          1.1326628751514818,
          1.381820447729485,
          0.5870663051810776,
          -0.7226234218334454,
          0.637116486862654,
          0.810474475909267,
          2.70372528025538,
          0.6462466649527927,
          0.3743500129845283,
          0.17484316236836292,
          1.4641354227184749,
          -0.00834110773828608,
          1.0168581856522507,
          -0.46088217782489604,
          -1.5221428181584185,
          1.1085033065208867,
          -0.03359453206244407,
          0.13024239174967583,
          -1.1376425645386274,
          1.1102484582897623,
          0.12115485743688534,
          1.2269014026945384,
          -1.2118887477098856,
          -0.07302583552604484,
          -0.7657437595439366,
          0.014733537309346229,
          -1.7912003541024881,
          1.7244980639349405,
          -1.209570556075875,
          -1.1811987834399718,
          -1.3383168952142377,
          -0.23545845455329553,
          0.5455075698862204,
          0.5143435707195769,
          0.49970410382795577,
          -1.0087869177358482,
          1.5295395940774288,
          0.19968872339286142,
          0.2853967438038379,
          0.6267199329816086,
          0.7594740494277189,
          -2.2107520896395836,
          0.04207387549136959,
          -0.1009791017301549,
          -1.363303282286697,
          -2.1269648825992946,
          -0.9969616855723071,
          -0.16447434850235484,
          0.4579274109261358,
          -0.0501398598101201,
          0.9794488277108203,
          -0.6698307222391381,
          1.3153732821001494,
          0.05781171695218909,
          -0.7880077693551906,
          1.513297183883774,
          -1.2630353942419186,
          -0.8474541119052957,
          1.8675720657212853,
          0.8259412981691324,
          0.23634614857664427,
          -1.5622218215155599
         ],
         "yaxis": "y2"
        },
        {
         "line": {
          "color": "rgba(128, 128, 128, 1.0)",
          "dash": "solid",
          "shape": "linear",
          "width": 1.3
         },
         "marker": {
          "size": 2,
          "symbol": "circle"
         },
         "mode": "markers",
         "name": "A",
         "text": "",
         "type": "scatter",
         "x": [
          1.3055372336746414,
          0.7114162391522426,
          0.5319180757823271,
          -1.9123101474310888,
          0.39976536098051685,
          -0.18028859700089062,
          -0.5230524008977765,
          0.7268276275024059,
          -0.2944345287828867,
          -0.14726694281082295,
          1.7315655586248442,
          -0.5810551835695299,
          1.1368820733256777,
          -0.3215240402868722,
          2.0359069216444285,
          -0.20123013992778713,
          -0.4875713899458238,
          -1.151241975461552,
          -0.30277486316817714,
          -0.744220382383983,
          0.04613315459916105,
          -1.3057145064090865,
          -0.4088861945126814,
          -1.5646154963534107,
          0.3966568333743682,
          0.6316679600864687,
          0.6374757271763759,
          1.754905824180303,
          -0.640682521286157,
          1.0486061154272264,
          -0.7145667182885798,
          -0.3806877293010073,
          0.1567278401603999,
          -1.155602029567627,
          -1.297873553374794,
          0.14349699346763617,
          2.2799058299597124,
          0.18010941279247047,
          0.38356005316294317,
          0.10698467327652507,
          -0.3454448778351593,
          0.14763921225715568,
          -0.4028902079268841,
          -0.3579514673449626,
          0.3902241277617355,
          1.0646480458600145,
          -1.0403554672055213,
          1.4058607286530946,
          1.1088578975947785,
          1.8983552624544502,
          -0.629144404663461,
          -1.027197527692072,
          -0.27884089253739963,
          0.4830919556732657,
          -2.159602108194867,
          0.23154295197431854,
          -0.4101269047367675,
          -1.0397144029380463,
          0.8634663671915421,
          0.12335901710602763,
          -0.6589125054500717,
          -0.8837218309099732,
          0.5300635380526064,
          -0.5870212032242089,
          0.21604687294689323,
          -0.0431600231923067,
          0.24948270037241593,
          -0.42846826181497183,
          -0.47024444812079214,
          1.809993947170532,
          1.4155181217884234,
          -0.7683014914435955,
          0.9974571901906416,
          1.2081981866169547,
          1.3013948917973308,
          -1.0273427942609155,
          -1.62347966779969,
          -0.8168534597595072,
          0.7534440881257819,
          0.9544426339832112,
          -0.4756276159424117,
          1.9926114495734437,
          -1.3346008304863448,
          0.2519142867261577,
          -1.3917654263113124,
          0.0702088161041401,
          1.6807653325822103,
          1.6610790717144759,
          1.335548879210626,
          -0.28583985589391103,
          1.7341348469615736,
          0.7254979973728675,
          -1.3934189049663144,
          0.7145845715122107,
          1.7147939898494737,
          -0.2795741666374927,
          -0.6180242470288976,
          -0.5457928510713272,
          0.11293397023512372,
          0.5798588529977873
         ],
         "xaxis": "x3",
         "y": [
          0.42135637469066833,
          0.051787610039485656,
          -0.8859201272757309,
          1.127155918130127,
          0.05110503169809027,
          -1.3625779998716074,
          1.413463839091547,
          -1.0518298420858014,
          -1.4273371067642697,
          0.2167236110214108,
          0.1543785204974001,
          1.0307652297071481,
          -1.556770626777491,
          -0.846285335148641,
          -1.4475567856473346,
          0.28136297298603,
          0.16206068112953487,
          0.3415324132284915,
          -1.1033635133636706,
          0.8894648772645205,
          -1.8017630378505909,
          -0.14245031927646856,
          -0.8266858154440575,
          -0.7530689966357229,
          -2.0574608097003035,
          -1.8778506514905104,
          -0.08148361870194606,
          -0.9357959490775972,
          -0.6760913977083556,
          -1.1041299976906465,
          0.22052054948520405,
          -0.6208213787655636,
          -0.9832356528265209,
          0.3121875795693881,
          -0.044428851806542095,
          -0.6160413621576425,
          0.8338980770256911,
          -0.4078014558131567,
          1.1326628751514818,
          1.381820447729485,
          0.5870663051810776,
          -0.7226234218334454,
          0.637116486862654,
          0.810474475909267,
          2.70372528025538,
          0.6462466649527927,
          0.3743500129845283,
          0.17484316236836292,
          1.4641354227184749,
          -0.00834110773828608,
          1.0168581856522507,
          -0.46088217782489604,
          -1.5221428181584185,
          1.1085033065208867,
          -0.03359453206244407,
          0.13024239174967583,
          -1.1376425645386274,
          1.1102484582897623,
          0.12115485743688534,
          1.2269014026945384,
          -1.2118887477098856,
          -0.07302583552604484,
          -0.7657437595439366,
          0.014733537309346229,
          -1.7912003541024881,
          1.7244980639349405,
          -1.209570556075875,
          -1.1811987834399718,
          -1.3383168952142377,
          -0.23545845455329553,
          0.5455075698862204,
          0.5143435707195769,
          0.49970410382795577,
          -1.0087869177358482,
          1.5295395940774288,
          0.19968872339286142,
          0.2853967438038379,
          0.6267199329816086,
          0.7594740494277189,
          -2.2107520896395836,
          0.04207387549136959,
          -0.1009791017301549,
          -1.363303282286697,
          -2.1269648825992946,
          -0.9969616855723071,
          -0.16447434850235484,
          0.4579274109261358,
          -0.0501398598101201,
          0.9794488277108203,
          -0.6698307222391381,
          1.3153732821001494,
          0.05781171695218909,
          -0.7880077693551906,
          1.513297183883774,
          -1.2630353942419186,
          -0.8474541119052957,
          1.8675720657212853,
          0.8259412981691324,
          0.23634614857664427,
          -1.5622218215155599
         ],
         "yaxis": "y3"
        },
        {
         "line": {
          "color": "rgba(128, 128, 128, 1.0)",
          "dash": "solid",
          "shape": "linear",
          "width": 1.3
         },
         "marker": {
          "size": 2,
          "symbol": "circle"
         },
         "mode": "markers",
         "name": "A",
         "text": "",
         "type": "scatter",
         "x": [
          -0.003033409631288337,
          0.0786626564452496,
          -0.15823725127379146,
          -1.9897783258797754,
          -0.41469460533272623,
          1.4209020494595277,
          -0.30222592133763926,
          -0.2214303624712438,
          1.0492788369564692,
          1.2865687882164314,
          -0.4493402433359212,
          -0.8714411779303679,
          0.7425824108485773,
          -0.6427963906285001,
          -0.10072805894553197,
          -1.063010377345948,
          1.8967232364452522,
          1.5131947179202632,
          0.1421901583946138,
          0.35931468731170635,
          -1.1301308249181474,
          -0.5491444471277825,
          0.5525386710611327,
          0.6675662569851768,
          1.2676396438682156,
          -0.9228784813863433,
          -0.10282939821541764,
          -0.35084487058720015,
          -0.5625409640797048,
          0.3918012164622865,
          0.06882667451567533,
          1.3631664978395412,
          -0.07210002209831458,
          -0.35224032075625084,
          -0.5700048238525449,
          -0.37336140249850625,
          -0.20410294091782258,
          -1.2606734333733391,
          -1.5704556774214729,
          0.41333788496089735,
          1.43456879745207,
          2.3518517184715164,
          -0.27428472549608524,
          -0.6660421044452691,
          -0.797339923192551,
          0.39236278706815675,
          -0.15133720320061578,
          -0.1699134011562469,
          1.610601288481763,
          -0.1800306081143111,
          1.5892979941116103,
          -0.3857441205726969,
          0.043082707784277155,
          -1.4789768943208657,
          0.35693164902395574,
          0.9355962081748874,
          -0.358848280315065,
          1.343576697424638,
          0.7145499982587419,
          0.48335042718906546,
          0.6172007463564116,
          -1.9989361583464225,
          -1.2887866227474574,
          -1.439672249846713,
          0.8113502189659851,
          -1.5751104537746734,
          -0.48775695972951977,
          0.9489523365226368,
          -0.4310005056557186,
          -0.4257587741239332,
          -0.6635703254063151,
          0.4300317363803354,
          0.6620577766334544,
          -0.09559127950967047,
          -0.3569141009756636,
          -0.0233346034764943,
          1.3609456400638476,
          0.39830836958691485,
          -0.32917161014308327,
          -1.249598408618195,
          0.48635625903842067,
          0.6146070928884189,
          1.5013270015588285,
          0.08889598457134902,
          -1.8961362936115076,
          -0.6942743965654605,
          1.5225977203488685,
          0.18551046093397752,
          -1.6889406217713374,
          -0.7953297664720886,
          1.4261997343997797,
          0.34036161861680775,
          -0.9653392499121465,
          -0.7010390172221788,
          -0.7223460527695292,
          -2.203097985891278,
          1.1683019412809572,
          -1.1160191622760745,
          1.2534968643237283,
          -0.7367971794866054
         ],
         "xaxis": "x4",
         "y": [
          0.42135637469066833,
          0.051787610039485656,
          -0.8859201272757309,
          1.127155918130127,
          0.05110503169809027,
          -1.3625779998716074,
          1.413463839091547,
          -1.0518298420858014,
          -1.4273371067642697,
          0.2167236110214108,
          0.1543785204974001,
          1.0307652297071481,
          -1.556770626777491,
          -0.846285335148641,
          -1.4475567856473346,
          0.28136297298603,
          0.16206068112953487,
          0.3415324132284915,
          -1.1033635133636706,
          0.8894648772645205,
          -1.8017630378505909,
          -0.14245031927646856,
          -0.8266858154440575,
          -0.7530689966357229,
          -2.0574608097003035,
          -1.8778506514905104,
          -0.08148361870194606,
          -0.9357959490775972,
          -0.6760913977083556,
          -1.1041299976906465,
          0.22052054948520405,
          -0.6208213787655636,
          -0.9832356528265209,
          0.3121875795693881,
          -0.044428851806542095,
          -0.6160413621576425,
          0.8338980770256911,
          -0.4078014558131567,
          1.1326628751514818,
          1.381820447729485,
          0.5870663051810776,
          -0.7226234218334454,
          0.637116486862654,
          0.810474475909267,
          2.70372528025538,
          0.6462466649527927,
          0.3743500129845283,
          0.17484316236836292,
          1.4641354227184749,
          -0.00834110773828608,
          1.0168581856522507,
          -0.46088217782489604,
          -1.5221428181584185,
          1.1085033065208867,
          -0.03359453206244407,
          0.13024239174967583,
          -1.1376425645386274,
          1.1102484582897623,
          0.12115485743688534,
          1.2269014026945384,
          -1.2118887477098856,
          -0.07302583552604484,
          -0.7657437595439366,
          0.014733537309346229,
          -1.7912003541024881,
          1.7244980639349405,
          -1.209570556075875,
          -1.1811987834399718,
          -1.3383168952142377,
          -0.23545845455329553,
          0.5455075698862204,
          0.5143435707195769,
          0.49970410382795577,
          -1.0087869177358482,
          1.5295395940774288,
          0.19968872339286142,
          0.2853967438038379,
          0.6267199329816086,
          0.7594740494277189,
          -2.2107520896395836,
          0.04207387549136959,
          -0.1009791017301549,
          -1.363303282286697,
          -2.1269648825992946,
          -0.9969616855723071,
          -0.16447434850235484,
          0.4579274109261358,
          -0.0501398598101201,
          0.9794488277108203,
          -0.6698307222391381,
          1.3153732821001494,
          0.05781171695218909,
          -0.7880077693551906,
          1.513297183883774,
          -1.2630353942419186,
          -0.8474541119052957,
          1.8675720657212853,
          0.8259412981691324,
          0.23634614857664427,
          -1.5622218215155599
         ],
         "yaxis": "y4"
        },
        {
         "line": {
          "color": "rgba(128, 128, 128, 1.0)",
          "dash": "solid",
          "shape": "linear",
          "width": 1.3
         },
         "marker": {
          "size": 2,
          "symbol": "circle"
         },
         "mode": "markers",
         "name": "B",
         "text": "",
         "type": "scatter",
         "x": [
          0.42135637469066833,
          0.051787610039485656,
          -0.8859201272757309,
          1.127155918130127,
          0.05110503169809027,
          -1.3625779998716074,
          1.413463839091547,
          -1.0518298420858014,
          -1.4273371067642697,
          0.2167236110214108,
          0.1543785204974001,
          1.0307652297071481,
          -1.556770626777491,
          -0.846285335148641,
          -1.4475567856473346,
          0.28136297298603,
          0.16206068112953487,
          0.3415324132284915,
          -1.1033635133636706,
          0.8894648772645205,
          -1.8017630378505909,
          -0.14245031927646856,
          -0.8266858154440575,
          -0.7530689966357229,
          -2.0574608097003035,
          -1.8778506514905104,
          -0.08148361870194606,
          -0.9357959490775972,
          -0.6760913977083556,
          -1.1041299976906465,
          0.22052054948520405,
          -0.6208213787655636,
          -0.9832356528265209,
          0.3121875795693881,
          -0.044428851806542095,
          -0.6160413621576425,
          0.8338980770256911,
          -0.4078014558131567,
          1.1326628751514818,
          1.381820447729485,
          0.5870663051810776,
          -0.7226234218334454,
          0.637116486862654,
          0.810474475909267,
          2.70372528025538,
          0.6462466649527927,
          0.3743500129845283,
          0.17484316236836292,
          1.4641354227184749,
          -0.00834110773828608,
          1.0168581856522507,
          -0.46088217782489604,
          -1.5221428181584185,
          1.1085033065208867,
          -0.03359453206244407,
          0.13024239174967583,
          -1.1376425645386274,
          1.1102484582897623,
          0.12115485743688534,
          1.2269014026945384,
          -1.2118887477098856,
          -0.07302583552604484,
          -0.7657437595439366,
          0.014733537309346229,
          -1.7912003541024881,
          1.7244980639349405,
          -1.209570556075875,
          -1.1811987834399718,
          -1.3383168952142377,
          -0.23545845455329553,
          0.5455075698862204,
          0.5143435707195769,
          0.49970410382795577,
          -1.0087869177358482,
          1.5295395940774288,
          0.19968872339286142,
          0.2853967438038379,
          0.6267199329816086,
          0.7594740494277189,
          -2.2107520896395836,
          0.04207387549136959,
          -0.1009791017301549,
          -1.363303282286697,
          -2.1269648825992946,
          -0.9969616855723071,
          -0.16447434850235484,
          0.4579274109261358,
          -0.0501398598101201,
          0.9794488277108203,
          -0.6698307222391381,
          1.3153732821001494,
          0.05781171695218909,
          -0.7880077693551906,
          1.513297183883774,
          -1.2630353942419186,
          -0.8474541119052957,
          1.8675720657212853,
          0.8259412981691324,
          0.23634614857664427,
          -1.5622218215155599
         ],
         "xaxis": "x5",
         "y": [
          -0.6501201079452595,
          -0.6396703664807071,
          -0.14910624389792665,
          0.9191471993045957,
          -0.20408638918650238,
          -1.8339833921820385,
          -0.5336687782287028,
          1.1159759429939438,
          0.9687317127445674,
          -1.7400136162569626,
          0.21071196310648294,
          -0.6652480269305107,
          -0.5355523925508483,
          -0.5131492863893872,
          0.6857146627816957,
          1.098945987906431,
          -0.9348369343583188,
          -0.7325354095966315,
          0.021514349515909068,
          -1.0346009878659206,
          -0.17501231162040945,
          0.7367345313547262,
          -1.0897665770658538,
          -0.33938896768116844,
          2.0121374329786192,
          -0.6393950234441513,
          0.03647086107054639,
          -0.5948946033349691,
          1.4104386684965855,
          0.24031607468836597,
          0.013035966419714847,
          -0.20069232286431354,
          2.631987135365754,
          1.1402967549197727,
          -1.3480836252528436,
          -0.5419029514580261,
          0.35165958782611867,
          0.5574337761914983,
          0.5053362646599682,
          0.06694474269967485,
          -0.6160293085973875,
          -1.8467820531221697,
          0.23180264269673023,
          1.5710530598742847,
          0.16850544639523987,
          -0.5448421894097137,
          0.800392407126888,
          -0.3205623468664349,
          1.080515029284678,
          -1.7371274865461397,
          -1.89016032000533,
          0.6587944707237163,
          1.3712428758799025,
          -0.22839481245865867,
          -0.11743381153175035,
          0.08875123869894627,
          1.2534991446004125,
          -1.0050131736037835,
          -1.4849688355120898,
          0.6705897386978111,
          1.5984677392051143,
          -1.2645470074698082,
          0.7264911234789589,
          -2.3717085033683727,
          -1.4436789972254331,
          -0.40695984992958373,
          -0.4220425299401283,
          -1.4988249695855351,
          -1.1392043419422493,
          -0.25228704335304114,
          1.1690146052494421,
          -1.059060163146755,
          -0.6643372846194279,
          -1.8106561856144445,
          0.23156168713817965,
          0.4832174484382462,
          1.5349359636281692,
          0.7813633744015297,
          -0.14476594977734775,
          -1.191781902475107,
          1.1339137809138238,
          0.4633338142600121,
          1.6834801300382207,
          -0.04735403216966803,
          2.303170234529257,
          -1.588979977909511,
          0.15271731738318492,
          -0.7055727659267433,
          0.06895653776059535,
          0.4744135459499637,
          -1.7719303079565776,
          -0.3132926379621396,
          0.475239615161257,
          0.3984714410737094,
          -0.37273617218314103,
          -1.5892452468814993,
          1.383171377203694,
          0.3208732966941905,
          -0.33731818730533253,
          0.45105978115116213
         ],
         "yaxis": "y5"
        },
        {
         "histfunc": "count",
         "histnorm": "",
         "marker": {
          "color": "rgba(55, 128, 191, 1.0)",
          "line": {
           "color": "#4D5663",
           "width": 1.3
          }
         },
         "name": "B",
         "nbinsx": 10,
         "opacity": 0.8,
         "orientation": "v",
         "type": "histogram",
         "x": [
          -0.6501201079452595,
          -0.6396703664807071,
          -0.14910624389792665,
          0.9191471993045957,
          -0.20408638918650238,
          -1.8339833921820385,
          -0.5336687782287028,
          1.1159759429939438,
          0.9687317127445674,
          -1.7400136162569626,
          0.21071196310648294,
          -0.6652480269305107,
          -0.5355523925508483,
          -0.5131492863893872,
          0.6857146627816957,
          1.098945987906431,
          -0.9348369343583188,
          -0.7325354095966315,
          0.021514349515909068,
          -1.0346009878659206,
          -0.17501231162040945,
          0.7367345313547262,
          -1.0897665770658538,
          -0.33938896768116844,
          2.0121374329786192,
          -0.6393950234441513,
          0.03647086107054639,
          -0.5948946033349691,
          1.4104386684965855,
          0.24031607468836597,
          0.013035966419714847,
          -0.20069232286431354,
          2.631987135365754,
          1.1402967549197727,
          -1.3480836252528436,
          -0.5419029514580261,
          0.35165958782611867,
          0.5574337761914983,
          0.5053362646599682,
          0.06694474269967485,
          -0.6160293085973875,
          -1.8467820531221697,
          0.23180264269673023,
          1.5710530598742847,
          0.16850544639523987,
          -0.5448421894097137,
          0.800392407126888,
          -0.3205623468664349,
          1.080515029284678,
          -1.7371274865461397,
          -1.89016032000533,
          0.6587944707237163,
          1.3712428758799025,
          -0.22839481245865867,
          -0.11743381153175035,
          0.08875123869894627,
          1.2534991446004125,
          -1.0050131736037835,
          -1.4849688355120898,
          0.6705897386978111,
          1.5984677392051143,
          -1.2645470074698082,
          0.7264911234789589,
          -2.3717085033683727,
          -1.4436789972254331,
          -0.40695984992958373,
          -0.4220425299401283,
          -1.4988249695855351,
          -1.1392043419422493,
          -0.25228704335304114,
          1.1690146052494421,
          -1.059060163146755,
          -0.6643372846194279,
          -1.8106561856144445,
          0.23156168713817965,
          0.4832174484382462,
          1.5349359636281692,
          0.7813633744015297,
          -0.14476594977734775,
          -1.191781902475107,
          1.1339137809138238,
          0.4633338142600121,
          1.6834801300382207,
          -0.04735403216966803,
          2.303170234529257,
          -1.588979977909511,
          0.15271731738318492,
          -0.7055727659267433,
          0.06895653776059535,
          0.4744135459499637,
          -1.7719303079565776,
          -0.3132926379621396,
          0.475239615161257,
          0.3984714410737094,
          -0.37273617218314103,
          -1.5892452468814993,
          1.383171377203694,
          0.3208732966941905,
          -0.33731818730533253,
          0.45105978115116213
         ],
         "xaxis": "x6",
         "yaxis": "y6"
        },
        {
         "line": {
          "color": "rgba(128, 128, 128, 1.0)",
          "dash": "solid",
          "shape": "linear",
          "width": 1.3
         },
         "marker": {
          "size": 2,
          "symbol": "circle"
         },
         "mode": "markers",
         "name": "B",
         "text": "",
         "type": "scatter",
         "x": [
          1.3055372336746414,
          0.7114162391522426,
          0.5319180757823271,
          -1.9123101474310888,
          0.39976536098051685,
          -0.18028859700089062,
          -0.5230524008977765,
          0.7268276275024059,
          -0.2944345287828867,
          -0.14726694281082295,
          1.7315655586248442,
          -0.5810551835695299,
          1.1368820733256777,
          -0.3215240402868722,
          2.0359069216444285,
          -0.20123013992778713,
          -0.4875713899458238,
          -1.151241975461552,
          -0.30277486316817714,
          -0.744220382383983,
          0.04613315459916105,
          -1.3057145064090865,
          -0.4088861945126814,
          -1.5646154963534107,
          0.3966568333743682,
          0.6316679600864687,
          0.6374757271763759,
          1.754905824180303,
          -0.640682521286157,
          1.0486061154272264,
          -0.7145667182885798,
          -0.3806877293010073,
          0.1567278401603999,
          -1.155602029567627,
          -1.297873553374794,
          0.14349699346763617,
          2.2799058299597124,
          0.18010941279247047,
          0.38356005316294317,
          0.10698467327652507,
          -0.3454448778351593,
          0.14763921225715568,
          -0.4028902079268841,
          -0.3579514673449626,
          0.3902241277617355,
          1.0646480458600145,
          -1.0403554672055213,
          1.4058607286530946,
          1.1088578975947785,
          1.8983552624544502,
          -0.629144404663461,
          -1.027197527692072,
          -0.27884089253739963,
          0.4830919556732657,
          -2.159602108194867,
          0.23154295197431854,
          -0.4101269047367675,
          -1.0397144029380463,
          0.8634663671915421,
          0.12335901710602763,
          -0.6589125054500717,
          -0.8837218309099732,
          0.5300635380526064,
          -0.5870212032242089,
          0.21604687294689323,
          -0.0431600231923067,
          0.24948270037241593,
          -0.42846826181497183,
          -0.47024444812079214,
          1.809993947170532,
          1.4155181217884234,
          -0.7683014914435955,
          0.9974571901906416,
          1.2081981866169547,
          1.3013948917973308,
          -1.0273427942609155,
          -1.62347966779969,
          -0.8168534597595072,
          0.7534440881257819,
          0.9544426339832112,
          -0.4756276159424117,
          1.9926114495734437,
          -1.3346008304863448,
          0.2519142867261577,
          -1.3917654263113124,
          0.0702088161041401,
          1.6807653325822103,
          1.6610790717144759,
          1.335548879210626,
          -0.28583985589391103,
          1.7341348469615736,
          0.7254979973728675,
          -1.3934189049663144,
          0.7145845715122107,
          1.7147939898494737,
          -0.2795741666374927,
          -0.6180242470288976,
          -0.5457928510713272,
          0.11293397023512372,
          0.5798588529977873
         ],
         "xaxis": "x7",
         "y": [
          -0.6501201079452595,
          -0.6396703664807071,
          -0.14910624389792665,
          0.9191471993045957,
          -0.20408638918650238,
          -1.8339833921820385,
          -0.5336687782287028,
          1.1159759429939438,
          0.9687317127445674,
          -1.7400136162569626,
          0.21071196310648294,
          -0.6652480269305107,
          -0.5355523925508483,
          -0.5131492863893872,
          0.6857146627816957,
          1.098945987906431,
          -0.9348369343583188,
          -0.7325354095966315,
          0.021514349515909068,
          -1.0346009878659206,
          -0.17501231162040945,
          0.7367345313547262,
          -1.0897665770658538,
          -0.33938896768116844,
          2.0121374329786192,
          -0.6393950234441513,
          0.03647086107054639,
          -0.5948946033349691,
          1.4104386684965855,
          0.24031607468836597,
          0.013035966419714847,
          -0.20069232286431354,
          2.631987135365754,
          1.1402967549197727,
          -1.3480836252528436,
          -0.5419029514580261,
          0.35165958782611867,
          0.5574337761914983,
          0.5053362646599682,
          0.06694474269967485,
          -0.6160293085973875,
          -1.8467820531221697,
          0.23180264269673023,
          1.5710530598742847,
          0.16850544639523987,
          -0.5448421894097137,
          0.800392407126888,
          -0.3205623468664349,
          1.080515029284678,
          -1.7371274865461397,
          -1.89016032000533,
          0.6587944707237163,
          1.3712428758799025,
          -0.22839481245865867,
          -0.11743381153175035,
          0.08875123869894627,
          1.2534991446004125,
          -1.0050131736037835,
          -1.4849688355120898,
          0.6705897386978111,
          1.5984677392051143,
          -1.2645470074698082,
          0.7264911234789589,
          -2.3717085033683727,
          -1.4436789972254331,
          -0.40695984992958373,
          -0.4220425299401283,
          -1.4988249695855351,
          -1.1392043419422493,
          -0.25228704335304114,
          1.1690146052494421,
          -1.059060163146755,
          -0.6643372846194279,
          -1.8106561856144445,
          0.23156168713817965,
          0.4832174484382462,
          1.5349359636281692,
          0.7813633744015297,
          -0.14476594977734775,
          -1.191781902475107,
          1.1339137809138238,
          0.4633338142600121,
          1.6834801300382207,
          -0.04735403216966803,
          2.303170234529257,
          -1.588979977909511,
          0.15271731738318492,
          -0.7055727659267433,
          0.06895653776059535,
          0.4744135459499637,
          -1.7719303079565776,
          -0.3132926379621396,
          0.475239615161257,
          0.3984714410737094,
          -0.37273617218314103,
          -1.5892452468814993,
          1.383171377203694,
          0.3208732966941905,
          -0.33731818730533253,
          0.45105978115116213
         ],
         "yaxis": "y7"
        },
        {
         "line": {
          "color": "rgba(128, 128, 128, 1.0)",
          "dash": "solid",
          "shape": "linear",
          "width": 1.3
         },
         "marker": {
          "size": 2,
          "symbol": "circle"
         },
         "mode": "markers",
         "name": "B",
         "text": "",
         "type": "scatter",
         "x": [
          -0.003033409631288337,
          0.0786626564452496,
          -0.15823725127379146,
          -1.9897783258797754,
          -0.41469460533272623,
          1.4209020494595277,
          -0.30222592133763926,
          -0.2214303624712438,
          1.0492788369564692,
          1.2865687882164314,
          -0.4493402433359212,
          -0.8714411779303679,
          0.7425824108485773,
          -0.6427963906285001,
          -0.10072805894553197,
          -1.063010377345948,
          1.8967232364452522,
          1.5131947179202632,
          0.1421901583946138,
          0.35931468731170635,
          -1.1301308249181474,
          -0.5491444471277825,
          0.5525386710611327,
          0.6675662569851768,
          1.2676396438682156,
          -0.9228784813863433,
          -0.10282939821541764,
          -0.35084487058720015,
          -0.5625409640797048,
          0.3918012164622865,
          0.06882667451567533,
          1.3631664978395412,
          -0.07210002209831458,
          -0.35224032075625084,
          -0.5700048238525449,
          -0.37336140249850625,
          -0.20410294091782258,
          -1.2606734333733391,
          -1.5704556774214729,
          0.41333788496089735,
          1.43456879745207,
          2.3518517184715164,
          -0.27428472549608524,
          -0.6660421044452691,
          -0.797339923192551,
          0.39236278706815675,
          -0.15133720320061578,
          -0.1699134011562469,
          1.610601288481763,
          -0.1800306081143111,
          1.5892979941116103,
          -0.3857441205726969,
          0.043082707784277155,
          -1.4789768943208657,
          0.35693164902395574,
          0.9355962081748874,
          -0.358848280315065,
          1.343576697424638,
          0.7145499982587419,
          0.48335042718906546,
          0.6172007463564116,
          -1.9989361583464225,
          -1.2887866227474574,
          -1.439672249846713,
          0.8113502189659851,
          -1.5751104537746734,
          -0.48775695972951977,
          0.9489523365226368,
          -0.4310005056557186,
          -0.4257587741239332,
          -0.6635703254063151,
          0.4300317363803354,
          0.6620577766334544,
          -0.09559127950967047,
          -0.3569141009756636,
          -0.0233346034764943,
          1.3609456400638476,
          0.39830836958691485,
          -0.32917161014308327,
          -1.249598408618195,
          0.48635625903842067,
          0.6146070928884189,
          1.5013270015588285,
          0.08889598457134902,
          -1.8961362936115076,
          -0.6942743965654605,
          1.5225977203488685,
          0.18551046093397752,
          -1.6889406217713374,
          -0.7953297664720886,
          1.4261997343997797,
          0.34036161861680775,
          -0.9653392499121465,
          -0.7010390172221788,
          -0.7223460527695292,
          -2.203097985891278,
          1.1683019412809572,
          -1.1160191622760745,
          1.2534968643237283,
          -0.7367971794866054
         ],
         "xaxis": "x8",
         "y": [
          -0.6501201079452595,
          -0.6396703664807071,
          -0.14910624389792665,
          0.9191471993045957,
          -0.20408638918650238,
          -1.8339833921820385,
          -0.5336687782287028,
          1.1159759429939438,
          0.9687317127445674,
          -1.7400136162569626,
          0.21071196310648294,
          -0.6652480269305107,
          -0.5355523925508483,
          -0.5131492863893872,
          0.6857146627816957,
          1.098945987906431,
          -0.9348369343583188,
          -0.7325354095966315,
          0.021514349515909068,
          -1.0346009878659206,
          -0.17501231162040945,
          0.7367345313547262,
          -1.0897665770658538,
          -0.33938896768116844,
          2.0121374329786192,
          -0.6393950234441513,
          0.03647086107054639,
          -0.5948946033349691,
          1.4104386684965855,
          0.24031607468836597,
          0.013035966419714847,
          -0.20069232286431354,
          2.631987135365754,
          1.1402967549197727,
          -1.3480836252528436,
          -0.5419029514580261,
          0.35165958782611867,
          0.5574337761914983,
          0.5053362646599682,
          0.06694474269967485,
          -0.6160293085973875,
          -1.8467820531221697,
          0.23180264269673023,
          1.5710530598742847,
          0.16850544639523987,
          -0.5448421894097137,
          0.800392407126888,
          -0.3205623468664349,
          1.080515029284678,
          -1.7371274865461397,
          -1.89016032000533,
          0.6587944707237163,
          1.3712428758799025,
          -0.22839481245865867,
          -0.11743381153175035,
          0.08875123869894627,
          1.2534991446004125,
          -1.0050131736037835,
          -1.4849688355120898,
          0.6705897386978111,
          1.5984677392051143,
          -1.2645470074698082,
          0.7264911234789589,
          -2.3717085033683727,
          -1.4436789972254331,
          -0.40695984992958373,
          -0.4220425299401283,
          -1.4988249695855351,
          -1.1392043419422493,
          -0.25228704335304114,
          1.1690146052494421,
          -1.059060163146755,
          -0.6643372846194279,
          -1.8106561856144445,
          0.23156168713817965,
          0.4832174484382462,
          1.5349359636281692,
          0.7813633744015297,
          -0.14476594977734775,
          -1.191781902475107,
          1.1339137809138238,
          0.4633338142600121,
          1.6834801300382207,
          -0.04735403216966803,
          2.303170234529257,
          -1.588979977909511,
          0.15271731738318492,
          -0.7055727659267433,
          0.06895653776059535,
          0.4744135459499637,
          -1.7719303079565776,
          -0.3132926379621396,
          0.475239615161257,
          0.3984714410737094,
          -0.37273617218314103,
          -1.5892452468814993,
          1.383171377203694,
          0.3208732966941905,
          -0.33731818730533253,
          0.45105978115116213
         ],
         "yaxis": "y8"
        },
        {
         "line": {
          "color": "rgba(128, 128, 128, 1.0)",
          "dash": "solid",
          "shape": "linear",
          "width": 1.3
         },
         "marker": {
          "size": 2,
          "symbol": "circle"
         },
         "mode": "markers",
         "name": "C",
         "text": "",
         "type": "scatter",
         "x": [
          0.42135637469066833,
          0.051787610039485656,
          -0.8859201272757309,
          1.127155918130127,
          0.05110503169809027,
          -1.3625779998716074,
          1.413463839091547,
          -1.0518298420858014,
          -1.4273371067642697,
          0.2167236110214108,
          0.1543785204974001,
          1.0307652297071481,
          -1.556770626777491,
          -0.846285335148641,
          -1.4475567856473346,
          0.28136297298603,
          0.16206068112953487,
          0.3415324132284915,
          -1.1033635133636706,
          0.8894648772645205,
          -1.8017630378505909,
          -0.14245031927646856,
          -0.8266858154440575,
          -0.7530689966357229,
          -2.0574608097003035,
          -1.8778506514905104,
          -0.08148361870194606,
          -0.9357959490775972,
          -0.6760913977083556,
          -1.1041299976906465,
          0.22052054948520405,
          -0.6208213787655636,
          -0.9832356528265209,
          0.3121875795693881,
          -0.044428851806542095,
          -0.6160413621576425,
          0.8338980770256911,
          -0.4078014558131567,
          1.1326628751514818,
          1.381820447729485,
          0.5870663051810776,
          -0.7226234218334454,
          0.637116486862654,
          0.810474475909267,
          2.70372528025538,
          0.6462466649527927,
          0.3743500129845283,
          0.17484316236836292,
          1.4641354227184749,
          -0.00834110773828608,
          1.0168581856522507,
          -0.46088217782489604,
          -1.5221428181584185,
          1.1085033065208867,
          -0.03359453206244407,
          0.13024239174967583,
          -1.1376425645386274,
          1.1102484582897623,
          0.12115485743688534,
          1.2269014026945384,
          -1.2118887477098856,
          -0.07302583552604484,
          -0.7657437595439366,
          0.014733537309346229,
          -1.7912003541024881,
          1.7244980639349405,
          -1.209570556075875,
          -1.1811987834399718,
          -1.3383168952142377,
          -0.23545845455329553,
          0.5455075698862204,
          0.5143435707195769,
          0.49970410382795577,
          -1.0087869177358482,
          1.5295395940774288,
          0.19968872339286142,
          0.2853967438038379,
          0.6267199329816086,
          0.7594740494277189,
          -2.2107520896395836,
          0.04207387549136959,
          -0.1009791017301549,
          -1.363303282286697,
          -2.1269648825992946,
          -0.9969616855723071,
          -0.16447434850235484,
          0.4579274109261358,
          -0.0501398598101201,
          0.9794488277108203,
          -0.6698307222391381,
          1.3153732821001494,
          0.05781171695218909,
          -0.7880077693551906,
          1.513297183883774,
          -1.2630353942419186,
          -0.8474541119052957,
          1.8675720657212853,
          0.8259412981691324,
          0.23634614857664427,
          -1.5622218215155599
         ],
         "xaxis": "x9",
         "y": [
          1.3055372336746414,
          0.7114162391522426,
          0.5319180757823271,
          -1.9123101474310888,
          0.39976536098051685,
          -0.18028859700089062,
          -0.5230524008977765,
          0.7268276275024059,
          -0.2944345287828867,
          -0.14726694281082295,
          1.7315655586248442,
          -0.5810551835695299,
          1.1368820733256777,
          -0.3215240402868722,
          2.0359069216444285,
          -0.20123013992778713,
          -0.4875713899458238,
          -1.151241975461552,
          -0.30277486316817714,
          -0.744220382383983,
          0.04613315459916105,
          -1.3057145064090865,
          -0.4088861945126814,
          -1.5646154963534107,
          0.3966568333743682,
          0.6316679600864687,
          0.6374757271763759,
          1.754905824180303,
          -0.640682521286157,
          1.0486061154272264,
          -0.7145667182885798,
          -0.3806877293010073,
          0.1567278401603999,
          -1.155602029567627,
          -1.297873553374794,
          0.14349699346763617,
          2.2799058299597124,
          0.18010941279247047,
          0.38356005316294317,
          0.10698467327652507,
          -0.3454448778351593,
          0.14763921225715568,
          -0.4028902079268841,
          -0.3579514673449626,
          0.3902241277617355,
          1.0646480458600145,
          -1.0403554672055213,
          1.4058607286530946,
          1.1088578975947785,
          1.8983552624544502,
          -0.629144404663461,
          -1.027197527692072,
          -0.27884089253739963,
          0.4830919556732657,
          -2.159602108194867,
          0.23154295197431854,
          -0.4101269047367675,
          -1.0397144029380463,
          0.8634663671915421,
          0.12335901710602763,
          -0.6589125054500717,
          -0.8837218309099732,
          0.5300635380526064,
          -0.5870212032242089,
          0.21604687294689323,
          -0.0431600231923067,
          0.24948270037241593,
          -0.42846826181497183,
          -0.47024444812079214,
          1.809993947170532,
          1.4155181217884234,
          -0.7683014914435955,
          0.9974571901906416,
          1.2081981866169547,
          1.3013948917973308,
          -1.0273427942609155,
          -1.62347966779969,
          -0.8168534597595072,
          0.7534440881257819,
          0.9544426339832112,
          -0.4756276159424117,
          1.9926114495734437,
          -1.3346008304863448,
          0.2519142867261577,
          -1.3917654263113124,
          0.0702088161041401,
          1.6807653325822103,
          1.6610790717144759,
          1.335548879210626,
          -0.28583985589391103,
          1.7341348469615736,
          0.7254979973728675,
          -1.3934189049663144,
          0.7145845715122107,
          1.7147939898494737,
          -0.2795741666374927,
          -0.6180242470288976,
          -0.5457928510713272,
          0.11293397023512372,
          0.5798588529977873
         ],
         "yaxis": "y9"
        },
        {
         "line": {
          "color": "rgba(128, 128, 128, 1.0)",
          "dash": "solid",
          "shape": "linear",
          "width": 1.3
         },
         "marker": {
          "size": 2,
          "symbol": "circle"
         },
         "mode": "markers",
         "name": "C",
         "text": "",
         "type": "scatter",
         "x": [
          -0.6501201079452595,
          -0.6396703664807071,
          -0.14910624389792665,
          0.9191471993045957,
          -0.20408638918650238,
          -1.8339833921820385,
          -0.5336687782287028,
          1.1159759429939438,
          0.9687317127445674,
          -1.7400136162569626,
          0.21071196310648294,
          -0.6652480269305107,
          -0.5355523925508483,
          -0.5131492863893872,
          0.6857146627816957,
          1.098945987906431,
          -0.9348369343583188,
          -0.7325354095966315,
          0.021514349515909068,
          -1.0346009878659206,
          -0.17501231162040945,
          0.7367345313547262,
          -1.0897665770658538,
          -0.33938896768116844,
          2.0121374329786192,
          -0.6393950234441513,
          0.03647086107054639,
          -0.5948946033349691,
          1.4104386684965855,
          0.24031607468836597,
          0.013035966419714847,
          -0.20069232286431354,
          2.631987135365754,
          1.1402967549197727,
          -1.3480836252528436,
          -0.5419029514580261,
          0.35165958782611867,
          0.5574337761914983,
          0.5053362646599682,
          0.06694474269967485,
          -0.6160293085973875,
          -1.8467820531221697,
          0.23180264269673023,
          1.5710530598742847,
          0.16850544639523987,
          -0.5448421894097137,
          0.800392407126888,
          -0.3205623468664349,
          1.080515029284678,
          -1.7371274865461397,
          -1.89016032000533,
          0.6587944707237163,
          1.3712428758799025,
          -0.22839481245865867,
          -0.11743381153175035,
          0.08875123869894627,
          1.2534991446004125,
          -1.0050131736037835,
          -1.4849688355120898,
          0.6705897386978111,
          1.5984677392051143,
          -1.2645470074698082,
          0.7264911234789589,
          -2.3717085033683727,
          -1.4436789972254331,
          -0.40695984992958373,
          -0.4220425299401283,
          -1.4988249695855351,
          -1.1392043419422493,
          -0.25228704335304114,
          1.1690146052494421,
          -1.059060163146755,
          -0.6643372846194279,
          -1.8106561856144445,
          0.23156168713817965,
          0.4832174484382462,
          1.5349359636281692,
          0.7813633744015297,
          -0.14476594977734775,
          -1.191781902475107,
          1.1339137809138238,
          0.4633338142600121,
          1.6834801300382207,
          -0.04735403216966803,
          2.303170234529257,
          -1.588979977909511,
          0.15271731738318492,
          -0.7055727659267433,
          0.06895653776059535,
          0.4744135459499637,
          -1.7719303079565776,
          -0.3132926379621396,
          0.475239615161257,
          0.3984714410737094,
          -0.37273617218314103,
          -1.5892452468814993,
          1.383171377203694,
          0.3208732966941905,
          -0.33731818730533253,
          0.45105978115116213
         ],
         "xaxis": "x10",
         "y": [
          1.3055372336746414,
          0.7114162391522426,
          0.5319180757823271,
          -1.9123101474310888,
          0.39976536098051685,
          -0.18028859700089062,
          -0.5230524008977765,
          0.7268276275024059,
          -0.2944345287828867,
          -0.14726694281082295,
          1.7315655586248442,
          -0.5810551835695299,
          1.1368820733256777,
          -0.3215240402868722,
          2.0359069216444285,
          -0.20123013992778713,
          -0.4875713899458238,
          -1.151241975461552,
          -0.30277486316817714,
          -0.744220382383983,
          0.04613315459916105,
          -1.3057145064090865,
          -0.4088861945126814,
          -1.5646154963534107,
          0.3966568333743682,
          0.6316679600864687,
          0.6374757271763759,
          1.754905824180303,
          -0.640682521286157,
          1.0486061154272264,
          -0.7145667182885798,
          -0.3806877293010073,
          0.1567278401603999,
          -1.155602029567627,
          -1.297873553374794,
          0.14349699346763617,
          2.2799058299597124,
          0.18010941279247047,
          0.38356005316294317,
          0.10698467327652507,
          -0.3454448778351593,
          0.14763921225715568,
          -0.4028902079268841,
          -0.3579514673449626,
          0.3902241277617355,
          1.0646480458600145,
          -1.0403554672055213,
          1.4058607286530946,
          1.1088578975947785,
          1.8983552624544502,
          -0.629144404663461,
          -1.027197527692072,
          -0.27884089253739963,
          0.4830919556732657,
          -2.159602108194867,
          0.23154295197431854,
          -0.4101269047367675,
          -1.0397144029380463,
          0.8634663671915421,
          0.12335901710602763,
          -0.6589125054500717,
          -0.8837218309099732,
          0.5300635380526064,
          -0.5870212032242089,
          0.21604687294689323,
          -0.0431600231923067,
          0.24948270037241593,
          -0.42846826181497183,
          -0.47024444812079214,
          1.809993947170532,
          1.4155181217884234,
          -0.7683014914435955,
          0.9974571901906416,
          1.2081981866169547,
          1.3013948917973308,
          -1.0273427942609155,
          -1.62347966779969,
          -0.8168534597595072,
          0.7534440881257819,
          0.9544426339832112,
          -0.4756276159424117,
          1.9926114495734437,
          -1.3346008304863448,
          0.2519142867261577,
          -1.3917654263113124,
          0.0702088161041401,
          1.6807653325822103,
          1.6610790717144759,
          1.335548879210626,
          -0.28583985589391103,
          1.7341348469615736,
          0.7254979973728675,
          -1.3934189049663144,
          0.7145845715122107,
          1.7147939898494737,
          -0.2795741666374927,
          -0.6180242470288976,
          -0.5457928510713272,
          0.11293397023512372,
          0.5798588529977873
         ],
         "yaxis": "y10"
        },
        {
         "histfunc": "count",
         "histnorm": "",
         "marker": {
          "color": "rgba(50, 171, 96, 1.0)",
          "line": {
           "color": "#4D5663",
           "width": 1.3
          }
         },
         "name": "C",
         "nbinsx": 10,
         "opacity": 0.8,
         "orientation": "v",
         "type": "histogram",
         "x": [
          1.3055372336746414,
          0.7114162391522426,
          0.5319180757823271,
          -1.9123101474310888,
          0.39976536098051685,
          -0.18028859700089062,
          -0.5230524008977765,
          0.7268276275024059,
          -0.2944345287828867,
          -0.14726694281082295,
          1.7315655586248442,
          -0.5810551835695299,
          1.1368820733256777,
          -0.3215240402868722,
          2.0359069216444285,
          -0.20123013992778713,
          -0.4875713899458238,
          -1.151241975461552,
          -0.30277486316817714,
          -0.744220382383983,
          0.04613315459916105,
          -1.3057145064090865,
          -0.4088861945126814,
          -1.5646154963534107,
          0.3966568333743682,
          0.6316679600864687,
          0.6374757271763759,
          1.754905824180303,
          -0.640682521286157,
          1.0486061154272264,
          -0.7145667182885798,
          -0.3806877293010073,
          0.1567278401603999,
          -1.155602029567627,
          -1.297873553374794,
          0.14349699346763617,
          2.2799058299597124,
          0.18010941279247047,
          0.38356005316294317,
          0.10698467327652507,
          -0.3454448778351593,
          0.14763921225715568,
          -0.4028902079268841,
          -0.3579514673449626,
          0.3902241277617355,
          1.0646480458600145,
          -1.0403554672055213,
          1.4058607286530946,
          1.1088578975947785,
          1.8983552624544502,
          -0.629144404663461,
          -1.027197527692072,
          -0.27884089253739963,
          0.4830919556732657,
          -2.159602108194867,
          0.23154295197431854,
          -0.4101269047367675,
          -1.0397144029380463,
          0.8634663671915421,
          0.12335901710602763,
          -0.6589125054500717,
          -0.8837218309099732,
          0.5300635380526064,
          -0.5870212032242089,
          0.21604687294689323,
          -0.0431600231923067,
          0.24948270037241593,
          -0.42846826181497183,
          -0.47024444812079214,
          1.809993947170532,
          1.4155181217884234,
          -0.7683014914435955,
          0.9974571901906416,
          1.2081981866169547,
          1.3013948917973308,
          -1.0273427942609155,
          -1.62347966779969,
          -0.8168534597595072,
          0.7534440881257819,
          0.9544426339832112,
          -0.4756276159424117,
          1.9926114495734437,
          -1.3346008304863448,
          0.2519142867261577,
          -1.3917654263113124,
          0.0702088161041401,
          1.6807653325822103,
          1.6610790717144759,
          1.335548879210626,
          -0.28583985589391103,
          1.7341348469615736,
          0.7254979973728675,
          -1.3934189049663144,
          0.7145845715122107,
          1.7147939898494737,
          -0.2795741666374927,
          -0.6180242470288976,
          -0.5457928510713272,
          0.11293397023512372,
          0.5798588529977873
         ],
         "xaxis": "x11",
         "yaxis": "y11"
        },
        {
         "line": {
          "color": "rgba(128, 128, 128, 1.0)",
          "dash": "solid",
          "shape": "linear",
          "width": 1.3
         },
         "marker": {
          "size": 2,
          "symbol": "circle"
         },
         "mode": "markers",
         "name": "C",
         "text": "",
         "type": "scatter",
         "x": [
          -0.003033409631288337,
          0.0786626564452496,
          -0.15823725127379146,
          -1.9897783258797754,
          -0.41469460533272623,
          1.4209020494595277,
          -0.30222592133763926,
          -0.2214303624712438,
          1.0492788369564692,
          1.2865687882164314,
          -0.4493402433359212,
          -0.8714411779303679,
          0.7425824108485773,
          -0.6427963906285001,
          -0.10072805894553197,
          -1.063010377345948,
          1.8967232364452522,
          1.5131947179202632,
          0.1421901583946138,
          0.35931468731170635,
          -1.1301308249181474,
          -0.5491444471277825,
          0.5525386710611327,
          0.6675662569851768,
          1.2676396438682156,
          -0.9228784813863433,
          -0.10282939821541764,
          -0.35084487058720015,
          -0.5625409640797048,
          0.3918012164622865,
          0.06882667451567533,
          1.3631664978395412,
          -0.07210002209831458,
          -0.35224032075625084,
          -0.5700048238525449,
          -0.37336140249850625,
          -0.20410294091782258,
          -1.2606734333733391,
          -1.5704556774214729,
          0.41333788496089735,
          1.43456879745207,
          2.3518517184715164,
          -0.27428472549608524,
          -0.6660421044452691,
          -0.797339923192551,
          0.39236278706815675,
          -0.15133720320061578,
          -0.1699134011562469,
          1.610601288481763,
          -0.1800306081143111,
          1.5892979941116103,
          -0.3857441205726969,
          0.043082707784277155,
          -1.4789768943208657,
          0.35693164902395574,
          0.9355962081748874,
          -0.358848280315065,
          1.343576697424638,
          0.7145499982587419,
          0.48335042718906546,
          0.6172007463564116,
          -1.9989361583464225,
          -1.2887866227474574,
          -1.439672249846713,
          0.8113502189659851,
          -1.5751104537746734,
          -0.48775695972951977,
          0.9489523365226368,
          -0.4310005056557186,
          -0.4257587741239332,
          -0.6635703254063151,
          0.4300317363803354,
          0.6620577766334544,
          -0.09559127950967047,
          -0.3569141009756636,
          -0.0233346034764943,
          1.3609456400638476,
          0.39830836958691485,
          -0.32917161014308327,
          -1.249598408618195,
          0.48635625903842067,
          0.6146070928884189,
          1.5013270015588285,
          0.08889598457134902,
          -1.8961362936115076,
          -0.6942743965654605,
          1.5225977203488685,
          0.18551046093397752,
          -1.6889406217713374,
          -0.7953297664720886,
          1.4261997343997797,
          0.34036161861680775,
          -0.9653392499121465,
          -0.7010390172221788,
          -0.7223460527695292,
          -2.203097985891278,
          1.1683019412809572,
          -1.1160191622760745,
          1.2534968643237283,
          -0.7367971794866054
         ],
         "xaxis": "x12",
         "y": [
          1.3055372336746414,
          0.7114162391522426,
          0.5319180757823271,
          -1.9123101474310888,
          0.39976536098051685,
          -0.18028859700089062,
          -0.5230524008977765,
          0.7268276275024059,
          -0.2944345287828867,
          -0.14726694281082295,
          1.7315655586248442,
          -0.5810551835695299,
          1.1368820733256777,
          -0.3215240402868722,
          2.0359069216444285,
          -0.20123013992778713,
          -0.4875713899458238,
          -1.151241975461552,
          -0.30277486316817714,
          -0.744220382383983,
          0.04613315459916105,
          -1.3057145064090865,
          -0.4088861945126814,
          -1.5646154963534107,
          0.3966568333743682,
          0.6316679600864687,
          0.6374757271763759,
          1.754905824180303,
          -0.640682521286157,
          1.0486061154272264,
          -0.7145667182885798,
          -0.3806877293010073,
          0.1567278401603999,
          -1.155602029567627,
          -1.297873553374794,
          0.14349699346763617,
          2.2799058299597124,
          0.18010941279247047,
          0.38356005316294317,
          0.10698467327652507,
          -0.3454448778351593,
          0.14763921225715568,
          -0.4028902079268841,
          -0.3579514673449626,
          0.3902241277617355,
          1.0646480458600145,
          -1.0403554672055213,
          1.4058607286530946,
          1.1088578975947785,
          1.8983552624544502,
          -0.629144404663461,
          -1.027197527692072,
          -0.27884089253739963,
          0.4830919556732657,
          -2.159602108194867,
          0.23154295197431854,
          -0.4101269047367675,
          -1.0397144029380463,
          0.8634663671915421,
          0.12335901710602763,
          -0.6589125054500717,
          -0.8837218309099732,
          0.5300635380526064,
          -0.5870212032242089,
          0.21604687294689323,
          -0.0431600231923067,
          0.24948270037241593,
          -0.42846826181497183,
          -0.47024444812079214,
          1.809993947170532,
          1.4155181217884234,
          -0.7683014914435955,
          0.9974571901906416,
          1.2081981866169547,
          1.3013948917973308,
          -1.0273427942609155,
          -1.62347966779969,
          -0.8168534597595072,
          0.7534440881257819,
          0.9544426339832112,
          -0.4756276159424117,
          1.9926114495734437,
          -1.3346008304863448,
          0.2519142867261577,
          -1.3917654263113124,
          0.0702088161041401,
          1.6807653325822103,
          1.6610790717144759,
          1.335548879210626,
          -0.28583985589391103,
          1.7341348469615736,
          0.7254979973728675,
          -1.3934189049663144,
          0.7145845715122107,
          1.7147939898494737,
          -0.2795741666374927,
          -0.6180242470288976,
          -0.5457928510713272,
          0.11293397023512372,
          0.5798588529977873
         ],
         "yaxis": "y12"
        },
        {
         "line": {
          "color": "rgba(128, 128, 128, 1.0)",
          "dash": "solid",
          "shape": "linear",
          "width": 1.3
         },
         "marker": {
          "size": 2,
          "symbol": "circle"
         },
         "mode": "markers",
         "name": "D",
         "text": "",
         "type": "scatter",
         "x": [
          0.42135637469066833,
          0.051787610039485656,
          -0.8859201272757309,
          1.127155918130127,
          0.05110503169809027,
          -1.3625779998716074,
          1.413463839091547,
          -1.0518298420858014,
          -1.4273371067642697,
          0.2167236110214108,
          0.1543785204974001,
          1.0307652297071481,
          -1.556770626777491,
          -0.846285335148641,
          -1.4475567856473346,
          0.28136297298603,
          0.16206068112953487,
          0.3415324132284915,
          -1.1033635133636706,
          0.8894648772645205,
          -1.8017630378505909,
          -0.14245031927646856,
          -0.8266858154440575,
          -0.7530689966357229,
          -2.0574608097003035,
          -1.8778506514905104,
          -0.08148361870194606,
          -0.9357959490775972,
          -0.6760913977083556,
          -1.1041299976906465,
          0.22052054948520405,
          -0.6208213787655636,
          -0.9832356528265209,
          0.3121875795693881,
          -0.044428851806542095,
          -0.6160413621576425,
          0.8338980770256911,
          -0.4078014558131567,
          1.1326628751514818,
          1.381820447729485,
          0.5870663051810776,
          -0.7226234218334454,
          0.637116486862654,
          0.810474475909267,
          2.70372528025538,
          0.6462466649527927,
          0.3743500129845283,
          0.17484316236836292,
          1.4641354227184749,
          -0.00834110773828608,
          1.0168581856522507,
          -0.46088217782489604,
          -1.5221428181584185,
          1.1085033065208867,
          -0.03359453206244407,
          0.13024239174967583,
          -1.1376425645386274,
          1.1102484582897623,
          0.12115485743688534,
          1.2269014026945384,
          -1.2118887477098856,
          -0.07302583552604484,
          -0.7657437595439366,
          0.014733537309346229,
          -1.7912003541024881,
          1.7244980639349405,
          -1.209570556075875,
          -1.1811987834399718,
          -1.3383168952142377,
          -0.23545845455329553,
          0.5455075698862204,
          0.5143435707195769,
          0.49970410382795577,
          -1.0087869177358482,
          1.5295395940774288,
          0.19968872339286142,
          0.2853967438038379,
          0.6267199329816086,
          0.7594740494277189,
          -2.2107520896395836,
          0.04207387549136959,
          -0.1009791017301549,
          -1.363303282286697,
          -2.1269648825992946,
          -0.9969616855723071,
          -0.16447434850235484,
          0.4579274109261358,
          -0.0501398598101201,
          0.9794488277108203,
          -0.6698307222391381,
          1.3153732821001494,
          0.05781171695218909,
          -0.7880077693551906,
          1.513297183883774,
          -1.2630353942419186,
          -0.8474541119052957,
          1.8675720657212853,
          0.8259412981691324,
          0.23634614857664427,
          -1.5622218215155599
         ],
         "xaxis": "x13",
         "y": [
          -0.003033409631288337,
          0.0786626564452496,
          -0.15823725127379146,
          -1.9897783258797754,
          -0.41469460533272623,
          1.4209020494595277,
          -0.30222592133763926,
          -0.2214303624712438,
          1.0492788369564692,
          1.2865687882164314,
          -0.4493402433359212,
          -0.8714411779303679,
          0.7425824108485773,
          -0.6427963906285001,
          -0.10072805894553197,
          -1.063010377345948,
          1.8967232364452522,
          1.5131947179202632,
          0.1421901583946138,
          0.35931468731170635,
          -1.1301308249181474,
          -0.5491444471277825,
          0.5525386710611327,
          0.6675662569851768,
          1.2676396438682156,
          -0.9228784813863433,
          -0.10282939821541764,
          -0.35084487058720015,
          -0.5625409640797048,
          0.3918012164622865,
          0.06882667451567533,
          1.3631664978395412,
          -0.07210002209831458,
          -0.35224032075625084,
          -0.5700048238525449,
          -0.37336140249850625,
          -0.20410294091782258,
          -1.2606734333733391,
          -1.5704556774214729,
          0.41333788496089735,
          1.43456879745207,
          2.3518517184715164,
          -0.27428472549608524,
          -0.6660421044452691,
          -0.797339923192551,
          0.39236278706815675,
          -0.15133720320061578,
          -0.1699134011562469,
          1.610601288481763,
          -0.1800306081143111,
          1.5892979941116103,
          -0.3857441205726969,
          0.043082707784277155,
          -1.4789768943208657,
          0.35693164902395574,
          0.9355962081748874,
          -0.358848280315065,
          1.343576697424638,
          0.7145499982587419,
          0.48335042718906546,
          0.6172007463564116,
          -1.9989361583464225,
          -1.2887866227474574,
          -1.439672249846713,
          0.8113502189659851,
          -1.5751104537746734,
          -0.48775695972951977,
          0.9489523365226368,
          -0.4310005056557186,
          -0.4257587741239332,
          -0.6635703254063151,
          0.4300317363803354,
          0.6620577766334544,
          -0.09559127950967047,
          -0.3569141009756636,
          -0.0233346034764943,
          1.3609456400638476,
          0.39830836958691485,
          -0.32917161014308327,
          -1.249598408618195,
          0.48635625903842067,
          0.6146070928884189,
          1.5013270015588285,
          0.08889598457134902,
          -1.8961362936115076,
          -0.6942743965654605,
          1.5225977203488685,
          0.18551046093397752,
          -1.6889406217713374,
          -0.7953297664720886,
          1.4261997343997797,
          0.34036161861680775,
          -0.9653392499121465,
          -0.7010390172221788,
          -0.7223460527695292,
          -2.203097985891278,
          1.1683019412809572,
          -1.1160191622760745,
          1.2534968643237283,
          -0.7367971794866054
         ],
         "yaxis": "y13"
        },
        {
         "line": {
          "color": "rgba(128, 128, 128, 1.0)",
          "dash": "solid",
          "shape": "linear",
          "width": 1.3
         },
         "marker": {
          "size": 2,
          "symbol": "circle"
         },
         "mode": "markers",
         "name": "D",
         "text": "",
         "type": "scatter",
         "x": [
          -0.6501201079452595,
          -0.6396703664807071,
          -0.14910624389792665,
          0.9191471993045957,
          -0.20408638918650238,
          -1.8339833921820385,
          -0.5336687782287028,
          1.1159759429939438,
          0.9687317127445674,
          -1.7400136162569626,
          0.21071196310648294,
          -0.6652480269305107,
          -0.5355523925508483,
          -0.5131492863893872,
          0.6857146627816957,
          1.098945987906431,
          -0.9348369343583188,
          -0.7325354095966315,
          0.021514349515909068,
          -1.0346009878659206,
          -0.17501231162040945,
          0.7367345313547262,
          -1.0897665770658538,
          -0.33938896768116844,
          2.0121374329786192,
          -0.6393950234441513,
          0.03647086107054639,
          -0.5948946033349691,
          1.4104386684965855,
          0.24031607468836597,
          0.013035966419714847,
          -0.20069232286431354,
          2.631987135365754,
          1.1402967549197727,
          -1.3480836252528436,
          -0.5419029514580261,
          0.35165958782611867,
          0.5574337761914983,
          0.5053362646599682,
          0.06694474269967485,
          -0.6160293085973875,
          -1.8467820531221697,
          0.23180264269673023,
          1.5710530598742847,
          0.16850544639523987,
          -0.5448421894097137,
          0.800392407126888,
          -0.3205623468664349,
          1.080515029284678,
          -1.7371274865461397,
          -1.89016032000533,
          0.6587944707237163,
          1.3712428758799025,
          -0.22839481245865867,
          -0.11743381153175035,
          0.08875123869894627,
          1.2534991446004125,
          -1.0050131736037835,
          -1.4849688355120898,
          0.6705897386978111,
          1.5984677392051143,
          -1.2645470074698082,
          0.7264911234789589,
          -2.3717085033683727,
          -1.4436789972254331,
          -0.40695984992958373,
          -0.4220425299401283,
          -1.4988249695855351,
          -1.1392043419422493,
          -0.25228704335304114,
          1.1690146052494421,
          -1.059060163146755,
          -0.6643372846194279,
          -1.8106561856144445,
          0.23156168713817965,
          0.4832174484382462,
          1.5349359636281692,
          0.7813633744015297,
          -0.14476594977734775,
          -1.191781902475107,
          1.1339137809138238,
          0.4633338142600121,
          1.6834801300382207,
          -0.04735403216966803,
          2.303170234529257,
          -1.588979977909511,
          0.15271731738318492,
          -0.7055727659267433,
          0.06895653776059535,
          0.4744135459499637,
          -1.7719303079565776,
          -0.3132926379621396,
          0.475239615161257,
          0.3984714410737094,
          -0.37273617218314103,
          -1.5892452468814993,
          1.383171377203694,
          0.3208732966941905,
          -0.33731818730533253,
          0.45105978115116213
         ],
         "xaxis": "x14",
         "y": [
          -0.003033409631288337,
          0.0786626564452496,
          -0.15823725127379146,
          -1.9897783258797754,
          -0.41469460533272623,
          1.4209020494595277,
          -0.30222592133763926,
          -0.2214303624712438,
          1.0492788369564692,
          1.2865687882164314,
          -0.4493402433359212,
          -0.8714411779303679,
          0.7425824108485773,
          -0.6427963906285001,
          -0.10072805894553197,
          -1.063010377345948,
          1.8967232364452522,
          1.5131947179202632,
          0.1421901583946138,
          0.35931468731170635,
          -1.1301308249181474,
          -0.5491444471277825,
          0.5525386710611327,
          0.6675662569851768,
          1.2676396438682156,
          -0.9228784813863433,
          -0.10282939821541764,
          -0.35084487058720015,
          -0.5625409640797048,
          0.3918012164622865,
          0.06882667451567533,
          1.3631664978395412,
          -0.07210002209831458,
          -0.35224032075625084,
          -0.5700048238525449,
          -0.37336140249850625,
          -0.20410294091782258,
          -1.2606734333733391,
          -1.5704556774214729,
          0.41333788496089735,
          1.43456879745207,
          2.3518517184715164,
          -0.27428472549608524,
          -0.6660421044452691,
          -0.797339923192551,
          0.39236278706815675,
          -0.15133720320061578,
          -0.1699134011562469,
          1.610601288481763,
          -0.1800306081143111,
          1.5892979941116103,
          -0.3857441205726969,
          0.043082707784277155,
          -1.4789768943208657,
          0.35693164902395574,
          0.9355962081748874,
          -0.358848280315065,
          1.343576697424638,
          0.7145499982587419,
          0.48335042718906546,
          0.6172007463564116,
          -1.9989361583464225,
          -1.2887866227474574,
          -1.439672249846713,
          0.8113502189659851,
          -1.5751104537746734,
          -0.48775695972951977,
          0.9489523365226368,
          -0.4310005056557186,
          -0.4257587741239332,
          -0.6635703254063151,
          0.4300317363803354,
          0.6620577766334544,
          -0.09559127950967047,
          -0.3569141009756636,
          -0.0233346034764943,
          1.3609456400638476,
          0.39830836958691485,
          -0.32917161014308327,
          -1.249598408618195,
          0.48635625903842067,
          0.6146070928884189,
          1.5013270015588285,
          0.08889598457134902,
          -1.8961362936115076,
          -0.6942743965654605,
          1.5225977203488685,
          0.18551046093397752,
          -1.6889406217713374,
          -0.7953297664720886,
          1.4261997343997797,
          0.34036161861680775,
          -0.9653392499121465,
          -0.7010390172221788,
          -0.7223460527695292,
          -2.203097985891278,
          1.1683019412809572,
          -1.1160191622760745,
          1.2534968643237283,
          -0.7367971794866054
         ],
         "yaxis": "y14"
        },
        {
         "line": {
          "color": "rgba(128, 128, 128, 1.0)",
          "dash": "solid",
          "shape": "linear",
          "width": 1.3
         },
         "marker": {
          "size": 2,
          "symbol": "circle"
         },
         "mode": "markers",
         "name": "D",
         "text": "",
         "type": "scatter",
         "x": [
          1.3055372336746414,
          0.7114162391522426,
          0.5319180757823271,
          -1.9123101474310888,
          0.39976536098051685,
          -0.18028859700089062,
          -0.5230524008977765,
          0.7268276275024059,
          -0.2944345287828867,
          -0.14726694281082295,
          1.7315655586248442,
          -0.5810551835695299,
          1.1368820733256777,
          -0.3215240402868722,
          2.0359069216444285,
          -0.20123013992778713,
          -0.4875713899458238,
          -1.151241975461552,
          -0.30277486316817714,
          -0.744220382383983,
          0.04613315459916105,
          -1.3057145064090865,
          -0.4088861945126814,
          -1.5646154963534107,
          0.3966568333743682,
          0.6316679600864687,
          0.6374757271763759,
          1.754905824180303,
          -0.640682521286157,
          1.0486061154272264,
          -0.7145667182885798,
          -0.3806877293010073,
          0.1567278401603999,
          -1.155602029567627,
          -1.297873553374794,
          0.14349699346763617,
          2.2799058299597124,
          0.18010941279247047,
          0.38356005316294317,
          0.10698467327652507,
          -0.3454448778351593,
          0.14763921225715568,
          -0.4028902079268841,
          -0.3579514673449626,
          0.3902241277617355,
          1.0646480458600145,
          -1.0403554672055213,
          1.4058607286530946,
          1.1088578975947785,
          1.8983552624544502,
          -0.629144404663461,
          -1.027197527692072,
          -0.27884089253739963,
          0.4830919556732657,
          -2.159602108194867,
          0.23154295197431854,
          -0.4101269047367675,
          -1.0397144029380463,
          0.8634663671915421,
          0.12335901710602763,
          -0.6589125054500717,
          -0.8837218309099732,
          0.5300635380526064,
          -0.5870212032242089,
          0.21604687294689323,
          -0.0431600231923067,
          0.24948270037241593,
          -0.42846826181497183,
          -0.47024444812079214,
          1.809993947170532,
          1.4155181217884234,
          -0.7683014914435955,
          0.9974571901906416,
          1.2081981866169547,
          1.3013948917973308,
          -1.0273427942609155,
          -1.62347966779969,
          -0.8168534597595072,
          0.7534440881257819,
          0.9544426339832112,
          -0.4756276159424117,
          1.9926114495734437,
          -1.3346008304863448,
          0.2519142867261577,
          -1.3917654263113124,
          0.0702088161041401,
          1.6807653325822103,
          1.6610790717144759,
          1.335548879210626,
          -0.28583985589391103,
          1.7341348469615736,
          0.7254979973728675,
          -1.3934189049663144,
          0.7145845715122107,
          1.7147939898494737,
          -0.2795741666374927,
          -0.6180242470288976,
          -0.5457928510713272,
          0.11293397023512372,
          0.5798588529977873
         ],
         "xaxis": "x15",
         "y": [
          -0.003033409631288337,
          0.0786626564452496,
          -0.15823725127379146,
          -1.9897783258797754,
          -0.41469460533272623,
          1.4209020494595277,
          -0.30222592133763926,
          -0.2214303624712438,
          1.0492788369564692,
          1.2865687882164314,
          -0.4493402433359212,
          -0.8714411779303679,
          0.7425824108485773,
          -0.6427963906285001,
          -0.10072805894553197,
          -1.063010377345948,
          1.8967232364452522,
          1.5131947179202632,
          0.1421901583946138,
          0.35931468731170635,
          -1.1301308249181474,
          -0.5491444471277825,
          0.5525386710611327,
          0.6675662569851768,
          1.2676396438682156,
          -0.9228784813863433,
          -0.10282939821541764,
          -0.35084487058720015,
          -0.5625409640797048,
          0.3918012164622865,
          0.06882667451567533,
          1.3631664978395412,
          -0.07210002209831458,
          -0.35224032075625084,
          -0.5700048238525449,
          -0.37336140249850625,
          -0.20410294091782258,
          -1.2606734333733391,
          -1.5704556774214729,
          0.41333788496089735,
          1.43456879745207,
          2.3518517184715164,
          -0.27428472549608524,
          -0.6660421044452691,
          -0.797339923192551,
          0.39236278706815675,
          -0.15133720320061578,
          -0.1699134011562469,
          1.610601288481763,
          -0.1800306081143111,
          1.5892979941116103,
          -0.3857441205726969,
          0.043082707784277155,
          -1.4789768943208657,
          0.35693164902395574,
          0.9355962081748874,
          -0.358848280315065,
          1.343576697424638,
          0.7145499982587419,
          0.48335042718906546,
          0.6172007463564116,
          -1.9989361583464225,
          -1.2887866227474574,
          -1.439672249846713,
          0.8113502189659851,
          -1.5751104537746734,
          -0.48775695972951977,
          0.9489523365226368,
          -0.4310005056557186,
          -0.4257587741239332,
          -0.6635703254063151,
          0.4300317363803354,
          0.6620577766334544,
          -0.09559127950967047,
          -0.3569141009756636,
          -0.0233346034764943,
          1.3609456400638476,
          0.39830836958691485,
          -0.32917161014308327,
          -1.249598408618195,
          0.48635625903842067,
          0.6146070928884189,
          1.5013270015588285,
          0.08889598457134902,
          -1.8961362936115076,
          -0.6942743965654605,
          1.5225977203488685,
          0.18551046093397752,
          -1.6889406217713374,
          -0.7953297664720886,
          1.4261997343997797,
          0.34036161861680775,
          -0.9653392499121465,
          -0.7010390172221788,
          -0.7223460527695292,
          -2.203097985891278,
          1.1683019412809572,
          -1.1160191622760745,
          1.2534968643237283,
          -0.7367971794866054
         ],
         "yaxis": "y15"
        },
        {
         "histfunc": "count",
         "histnorm": "",
         "marker": {
          "color": "rgba(128, 0, 128, 1.0)",
          "line": {
           "color": "#4D5663",
           "width": 1.3
          }
         },
         "name": "D",
         "nbinsx": 10,
         "opacity": 0.8,
         "orientation": "v",
         "type": "histogram",
         "x": [
          -0.003033409631288337,
          0.0786626564452496,
          -0.15823725127379146,
          -1.9897783258797754,
          -0.41469460533272623,
          1.4209020494595277,
          -0.30222592133763926,
          -0.2214303624712438,
          1.0492788369564692,
          1.2865687882164314,
          -0.4493402433359212,
          -0.8714411779303679,
          0.7425824108485773,
          -0.6427963906285001,
          -0.10072805894553197,
          -1.063010377345948,
          1.8967232364452522,
          1.5131947179202632,
          0.1421901583946138,
          0.35931468731170635,
          -1.1301308249181474,
          -0.5491444471277825,
          0.5525386710611327,
          0.6675662569851768,
          1.2676396438682156,
          -0.9228784813863433,
          -0.10282939821541764,
          -0.35084487058720015,
          -0.5625409640797048,
          0.3918012164622865,
          0.06882667451567533,
          1.3631664978395412,
          -0.07210002209831458,
          -0.35224032075625084,
          -0.5700048238525449,
          -0.37336140249850625,
          -0.20410294091782258,
          -1.2606734333733391,
          -1.5704556774214729,
          0.41333788496089735,
          1.43456879745207,
          2.3518517184715164,
          -0.27428472549608524,
          -0.6660421044452691,
          -0.797339923192551,
          0.39236278706815675,
          -0.15133720320061578,
          -0.1699134011562469,
          1.610601288481763,
          -0.1800306081143111,
          1.5892979941116103,
          -0.3857441205726969,
          0.043082707784277155,
          -1.4789768943208657,
          0.35693164902395574,
          0.9355962081748874,
          -0.358848280315065,
          1.343576697424638,
          0.7145499982587419,
          0.48335042718906546,
          0.6172007463564116,
          -1.9989361583464225,
          -1.2887866227474574,
          -1.439672249846713,
          0.8113502189659851,
          -1.5751104537746734,
          -0.48775695972951977,
          0.9489523365226368,
          -0.4310005056557186,
          -0.4257587741239332,
          -0.6635703254063151,
          0.4300317363803354,
          0.6620577766334544,
          -0.09559127950967047,
          -0.3569141009756636,
          -0.0233346034764943,
          1.3609456400638476,
          0.39830836958691485,
          -0.32917161014308327,
          -1.249598408618195,
          0.48635625903842067,
          0.6146070928884189,
          1.5013270015588285,
          0.08889598457134902,
          -1.8961362936115076,
          -0.6942743965654605,
          1.5225977203488685,
          0.18551046093397752,
          -1.6889406217713374,
          -0.7953297664720886,
          1.4261997343997797,
          0.34036161861680775,
          -0.9653392499121465,
          -0.7010390172221788,
          -0.7223460527695292,
          -2.203097985891278,
          1.1683019412809572,
          -1.1160191622760745,
          1.2534968643237283,
          -0.7367971794866054
         ],
         "xaxis": "x16",
         "yaxis": "y16"
        }
       ],
       "layout": {
        "bargap": 0.02,
        "legend": {
         "bgcolor": "#F5F6F9",
         "font": {
          "color": "#4D5663"
         }
        },
        "paper_bgcolor": "#F5F6F9",
        "plot_bgcolor": "#F5F6F9",
        "showlegend": false,
        "template": {
         "data": {
          "bar": [
           {
            "error_x": {
             "color": "#2a3f5f"
            },
            "error_y": {
             "color": "#2a3f5f"
            },
            "marker": {
             "line": {
              "color": "#E5ECF6",
              "width": 0.5
             }
            },
            "type": "bar"
           }
          ],
          "barpolar": [
           {
            "marker": {
             "line": {
              "color": "#E5ECF6",
              "width": 0.5
             }
            },
            "type": "barpolar"
           }
          ],
          "carpet": [
           {
            "aaxis": {
             "endlinecolor": "#2a3f5f",
             "gridcolor": "white",
             "linecolor": "white",
             "minorgridcolor": "white",
             "startlinecolor": "#2a3f5f"
            },
            "baxis": {
             "endlinecolor": "#2a3f5f",
             "gridcolor": "white",
             "linecolor": "white",
             "minorgridcolor": "white",
             "startlinecolor": "#2a3f5f"
            },
            "type": "carpet"
           }
          ],
          "choropleth": [
           {
            "colorbar": {
             "outlinewidth": 0,
             "ticks": ""
            },
            "type": "choropleth"
           }
          ],
          "contour": [
           {
            "colorbar": {
             "outlinewidth": 0,
             "ticks": ""
            },
            "colorscale": [
             [
              0,
              "#0d0887"
             ],
             [
              0.1111111111111111,
              "#46039f"
             ],
             [
              0.2222222222222222,
              "#7201a8"
             ],
             [
              0.3333333333333333,
              "#9c179e"
             ],
             [
              0.4444444444444444,
              "#bd3786"
             ],
             [
              0.5555555555555556,
              "#d8576b"
             ],
             [
              0.6666666666666666,
              "#ed7953"
             ],
             [
              0.7777777777777778,
              "#fb9f3a"
             ],
             [
              0.8888888888888888,
              "#fdca26"
             ],
             [
              1,
              "#f0f921"
             ]
            ],
            "type": "contour"
           }
          ],
          "contourcarpet": [
           {
            "colorbar": {
             "outlinewidth": 0,
             "ticks": ""
            },
            "type": "contourcarpet"
           }
          ],
          "heatmap": [
           {
            "colorbar": {
             "outlinewidth": 0,
             "ticks": ""
            },
            "colorscale": [
             [
              0,
              "#0d0887"
             ],
             [
              0.1111111111111111,
              "#46039f"
             ],
             [
              0.2222222222222222,
              "#7201a8"
             ],
             [
              0.3333333333333333,
              "#9c179e"
             ],
             [
              0.4444444444444444,
              "#bd3786"
             ],
             [
              0.5555555555555556,
              "#d8576b"
             ],
             [
              0.6666666666666666,
              "#ed7953"
             ],
             [
              0.7777777777777778,
              "#fb9f3a"
             ],
             [
              0.8888888888888888,
              "#fdca26"
             ],
             [
              1,
              "#f0f921"
             ]
            ],
            "type": "heatmap"
           }
          ],
          "heatmapgl": [
           {
            "colorbar": {
             "outlinewidth": 0,
             "ticks": ""
            },
            "colorscale": [
             [
              0,
              "#0d0887"
             ],
             [
              0.1111111111111111,
              "#46039f"
             ],
             [
              0.2222222222222222,
              "#7201a8"
             ],
             [
              0.3333333333333333,
              "#9c179e"
             ],
             [
              0.4444444444444444,
              "#bd3786"
             ],
             [
              0.5555555555555556,
              "#d8576b"
             ],
             [
              0.6666666666666666,
              "#ed7953"
             ],
             [
              0.7777777777777778,
              "#fb9f3a"
             ],
             [
              0.8888888888888888,
              "#fdca26"
             ],
             [
              1,
              "#f0f921"
             ]
            ],
            "type": "heatmapgl"
           }
          ],
          "histogram": [
           {
            "marker": {
             "colorbar": {
              "outlinewidth": 0,
              "ticks": ""
             }
            },
            "type": "histogram"
           }
          ],
          "histogram2d": [
           {
            "colorbar": {
             "outlinewidth": 0,
             "ticks": ""
            },
            "colorscale": [
             [
              0,
              "#0d0887"
             ],
             [
              0.1111111111111111,
              "#46039f"
             ],
             [
              0.2222222222222222,
              "#7201a8"
             ],
             [
              0.3333333333333333,
              "#9c179e"
             ],
             [
              0.4444444444444444,
              "#bd3786"
             ],
             [
              0.5555555555555556,
              "#d8576b"
             ],
             [
              0.6666666666666666,
              "#ed7953"
             ],
             [
              0.7777777777777778,
              "#fb9f3a"
             ],
             [
              0.8888888888888888,
              "#fdca26"
             ],
             [
              1,
              "#f0f921"
             ]
            ],
            "type": "histogram2d"
           }
          ],
          "histogram2dcontour": [
           {
            "colorbar": {
             "outlinewidth": 0,
             "ticks": ""
            },
            "colorscale": [
             [
              0,
              "#0d0887"
             ],
             [
              0.1111111111111111,
              "#46039f"
             ],
             [
              0.2222222222222222,
              "#7201a8"
             ],
             [
              0.3333333333333333,
              "#9c179e"
             ],
             [
              0.4444444444444444,
              "#bd3786"
             ],
             [
              0.5555555555555556,
              "#d8576b"
             ],
             [
              0.6666666666666666,
              "#ed7953"
             ],
             [
              0.7777777777777778,
              "#fb9f3a"
             ],
             [
              0.8888888888888888,
              "#fdca26"
             ],
             [
              1,
              "#f0f921"
             ]
            ],
            "type": "histogram2dcontour"
           }
          ],
          "mesh3d": [
           {
            "colorbar": {
             "outlinewidth": 0,
             "ticks": ""
            },
            "type": "mesh3d"
           }
          ],
          "parcoords": [
           {
            "line": {
             "colorbar": {
              "outlinewidth": 0,
              "ticks": ""
             }
            },
            "type": "parcoords"
           }
          ],
          "pie": [
           {
            "automargin": true,
            "type": "pie"
           }
          ],
          "scatter": [
           {
            "marker": {
             "colorbar": {
              "outlinewidth": 0,
              "ticks": ""
             }
            },
            "type": "scatter"
           }
          ],
          "scatter3d": [
           {
            "line": {
             "colorbar": {
              "outlinewidth": 0,
              "ticks": ""
             }
            },
            "marker": {
             "colorbar": {
              "outlinewidth": 0,
              "ticks": ""
             }
            },
            "type": "scatter3d"
           }
          ],
          "scattercarpet": [
           {
            "marker": {
             "colorbar": {
              "outlinewidth": 0,
              "ticks": ""
             }
            },
            "type": "scattercarpet"
           }
          ],
          "scattergeo": [
           {
            "marker": {
             "colorbar": {
              "outlinewidth": 0,
              "ticks": ""
             }
            },
            "type": "scattergeo"
           }
          ],
          "scattergl": [
           {
            "marker": {
             "colorbar": {
              "outlinewidth": 0,
              "ticks": ""
             }
            },
            "type": "scattergl"
           }
          ],
          "scattermapbox": [
           {
            "marker": {
             "colorbar": {
              "outlinewidth": 0,
              "ticks": ""
             }
            },
            "type": "scattermapbox"
           }
          ],
          "scatterpolar": [
           {
            "marker": {
             "colorbar": {
              "outlinewidth": 0,
              "ticks": ""
             }
            },
            "type": "scatterpolar"
           }
          ],
          "scatterpolargl": [
           {
            "marker": {
             "colorbar": {
              "outlinewidth": 0,
              "ticks": ""
             }
            },
            "type": "scatterpolargl"
           }
          ],
          "scatterternary": [
           {
            "marker": {
             "colorbar": {
              "outlinewidth": 0,
              "ticks": ""
             }
            },
            "type": "scatterternary"
           }
          ],
          "surface": [
           {
            "colorbar": {
             "outlinewidth": 0,
             "ticks": ""
            },
            "colorscale": [
             [
              0,
              "#0d0887"
             ],
             [
              0.1111111111111111,
              "#46039f"
             ],
             [
              0.2222222222222222,
              "#7201a8"
             ],
             [
              0.3333333333333333,
              "#9c179e"
             ],
             [
              0.4444444444444444,
              "#bd3786"
             ],
             [
              0.5555555555555556,
              "#d8576b"
             ],
             [
              0.6666666666666666,
              "#ed7953"
             ],
             [
              0.7777777777777778,
              "#fb9f3a"
             ],
             [
              0.8888888888888888,
              "#fdca26"
             ],
             [
              1,
              "#f0f921"
             ]
            ],
            "type": "surface"
           }
          ],
          "table": [
           {
            "cells": {
             "fill": {
              "color": "#EBF0F8"
             },
             "line": {
              "color": "white"
             }
            },
            "header": {
             "fill": {
              "color": "#C8D4E3"
             },
             "line": {
              "color": "white"
             }
            },
            "type": "table"
           }
          ]
         },
         "layout": {
          "annotationdefaults": {
           "arrowcolor": "#2a3f5f",
           "arrowhead": 0,
           "arrowwidth": 1
          },
          "autotypenumbers": "strict",
          "coloraxis": {
           "colorbar": {
            "outlinewidth": 0,
            "ticks": ""
           }
          },
          "colorscale": {
           "diverging": [
            [
             0,
             "#8e0152"
            ],
            [
             0.1,
             "#c51b7d"
            ],
            [
             0.2,
             "#de77ae"
            ],
            [
             0.3,
             "#f1b6da"
            ],
            [
             0.4,
             "#fde0ef"
            ],
            [
             0.5,
             "#f7f7f7"
            ],
            [
             0.6,
             "#e6f5d0"
            ],
            [
             0.7,
             "#b8e186"
            ],
            [
             0.8,
             "#7fbc41"
            ],
            [
             0.9,
             "#4d9221"
            ],
            [
             1,
             "#276419"
            ]
           ],
           "sequential": [
            [
             0,
             "#0d0887"
            ],
            [
             0.1111111111111111,
             "#46039f"
            ],
            [
             0.2222222222222222,
             "#7201a8"
            ],
            [
             0.3333333333333333,
             "#9c179e"
            ],
            [
             0.4444444444444444,
             "#bd3786"
            ],
            [
             0.5555555555555556,
             "#d8576b"
            ],
            [
             0.6666666666666666,
             "#ed7953"
            ],
            [
             0.7777777777777778,
             "#fb9f3a"
            ],
            [
             0.8888888888888888,
             "#fdca26"
            ],
            [
             1,
             "#f0f921"
            ]
           ],
           "sequentialminus": [
            [
             0,
             "#0d0887"
            ],
            [
             0.1111111111111111,
             "#46039f"
            ],
            [
             0.2222222222222222,
             "#7201a8"
            ],
            [
             0.3333333333333333,
             "#9c179e"
            ],
            [
             0.4444444444444444,
             "#bd3786"
            ],
            [
             0.5555555555555556,
             "#d8576b"
            ],
            [
             0.6666666666666666,
             "#ed7953"
            ],
            [
             0.7777777777777778,
             "#fb9f3a"
            ],
            [
             0.8888888888888888,
             "#fdca26"
            ],
            [
             1,
             "#f0f921"
            ]
           ]
          },
          "colorway": [
           "#636efa",
           "#EF553B",
           "#00cc96",
           "#ab63fa",
           "#FFA15A",
           "#19d3f3",
           "#FF6692",
           "#B6E880",
           "#FF97FF",
           "#FECB52"
          ],
          "font": {
           "color": "#2a3f5f"
          },
          "geo": {
           "bgcolor": "white",
           "lakecolor": "white",
           "landcolor": "#E5ECF6",
           "showlakes": true,
           "showland": true,
           "subunitcolor": "white"
          },
          "hoverlabel": {
           "align": "left"
          },
          "hovermode": "closest",
          "mapbox": {
           "style": "light"
          },
          "paper_bgcolor": "white",
          "plot_bgcolor": "#E5ECF6",
          "polar": {
           "angularaxis": {
            "gridcolor": "white",
            "linecolor": "white",
            "ticks": ""
           },
           "bgcolor": "#E5ECF6",
           "radialaxis": {
            "gridcolor": "white",
            "linecolor": "white",
            "ticks": ""
           }
          },
          "scene": {
           "xaxis": {
            "backgroundcolor": "#E5ECF6",
            "gridcolor": "white",
            "gridwidth": 2,
            "linecolor": "white",
            "showbackground": true,
            "ticks": "",
            "zerolinecolor": "white"
           },
           "yaxis": {
            "backgroundcolor": "#E5ECF6",
            "gridcolor": "white",
            "gridwidth": 2,
            "linecolor": "white",
            "showbackground": true,
            "ticks": "",
            "zerolinecolor": "white"
           },
           "zaxis": {
            "backgroundcolor": "#E5ECF6",
            "gridcolor": "white",
            "gridwidth": 2,
            "linecolor": "white",
            "showbackground": true,
            "ticks": "",
            "zerolinecolor": "white"
           }
          },
          "shapedefaults": {
           "line": {
            "color": "#2a3f5f"
           }
          },
          "ternary": {
           "aaxis": {
            "gridcolor": "white",
            "linecolor": "white",
            "ticks": ""
           },
           "baxis": {
            "gridcolor": "white",
            "linecolor": "white",
            "ticks": ""
           },
           "bgcolor": "#E5ECF6",
           "caxis": {
            "gridcolor": "white",
            "linecolor": "white",
            "ticks": ""
           }
          },
          "title": {
           "x": 0.05
          },
          "xaxis": {
           "automargin": true,
           "gridcolor": "white",
           "linecolor": "white",
           "ticks": "",
           "title": {
            "standoff": 15
           },
           "zerolinecolor": "white",
           "zerolinewidth": 2
          },
          "yaxis": {
           "automargin": true,
           "gridcolor": "white",
           "linecolor": "white",
           "ticks": "",
           "title": {
            "standoff": 15
           },
           "zerolinecolor": "white",
           "zerolinewidth": 2
          }
         }
        },
        "title": {
         "font": {
          "color": "#4D5663"
         }
        },
        "xaxis": {
         "anchor": "y",
         "domain": [
          0,
          0.2125
         ],
         "gridcolor": "#E1E5ED",
         "showgrid": false,
         "tickfont": {
          "color": "#4D5663"
         },
         "title": {
          "font": {
           "color": "#4D5663"
          },
          "text": ""
         },
         "zerolinecolor": "#E1E5ED"
        },
        "xaxis10": {
         "anchor": "y10",
         "domain": [
          0.2625,
          0.475
         ],
         "gridcolor": "#E1E5ED",
         "showgrid": false,
         "tickfont": {
          "color": "#4D5663"
         },
         "title": {
          "font": {
           "color": "#4D5663"
          },
          "text": ""
         },
         "zerolinecolor": "#E1E5ED"
        },
        "xaxis11": {
         "anchor": "y11",
         "domain": [
          0.525,
          0.7375
         ],
         "gridcolor": "#E1E5ED",
         "showgrid": false,
         "tickfont": {
          "color": "#4D5663"
         },
         "title": {
          "font": {
           "color": "#4D5663"
          },
          "text": ""
         },
         "zerolinecolor": "#E1E5ED"
        },
        "xaxis12": {
         "anchor": "y12",
         "domain": [
          0.7875,
          1
         ],
         "gridcolor": "#E1E5ED",
         "showgrid": false,
         "tickfont": {
          "color": "#4D5663"
         },
         "title": {
          "font": {
           "color": "#4D5663"
          },
          "text": ""
         },
         "zerolinecolor": "#E1E5ED"
        },
        "xaxis13": {
         "anchor": "y13",
         "domain": [
          0,
          0.2125
         ],
         "gridcolor": "#E1E5ED",
         "showgrid": false,
         "tickfont": {
          "color": "#4D5663"
         },
         "title": {
          "font": {
           "color": "#4D5663"
          },
          "text": ""
         },
         "zerolinecolor": "#E1E5ED"
        },
        "xaxis14": {
         "anchor": "y14",
         "domain": [
          0.2625,
          0.475
         ],
         "gridcolor": "#E1E5ED",
         "showgrid": false,
         "tickfont": {
          "color": "#4D5663"
         },
         "title": {
          "font": {
           "color": "#4D5663"
          },
          "text": ""
         },
         "zerolinecolor": "#E1E5ED"
        },
        "xaxis15": {
         "anchor": "y15",
         "domain": [
          0.525,
          0.7375
         ],
         "gridcolor": "#E1E5ED",
         "showgrid": false,
         "tickfont": {
          "color": "#4D5663"
         },
         "title": {
          "font": {
           "color": "#4D5663"
          },
          "text": ""
         },
         "zerolinecolor": "#E1E5ED"
        },
        "xaxis16": {
         "anchor": "y16",
         "domain": [
          0.7875,
          1
         ],
         "gridcolor": "#E1E5ED",
         "showgrid": false,
         "tickfont": {
          "color": "#4D5663"
         },
         "title": {
          "font": {
           "color": "#4D5663"
          },
          "text": ""
         },
         "zerolinecolor": "#E1E5ED"
        },
        "xaxis2": {
         "anchor": "y2",
         "domain": [
          0.2625,
          0.475
         ],
         "gridcolor": "#E1E5ED",
         "showgrid": false,
         "tickfont": {
          "color": "#4D5663"
         },
         "title": {
          "font": {
           "color": "#4D5663"
          },
          "text": ""
         },
         "zerolinecolor": "#E1E5ED"
        },
        "xaxis3": {
         "anchor": "y3",
         "domain": [
          0.525,
          0.7375
         ],
         "gridcolor": "#E1E5ED",
         "showgrid": false,
         "tickfont": {
          "color": "#4D5663"
         },
         "title": {
          "font": {
           "color": "#4D5663"
          },
          "text": ""
         },
         "zerolinecolor": "#E1E5ED"
        },
        "xaxis4": {
         "anchor": "y4",
         "domain": [
          0.7875,
          1
         ],
         "gridcolor": "#E1E5ED",
         "showgrid": false,
         "tickfont": {
          "color": "#4D5663"
         },
         "title": {
          "font": {
           "color": "#4D5663"
          },
          "text": ""
         },
         "zerolinecolor": "#E1E5ED"
        },
        "xaxis5": {
         "anchor": "y5",
         "domain": [
          0,
          0.2125
         ],
         "gridcolor": "#E1E5ED",
         "showgrid": false,
         "tickfont": {
          "color": "#4D5663"
         },
         "title": {
          "font": {
           "color": "#4D5663"
          },
          "text": ""
         },
         "zerolinecolor": "#E1E5ED"
        },
        "xaxis6": {
         "anchor": "y6",
         "domain": [
          0.2625,
          0.475
         ],
         "gridcolor": "#E1E5ED",
         "showgrid": false,
         "tickfont": {
          "color": "#4D5663"
         },
         "title": {
          "font": {
           "color": "#4D5663"
          },
          "text": ""
         },
         "zerolinecolor": "#E1E5ED"
        },
        "xaxis7": {
         "anchor": "y7",
         "domain": [
          0.525,
          0.7375
         ],
         "gridcolor": "#E1E5ED",
         "showgrid": false,
         "tickfont": {
          "color": "#4D5663"
         },
         "title": {
          "font": {
           "color": "#4D5663"
          },
          "text": ""
         },
         "zerolinecolor": "#E1E5ED"
        },
        "xaxis8": {
         "anchor": "y8",
         "domain": [
          0.7875,
          1
         ],
         "gridcolor": "#E1E5ED",
         "showgrid": false,
         "tickfont": {
          "color": "#4D5663"
         },
         "title": {
          "font": {
           "color": "#4D5663"
          },
          "text": ""
         },
         "zerolinecolor": "#E1E5ED"
        },
        "xaxis9": {
         "anchor": "y9",
         "domain": [
          0,
          0.2125
         ],
         "gridcolor": "#E1E5ED",
         "showgrid": false,
         "tickfont": {
          "color": "#4D5663"
         },
         "title": {
          "font": {
           "color": "#4D5663"
          },
          "text": ""
         },
         "zerolinecolor": "#E1E5ED"
        },
        "yaxis": {
         "anchor": "x",
         "domain": [
          0.8025,
          1
         ],
         "gridcolor": "#E1E5ED",
         "showgrid": false,
         "tickfont": {
          "color": "#4D5663"
         },
         "title": {
          "font": {
           "color": "#4D5663"
          },
          "text": ""
         },
         "zerolinecolor": "#E1E5ED"
        },
        "yaxis10": {
         "anchor": "x10",
         "domain": [
          0.2675,
          0.465
         ],
         "gridcolor": "#E1E5ED",
         "showgrid": false,
         "tickfont": {
          "color": "#4D5663"
         },
         "title": {
          "font": {
           "color": "#4D5663"
          },
          "text": ""
         },
         "zerolinecolor": "#E1E5ED"
        },
        "yaxis11": {
         "anchor": "x11",
         "domain": [
          0.2675,
          0.465
         ],
         "gridcolor": "#E1E5ED",
         "showgrid": false,
         "tickfont": {
          "color": "#4D5663"
         },
         "title": {
          "font": {
           "color": "#4D5663"
          },
          "text": ""
         },
         "zerolinecolor": "#E1E5ED"
        },
        "yaxis12": {
         "anchor": "x12",
         "domain": [
          0.2675,
          0.465
         ],
         "gridcolor": "#E1E5ED",
         "showgrid": false,
         "tickfont": {
          "color": "#4D5663"
         },
         "title": {
          "font": {
           "color": "#4D5663"
          },
          "text": ""
         },
         "zerolinecolor": "#E1E5ED"
        },
        "yaxis13": {
         "anchor": "x13",
         "domain": [
          0,
          0.1975
         ],
         "gridcolor": "#E1E5ED",
         "showgrid": false,
         "tickfont": {
          "color": "#4D5663"
         },
         "title": {
          "font": {
           "color": "#4D5663"
          },
          "text": ""
         },
         "zerolinecolor": "#E1E5ED"
        },
        "yaxis14": {
         "anchor": "x14",
         "domain": [
          0,
          0.1975
         ],
         "gridcolor": "#E1E5ED",
         "showgrid": false,
         "tickfont": {
          "color": "#4D5663"
         },
         "title": {
          "font": {
           "color": "#4D5663"
          },
          "text": ""
         },
         "zerolinecolor": "#E1E5ED"
        },
        "yaxis15": {
         "anchor": "x15",
         "domain": [
          0,
          0.1975
         ],
         "gridcolor": "#E1E5ED",
         "showgrid": false,
         "tickfont": {
          "color": "#4D5663"
         },
         "title": {
          "font": {
           "color": "#4D5663"
          },
          "text": ""
         },
         "zerolinecolor": "#E1E5ED"
        },
        "yaxis16": {
         "anchor": "x16",
         "domain": [
          0,
          0.1975
         ],
         "gridcolor": "#E1E5ED",
         "showgrid": false,
         "tickfont": {
          "color": "#4D5663"
         },
         "title": {
          "font": {
           "color": "#4D5663"
          },
          "text": ""
         },
         "zerolinecolor": "#E1E5ED"
        },
        "yaxis2": {
         "anchor": "x2",
         "domain": [
          0.8025,
          1
         ],
         "gridcolor": "#E1E5ED",
         "showgrid": false,
         "tickfont": {
          "color": "#4D5663"
         },
         "title": {
          "font": {
           "color": "#4D5663"
          },
          "text": ""
         },
         "zerolinecolor": "#E1E5ED"
        },
        "yaxis3": {
         "anchor": "x3",
         "domain": [
          0.8025,
          1
         ],
         "gridcolor": "#E1E5ED",
         "showgrid": false,
         "tickfont": {
          "color": "#4D5663"
         },
         "title": {
          "font": {
           "color": "#4D5663"
          },
          "text": ""
         },
         "zerolinecolor": "#E1E5ED"
        },
        "yaxis4": {
         "anchor": "x4",
         "domain": [
          0.8025,
          1
         ],
         "gridcolor": "#E1E5ED",
         "showgrid": false,
         "tickfont": {
          "color": "#4D5663"
         },
         "title": {
          "font": {
           "color": "#4D5663"
          },
          "text": ""
         },
         "zerolinecolor": "#E1E5ED"
        },
        "yaxis5": {
         "anchor": "x5",
         "domain": [
          0.535,
          0.7325
         ],
         "gridcolor": "#E1E5ED",
         "showgrid": false,
         "tickfont": {
          "color": "#4D5663"
         },
         "title": {
          "font": {
           "color": "#4D5663"
          },
          "text": ""
         },
         "zerolinecolor": "#E1E5ED"
        },
        "yaxis6": {
         "anchor": "x6",
         "domain": [
          0.535,
          0.7325
         ],
         "gridcolor": "#E1E5ED",
         "showgrid": false,
         "tickfont": {
          "color": "#4D5663"
         },
         "title": {
          "font": {
           "color": "#4D5663"
          },
          "text": ""
         },
         "zerolinecolor": "#E1E5ED"
        },
        "yaxis7": {
         "anchor": "x7",
         "domain": [
          0.535,
          0.7325
         ],
         "gridcolor": "#E1E5ED",
         "showgrid": false,
         "tickfont": {
          "color": "#4D5663"
         },
         "title": {
          "font": {
           "color": "#4D5663"
          },
          "text": ""
         },
         "zerolinecolor": "#E1E5ED"
        },
        "yaxis8": {
         "anchor": "x8",
         "domain": [
          0.535,
          0.7325
         ],
         "gridcolor": "#E1E5ED",
         "showgrid": false,
         "tickfont": {
          "color": "#4D5663"
         },
         "title": {
          "font": {
           "color": "#4D5663"
          },
          "text": ""
         },
         "zerolinecolor": "#E1E5ED"
        },
        "yaxis9": {
         "anchor": "x9",
         "domain": [
          0.2675,
          0.465
         ],
         "gridcolor": "#E1E5ED",
         "showgrid": false,
         "tickfont": {
          "color": "#4D5663"
         },
         "title": {
          "font": {
           "color": "#4D5663"
          },
          "text": ""
         },
         "zerolinecolor": "#E1E5ED"
        }
       }
      },
      "text/html": [
       "<div>                            <div id=\"ae6e2b67-11e1-4e8f-bc66-a23e4ddd3354\" class=\"plotly-graph-div\" style=\"height:525px; width:100%;\"></div>            <script type=\"text/javascript\">                require([\"plotly\"], function(Plotly) {                    window.PLOTLYENV=window.PLOTLYENV || {};\n",
       "                    window.PLOTLYENV.BASE_URL='https://plot.ly';                                    if (document.getElementById(\"ae6e2b67-11e1-4e8f-bc66-a23e4ddd3354\")) {                    Plotly.newPlot(                        \"ae6e2b67-11e1-4e8f-bc66-a23e4ddd3354\",                        [{\"histfunc\": \"count\", \"histnorm\": \"\", \"marker\": {\"color\": \"rgba(255, 153, 51, 1.0)\", \"line\": {\"color\": \"#4D5663\", \"width\": 1.3}}, \"name\": \"A\", \"nbinsx\": 10, \"opacity\": 0.8, \"orientation\": \"v\", \"type\": \"histogram\", \"x\": [0.42135637469066833, 0.051787610039485656, -0.8859201272757309, 1.127155918130127, 0.05110503169809027, -1.3625779998716074, 1.413463839091547, -1.0518298420858014, -1.4273371067642697, 0.2167236110214108, 0.1543785204974001, 1.0307652297071481, -1.556770626777491, -0.846285335148641, -1.4475567856473346, 0.28136297298603, 0.16206068112953487, 0.3415324132284915, -1.1033635133636706, 0.8894648772645205, -1.8017630378505909, -0.14245031927646856, -0.8266858154440575, -0.7530689966357229, -2.0574608097003035, -1.8778506514905104, -0.08148361870194606, -0.9357959490775972, -0.6760913977083556, -1.1041299976906465, 0.22052054948520405, -0.6208213787655636, -0.9832356528265209, 0.3121875795693881, -0.044428851806542095, -0.6160413621576425, 0.8338980770256911, -0.4078014558131567, 1.1326628751514818, 1.381820447729485, 0.5870663051810776, -0.7226234218334454, 0.637116486862654, 0.810474475909267, 2.70372528025538, 0.6462466649527927, 0.3743500129845283, 0.17484316236836292, 1.4641354227184749, -0.00834110773828608, 1.0168581856522507, -0.46088217782489604, -1.5221428181584185, 1.1085033065208867, -0.03359453206244407, 0.13024239174967583, -1.1376425645386274, 1.1102484582897623, 0.12115485743688534, 1.2269014026945384, -1.2118887477098856, -0.07302583552604484, -0.7657437595439366, 0.014733537309346229, -1.7912003541024881, 1.7244980639349405, -1.209570556075875, -1.1811987834399718, -1.3383168952142377, -0.23545845455329553, 0.5455075698862204, 0.5143435707195769, 0.49970410382795577, -1.0087869177358482, 1.5295395940774288, 0.19968872339286142, 0.2853967438038379, 0.6267199329816086, 0.7594740494277189, -2.2107520896395836, 0.04207387549136959, -0.1009791017301549, -1.363303282286697, -2.1269648825992946, -0.9969616855723071, -0.16447434850235484, 0.4579274109261358, -0.0501398598101201, 0.9794488277108203, -0.6698307222391381, 1.3153732821001494, 0.05781171695218909, -0.7880077693551906, 1.513297183883774, -1.2630353942419186, -0.8474541119052957, 1.8675720657212853, 0.8259412981691324, 0.23634614857664427, -1.5622218215155599], \"xaxis\": \"x\", \"yaxis\": \"y\"}, {\"line\": {\"color\": \"rgba(128, 128, 128, 1.0)\", \"dash\": \"solid\", \"shape\": \"linear\", \"width\": 1.3}, \"marker\": {\"size\": 2, \"symbol\": \"circle\"}, \"mode\": \"markers\", \"name\": \"A\", \"text\": \"\", \"type\": \"scatter\", \"x\": [-0.6501201079452595, -0.6396703664807071, -0.14910624389792665, 0.9191471993045957, -0.20408638918650238, -1.8339833921820385, -0.5336687782287028, 1.1159759429939438, 0.9687317127445674, -1.7400136162569626, 0.21071196310648294, -0.6652480269305107, -0.5355523925508483, -0.5131492863893872, 0.6857146627816957, 1.098945987906431, -0.9348369343583188, -0.7325354095966315, 0.021514349515909068, -1.0346009878659206, -0.17501231162040945, 0.7367345313547262, -1.0897665770658538, -0.33938896768116844, 2.0121374329786192, -0.6393950234441513, 0.03647086107054639, -0.5948946033349691, 1.4104386684965855, 0.24031607468836597, 0.013035966419714847, -0.20069232286431354, 2.631987135365754, 1.1402967549197727, -1.3480836252528436, -0.5419029514580261, 0.35165958782611867, 0.5574337761914983, 0.5053362646599682, 0.06694474269967485, -0.6160293085973875, -1.8467820531221697, 0.23180264269673023, 1.5710530598742847, 0.16850544639523987, -0.5448421894097137, 0.800392407126888, -0.3205623468664349, 1.080515029284678, -1.7371274865461397, -1.89016032000533, 0.6587944707237163, 1.3712428758799025, -0.22839481245865867, -0.11743381153175035, 0.08875123869894627, 1.2534991446004125, -1.0050131736037835, -1.4849688355120898, 0.6705897386978111, 1.5984677392051143, -1.2645470074698082, 0.7264911234789589, -2.3717085033683727, -1.4436789972254331, -0.40695984992958373, -0.4220425299401283, -1.4988249695855351, -1.1392043419422493, -0.25228704335304114, 1.1690146052494421, -1.059060163146755, -0.6643372846194279, -1.8106561856144445, 0.23156168713817965, 0.4832174484382462, 1.5349359636281692, 0.7813633744015297, -0.14476594977734775, -1.191781902475107, 1.1339137809138238, 0.4633338142600121, 1.6834801300382207, -0.04735403216966803, 2.303170234529257, -1.588979977909511, 0.15271731738318492, -0.7055727659267433, 0.06895653776059535, 0.4744135459499637, -1.7719303079565776, -0.3132926379621396, 0.475239615161257, 0.3984714410737094, -0.37273617218314103, -1.5892452468814993, 1.383171377203694, 0.3208732966941905, -0.33731818730533253, 0.45105978115116213], \"xaxis\": \"x2\", \"y\": [0.42135637469066833, 0.051787610039485656, -0.8859201272757309, 1.127155918130127, 0.05110503169809027, -1.3625779998716074, 1.413463839091547, -1.0518298420858014, -1.4273371067642697, 0.2167236110214108, 0.1543785204974001, 1.0307652297071481, -1.556770626777491, -0.846285335148641, -1.4475567856473346, 0.28136297298603, 0.16206068112953487, 0.3415324132284915, -1.1033635133636706, 0.8894648772645205, -1.8017630378505909, -0.14245031927646856, -0.8266858154440575, -0.7530689966357229, -2.0574608097003035, -1.8778506514905104, -0.08148361870194606, -0.9357959490775972, -0.6760913977083556, -1.1041299976906465, 0.22052054948520405, -0.6208213787655636, -0.9832356528265209, 0.3121875795693881, -0.044428851806542095, -0.6160413621576425, 0.8338980770256911, -0.4078014558131567, 1.1326628751514818, 1.381820447729485, 0.5870663051810776, -0.7226234218334454, 0.637116486862654, 0.810474475909267, 2.70372528025538, 0.6462466649527927, 0.3743500129845283, 0.17484316236836292, 1.4641354227184749, -0.00834110773828608, 1.0168581856522507, -0.46088217782489604, -1.5221428181584185, 1.1085033065208867, -0.03359453206244407, 0.13024239174967583, -1.1376425645386274, 1.1102484582897623, 0.12115485743688534, 1.2269014026945384, -1.2118887477098856, -0.07302583552604484, -0.7657437595439366, 0.014733537309346229, -1.7912003541024881, 1.7244980639349405, -1.209570556075875, -1.1811987834399718, -1.3383168952142377, -0.23545845455329553, 0.5455075698862204, 0.5143435707195769, 0.49970410382795577, -1.0087869177358482, 1.5295395940774288, 0.19968872339286142, 0.2853967438038379, 0.6267199329816086, 0.7594740494277189, -2.2107520896395836, 0.04207387549136959, -0.1009791017301549, -1.363303282286697, -2.1269648825992946, -0.9969616855723071, -0.16447434850235484, 0.4579274109261358, -0.0501398598101201, 0.9794488277108203, -0.6698307222391381, 1.3153732821001494, 0.05781171695218909, -0.7880077693551906, 1.513297183883774, -1.2630353942419186, -0.8474541119052957, 1.8675720657212853, 0.8259412981691324, 0.23634614857664427, -1.5622218215155599], \"yaxis\": \"y2\"}, {\"line\": {\"color\": \"rgba(128, 128, 128, 1.0)\", \"dash\": \"solid\", \"shape\": \"linear\", \"width\": 1.3}, \"marker\": {\"size\": 2, \"symbol\": \"circle\"}, \"mode\": \"markers\", \"name\": \"A\", \"text\": \"\", \"type\": \"scatter\", \"x\": [1.3055372336746414, 0.7114162391522426, 0.5319180757823271, -1.9123101474310888, 0.39976536098051685, -0.18028859700089062, -0.5230524008977765, 0.7268276275024059, -0.2944345287828867, -0.14726694281082295, 1.7315655586248442, -0.5810551835695299, 1.1368820733256777, -0.3215240402868722, 2.0359069216444285, -0.20123013992778713, -0.4875713899458238, -1.151241975461552, -0.30277486316817714, -0.744220382383983, 0.04613315459916105, -1.3057145064090865, -0.4088861945126814, -1.5646154963534107, 0.3966568333743682, 0.6316679600864687, 0.6374757271763759, 1.754905824180303, -0.640682521286157, 1.0486061154272264, -0.7145667182885798, -0.3806877293010073, 0.1567278401603999, -1.155602029567627, -1.297873553374794, 0.14349699346763617, 2.2799058299597124, 0.18010941279247047, 0.38356005316294317, 0.10698467327652507, -0.3454448778351593, 0.14763921225715568, -0.4028902079268841, -0.3579514673449626, 0.3902241277617355, 1.0646480458600145, -1.0403554672055213, 1.4058607286530946, 1.1088578975947785, 1.8983552624544502, -0.629144404663461, -1.027197527692072, -0.27884089253739963, 0.4830919556732657, -2.159602108194867, 0.23154295197431854, -0.4101269047367675, -1.0397144029380463, 0.8634663671915421, 0.12335901710602763, -0.6589125054500717, -0.8837218309099732, 0.5300635380526064, -0.5870212032242089, 0.21604687294689323, -0.0431600231923067, 0.24948270037241593, -0.42846826181497183, -0.47024444812079214, 1.809993947170532, 1.4155181217884234, -0.7683014914435955, 0.9974571901906416, 1.2081981866169547, 1.3013948917973308, -1.0273427942609155, -1.62347966779969, -0.8168534597595072, 0.7534440881257819, 0.9544426339832112, -0.4756276159424117, 1.9926114495734437, -1.3346008304863448, 0.2519142867261577, -1.3917654263113124, 0.0702088161041401, 1.6807653325822103, 1.6610790717144759, 1.335548879210626, -0.28583985589391103, 1.7341348469615736, 0.7254979973728675, -1.3934189049663144, 0.7145845715122107, 1.7147939898494737, -0.2795741666374927, -0.6180242470288976, -0.5457928510713272, 0.11293397023512372, 0.5798588529977873], \"xaxis\": \"x3\", \"y\": [0.42135637469066833, 0.051787610039485656, -0.8859201272757309, 1.127155918130127, 0.05110503169809027, -1.3625779998716074, 1.413463839091547, -1.0518298420858014, -1.4273371067642697, 0.2167236110214108, 0.1543785204974001, 1.0307652297071481, -1.556770626777491, -0.846285335148641, -1.4475567856473346, 0.28136297298603, 0.16206068112953487, 0.3415324132284915, -1.1033635133636706, 0.8894648772645205, -1.8017630378505909, -0.14245031927646856, -0.8266858154440575, -0.7530689966357229, -2.0574608097003035, -1.8778506514905104, -0.08148361870194606, -0.9357959490775972, -0.6760913977083556, -1.1041299976906465, 0.22052054948520405, -0.6208213787655636, -0.9832356528265209, 0.3121875795693881, -0.044428851806542095, -0.6160413621576425, 0.8338980770256911, -0.4078014558131567, 1.1326628751514818, 1.381820447729485, 0.5870663051810776, -0.7226234218334454, 0.637116486862654, 0.810474475909267, 2.70372528025538, 0.6462466649527927, 0.3743500129845283, 0.17484316236836292, 1.4641354227184749, -0.00834110773828608, 1.0168581856522507, -0.46088217782489604, -1.5221428181584185, 1.1085033065208867, -0.03359453206244407, 0.13024239174967583, -1.1376425645386274, 1.1102484582897623, 0.12115485743688534, 1.2269014026945384, -1.2118887477098856, -0.07302583552604484, -0.7657437595439366, 0.014733537309346229, -1.7912003541024881, 1.7244980639349405, -1.209570556075875, -1.1811987834399718, -1.3383168952142377, -0.23545845455329553, 0.5455075698862204, 0.5143435707195769, 0.49970410382795577, -1.0087869177358482, 1.5295395940774288, 0.19968872339286142, 0.2853967438038379, 0.6267199329816086, 0.7594740494277189, -2.2107520896395836, 0.04207387549136959, -0.1009791017301549, -1.363303282286697, -2.1269648825992946, -0.9969616855723071, -0.16447434850235484, 0.4579274109261358, -0.0501398598101201, 0.9794488277108203, -0.6698307222391381, 1.3153732821001494, 0.05781171695218909, -0.7880077693551906, 1.513297183883774, -1.2630353942419186, -0.8474541119052957, 1.8675720657212853, 0.8259412981691324, 0.23634614857664427, -1.5622218215155599], \"yaxis\": \"y3\"}, {\"line\": {\"color\": \"rgba(128, 128, 128, 1.0)\", \"dash\": \"solid\", \"shape\": \"linear\", \"width\": 1.3}, \"marker\": {\"size\": 2, \"symbol\": \"circle\"}, \"mode\": \"markers\", \"name\": \"A\", \"text\": \"\", \"type\": \"scatter\", \"x\": [-0.003033409631288337, 0.0786626564452496, -0.15823725127379146, -1.9897783258797754, -0.41469460533272623, 1.4209020494595277, -0.30222592133763926, -0.2214303624712438, 1.0492788369564692, 1.2865687882164314, -0.4493402433359212, -0.8714411779303679, 0.7425824108485773, -0.6427963906285001, -0.10072805894553197, -1.063010377345948, 1.8967232364452522, 1.5131947179202632, 0.1421901583946138, 0.35931468731170635, -1.1301308249181474, -0.5491444471277825, 0.5525386710611327, 0.6675662569851768, 1.2676396438682156, -0.9228784813863433, -0.10282939821541764, -0.35084487058720015, -0.5625409640797048, 0.3918012164622865, 0.06882667451567533, 1.3631664978395412, -0.07210002209831458, -0.35224032075625084, -0.5700048238525449, -0.37336140249850625, -0.20410294091782258, -1.2606734333733391, -1.5704556774214729, 0.41333788496089735, 1.43456879745207, 2.3518517184715164, -0.27428472549608524, -0.6660421044452691, -0.797339923192551, 0.39236278706815675, -0.15133720320061578, -0.1699134011562469, 1.610601288481763, -0.1800306081143111, 1.5892979941116103, -0.3857441205726969, 0.043082707784277155, -1.4789768943208657, 0.35693164902395574, 0.9355962081748874, -0.358848280315065, 1.343576697424638, 0.7145499982587419, 0.48335042718906546, 0.6172007463564116, -1.9989361583464225, -1.2887866227474574, -1.439672249846713, 0.8113502189659851, -1.5751104537746734, -0.48775695972951977, 0.9489523365226368, -0.4310005056557186, -0.4257587741239332, -0.6635703254063151, 0.4300317363803354, 0.6620577766334544, -0.09559127950967047, -0.3569141009756636, -0.0233346034764943, 1.3609456400638476, 0.39830836958691485, -0.32917161014308327, -1.249598408618195, 0.48635625903842067, 0.6146070928884189, 1.5013270015588285, 0.08889598457134902, -1.8961362936115076, -0.6942743965654605, 1.5225977203488685, 0.18551046093397752, -1.6889406217713374, -0.7953297664720886, 1.4261997343997797, 0.34036161861680775, -0.9653392499121465, -0.7010390172221788, -0.7223460527695292, -2.203097985891278, 1.1683019412809572, -1.1160191622760745, 1.2534968643237283, -0.7367971794866054], \"xaxis\": \"x4\", \"y\": [0.42135637469066833, 0.051787610039485656, -0.8859201272757309, 1.127155918130127, 0.05110503169809027, -1.3625779998716074, 1.413463839091547, -1.0518298420858014, -1.4273371067642697, 0.2167236110214108, 0.1543785204974001, 1.0307652297071481, -1.556770626777491, -0.846285335148641, -1.4475567856473346, 0.28136297298603, 0.16206068112953487, 0.3415324132284915, -1.1033635133636706, 0.8894648772645205, -1.8017630378505909, -0.14245031927646856, -0.8266858154440575, -0.7530689966357229, -2.0574608097003035, -1.8778506514905104, -0.08148361870194606, -0.9357959490775972, -0.6760913977083556, -1.1041299976906465, 0.22052054948520405, -0.6208213787655636, -0.9832356528265209, 0.3121875795693881, -0.044428851806542095, -0.6160413621576425, 0.8338980770256911, -0.4078014558131567, 1.1326628751514818, 1.381820447729485, 0.5870663051810776, -0.7226234218334454, 0.637116486862654, 0.810474475909267, 2.70372528025538, 0.6462466649527927, 0.3743500129845283, 0.17484316236836292, 1.4641354227184749, -0.00834110773828608, 1.0168581856522507, -0.46088217782489604, -1.5221428181584185, 1.1085033065208867, -0.03359453206244407, 0.13024239174967583, -1.1376425645386274, 1.1102484582897623, 0.12115485743688534, 1.2269014026945384, -1.2118887477098856, -0.07302583552604484, -0.7657437595439366, 0.014733537309346229, -1.7912003541024881, 1.7244980639349405, -1.209570556075875, -1.1811987834399718, -1.3383168952142377, -0.23545845455329553, 0.5455075698862204, 0.5143435707195769, 0.49970410382795577, -1.0087869177358482, 1.5295395940774288, 0.19968872339286142, 0.2853967438038379, 0.6267199329816086, 0.7594740494277189, -2.2107520896395836, 0.04207387549136959, -0.1009791017301549, -1.363303282286697, -2.1269648825992946, -0.9969616855723071, -0.16447434850235484, 0.4579274109261358, -0.0501398598101201, 0.9794488277108203, -0.6698307222391381, 1.3153732821001494, 0.05781171695218909, -0.7880077693551906, 1.513297183883774, -1.2630353942419186, -0.8474541119052957, 1.8675720657212853, 0.8259412981691324, 0.23634614857664427, -1.5622218215155599], \"yaxis\": \"y4\"}, {\"line\": {\"color\": \"rgba(128, 128, 128, 1.0)\", \"dash\": \"solid\", \"shape\": \"linear\", \"width\": 1.3}, \"marker\": {\"size\": 2, \"symbol\": \"circle\"}, \"mode\": \"markers\", \"name\": \"B\", \"text\": \"\", \"type\": \"scatter\", \"x\": [0.42135637469066833, 0.051787610039485656, -0.8859201272757309, 1.127155918130127, 0.05110503169809027, -1.3625779998716074, 1.413463839091547, -1.0518298420858014, -1.4273371067642697, 0.2167236110214108, 0.1543785204974001, 1.0307652297071481, -1.556770626777491, -0.846285335148641, -1.4475567856473346, 0.28136297298603, 0.16206068112953487, 0.3415324132284915, -1.1033635133636706, 0.8894648772645205, -1.8017630378505909, -0.14245031927646856, -0.8266858154440575, -0.7530689966357229, -2.0574608097003035, -1.8778506514905104, -0.08148361870194606, -0.9357959490775972, -0.6760913977083556, -1.1041299976906465, 0.22052054948520405, -0.6208213787655636, -0.9832356528265209, 0.3121875795693881, -0.044428851806542095, -0.6160413621576425, 0.8338980770256911, -0.4078014558131567, 1.1326628751514818, 1.381820447729485, 0.5870663051810776, -0.7226234218334454, 0.637116486862654, 0.810474475909267, 2.70372528025538, 0.6462466649527927, 0.3743500129845283, 0.17484316236836292, 1.4641354227184749, -0.00834110773828608, 1.0168581856522507, -0.46088217782489604, -1.5221428181584185, 1.1085033065208867, -0.03359453206244407, 0.13024239174967583, -1.1376425645386274, 1.1102484582897623, 0.12115485743688534, 1.2269014026945384, -1.2118887477098856, -0.07302583552604484, -0.7657437595439366, 0.014733537309346229, -1.7912003541024881, 1.7244980639349405, -1.209570556075875, -1.1811987834399718, -1.3383168952142377, -0.23545845455329553, 0.5455075698862204, 0.5143435707195769, 0.49970410382795577, -1.0087869177358482, 1.5295395940774288, 0.19968872339286142, 0.2853967438038379, 0.6267199329816086, 0.7594740494277189, -2.2107520896395836, 0.04207387549136959, -0.1009791017301549, -1.363303282286697, -2.1269648825992946, -0.9969616855723071, -0.16447434850235484, 0.4579274109261358, -0.0501398598101201, 0.9794488277108203, -0.6698307222391381, 1.3153732821001494, 0.05781171695218909, -0.7880077693551906, 1.513297183883774, -1.2630353942419186, -0.8474541119052957, 1.8675720657212853, 0.8259412981691324, 0.23634614857664427, -1.5622218215155599], \"xaxis\": \"x5\", \"y\": [-0.6501201079452595, -0.6396703664807071, -0.14910624389792665, 0.9191471993045957, -0.20408638918650238, -1.8339833921820385, -0.5336687782287028, 1.1159759429939438, 0.9687317127445674, -1.7400136162569626, 0.21071196310648294, -0.6652480269305107, -0.5355523925508483, -0.5131492863893872, 0.6857146627816957, 1.098945987906431, -0.9348369343583188, -0.7325354095966315, 0.021514349515909068, -1.0346009878659206, -0.17501231162040945, 0.7367345313547262, -1.0897665770658538, -0.33938896768116844, 2.0121374329786192, -0.6393950234441513, 0.03647086107054639, -0.5948946033349691, 1.4104386684965855, 0.24031607468836597, 0.013035966419714847, -0.20069232286431354, 2.631987135365754, 1.1402967549197727, -1.3480836252528436, -0.5419029514580261, 0.35165958782611867, 0.5574337761914983, 0.5053362646599682, 0.06694474269967485, -0.6160293085973875, -1.8467820531221697, 0.23180264269673023, 1.5710530598742847, 0.16850544639523987, -0.5448421894097137, 0.800392407126888, -0.3205623468664349, 1.080515029284678, -1.7371274865461397, -1.89016032000533, 0.6587944707237163, 1.3712428758799025, -0.22839481245865867, -0.11743381153175035, 0.08875123869894627, 1.2534991446004125, -1.0050131736037835, -1.4849688355120898, 0.6705897386978111, 1.5984677392051143, -1.2645470074698082, 0.7264911234789589, -2.3717085033683727, -1.4436789972254331, -0.40695984992958373, -0.4220425299401283, -1.4988249695855351, -1.1392043419422493, -0.25228704335304114, 1.1690146052494421, -1.059060163146755, -0.6643372846194279, -1.8106561856144445, 0.23156168713817965, 0.4832174484382462, 1.5349359636281692, 0.7813633744015297, -0.14476594977734775, -1.191781902475107, 1.1339137809138238, 0.4633338142600121, 1.6834801300382207, -0.04735403216966803, 2.303170234529257, -1.588979977909511, 0.15271731738318492, -0.7055727659267433, 0.06895653776059535, 0.4744135459499637, -1.7719303079565776, -0.3132926379621396, 0.475239615161257, 0.3984714410737094, -0.37273617218314103, -1.5892452468814993, 1.383171377203694, 0.3208732966941905, -0.33731818730533253, 0.45105978115116213], \"yaxis\": \"y5\"}, {\"histfunc\": \"count\", \"histnorm\": \"\", \"marker\": {\"color\": \"rgba(55, 128, 191, 1.0)\", \"line\": {\"color\": \"#4D5663\", \"width\": 1.3}}, \"name\": \"B\", \"nbinsx\": 10, \"opacity\": 0.8, \"orientation\": \"v\", \"type\": \"histogram\", \"x\": [-0.6501201079452595, -0.6396703664807071, -0.14910624389792665, 0.9191471993045957, -0.20408638918650238, -1.8339833921820385, -0.5336687782287028, 1.1159759429939438, 0.9687317127445674, -1.7400136162569626, 0.21071196310648294, -0.6652480269305107, -0.5355523925508483, -0.5131492863893872, 0.6857146627816957, 1.098945987906431, -0.9348369343583188, -0.7325354095966315, 0.021514349515909068, -1.0346009878659206, -0.17501231162040945, 0.7367345313547262, -1.0897665770658538, -0.33938896768116844, 2.0121374329786192, -0.6393950234441513, 0.03647086107054639, -0.5948946033349691, 1.4104386684965855, 0.24031607468836597, 0.013035966419714847, -0.20069232286431354, 2.631987135365754, 1.1402967549197727, -1.3480836252528436, -0.5419029514580261, 0.35165958782611867, 0.5574337761914983, 0.5053362646599682, 0.06694474269967485, -0.6160293085973875, -1.8467820531221697, 0.23180264269673023, 1.5710530598742847, 0.16850544639523987, -0.5448421894097137, 0.800392407126888, -0.3205623468664349, 1.080515029284678, -1.7371274865461397, -1.89016032000533, 0.6587944707237163, 1.3712428758799025, -0.22839481245865867, -0.11743381153175035, 0.08875123869894627, 1.2534991446004125, -1.0050131736037835, -1.4849688355120898, 0.6705897386978111, 1.5984677392051143, -1.2645470074698082, 0.7264911234789589, -2.3717085033683727, -1.4436789972254331, -0.40695984992958373, -0.4220425299401283, -1.4988249695855351, -1.1392043419422493, -0.25228704335304114, 1.1690146052494421, -1.059060163146755, -0.6643372846194279, -1.8106561856144445, 0.23156168713817965, 0.4832174484382462, 1.5349359636281692, 0.7813633744015297, -0.14476594977734775, -1.191781902475107, 1.1339137809138238, 0.4633338142600121, 1.6834801300382207, -0.04735403216966803, 2.303170234529257, -1.588979977909511, 0.15271731738318492, -0.7055727659267433, 0.06895653776059535, 0.4744135459499637, -1.7719303079565776, -0.3132926379621396, 0.475239615161257, 0.3984714410737094, -0.37273617218314103, -1.5892452468814993, 1.383171377203694, 0.3208732966941905, -0.33731818730533253, 0.45105978115116213], \"xaxis\": \"x6\", \"yaxis\": \"y6\"}, {\"line\": {\"color\": \"rgba(128, 128, 128, 1.0)\", \"dash\": \"solid\", \"shape\": \"linear\", \"width\": 1.3}, \"marker\": {\"size\": 2, \"symbol\": \"circle\"}, \"mode\": \"markers\", \"name\": \"B\", \"text\": \"\", \"type\": \"scatter\", \"x\": [1.3055372336746414, 0.7114162391522426, 0.5319180757823271, -1.9123101474310888, 0.39976536098051685, -0.18028859700089062, -0.5230524008977765, 0.7268276275024059, -0.2944345287828867, -0.14726694281082295, 1.7315655586248442, -0.5810551835695299, 1.1368820733256777, -0.3215240402868722, 2.0359069216444285, -0.20123013992778713, -0.4875713899458238, -1.151241975461552, -0.30277486316817714, -0.744220382383983, 0.04613315459916105, -1.3057145064090865, -0.4088861945126814, -1.5646154963534107, 0.3966568333743682, 0.6316679600864687, 0.6374757271763759, 1.754905824180303, -0.640682521286157, 1.0486061154272264, -0.7145667182885798, -0.3806877293010073, 0.1567278401603999, -1.155602029567627, -1.297873553374794, 0.14349699346763617, 2.2799058299597124, 0.18010941279247047, 0.38356005316294317, 0.10698467327652507, -0.3454448778351593, 0.14763921225715568, -0.4028902079268841, -0.3579514673449626, 0.3902241277617355, 1.0646480458600145, -1.0403554672055213, 1.4058607286530946, 1.1088578975947785, 1.8983552624544502, -0.629144404663461, -1.027197527692072, -0.27884089253739963, 0.4830919556732657, -2.159602108194867, 0.23154295197431854, -0.4101269047367675, -1.0397144029380463, 0.8634663671915421, 0.12335901710602763, -0.6589125054500717, -0.8837218309099732, 0.5300635380526064, -0.5870212032242089, 0.21604687294689323, -0.0431600231923067, 0.24948270037241593, -0.42846826181497183, -0.47024444812079214, 1.809993947170532, 1.4155181217884234, -0.7683014914435955, 0.9974571901906416, 1.2081981866169547, 1.3013948917973308, -1.0273427942609155, -1.62347966779969, -0.8168534597595072, 0.7534440881257819, 0.9544426339832112, -0.4756276159424117, 1.9926114495734437, -1.3346008304863448, 0.2519142867261577, -1.3917654263113124, 0.0702088161041401, 1.6807653325822103, 1.6610790717144759, 1.335548879210626, -0.28583985589391103, 1.7341348469615736, 0.7254979973728675, -1.3934189049663144, 0.7145845715122107, 1.7147939898494737, -0.2795741666374927, -0.6180242470288976, -0.5457928510713272, 0.11293397023512372, 0.5798588529977873], \"xaxis\": \"x7\", \"y\": [-0.6501201079452595, -0.6396703664807071, -0.14910624389792665, 0.9191471993045957, -0.20408638918650238, -1.8339833921820385, -0.5336687782287028, 1.1159759429939438, 0.9687317127445674, -1.7400136162569626, 0.21071196310648294, -0.6652480269305107, -0.5355523925508483, -0.5131492863893872, 0.6857146627816957, 1.098945987906431, -0.9348369343583188, -0.7325354095966315, 0.021514349515909068, -1.0346009878659206, -0.17501231162040945, 0.7367345313547262, -1.0897665770658538, -0.33938896768116844, 2.0121374329786192, -0.6393950234441513, 0.03647086107054639, -0.5948946033349691, 1.4104386684965855, 0.24031607468836597, 0.013035966419714847, -0.20069232286431354, 2.631987135365754, 1.1402967549197727, -1.3480836252528436, -0.5419029514580261, 0.35165958782611867, 0.5574337761914983, 0.5053362646599682, 0.06694474269967485, -0.6160293085973875, -1.8467820531221697, 0.23180264269673023, 1.5710530598742847, 0.16850544639523987, -0.5448421894097137, 0.800392407126888, -0.3205623468664349, 1.080515029284678, -1.7371274865461397, -1.89016032000533, 0.6587944707237163, 1.3712428758799025, -0.22839481245865867, -0.11743381153175035, 0.08875123869894627, 1.2534991446004125, -1.0050131736037835, -1.4849688355120898, 0.6705897386978111, 1.5984677392051143, -1.2645470074698082, 0.7264911234789589, -2.3717085033683727, -1.4436789972254331, -0.40695984992958373, -0.4220425299401283, -1.4988249695855351, -1.1392043419422493, -0.25228704335304114, 1.1690146052494421, -1.059060163146755, -0.6643372846194279, -1.8106561856144445, 0.23156168713817965, 0.4832174484382462, 1.5349359636281692, 0.7813633744015297, -0.14476594977734775, -1.191781902475107, 1.1339137809138238, 0.4633338142600121, 1.6834801300382207, -0.04735403216966803, 2.303170234529257, -1.588979977909511, 0.15271731738318492, -0.7055727659267433, 0.06895653776059535, 0.4744135459499637, -1.7719303079565776, -0.3132926379621396, 0.475239615161257, 0.3984714410737094, -0.37273617218314103, -1.5892452468814993, 1.383171377203694, 0.3208732966941905, -0.33731818730533253, 0.45105978115116213], \"yaxis\": \"y7\"}, {\"line\": {\"color\": \"rgba(128, 128, 128, 1.0)\", \"dash\": \"solid\", \"shape\": \"linear\", \"width\": 1.3}, \"marker\": {\"size\": 2, \"symbol\": \"circle\"}, \"mode\": \"markers\", \"name\": \"B\", \"text\": \"\", \"type\": \"scatter\", \"x\": [-0.003033409631288337, 0.0786626564452496, -0.15823725127379146, -1.9897783258797754, -0.41469460533272623, 1.4209020494595277, -0.30222592133763926, -0.2214303624712438, 1.0492788369564692, 1.2865687882164314, -0.4493402433359212, -0.8714411779303679, 0.7425824108485773, -0.6427963906285001, -0.10072805894553197, -1.063010377345948, 1.8967232364452522, 1.5131947179202632, 0.1421901583946138, 0.35931468731170635, -1.1301308249181474, -0.5491444471277825, 0.5525386710611327, 0.6675662569851768, 1.2676396438682156, -0.9228784813863433, -0.10282939821541764, -0.35084487058720015, -0.5625409640797048, 0.3918012164622865, 0.06882667451567533, 1.3631664978395412, -0.07210002209831458, -0.35224032075625084, -0.5700048238525449, -0.37336140249850625, -0.20410294091782258, -1.2606734333733391, -1.5704556774214729, 0.41333788496089735, 1.43456879745207, 2.3518517184715164, -0.27428472549608524, -0.6660421044452691, -0.797339923192551, 0.39236278706815675, -0.15133720320061578, -0.1699134011562469, 1.610601288481763, -0.1800306081143111, 1.5892979941116103, -0.3857441205726969, 0.043082707784277155, -1.4789768943208657, 0.35693164902395574, 0.9355962081748874, -0.358848280315065, 1.343576697424638, 0.7145499982587419, 0.48335042718906546, 0.6172007463564116, -1.9989361583464225, -1.2887866227474574, -1.439672249846713, 0.8113502189659851, -1.5751104537746734, -0.48775695972951977, 0.9489523365226368, -0.4310005056557186, -0.4257587741239332, -0.6635703254063151, 0.4300317363803354, 0.6620577766334544, -0.09559127950967047, -0.3569141009756636, -0.0233346034764943, 1.3609456400638476, 0.39830836958691485, -0.32917161014308327, -1.249598408618195, 0.48635625903842067, 0.6146070928884189, 1.5013270015588285, 0.08889598457134902, -1.8961362936115076, -0.6942743965654605, 1.5225977203488685, 0.18551046093397752, -1.6889406217713374, -0.7953297664720886, 1.4261997343997797, 0.34036161861680775, -0.9653392499121465, -0.7010390172221788, -0.7223460527695292, -2.203097985891278, 1.1683019412809572, -1.1160191622760745, 1.2534968643237283, -0.7367971794866054], \"xaxis\": \"x8\", \"y\": [-0.6501201079452595, -0.6396703664807071, -0.14910624389792665, 0.9191471993045957, -0.20408638918650238, -1.8339833921820385, -0.5336687782287028, 1.1159759429939438, 0.9687317127445674, -1.7400136162569626, 0.21071196310648294, -0.6652480269305107, -0.5355523925508483, -0.5131492863893872, 0.6857146627816957, 1.098945987906431, -0.9348369343583188, -0.7325354095966315, 0.021514349515909068, -1.0346009878659206, -0.17501231162040945, 0.7367345313547262, -1.0897665770658538, -0.33938896768116844, 2.0121374329786192, -0.6393950234441513, 0.03647086107054639, -0.5948946033349691, 1.4104386684965855, 0.24031607468836597, 0.013035966419714847, -0.20069232286431354, 2.631987135365754, 1.1402967549197727, -1.3480836252528436, -0.5419029514580261, 0.35165958782611867, 0.5574337761914983, 0.5053362646599682, 0.06694474269967485, -0.6160293085973875, -1.8467820531221697, 0.23180264269673023, 1.5710530598742847, 0.16850544639523987, -0.5448421894097137, 0.800392407126888, -0.3205623468664349, 1.080515029284678, -1.7371274865461397, -1.89016032000533, 0.6587944707237163, 1.3712428758799025, -0.22839481245865867, -0.11743381153175035, 0.08875123869894627, 1.2534991446004125, -1.0050131736037835, -1.4849688355120898, 0.6705897386978111, 1.5984677392051143, -1.2645470074698082, 0.7264911234789589, -2.3717085033683727, -1.4436789972254331, -0.40695984992958373, -0.4220425299401283, -1.4988249695855351, -1.1392043419422493, -0.25228704335304114, 1.1690146052494421, -1.059060163146755, -0.6643372846194279, -1.8106561856144445, 0.23156168713817965, 0.4832174484382462, 1.5349359636281692, 0.7813633744015297, -0.14476594977734775, -1.191781902475107, 1.1339137809138238, 0.4633338142600121, 1.6834801300382207, -0.04735403216966803, 2.303170234529257, -1.588979977909511, 0.15271731738318492, -0.7055727659267433, 0.06895653776059535, 0.4744135459499637, -1.7719303079565776, -0.3132926379621396, 0.475239615161257, 0.3984714410737094, -0.37273617218314103, -1.5892452468814993, 1.383171377203694, 0.3208732966941905, -0.33731818730533253, 0.45105978115116213], \"yaxis\": \"y8\"}, {\"line\": {\"color\": \"rgba(128, 128, 128, 1.0)\", \"dash\": \"solid\", \"shape\": \"linear\", \"width\": 1.3}, \"marker\": {\"size\": 2, \"symbol\": \"circle\"}, \"mode\": \"markers\", \"name\": \"C\", \"text\": \"\", \"type\": \"scatter\", \"x\": [0.42135637469066833, 0.051787610039485656, -0.8859201272757309, 1.127155918130127, 0.05110503169809027, -1.3625779998716074, 1.413463839091547, -1.0518298420858014, -1.4273371067642697, 0.2167236110214108, 0.1543785204974001, 1.0307652297071481, -1.556770626777491, -0.846285335148641, -1.4475567856473346, 0.28136297298603, 0.16206068112953487, 0.3415324132284915, -1.1033635133636706, 0.8894648772645205, -1.8017630378505909, -0.14245031927646856, -0.8266858154440575, -0.7530689966357229, -2.0574608097003035, -1.8778506514905104, -0.08148361870194606, -0.9357959490775972, -0.6760913977083556, -1.1041299976906465, 0.22052054948520405, -0.6208213787655636, -0.9832356528265209, 0.3121875795693881, -0.044428851806542095, -0.6160413621576425, 0.8338980770256911, -0.4078014558131567, 1.1326628751514818, 1.381820447729485, 0.5870663051810776, -0.7226234218334454, 0.637116486862654, 0.810474475909267, 2.70372528025538, 0.6462466649527927, 0.3743500129845283, 0.17484316236836292, 1.4641354227184749, -0.00834110773828608, 1.0168581856522507, -0.46088217782489604, -1.5221428181584185, 1.1085033065208867, -0.03359453206244407, 0.13024239174967583, -1.1376425645386274, 1.1102484582897623, 0.12115485743688534, 1.2269014026945384, -1.2118887477098856, -0.07302583552604484, -0.7657437595439366, 0.014733537309346229, -1.7912003541024881, 1.7244980639349405, -1.209570556075875, -1.1811987834399718, -1.3383168952142377, -0.23545845455329553, 0.5455075698862204, 0.5143435707195769, 0.49970410382795577, -1.0087869177358482, 1.5295395940774288, 0.19968872339286142, 0.2853967438038379, 0.6267199329816086, 0.7594740494277189, -2.2107520896395836, 0.04207387549136959, -0.1009791017301549, -1.363303282286697, -2.1269648825992946, -0.9969616855723071, -0.16447434850235484, 0.4579274109261358, -0.0501398598101201, 0.9794488277108203, -0.6698307222391381, 1.3153732821001494, 0.05781171695218909, -0.7880077693551906, 1.513297183883774, -1.2630353942419186, -0.8474541119052957, 1.8675720657212853, 0.8259412981691324, 0.23634614857664427, -1.5622218215155599], \"xaxis\": \"x9\", \"y\": [1.3055372336746414, 0.7114162391522426, 0.5319180757823271, -1.9123101474310888, 0.39976536098051685, -0.18028859700089062, -0.5230524008977765, 0.7268276275024059, -0.2944345287828867, -0.14726694281082295, 1.7315655586248442, -0.5810551835695299, 1.1368820733256777, -0.3215240402868722, 2.0359069216444285, -0.20123013992778713, -0.4875713899458238, -1.151241975461552, -0.30277486316817714, -0.744220382383983, 0.04613315459916105, -1.3057145064090865, -0.4088861945126814, -1.5646154963534107, 0.3966568333743682, 0.6316679600864687, 0.6374757271763759, 1.754905824180303, -0.640682521286157, 1.0486061154272264, -0.7145667182885798, -0.3806877293010073, 0.1567278401603999, -1.155602029567627, -1.297873553374794, 0.14349699346763617, 2.2799058299597124, 0.18010941279247047, 0.38356005316294317, 0.10698467327652507, -0.3454448778351593, 0.14763921225715568, -0.4028902079268841, -0.3579514673449626, 0.3902241277617355, 1.0646480458600145, -1.0403554672055213, 1.4058607286530946, 1.1088578975947785, 1.8983552624544502, -0.629144404663461, -1.027197527692072, -0.27884089253739963, 0.4830919556732657, -2.159602108194867, 0.23154295197431854, -0.4101269047367675, -1.0397144029380463, 0.8634663671915421, 0.12335901710602763, -0.6589125054500717, -0.8837218309099732, 0.5300635380526064, -0.5870212032242089, 0.21604687294689323, -0.0431600231923067, 0.24948270037241593, -0.42846826181497183, -0.47024444812079214, 1.809993947170532, 1.4155181217884234, -0.7683014914435955, 0.9974571901906416, 1.2081981866169547, 1.3013948917973308, -1.0273427942609155, -1.62347966779969, -0.8168534597595072, 0.7534440881257819, 0.9544426339832112, -0.4756276159424117, 1.9926114495734437, -1.3346008304863448, 0.2519142867261577, -1.3917654263113124, 0.0702088161041401, 1.6807653325822103, 1.6610790717144759, 1.335548879210626, -0.28583985589391103, 1.7341348469615736, 0.7254979973728675, -1.3934189049663144, 0.7145845715122107, 1.7147939898494737, -0.2795741666374927, -0.6180242470288976, -0.5457928510713272, 0.11293397023512372, 0.5798588529977873], \"yaxis\": \"y9\"}, {\"line\": {\"color\": \"rgba(128, 128, 128, 1.0)\", \"dash\": \"solid\", \"shape\": \"linear\", \"width\": 1.3}, \"marker\": {\"size\": 2, \"symbol\": \"circle\"}, \"mode\": \"markers\", \"name\": \"C\", \"text\": \"\", \"type\": \"scatter\", \"x\": [-0.6501201079452595, -0.6396703664807071, -0.14910624389792665, 0.9191471993045957, -0.20408638918650238, -1.8339833921820385, -0.5336687782287028, 1.1159759429939438, 0.9687317127445674, -1.7400136162569626, 0.21071196310648294, -0.6652480269305107, -0.5355523925508483, -0.5131492863893872, 0.6857146627816957, 1.098945987906431, -0.9348369343583188, -0.7325354095966315, 0.021514349515909068, -1.0346009878659206, -0.17501231162040945, 0.7367345313547262, -1.0897665770658538, -0.33938896768116844, 2.0121374329786192, -0.6393950234441513, 0.03647086107054639, -0.5948946033349691, 1.4104386684965855, 0.24031607468836597, 0.013035966419714847, -0.20069232286431354, 2.631987135365754, 1.1402967549197727, -1.3480836252528436, -0.5419029514580261, 0.35165958782611867, 0.5574337761914983, 0.5053362646599682, 0.06694474269967485, -0.6160293085973875, -1.8467820531221697, 0.23180264269673023, 1.5710530598742847, 0.16850544639523987, -0.5448421894097137, 0.800392407126888, -0.3205623468664349, 1.080515029284678, -1.7371274865461397, -1.89016032000533, 0.6587944707237163, 1.3712428758799025, -0.22839481245865867, -0.11743381153175035, 0.08875123869894627, 1.2534991446004125, -1.0050131736037835, -1.4849688355120898, 0.6705897386978111, 1.5984677392051143, -1.2645470074698082, 0.7264911234789589, -2.3717085033683727, -1.4436789972254331, -0.40695984992958373, -0.4220425299401283, -1.4988249695855351, -1.1392043419422493, -0.25228704335304114, 1.1690146052494421, -1.059060163146755, -0.6643372846194279, -1.8106561856144445, 0.23156168713817965, 0.4832174484382462, 1.5349359636281692, 0.7813633744015297, -0.14476594977734775, -1.191781902475107, 1.1339137809138238, 0.4633338142600121, 1.6834801300382207, -0.04735403216966803, 2.303170234529257, -1.588979977909511, 0.15271731738318492, -0.7055727659267433, 0.06895653776059535, 0.4744135459499637, -1.7719303079565776, -0.3132926379621396, 0.475239615161257, 0.3984714410737094, -0.37273617218314103, -1.5892452468814993, 1.383171377203694, 0.3208732966941905, -0.33731818730533253, 0.45105978115116213], \"xaxis\": \"x10\", \"y\": [1.3055372336746414, 0.7114162391522426, 0.5319180757823271, -1.9123101474310888, 0.39976536098051685, -0.18028859700089062, -0.5230524008977765, 0.7268276275024059, -0.2944345287828867, -0.14726694281082295, 1.7315655586248442, -0.5810551835695299, 1.1368820733256777, -0.3215240402868722, 2.0359069216444285, -0.20123013992778713, -0.4875713899458238, -1.151241975461552, -0.30277486316817714, -0.744220382383983, 0.04613315459916105, -1.3057145064090865, -0.4088861945126814, -1.5646154963534107, 0.3966568333743682, 0.6316679600864687, 0.6374757271763759, 1.754905824180303, -0.640682521286157, 1.0486061154272264, -0.7145667182885798, -0.3806877293010073, 0.1567278401603999, -1.155602029567627, -1.297873553374794, 0.14349699346763617, 2.2799058299597124, 0.18010941279247047, 0.38356005316294317, 0.10698467327652507, -0.3454448778351593, 0.14763921225715568, -0.4028902079268841, -0.3579514673449626, 0.3902241277617355, 1.0646480458600145, -1.0403554672055213, 1.4058607286530946, 1.1088578975947785, 1.8983552624544502, -0.629144404663461, -1.027197527692072, -0.27884089253739963, 0.4830919556732657, -2.159602108194867, 0.23154295197431854, -0.4101269047367675, -1.0397144029380463, 0.8634663671915421, 0.12335901710602763, -0.6589125054500717, -0.8837218309099732, 0.5300635380526064, -0.5870212032242089, 0.21604687294689323, -0.0431600231923067, 0.24948270037241593, -0.42846826181497183, -0.47024444812079214, 1.809993947170532, 1.4155181217884234, -0.7683014914435955, 0.9974571901906416, 1.2081981866169547, 1.3013948917973308, -1.0273427942609155, -1.62347966779969, -0.8168534597595072, 0.7534440881257819, 0.9544426339832112, -0.4756276159424117, 1.9926114495734437, -1.3346008304863448, 0.2519142867261577, -1.3917654263113124, 0.0702088161041401, 1.6807653325822103, 1.6610790717144759, 1.335548879210626, -0.28583985589391103, 1.7341348469615736, 0.7254979973728675, -1.3934189049663144, 0.7145845715122107, 1.7147939898494737, -0.2795741666374927, -0.6180242470288976, -0.5457928510713272, 0.11293397023512372, 0.5798588529977873], \"yaxis\": \"y10\"}, {\"histfunc\": \"count\", \"histnorm\": \"\", \"marker\": {\"color\": \"rgba(50, 171, 96, 1.0)\", \"line\": {\"color\": \"#4D5663\", \"width\": 1.3}}, \"name\": \"C\", \"nbinsx\": 10, \"opacity\": 0.8, \"orientation\": \"v\", \"type\": \"histogram\", \"x\": [1.3055372336746414, 0.7114162391522426, 0.5319180757823271, -1.9123101474310888, 0.39976536098051685, -0.18028859700089062, -0.5230524008977765, 0.7268276275024059, -0.2944345287828867, -0.14726694281082295, 1.7315655586248442, -0.5810551835695299, 1.1368820733256777, -0.3215240402868722, 2.0359069216444285, -0.20123013992778713, -0.4875713899458238, -1.151241975461552, -0.30277486316817714, -0.744220382383983, 0.04613315459916105, -1.3057145064090865, -0.4088861945126814, -1.5646154963534107, 0.3966568333743682, 0.6316679600864687, 0.6374757271763759, 1.754905824180303, -0.640682521286157, 1.0486061154272264, -0.7145667182885798, -0.3806877293010073, 0.1567278401603999, -1.155602029567627, -1.297873553374794, 0.14349699346763617, 2.2799058299597124, 0.18010941279247047, 0.38356005316294317, 0.10698467327652507, -0.3454448778351593, 0.14763921225715568, -0.4028902079268841, -0.3579514673449626, 0.3902241277617355, 1.0646480458600145, -1.0403554672055213, 1.4058607286530946, 1.1088578975947785, 1.8983552624544502, -0.629144404663461, -1.027197527692072, -0.27884089253739963, 0.4830919556732657, -2.159602108194867, 0.23154295197431854, -0.4101269047367675, -1.0397144029380463, 0.8634663671915421, 0.12335901710602763, -0.6589125054500717, -0.8837218309099732, 0.5300635380526064, -0.5870212032242089, 0.21604687294689323, -0.0431600231923067, 0.24948270037241593, -0.42846826181497183, -0.47024444812079214, 1.809993947170532, 1.4155181217884234, -0.7683014914435955, 0.9974571901906416, 1.2081981866169547, 1.3013948917973308, -1.0273427942609155, -1.62347966779969, -0.8168534597595072, 0.7534440881257819, 0.9544426339832112, -0.4756276159424117, 1.9926114495734437, -1.3346008304863448, 0.2519142867261577, -1.3917654263113124, 0.0702088161041401, 1.6807653325822103, 1.6610790717144759, 1.335548879210626, -0.28583985589391103, 1.7341348469615736, 0.7254979973728675, -1.3934189049663144, 0.7145845715122107, 1.7147939898494737, -0.2795741666374927, -0.6180242470288976, -0.5457928510713272, 0.11293397023512372, 0.5798588529977873], \"xaxis\": \"x11\", \"yaxis\": \"y11\"}, {\"line\": {\"color\": \"rgba(128, 128, 128, 1.0)\", \"dash\": \"solid\", \"shape\": \"linear\", \"width\": 1.3}, \"marker\": {\"size\": 2, \"symbol\": \"circle\"}, \"mode\": \"markers\", \"name\": \"C\", \"text\": \"\", \"type\": \"scatter\", \"x\": [-0.003033409631288337, 0.0786626564452496, -0.15823725127379146, -1.9897783258797754, -0.41469460533272623, 1.4209020494595277, -0.30222592133763926, -0.2214303624712438, 1.0492788369564692, 1.2865687882164314, -0.4493402433359212, -0.8714411779303679, 0.7425824108485773, -0.6427963906285001, -0.10072805894553197, -1.063010377345948, 1.8967232364452522, 1.5131947179202632, 0.1421901583946138, 0.35931468731170635, -1.1301308249181474, -0.5491444471277825, 0.5525386710611327, 0.6675662569851768, 1.2676396438682156, -0.9228784813863433, -0.10282939821541764, -0.35084487058720015, -0.5625409640797048, 0.3918012164622865, 0.06882667451567533, 1.3631664978395412, -0.07210002209831458, -0.35224032075625084, -0.5700048238525449, -0.37336140249850625, -0.20410294091782258, -1.2606734333733391, -1.5704556774214729, 0.41333788496089735, 1.43456879745207, 2.3518517184715164, -0.27428472549608524, -0.6660421044452691, -0.797339923192551, 0.39236278706815675, -0.15133720320061578, -0.1699134011562469, 1.610601288481763, -0.1800306081143111, 1.5892979941116103, -0.3857441205726969, 0.043082707784277155, -1.4789768943208657, 0.35693164902395574, 0.9355962081748874, -0.358848280315065, 1.343576697424638, 0.7145499982587419, 0.48335042718906546, 0.6172007463564116, -1.9989361583464225, -1.2887866227474574, -1.439672249846713, 0.8113502189659851, -1.5751104537746734, -0.48775695972951977, 0.9489523365226368, -0.4310005056557186, -0.4257587741239332, -0.6635703254063151, 0.4300317363803354, 0.6620577766334544, -0.09559127950967047, -0.3569141009756636, -0.0233346034764943, 1.3609456400638476, 0.39830836958691485, -0.32917161014308327, -1.249598408618195, 0.48635625903842067, 0.6146070928884189, 1.5013270015588285, 0.08889598457134902, -1.8961362936115076, -0.6942743965654605, 1.5225977203488685, 0.18551046093397752, -1.6889406217713374, -0.7953297664720886, 1.4261997343997797, 0.34036161861680775, -0.9653392499121465, -0.7010390172221788, -0.7223460527695292, -2.203097985891278, 1.1683019412809572, -1.1160191622760745, 1.2534968643237283, -0.7367971794866054], \"xaxis\": \"x12\", \"y\": [1.3055372336746414, 0.7114162391522426, 0.5319180757823271, -1.9123101474310888, 0.39976536098051685, -0.18028859700089062, -0.5230524008977765, 0.7268276275024059, -0.2944345287828867, -0.14726694281082295, 1.7315655586248442, -0.5810551835695299, 1.1368820733256777, -0.3215240402868722, 2.0359069216444285, -0.20123013992778713, -0.4875713899458238, -1.151241975461552, -0.30277486316817714, -0.744220382383983, 0.04613315459916105, -1.3057145064090865, -0.4088861945126814, -1.5646154963534107, 0.3966568333743682, 0.6316679600864687, 0.6374757271763759, 1.754905824180303, -0.640682521286157, 1.0486061154272264, -0.7145667182885798, -0.3806877293010073, 0.1567278401603999, -1.155602029567627, -1.297873553374794, 0.14349699346763617, 2.2799058299597124, 0.18010941279247047, 0.38356005316294317, 0.10698467327652507, -0.3454448778351593, 0.14763921225715568, -0.4028902079268841, -0.3579514673449626, 0.3902241277617355, 1.0646480458600145, -1.0403554672055213, 1.4058607286530946, 1.1088578975947785, 1.8983552624544502, -0.629144404663461, -1.027197527692072, -0.27884089253739963, 0.4830919556732657, -2.159602108194867, 0.23154295197431854, -0.4101269047367675, -1.0397144029380463, 0.8634663671915421, 0.12335901710602763, -0.6589125054500717, -0.8837218309099732, 0.5300635380526064, -0.5870212032242089, 0.21604687294689323, -0.0431600231923067, 0.24948270037241593, -0.42846826181497183, -0.47024444812079214, 1.809993947170532, 1.4155181217884234, -0.7683014914435955, 0.9974571901906416, 1.2081981866169547, 1.3013948917973308, -1.0273427942609155, -1.62347966779969, -0.8168534597595072, 0.7534440881257819, 0.9544426339832112, -0.4756276159424117, 1.9926114495734437, -1.3346008304863448, 0.2519142867261577, -1.3917654263113124, 0.0702088161041401, 1.6807653325822103, 1.6610790717144759, 1.335548879210626, -0.28583985589391103, 1.7341348469615736, 0.7254979973728675, -1.3934189049663144, 0.7145845715122107, 1.7147939898494737, -0.2795741666374927, -0.6180242470288976, -0.5457928510713272, 0.11293397023512372, 0.5798588529977873], \"yaxis\": \"y12\"}, {\"line\": {\"color\": \"rgba(128, 128, 128, 1.0)\", \"dash\": \"solid\", \"shape\": \"linear\", \"width\": 1.3}, \"marker\": {\"size\": 2, \"symbol\": \"circle\"}, \"mode\": \"markers\", \"name\": \"D\", \"text\": \"\", \"type\": \"scatter\", \"x\": [0.42135637469066833, 0.051787610039485656, -0.8859201272757309, 1.127155918130127, 0.05110503169809027, -1.3625779998716074, 1.413463839091547, -1.0518298420858014, -1.4273371067642697, 0.2167236110214108, 0.1543785204974001, 1.0307652297071481, -1.556770626777491, -0.846285335148641, -1.4475567856473346, 0.28136297298603, 0.16206068112953487, 0.3415324132284915, -1.1033635133636706, 0.8894648772645205, -1.8017630378505909, -0.14245031927646856, -0.8266858154440575, -0.7530689966357229, -2.0574608097003035, -1.8778506514905104, -0.08148361870194606, -0.9357959490775972, -0.6760913977083556, -1.1041299976906465, 0.22052054948520405, -0.6208213787655636, -0.9832356528265209, 0.3121875795693881, -0.044428851806542095, -0.6160413621576425, 0.8338980770256911, -0.4078014558131567, 1.1326628751514818, 1.381820447729485, 0.5870663051810776, -0.7226234218334454, 0.637116486862654, 0.810474475909267, 2.70372528025538, 0.6462466649527927, 0.3743500129845283, 0.17484316236836292, 1.4641354227184749, -0.00834110773828608, 1.0168581856522507, -0.46088217782489604, -1.5221428181584185, 1.1085033065208867, -0.03359453206244407, 0.13024239174967583, -1.1376425645386274, 1.1102484582897623, 0.12115485743688534, 1.2269014026945384, -1.2118887477098856, -0.07302583552604484, -0.7657437595439366, 0.014733537309346229, -1.7912003541024881, 1.7244980639349405, -1.209570556075875, -1.1811987834399718, -1.3383168952142377, -0.23545845455329553, 0.5455075698862204, 0.5143435707195769, 0.49970410382795577, -1.0087869177358482, 1.5295395940774288, 0.19968872339286142, 0.2853967438038379, 0.6267199329816086, 0.7594740494277189, -2.2107520896395836, 0.04207387549136959, -0.1009791017301549, -1.363303282286697, -2.1269648825992946, -0.9969616855723071, -0.16447434850235484, 0.4579274109261358, -0.0501398598101201, 0.9794488277108203, -0.6698307222391381, 1.3153732821001494, 0.05781171695218909, -0.7880077693551906, 1.513297183883774, -1.2630353942419186, -0.8474541119052957, 1.8675720657212853, 0.8259412981691324, 0.23634614857664427, -1.5622218215155599], \"xaxis\": \"x13\", \"y\": [-0.003033409631288337, 0.0786626564452496, -0.15823725127379146, -1.9897783258797754, -0.41469460533272623, 1.4209020494595277, -0.30222592133763926, -0.2214303624712438, 1.0492788369564692, 1.2865687882164314, -0.4493402433359212, -0.8714411779303679, 0.7425824108485773, -0.6427963906285001, -0.10072805894553197, -1.063010377345948, 1.8967232364452522, 1.5131947179202632, 0.1421901583946138, 0.35931468731170635, -1.1301308249181474, -0.5491444471277825, 0.5525386710611327, 0.6675662569851768, 1.2676396438682156, -0.9228784813863433, -0.10282939821541764, -0.35084487058720015, -0.5625409640797048, 0.3918012164622865, 0.06882667451567533, 1.3631664978395412, -0.07210002209831458, -0.35224032075625084, -0.5700048238525449, -0.37336140249850625, -0.20410294091782258, -1.2606734333733391, -1.5704556774214729, 0.41333788496089735, 1.43456879745207, 2.3518517184715164, -0.27428472549608524, -0.6660421044452691, -0.797339923192551, 0.39236278706815675, -0.15133720320061578, -0.1699134011562469, 1.610601288481763, -0.1800306081143111, 1.5892979941116103, -0.3857441205726969, 0.043082707784277155, -1.4789768943208657, 0.35693164902395574, 0.9355962081748874, -0.358848280315065, 1.343576697424638, 0.7145499982587419, 0.48335042718906546, 0.6172007463564116, -1.9989361583464225, -1.2887866227474574, -1.439672249846713, 0.8113502189659851, -1.5751104537746734, -0.48775695972951977, 0.9489523365226368, -0.4310005056557186, -0.4257587741239332, -0.6635703254063151, 0.4300317363803354, 0.6620577766334544, -0.09559127950967047, -0.3569141009756636, -0.0233346034764943, 1.3609456400638476, 0.39830836958691485, -0.32917161014308327, -1.249598408618195, 0.48635625903842067, 0.6146070928884189, 1.5013270015588285, 0.08889598457134902, -1.8961362936115076, -0.6942743965654605, 1.5225977203488685, 0.18551046093397752, -1.6889406217713374, -0.7953297664720886, 1.4261997343997797, 0.34036161861680775, -0.9653392499121465, -0.7010390172221788, -0.7223460527695292, -2.203097985891278, 1.1683019412809572, -1.1160191622760745, 1.2534968643237283, -0.7367971794866054], \"yaxis\": \"y13\"}, {\"line\": {\"color\": \"rgba(128, 128, 128, 1.0)\", \"dash\": \"solid\", \"shape\": \"linear\", \"width\": 1.3}, \"marker\": {\"size\": 2, \"symbol\": \"circle\"}, \"mode\": \"markers\", \"name\": \"D\", \"text\": \"\", \"type\": \"scatter\", \"x\": [-0.6501201079452595, -0.6396703664807071, -0.14910624389792665, 0.9191471993045957, -0.20408638918650238, -1.8339833921820385, -0.5336687782287028, 1.1159759429939438, 0.9687317127445674, -1.7400136162569626, 0.21071196310648294, -0.6652480269305107, -0.5355523925508483, -0.5131492863893872, 0.6857146627816957, 1.098945987906431, -0.9348369343583188, -0.7325354095966315, 0.021514349515909068, -1.0346009878659206, -0.17501231162040945, 0.7367345313547262, -1.0897665770658538, -0.33938896768116844, 2.0121374329786192, -0.6393950234441513, 0.03647086107054639, -0.5948946033349691, 1.4104386684965855, 0.24031607468836597, 0.013035966419714847, -0.20069232286431354, 2.631987135365754, 1.1402967549197727, -1.3480836252528436, -0.5419029514580261, 0.35165958782611867, 0.5574337761914983, 0.5053362646599682, 0.06694474269967485, -0.6160293085973875, -1.8467820531221697, 0.23180264269673023, 1.5710530598742847, 0.16850544639523987, -0.5448421894097137, 0.800392407126888, -0.3205623468664349, 1.080515029284678, -1.7371274865461397, -1.89016032000533, 0.6587944707237163, 1.3712428758799025, -0.22839481245865867, -0.11743381153175035, 0.08875123869894627, 1.2534991446004125, -1.0050131736037835, -1.4849688355120898, 0.6705897386978111, 1.5984677392051143, -1.2645470074698082, 0.7264911234789589, -2.3717085033683727, -1.4436789972254331, -0.40695984992958373, -0.4220425299401283, -1.4988249695855351, -1.1392043419422493, -0.25228704335304114, 1.1690146052494421, -1.059060163146755, -0.6643372846194279, -1.8106561856144445, 0.23156168713817965, 0.4832174484382462, 1.5349359636281692, 0.7813633744015297, -0.14476594977734775, -1.191781902475107, 1.1339137809138238, 0.4633338142600121, 1.6834801300382207, -0.04735403216966803, 2.303170234529257, -1.588979977909511, 0.15271731738318492, -0.7055727659267433, 0.06895653776059535, 0.4744135459499637, -1.7719303079565776, -0.3132926379621396, 0.475239615161257, 0.3984714410737094, -0.37273617218314103, -1.5892452468814993, 1.383171377203694, 0.3208732966941905, -0.33731818730533253, 0.45105978115116213], \"xaxis\": \"x14\", \"y\": [-0.003033409631288337, 0.0786626564452496, -0.15823725127379146, -1.9897783258797754, -0.41469460533272623, 1.4209020494595277, -0.30222592133763926, -0.2214303624712438, 1.0492788369564692, 1.2865687882164314, -0.4493402433359212, -0.8714411779303679, 0.7425824108485773, -0.6427963906285001, -0.10072805894553197, -1.063010377345948, 1.8967232364452522, 1.5131947179202632, 0.1421901583946138, 0.35931468731170635, -1.1301308249181474, -0.5491444471277825, 0.5525386710611327, 0.6675662569851768, 1.2676396438682156, -0.9228784813863433, -0.10282939821541764, -0.35084487058720015, -0.5625409640797048, 0.3918012164622865, 0.06882667451567533, 1.3631664978395412, -0.07210002209831458, -0.35224032075625084, -0.5700048238525449, -0.37336140249850625, -0.20410294091782258, -1.2606734333733391, -1.5704556774214729, 0.41333788496089735, 1.43456879745207, 2.3518517184715164, -0.27428472549608524, -0.6660421044452691, -0.797339923192551, 0.39236278706815675, -0.15133720320061578, -0.1699134011562469, 1.610601288481763, -0.1800306081143111, 1.5892979941116103, -0.3857441205726969, 0.043082707784277155, -1.4789768943208657, 0.35693164902395574, 0.9355962081748874, -0.358848280315065, 1.343576697424638, 0.7145499982587419, 0.48335042718906546, 0.6172007463564116, -1.9989361583464225, -1.2887866227474574, -1.439672249846713, 0.8113502189659851, -1.5751104537746734, -0.48775695972951977, 0.9489523365226368, -0.4310005056557186, -0.4257587741239332, -0.6635703254063151, 0.4300317363803354, 0.6620577766334544, -0.09559127950967047, -0.3569141009756636, -0.0233346034764943, 1.3609456400638476, 0.39830836958691485, -0.32917161014308327, -1.249598408618195, 0.48635625903842067, 0.6146070928884189, 1.5013270015588285, 0.08889598457134902, -1.8961362936115076, -0.6942743965654605, 1.5225977203488685, 0.18551046093397752, -1.6889406217713374, -0.7953297664720886, 1.4261997343997797, 0.34036161861680775, -0.9653392499121465, -0.7010390172221788, -0.7223460527695292, -2.203097985891278, 1.1683019412809572, -1.1160191622760745, 1.2534968643237283, -0.7367971794866054], \"yaxis\": \"y14\"}, {\"line\": {\"color\": \"rgba(128, 128, 128, 1.0)\", \"dash\": \"solid\", \"shape\": \"linear\", \"width\": 1.3}, \"marker\": {\"size\": 2, \"symbol\": \"circle\"}, \"mode\": \"markers\", \"name\": \"D\", \"text\": \"\", \"type\": \"scatter\", \"x\": [1.3055372336746414, 0.7114162391522426, 0.5319180757823271, -1.9123101474310888, 0.39976536098051685, -0.18028859700089062, -0.5230524008977765, 0.7268276275024059, -0.2944345287828867, -0.14726694281082295, 1.7315655586248442, -0.5810551835695299, 1.1368820733256777, -0.3215240402868722, 2.0359069216444285, -0.20123013992778713, -0.4875713899458238, -1.151241975461552, -0.30277486316817714, -0.744220382383983, 0.04613315459916105, -1.3057145064090865, -0.4088861945126814, -1.5646154963534107, 0.3966568333743682, 0.6316679600864687, 0.6374757271763759, 1.754905824180303, -0.640682521286157, 1.0486061154272264, -0.7145667182885798, -0.3806877293010073, 0.1567278401603999, -1.155602029567627, -1.297873553374794, 0.14349699346763617, 2.2799058299597124, 0.18010941279247047, 0.38356005316294317, 0.10698467327652507, -0.3454448778351593, 0.14763921225715568, -0.4028902079268841, -0.3579514673449626, 0.3902241277617355, 1.0646480458600145, -1.0403554672055213, 1.4058607286530946, 1.1088578975947785, 1.8983552624544502, -0.629144404663461, -1.027197527692072, -0.27884089253739963, 0.4830919556732657, -2.159602108194867, 0.23154295197431854, -0.4101269047367675, -1.0397144029380463, 0.8634663671915421, 0.12335901710602763, -0.6589125054500717, -0.8837218309099732, 0.5300635380526064, -0.5870212032242089, 0.21604687294689323, -0.0431600231923067, 0.24948270037241593, -0.42846826181497183, -0.47024444812079214, 1.809993947170532, 1.4155181217884234, -0.7683014914435955, 0.9974571901906416, 1.2081981866169547, 1.3013948917973308, -1.0273427942609155, -1.62347966779969, -0.8168534597595072, 0.7534440881257819, 0.9544426339832112, -0.4756276159424117, 1.9926114495734437, -1.3346008304863448, 0.2519142867261577, -1.3917654263113124, 0.0702088161041401, 1.6807653325822103, 1.6610790717144759, 1.335548879210626, -0.28583985589391103, 1.7341348469615736, 0.7254979973728675, -1.3934189049663144, 0.7145845715122107, 1.7147939898494737, -0.2795741666374927, -0.6180242470288976, -0.5457928510713272, 0.11293397023512372, 0.5798588529977873], \"xaxis\": \"x15\", \"y\": [-0.003033409631288337, 0.0786626564452496, -0.15823725127379146, -1.9897783258797754, -0.41469460533272623, 1.4209020494595277, -0.30222592133763926, -0.2214303624712438, 1.0492788369564692, 1.2865687882164314, -0.4493402433359212, -0.8714411779303679, 0.7425824108485773, -0.6427963906285001, -0.10072805894553197, -1.063010377345948, 1.8967232364452522, 1.5131947179202632, 0.1421901583946138, 0.35931468731170635, -1.1301308249181474, -0.5491444471277825, 0.5525386710611327, 0.6675662569851768, 1.2676396438682156, -0.9228784813863433, -0.10282939821541764, -0.35084487058720015, -0.5625409640797048, 0.3918012164622865, 0.06882667451567533, 1.3631664978395412, -0.07210002209831458, -0.35224032075625084, -0.5700048238525449, -0.37336140249850625, -0.20410294091782258, -1.2606734333733391, -1.5704556774214729, 0.41333788496089735, 1.43456879745207, 2.3518517184715164, -0.27428472549608524, -0.6660421044452691, -0.797339923192551, 0.39236278706815675, -0.15133720320061578, -0.1699134011562469, 1.610601288481763, -0.1800306081143111, 1.5892979941116103, -0.3857441205726969, 0.043082707784277155, -1.4789768943208657, 0.35693164902395574, 0.9355962081748874, -0.358848280315065, 1.343576697424638, 0.7145499982587419, 0.48335042718906546, 0.6172007463564116, -1.9989361583464225, -1.2887866227474574, -1.439672249846713, 0.8113502189659851, -1.5751104537746734, -0.48775695972951977, 0.9489523365226368, -0.4310005056557186, -0.4257587741239332, -0.6635703254063151, 0.4300317363803354, 0.6620577766334544, -0.09559127950967047, -0.3569141009756636, -0.0233346034764943, 1.3609456400638476, 0.39830836958691485, -0.32917161014308327, -1.249598408618195, 0.48635625903842067, 0.6146070928884189, 1.5013270015588285, 0.08889598457134902, -1.8961362936115076, -0.6942743965654605, 1.5225977203488685, 0.18551046093397752, -1.6889406217713374, -0.7953297664720886, 1.4261997343997797, 0.34036161861680775, -0.9653392499121465, -0.7010390172221788, -0.7223460527695292, -2.203097985891278, 1.1683019412809572, -1.1160191622760745, 1.2534968643237283, -0.7367971794866054], \"yaxis\": \"y15\"}, {\"histfunc\": \"count\", \"histnorm\": \"\", \"marker\": {\"color\": \"rgba(128, 0, 128, 1.0)\", \"line\": {\"color\": \"#4D5663\", \"width\": 1.3}}, \"name\": \"D\", \"nbinsx\": 10, \"opacity\": 0.8, \"orientation\": \"v\", \"type\": \"histogram\", \"x\": [-0.003033409631288337, 0.0786626564452496, -0.15823725127379146, -1.9897783258797754, -0.41469460533272623, 1.4209020494595277, -0.30222592133763926, -0.2214303624712438, 1.0492788369564692, 1.2865687882164314, -0.4493402433359212, -0.8714411779303679, 0.7425824108485773, -0.6427963906285001, -0.10072805894553197, -1.063010377345948, 1.8967232364452522, 1.5131947179202632, 0.1421901583946138, 0.35931468731170635, -1.1301308249181474, -0.5491444471277825, 0.5525386710611327, 0.6675662569851768, 1.2676396438682156, -0.9228784813863433, -0.10282939821541764, -0.35084487058720015, -0.5625409640797048, 0.3918012164622865, 0.06882667451567533, 1.3631664978395412, -0.07210002209831458, -0.35224032075625084, -0.5700048238525449, -0.37336140249850625, -0.20410294091782258, -1.2606734333733391, -1.5704556774214729, 0.41333788496089735, 1.43456879745207, 2.3518517184715164, -0.27428472549608524, -0.6660421044452691, -0.797339923192551, 0.39236278706815675, -0.15133720320061578, -0.1699134011562469, 1.610601288481763, -0.1800306081143111, 1.5892979941116103, -0.3857441205726969, 0.043082707784277155, -1.4789768943208657, 0.35693164902395574, 0.9355962081748874, -0.358848280315065, 1.343576697424638, 0.7145499982587419, 0.48335042718906546, 0.6172007463564116, -1.9989361583464225, -1.2887866227474574, -1.439672249846713, 0.8113502189659851, -1.5751104537746734, -0.48775695972951977, 0.9489523365226368, -0.4310005056557186, -0.4257587741239332, -0.6635703254063151, 0.4300317363803354, 0.6620577766334544, -0.09559127950967047, -0.3569141009756636, -0.0233346034764943, 1.3609456400638476, 0.39830836958691485, -0.32917161014308327, -1.249598408618195, 0.48635625903842067, 0.6146070928884189, 1.5013270015588285, 0.08889598457134902, -1.8961362936115076, -0.6942743965654605, 1.5225977203488685, 0.18551046093397752, -1.6889406217713374, -0.7953297664720886, 1.4261997343997797, 0.34036161861680775, -0.9653392499121465, -0.7010390172221788, -0.7223460527695292, -2.203097985891278, 1.1683019412809572, -1.1160191622760745, 1.2534968643237283, -0.7367971794866054], \"xaxis\": \"x16\", \"yaxis\": \"y16\"}],                        {\"bargap\": 0.02, \"legend\": {\"bgcolor\": \"#F5F6F9\", \"font\": {\"color\": \"#4D5663\"}}, \"paper_bgcolor\": \"#F5F6F9\", \"plot_bgcolor\": \"#F5F6F9\", \"showlegend\": false, \"template\": {\"data\": {\"bar\": [{\"error_x\": {\"color\": \"#2a3f5f\"}, \"error_y\": {\"color\": \"#2a3f5f\"}, \"marker\": {\"line\": {\"color\": \"#E5ECF6\", \"width\": 0.5}}, \"type\": \"bar\"}], \"barpolar\": [{\"marker\": {\"line\": {\"color\": \"#E5ECF6\", \"width\": 0.5}}, \"type\": \"barpolar\"}], \"carpet\": [{\"aaxis\": {\"endlinecolor\": \"#2a3f5f\", \"gridcolor\": \"white\", \"linecolor\": \"white\", \"minorgridcolor\": \"white\", \"startlinecolor\": \"#2a3f5f\"}, \"baxis\": {\"endlinecolor\": \"#2a3f5f\", \"gridcolor\": \"white\", \"linecolor\": \"white\", \"minorgridcolor\": \"white\", \"startlinecolor\": \"#2a3f5f\"}, \"type\": \"carpet\"}], \"choropleth\": [{\"colorbar\": {\"outlinewidth\": 0, \"ticks\": \"\"}, \"type\": \"choropleth\"}], \"contour\": [{\"colorbar\": {\"outlinewidth\": 0, \"ticks\": \"\"}, \"colorscale\": [[0.0, \"#0d0887\"], [0.1111111111111111, \"#46039f\"], [0.2222222222222222, \"#7201a8\"], [0.3333333333333333, \"#9c179e\"], [0.4444444444444444, \"#bd3786\"], [0.5555555555555556, \"#d8576b\"], [0.6666666666666666, \"#ed7953\"], [0.7777777777777778, \"#fb9f3a\"], [0.8888888888888888, \"#fdca26\"], [1.0, \"#f0f921\"]], \"type\": \"contour\"}], \"contourcarpet\": [{\"colorbar\": {\"outlinewidth\": 0, \"ticks\": \"\"}, \"type\": \"contourcarpet\"}], \"heatmap\": [{\"colorbar\": {\"outlinewidth\": 0, \"ticks\": \"\"}, \"colorscale\": [[0.0, \"#0d0887\"], [0.1111111111111111, \"#46039f\"], [0.2222222222222222, \"#7201a8\"], [0.3333333333333333, \"#9c179e\"], [0.4444444444444444, \"#bd3786\"], [0.5555555555555556, \"#d8576b\"], [0.6666666666666666, \"#ed7953\"], [0.7777777777777778, \"#fb9f3a\"], [0.8888888888888888, \"#fdca26\"], [1.0, \"#f0f921\"]], \"type\": \"heatmap\"}], \"heatmapgl\": [{\"colorbar\": {\"outlinewidth\": 0, \"ticks\": \"\"}, \"colorscale\": [[0.0, \"#0d0887\"], [0.1111111111111111, \"#46039f\"], [0.2222222222222222, \"#7201a8\"], [0.3333333333333333, \"#9c179e\"], [0.4444444444444444, \"#bd3786\"], [0.5555555555555556, \"#d8576b\"], [0.6666666666666666, \"#ed7953\"], [0.7777777777777778, \"#fb9f3a\"], [0.8888888888888888, \"#fdca26\"], [1.0, \"#f0f921\"]], \"type\": \"heatmapgl\"}], \"histogram\": [{\"marker\": {\"colorbar\": {\"outlinewidth\": 0, \"ticks\": \"\"}}, \"type\": \"histogram\"}], \"histogram2d\": [{\"colorbar\": {\"outlinewidth\": 0, \"ticks\": \"\"}, \"colorscale\": [[0.0, \"#0d0887\"], [0.1111111111111111, \"#46039f\"], [0.2222222222222222, \"#7201a8\"], [0.3333333333333333, \"#9c179e\"], [0.4444444444444444, \"#bd3786\"], [0.5555555555555556, \"#d8576b\"], [0.6666666666666666, \"#ed7953\"], [0.7777777777777778, \"#fb9f3a\"], [0.8888888888888888, \"#fdca26\"], [1.0, \"#f0f921\"]], \"type\": \"histogram2d\"}], \"histogram2dcontour\": [{\"colorbar\": {\"outlinewidth\": 0, \"ticks\": \"\"}, \"colorscale\": [[0.0, \"#0d0887\"], [0.1111111111111111, \"#46039f\"], [0.2222222222222222, \"#7201a8\"], [0.3333333333333333, \"#9c179e\"], [0.4444444444444444, \"#bd3786\"], [0.5555555555555556, \"#d8576b\"], [0.6666666666666666, \"#ed7953\"], [0.7777777777777778, \"#fb9f3a\"], [0.8888888888888888, \"#fdca26\"], [1.0, \"#f0f921\"]], \"type\": \"histogram2dcontour\"}], \"mesh3d\": [{\"colorbar\": {\"outlinewidth\": 0, \"ticks\": \"\"}, \"type\": \"mesh3d\"}], \"parcoords\": [{\"line\": {\"colorbar\": {\"outlinewidth\": 0, \"ticks\": \"\"}}, \"type\": \"parcoords\"}], \"pie\": [{\"automargin\": true, \"type\": \"pie\"}], \"scatter\": [{\"marker\": {\"colorbar\": {\"outlinewidth\": 0, \"ticks\": \"\"}}, \"type\": \"scatter\"}], \"scatter3d\": [{\"line\": {\"colorbar\": {\"outlinewidth\": 0, \"ticks\": \"\"}}, \"marker\": {\"colorbar\": {\"outlinewidth\": 0, \"ticks\": \"\"}}, \"type\": \"scatter3d\"}], \"scattercarpet\": [{\"marker\": {\"colorbar\": {\"outlinewidth\": 0, \"ticks\": \"\"}}, \"type\": \"scattercarpet\"}], \"scattergeo\": [{\"marker\": {\"colorbar\": {\"outlinewidth\": 0, \"ticks\": \"\"}}, \"type\": \"scattergeo\"}], \"scattergl\": [{\"marker\": {\"colorbar\": {\"outlinewidth\": 0, \"ticks\": \"\"}}, \"type\": \"scattergl\"}], \"scattermapbox\": [{\"marker\": {\"colorbar\": {\"outlinewidth\": 0, \"ticks\": \"\"}}, \"type\": \"scattermapbox\"}], \"scatterpolar\": [{\"marker\": {\"colorbar\": {\"outlinewidth\": 0, \"ticks\": \"\"}}, \"type\": \"scatterpolar\"}], \"scatterpolargl\": [{\"marker\": {\"colorbar\": {\"outlinewidth\": 0, \"ticks\": \"\"}}, \"type\": \"scatterpolargl\"}], \"scatterternary\": [{\"marker\": {\"colorbar\": {\"outlinewidth\": 0, \"ticks\": \"\"}}, \"type\": \"scatterternary\"}], \"surface\": [{\"colorbar\": {\"outlinewidth\": 0, \"ticks\": \"\"}, \"colorscale\": [[0.0, \"#0d0887\"], [0.1111111111111111, \"#46039f\"], [0.2222222222222222, \"#7201a8\"], [0.3333333333333333, \"#9c179e\"], [0.4444444444444444, \"#bd3786\"], [0.5555555555555556, \"#d8576b\"], [0.6666666666666666, \"#ed7953\"], [0.7777777777777778, \"#fb9f3a\"], [0.8888888888888888, \"#fdca26\"], [1.0, \"#f0f921\"]], \"type\": \"surface\"}], \"table\": [{\"cells\": {\"fill\": {\"color\": \"#EBF0F8\"}, \"line\": {\"color\": \"white\"}}, \"header\": {\"fill\": {\"color\": \"#C8D4E3\"}, \"line\": {\"color\": \"white\"}}, \"type\": \"table\"}]}, \"layout\": {\"annotationdefaults\": {\"arrowcolor\": \"#2a3f5f\", \"arrowhead\": 0, \"arrowwidth\": 1}, \"autotypenumbers\": \"strict\", \"coloraxis\": {\"colorbar\": {\"outlinewidth\": 0, \"ticks\": \"\"}}, \"colorscale\": {\"diverging\": [[0, \"#8e0152\"], [0.1, \"#c51b7d\"], [0.2, \"#de77ae\"], [0.3, \"#f1b6da\"], [0.4, \"#fde0ef\"], [0.5, \"#f7f7f7\"], [0.6, \"#e6f5d0\"], [0.7, \"#b8e186\"], [0.8, \"#7fbc41\"], [0.9, \"#4d9221\"], [1, \"#276419\"]], \"sequential\": [[0.0, \"#0d0887\"], [0.1111111111111111, \"#46039f\"], [0.2222222222222222, \"#7201a8\"], [0.3333333333333333, \"#9c179e\"], [0.4444444444444444, \"#bd3786\"], [0.5555555555555556, \"#d8576b\"], [0.6666666666666666, \"#ed7953\"], [0.7777777777777778, \"#fb9f3a\"], [0.8888888888888888, \"#fdca26\"], [1.0, \"#f0f921\"]], \"sequentialminus\": [[0.0, \"#0d0887\"], [0.1111111111111111, \"#46039f\"], [0.2222222222222222, \"#7201a8\"], [0.3333333333333333, \"#9c179e\"], [0.4444444444444444, \"#bd3786\"], [0.5555555555555556, \"#d8576b\"], [0.6666666666666666, \"#ed7953\"], [0.7777777777777778, \"#fb9f3a\"], [0.8888888888888888, \"#fdca26\"], [1.0, \"#f0f921\"]]}, \"colorway\": [\"#636efa\", \"#EF553B\", \"#00cc96\", \"#ab63fa\", \"#FFA15A\", \"#19d3f3\", \"#FF6692\", \"#B6E880\", \"#FF97FF\", \"#FECB52\"], \"font\": {\"color\": \"#2a3f5f\"}, \"geo\": {\"bgcolor\": \"white\", \"lakecolor\": \"white\", \"landcolor\": \"#E5ECF6\", \"showlakes\": true, \"showland\": true, \"subunitcolor\": \"white\"}, \"hoverlabel\": {\"align\": \"left\"}, \"hovermode\": \"closest\", \"mapbox\": {\"style\": \"light\"}, \"paper_bgcolor\": \"white\", \"plot_bgcolor\": \"#E5ECF6\", \"polar\": {\"angularaxis\": {\"gridcolor\": \"white\", \"linecolor\": \"white\", \"ticks\": \"\"}, \"bgcolor\": \"#E5ECF6\", \"radialaxis\": {\"gridcolor\": \"white\", \"linecolor\": \"white\", \"ticks\": \"\"}}, \"scene\": {\"xaxis\": {\"backgroundcolor\": \"#E5ECF6\", \"gridcolor\": \"white\", \"gridwidth\": 2, \"linecolor\": \"white\", \"showbackground\": true, \"ticks\": \"\", \"zerolinecolor\": \"white\"}, \"yaxis\": {\"backgroundcolor\": \"#E5ECF6\", \"gridcolor\": \"white\", \"gridwidth\": 2, \"linecolor\": \"white\", \"showbackground\": true, \"ticks\": \"\", \"zerolinecolor\": \"white\"}, \"zaxis\": {\"backgroundcolor\": \"#E5ECF6\", \"gridcolor\": \"white\", \"gridwidth\": 2, \"linecolor\": \"white\", \"showbackground\": true, \"ticks\": \"\", \"zerolinecolor\": \"white\"}}, \"shapedefaults\": {\"line\": {\"color\": \"#2a3f5f\"}}, \"ternary\": {\"aaxis\": {\"gridcolor\": \"white\", \"linecolor\": \"white\", \"ticks\": \"\"}, \"baxis\": {\"gridcolor\": \"white\", \"linecolor\": \"white\", \"ticks\": \"\"}, \"bgcolor\": \"#E5ECF6\", \"caxis\": {\"gridcolor\": \"white\", \"linecolor\": \"white\", \"ticks\": \"\"}}, \"title\": {\"x\": 0.05}, \"xaxis\": {\"automargin\": true, \"gridcolor\": \"white\", \"linecolor\": \"white\", \"ticks\": \"\", \"title\": {\"standoff\": 15}, \"zerolinecolor\": \"white\", \"zerolinewidth\": 2}, \"yaxis\": {\"automargin\": true, \"gridcolor\": \"white\", \"linecolor\": \"white\", \"ticks\": \"\", \"title\": {\"standoff\": 15}, \"zerolinecolor\": \"white\", \"zerolinewidth\": 2}}}, \"title\": {\"font\": {\"color\": \"#4D5663\"}}, \"xaxis\": {\"anchor\": \"y\", \"domain\": [0.0, 0.2125], \"gridcolor\": \"#E1E5ED\", \"showgrid\": false, \"tickfont\": {\"color\": \"#4D5663\"}, \"title\": {\"font\": {\"color\": \"#4D5663\"}, \"text\": \"\"}, \"zerolinecolor\": \"#E1E5ED\"}, \"xaxis10\": {\"anchor\": \"y10\", \"domain\": [0.2625, 0.475], \"gridcolor\": \"#E1E5ED\", \"showgrid\": false, \"tickfont\": {\"color\": \"#4D5663\"}, \"title\": {\"font\": {\"color\": \"#4D5663\"}, \"text\": \"\"}, \"zerolinecolor\": \"#E1E5ED\"}, \"xaxis11\": {\"anchor\": \"y11\", \"domain\": [0.525, 0.7375], \"gridcolor\": \"#E1E5ED\", \"showgrid\": false, \"tickfont\": {\"color\": \"#4D5663\"}, \"title\": {\"font\": {\"color\": \"#4D5663\"}, \"text\": \"\"}, \"zerolinecolor\": \"#E1E5ED\"}, \"xaxis12\": {\"anchor\": \"y12\", \"domain\": [0.7875, 1.0], \"gridcolor\": \"#E1E5ED\", \"showgrid\": false, \"tickfont\": {\"color\": \"#4D5663\"}, \"title\": {\"font\": {\"color\": \"#4D5663\"}, \"text\": \"\"}, \"zerolinecolor\": \"#E1E5ED\"}, \"xaxis13\": {\"anchor\": \"y13\", \"domain\": [0.0, 0.2125], \"gridcolor\": \"#E1E5ED\", \"showgrid\": false, \"tickfont\": {\"color\": \"#4D5663\"}, \"title\": {\"font\": {\"color\": \"#4D5663\"}, \"text\": \"\"}, \"zerolinecolor\": \"#E1E5ED\"}, \"xaxis14\": {\"anchor\": \"y14\", \"domain\": [0.2625, 0.475], \"gridcolor\": \"#E1E5ED\", \"showgrid\": false, \"tickfont\": {\"color\": \"#4D5663\"}, \"title\": {\"font\": {\"color\": \"#4D5663\"}, \"text\": \"\"}, \"zerolinecolor\": \"#E1E5ED\"}, \"xaxis15\": {\"anchor\": \"y15\", \"domain\": [0.525, 0.7375], \"gridcolor\": \"#E1E5ED\", \"showgrid\": false, \"tickfont\": {\"color\": \"#4D5663\"}, \"title\": {\"font\": {\"color\": \"#4D5663\"}, \"text\": \"\"}, \"zerolinecolor\": \"#E1E5ED\"}, \"xaxis16\": {\"anchor\": \"y16\", \"domain\": [0.7875, 1.0], \"gridcolor\": \"#E1E5ED\", \"showgrid\": false, \"tickfont\": {\"color\": \"#4D5663\"}, \"title\": {\"font\": {\"color\": \"#4D5663\"}, \"text\": \"\"}, \"zerolinecolor\": \"#E1E5ED\"}, \"xaxis2\": {\"anchor\": \"y2\", \"domain\": [0.2625, 0.475], \"gridcolor\": \"#E1E5ED\", \"showgrid\": false, \"tickfont\": {\"color\": \"#4D5663\"}, \"title\": {\"font\": {\"color\": \"#4D5663\"}, \"text\": \"\"}, \"zerolinecolor\": \"#E1E5ED\"}, \"xaxis3\": {\"anchor\": \"y3\", \"domain\": [0.525, 0.7375], \"gridcolor\": \"#E1E5ED\", \"showgrid\": false, \"tickfont\": {\"color\": \"#4D5663\"}, \"title\": {\"font\": {\"color\": \"#4D5663\"}, \"text\": \"\"}, \"zerolinecolor\": \"#E1E5ED\"}, \"xaxis4\": {\"anchor\": \"y4\", \"domain\": [0.7875, 1.0], \"gridcolor\": \"#E1E5ED\", \"showgrid\": false, \"tickfont\": {\"color\": \"#4D5663\"}, \"title\": {\"font\": {\"color\": \"#4D5663\"}, \"text\": \"\"}, \"zerolinecolor\": \"#E1E5ED\"}, \"xaxis5\": {\"anchor\": \"y5\", \"domain\": [0.0, 0.2125], \"gridcolor\": \"#E1E5ED\", \"showgrid\": false, \"tickfont\": {\"color\": \"#4D5663\"}, \"title\": {\"font\": {\"color\": \"#4D5663\"}, \"text\": \"\"}, \"zerolinecolor\": \"#E1E5ED\"}, \"xaxis6\": {\"anchor\": \"y6\", \"domain\": [0.2625, 0.475], \"gridcolor\": \"#E1E5ED\", \"showgrid\": false, \"tickfont\": {\"color\": \"#4D5663\"}, \"title\": {\"font\": {\"color\": \"#4D5663\"}, \"text\": \"\"}, \"zerolinecolor\": \"#E1E5ED\"}, \"xaxis7\": {\"anchor\": \"y7\", \"domain\": [0.525, 0.7375], \"gridcolor\": \"#E1E5ED\", \"showgrid\": false, \"tickfont\": {\"color\": \"#4D5663\"}, \"title\": {\"font\": {\"color\": \"#4D5663\"}, \"text\": \"\"}, \"zerolinecolor\": \"#E1E5ED\"}, \"xaxis8\": {\"anchor\": \"y8\", \"domain\": [0.7875, 1.0], \"gridcolor\": \"#E1E5ED\", \"showgrid\": false, \"tickfont\": {\"color\": \"#4D5663\"}, \"title\": {\"font\": {\"color\": \"#4D5663\"}, \"text\": \"\"}, \"zerolinecolor\": \"#E1E5ED\"}, \"xaxis9\": {\"anchor\": \"y9\", \"domain\": [0.0, 0.2125], \"gridcolor\": \"#E1E5ED\", \"showgrid\": false, \"tickfont\": {\"color\": \"#4D5663\"}, \"title\": {\"font\": {\"color\": \"#4D5663\"}, \"text\": \"\"}, \"zerolinecolor\": \"#E1E5ED\"}, \"yaxis\": {\"anchor\": \"x\", \"domain\": [0.8025, 1.0], \"gridcolor\": \"#E1E5ED\", \"showgrid\": false, \"tickfont\": {\"color\": \"#4D5663\"}, \"title\": {\"font\": {\"color\": \"#4D5663\"}, \"text\": \"\"}, \"zerolinecolor\": \"#E1E5ED\"}, \"yaxis10\": {\"anchor\": \"x10\", \"domain\": [0.2675, 0.465], \"gridcolor\": \"#E1E5ED\", \"showgrid\": false, \"tickfont\": {\"color\": \"#4D5663\"}, \"title\": {\"font\": {\"color\": \"#4D5663\"}, \"text\": \"\"}, \"zerolinecolor\": \"#E1E5ED\"}, \"yaxis11\": {\"anchor\": \"x11\", \"domain\": [0.2675, 0.465], \"gridcolor\": \"#E1E5ED\", \"showgrid\": false, \"tickfont\": {\"color\": \"#4D5663\"}, \"title\": {\"font\": {\"color\": \"#4D5663\"}, \"text\": \"\"}, \"zerolinecolor\": \"#E1E5ED\"}, \"yaxis12\": {\"anchor\": \"x12\", \"domain\": [0.2675, 0.465], \"gridcolor\": \"#E1E5ED\", \"showgrid\": false, \"tickfont\": {\"color\": \"#4D5663\"}, \"title\": {\"font\": {\"color\": \"#4D5663\"}, \"text\": \"\"}, \"zerolinecolor\": \"#E1E5ED\"}, \"yaxis13\": {\"anchor\": \"x13\", \"domain\": [0.0, 0.1975], \"gridcolor\": \"#E1E5ED\", \"showgrid\": false, \"tickfont\": {\"color\": \"#4D5663\"}, \"title\": {\"font\": {\"color\": \"#4D5663\"}, \"text\": \"\"}, \"zerolinecolor\": \"#E1E5ED\"}, \"yaxis14\": {\"anchor\": \"x14\", \"domain\": [0.0, 0.1975], \"gridcolor\": \"#E1E5ED\", \"showgrid\": false, \"tickfont\": {\"color\": \"#4D5663\"}, \"title\": {\"font\": {\"color\": \"#4D5663\"}, \"text\": \"\"}, \"zerolinecolor\": \"#E1E5ED\"}, \"yaxis15\": {\"anchor\": \"x15\", \"domain\": [0.0, 0.1975], \"gridcolor\": \"#E1E5ED\", \"showgrid\": false, \"tickfont\": {\"color\": \"#4D5663\"}, \"title\": {\"font\": {\"color\": \"#4D5663\"}, \"text\": \"\"}, \"zerolinecolor\": \"#E1E5ED\"}, \"yaxis16\": {\"anchor\": \"x16\", \"domain\": [0.0, 0.1975], \"gridcolor\": \"#E1E5ED\", \"showgrid\": false, \"tickfont\": {\"color\": \"#4D5663\"}, \"title\": {\"font\": {\"color\": \"#4D5663\"}, \"text\": \"\"}, \"zerolinecolor\": \"#E1E5ED\"}, \"yaxis2\": {\"anchor\": \"x2\", \"domain\": [0.8025, 1.0], \"gridcolor\": \"#E1E5ED\", \"showgrid\": false, \"tickfont\": {\"color\": \"#4D5663\"}, \"title\": {\"font\": {\"color\": \"#4D5663\"}, \"text\": \"\"}, \"zerolinecolor\": \"#E1E5ED\"}, \"yaxis3\": {\"anchor\": \"x3\", \"domain\": [0.8025, 1.0], \"gridcolor\": \"#E1E5ED\", \"showgrid\": false, \"tickfont\": {\"color\": \"#4D5663\"}, \"title\": {\"font\": {\"color\": \"#4D5663\"}, \"text\": \"\"}, \"zerolinecolor\": \"#E1E5ED\"}, \"yaxis4\": {\"anchor\": \"x4\", \"domain\": [0.8025, 1.0], \"gridcolor\": \"#E1E5ED\", \"showgrid\": false, \"tickfont\": {\"color\": \"#4D5663\"}, \"title\": {\"font\": {\"color\": \"#4D5663\"}, \"text\": \"\"}, \"zerolinecolor\": \"#E1E5ED\"}, \"yaxis5\": {\"anchor\": \"x5\", \"domain\": [0.535, 0.7325], \"gridcolor\": \"#E1E5ED\", \"showgrid\": false, \"tickfont\": {\"color\": \"#4D5663\"}, \"title\": {\"font\": {\"color\": \"#4D5663\"}, \"text\": \"\"}, \"zerolinecolor\": \"#E1E5ED\"}, \"yaxis6\": {\"anchor\": \"x6\", \"domain\": [0.535, 0.7325], \"gridcolor\": \"#E1E5ED\", \"showgrid\": false, \"tickfont\": {\"color\": \"#4D5663\"}, \"title\": {\"font\": {\"color\": \"#4D5663\"}, \"text\": \"\"}, \"zerolinecolor\": \"#E1E5ED\"}, \"yaxis7\": {\"anchor\": \"x7\", \"domain\": [0.535, 0.7325], \"gridcolor\": \"#E1E5ED\", \"showgrid\": false, \"tickfont\": {\"color\": \"#4D5663\"}, \"title\": {\"font\": {\"color\": \"#4D5663\"}, \"text\": \"\"}, \"zerolinecolor\": \"#E1E5ED\"}, \"yaxis8\": {\"anchor\": \"x8\", \"domain\": [0.535, 0.7325], \"gridcolor\": \"#E1E5ED\", \"showgrid\": false, \"tickfont\": {\"color\": \"#4D5663\"}, \"title\": {\"font\": {\"color\": \"#4D5663\"}, \"text\": \"\"}, \"zerolinecolor\": \"#E1E5ED\"}, \"yaxis9\": {\"anchor\": \"x9\", \"domain\": [0.2675, 0.465], \"gridcolor\": \"#E1E5ED\", \"showgrid\": false, \"tickfont\": {\"color\": \"#4D5663\"}, \"title\": {\"font\": {\"color\": \"#4D5663\"}, \"text\": \"\"}, \"zerolinecolor\": \"#E1E5ED\"}},                        {\"showLink\": true, \"linkText\": \"Export to plot.ly\", \"plotlyServerURL\": \"https://plot.ly\", \"responsive\": true}                    ).then(function(){\n",
       "                            \n",
       "var gd = document.getElementById('ae6e2b67-11e1-4e8f-bc66-a23e4ddd3354');\n",
       "var x = new MutationObserver(function (mutations, observer) {{\n",
       "        var display = window.getComputedStyle(gd).display;\n",
       "        if (!display || display === 'none') {{\n",
       "            console.log([gd, 'removed!']);\n",
       "            Plotly.purge(gd);\n",
       "            observer.disconnect();\n",
       "        }}\n",
       "}});\n",
       "\n",
       "// Listen for the removal of the full notebook cells\n",
       "var notebookContainer = gd.closest('#notebook-container');\n",
       "if (notebookContainer) {{\n",
       "    x.observe(notebookContainer, {childList: true});\n",
       "}}\n",
       "\n",
       "// Listen for the clearing of the current output cell\n",
       "var outputEl = gd.closest('.output');\n",
       "if (outputEl) {{\n",
       "    x.observe(outputEl, {childList: true});\n",
       "}}\n",
       "\n",
       "                        })                };                });            </script>        </div>"
      ]
     },
     "metadata": {},
     "output_type": "display_data"
    }
   ],
   "source": [
    "df.scatter_matrix()"
   ]
  },
  {
   "cell_type": "markdown",
   "metadata": {
    "collapsed": true
   },
   "source": [
    "# Great Job!"
   ]
  }
 ],
 "metadata": {
  "kernelspec": {
   "display_name": "Python 3",
   "language": "python",
   "name": "python3"
  },
  "language_info": {
   "codemirror_mode": {
    "name": "ipython",
    "version": 3
   },
   "file_extension": ".py",
   "mimetype": "text/x-python",
   "name": "python",
   "nbconvert_exporter": "python",
   "pygments_lexer": "ipython3",
   "version": "3.8.5"
  }
 },
 "nbformat": 4,
 "nbformat_minor": 1
}
